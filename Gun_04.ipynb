{
  "nbformat": 4,
  "nbformat_minor": 0,
  "metadata": {
    "colab": {
      "provenance": [],
      "toc_visible": true,
      "authorship_tag": "ABX9TyPIWNoai6TPEAHNzJA2Xka8",
      "include_colab_link": true
    },
    "kernelspec": {
      "name": "python3",
      "display_name": "Python 3"
    },
    "language_info": {
      "name": "python"
    }
  },
  "cells": [
    {
      "cell_type": "markdown",
      "metadata": {
        "id": "view-in-github",
        "colab_type": "text"
      },
      "source": [
        "<a href=\"https://colab.research.google.com/github/busraatasoy/veri_bilimi_ve_makine_ogrenmesi_100gun_udemy/blob/main/Gun_04.ipynb\" target=\"_parent\"><img src=\"https://colab.research.google.com/assets/colab-badge.svg\" alt=\"Open In Colab\"/></a>"
      ]
    },
    {
      "cell_type": "markdown",
      "source": [
        "# Gün 4: Sözlük, Set Tuple Yapıları"
      ],
      "metadata": {
        "id": "lpXdwlLtdO9w"
      }
    },
    {
      "cell_type": "markdown",
      "source": [
        "# **Sözlük (Dictionary)**"
      ],
      "metadata": {
        "id": "asD1jLUo8Tca"
      }
    },
    {
      "cell_type": "markdown",
      "source": [
        "**📌 Tanım:**\n",
        "\n",
        "- Anahtar-değer (key-value pairing) çiftlerinden oluşur\n",
        "\n",
        "- Sıralıdır (Python 3.7+) ✅\n",
        "\n",
        "- Anahtarlar benzersiz olmalıdır ✅\n",
        "\n",
        "📘 **Söz Dizimi:**"
      ],
      "metadata": {
        "id": "Sv5cj0QQtkkO"
      }
    },
    {
      "cell_type": "code",
      "source": [
        "my_dict = {\"ad\": \"Büşra\", \"yaş\": 28}\n",
        "my_dict"
      ],
      "metadata": {
        "colab": {
          "base_uri": "https://localhost:8080/"
        },
        "id": "M_Dt8Qu7tvcF",
        "outputId": "869f1ce7-3393-4dd8-9164-b5bdf2ea98b8"
      },
      "execution_count": null,
      "outputs": [
        {
          "output_type": "execute_result",
          "data": {
            "text/plain": [
              "{'ad': 'Büşra', 'yaş': 28}"
            ]
          },
          "metadata": {},
          "execution_count": 2
        }
      ]
    },
    {
      "cell_type": "markdown",
      "source": [
        "**🎯 Özellikler:**\n",
        "\n",
        "- Anahtar ile erişim yapılır: my_dict[\"ad\"] → \"Büşra\"\n",
        "\n",
        "- Değiştirilebilir: my_dict[\"yaş\"] = 30\n",
        "\n",
        "- Anahtarlar string, int vb. olabilir (değiştirilemez türde olmalı)\n",
        "\n",
        "**✅ Kullanım Sebepleri:**\n",
        "\n",
        "- Verileri anlamlı şekilde ilişkilendirme (örneğin bir kişinin bilgileri)\n",
        "\n",
        "- JSON verileriyle çalışma"
      ],
      "metadata": {
        "id": "K0oJMlS_tyq9"
      }
    },
    {
      "cell_type": "code",
      "source": [
        "# Örnek:\n",
        "\n",
        "person = {\n",
        "    \"name\": \"Ali\",\n",
        "    \"age\": 25,\n",
        "    \"city\": \"İstanbul\"\n",
        "}\n",
        "print(person[\"city\"])\n"
      ],
      "metadata": {
        "colab": {
          "base_uri": "https://localhost:8080/"
        },
        "id": "1z5Vm58qt_Oz",
        "outputId": "8c0059dd-204a-4cf1-96f9-38cf43f57f03"
      },
      "execution_count": null,
      "outputs": [
        {
          "output_type": "stream",
          "name": "stdout",
          "text": [
            "İstanbul\n"
          ]
        }
      ]
    },
    {
      "cell_type": "markdown",
      "source": [
        "**Örnek Diyet Kalori Uygulaması**\n",
        "\n",
        "Kalori uygulamasında meyve ve meyvelere karşılık gelen kalori miktarları listelerde tutulup indexleme ile bilgilere ulaşılabilir. Fakat, bu kullanım büyük veri setlerinde çok faydalı değildir. Birbiriyle eşleşen bilgilerde sözlük yapısı kullanarak verileri kayıt altına almak daha kullanılabilir bir yöntem olmaktadır."
      ],
      "metadata": {
        "id": "7aQZP3FWucbU"
      }
    },
    {
      "cell_type": "code",
      "source": [
        "#meyve listesi\n",
        "\n",
        "fruit_list =[\"banana\", \"apple\"]"
      ],
      "metadata": {
        "id": "TiTRt-u_ubCR"
      },
      "execution_count": null,
      "outputs": []
    },
    {
      "cell_type": "code",
      "source": [
        "#kalori listesi\n",
        "\n",
        "calorie_list = [100,150]"
      ],
      "metadata": {
        "id": "UaHI1Qg6uqBW"
      },
      "execution_count": null,
      "outputs": []
    },
    {
      "cell_type": "code",
      "source": [
        "#1. elemana erişme:\n",
        "\n",
        "fruit_list[0]"
      ],
      "metadata": {
        "colab": {
          "base_uri": "https://localhost:8080/",
          "height": 36
        },
        "id": "Hhwo0OGKuu7j",
        "outputId": "e1bb7c93-27e8-4a7d-f4b5-dbd0f94ae3e1"
      },
      "execution_count": null,
      "outputs": [
        {
          "output_type": "execute_result",
          "data": {
            "text/plain": [
              "'banana'"
            ],
            "application/vnd.google.colaboratory.intrinsic+json": {
              "type": "string"
            }
          },
          "metadata": {},
          "execution_count": 7
        }
      ]
    },
    {
      "cell_type": "code",
      "source": [
        "# 1. elemana erişme:\n",
        "\n",
        "calorie_list[0]"
      ],
      "metadata": {
        "colab": {
          "base_uri": "https://localhost:8080/"
        },
        "id": "C7M3_dODuyxR",
        "outputId": "e5c0751d-7f68-4e6b-ddc3-a8818005b82e"
      },
      "execution_count": null,
      "outputs": [
        {
          "output_type": "execute_result",
          "data": {
            "text/plain": [
              "100"
            ]
          },
          "metadata": {},
          "execution_count": 9
        }
      ]
    },
    {
      "cell_type": "code",
      "source": [
        "# sözlük yapısı ile:\n",
        "\n",
        "fitness_dictionary = {\"banana\": 100, \"apple\": 150}"
      ],
      "metadata": {
        "id": "AjtPSdiyvi_c"
      },
      "execution_count": null,
      "outputs": []
    },
    {
      "cell_type": "code",
      "source": [
        "# veri tipi kontrolü:\n",
        "\n",
        "type(fitness_dictionary)"
      ],
      "metadata": {
        "colab": {
          "base_uri": "https://localhost:8080/"
        },
        "id": "qIn7W8Rfv22v",
        "outputId": "29596139-bf53-4045-f041-c24fb7ab0a91"
      },
      "execution_count": null,
      "outputs": [
        {
          "output_type": "execute_result",
          "data": {
            "text/plain": [
              "dict"
            ]
          },
          "metadata": {},
          "execution_count": 11
        }
      ]
    },
    {
      "cell_type": "markdown",
      "source": [
        "**Dikkat:**\n",
        "\n",
        "Sözlük(dictionary) veri yapılarında indexleme ile verilere ulaşılamaz. Bu mantık yanlıştır. Sözlükler **anahtar-değer (key-value)** eşleşmesi ile oluşturulduğundan sadece anahtar değerleri kullanarak bilgilere erişebiliriz.\n",
        "\n",
        "Yani, fitness_dictionary örneğinde verilen  `\"banana\"` ve `\"apple\"` anahtarları ile bilgi çağırabiliriz. Değer ile de bilgi çağrılmaz.\n",
        "\n",
        "Indexleme yapılmaya çalışılırsa veya yanlış anahtar ile bilgi çağrılırsa; `KeyError hatası` alınır. Ayrıca, anahtar ifadesi yanlış yazılırsa da hata mesajı alınır.\n"
      ],
      "metadata": {
        "id": "rC1LUusKwMj9"
      }
    },
    {
      "cell_type": "code",
      "source": [
        "# Index ile:\n",
        "\n",
        "fitness_dictionary[0]"
      ],
      "metadata": {
        "colab": {
          "base_uri": "https://localhost:8080/",
          "height": 141
        },
        "id": "YpkNoHSzv-oc",
        "outputId": "81bd5ab3-cbcc-478b-d003-531ca447a9f5"
      },
      "execution_count": null,
      "outputs": [
        {
          "output_type": "error",
          "ename": "KeyError",
          "evalue": "0",
          "traceback": [
            "\u001b[0;31m---------------------------------------------------------------------------\u001b[0m",
            "\u001b[0;31mKeyError\u001b[0m                                  Traceback (most recent call last)",
            "\u001b[0;32m/tmp/ipython-input-12-191776772.py\u001b[0m in \u001b[0;36m<cell line: 0>\u001b[0;34m()\u001b[0m\n\u001b[0;32m----> 1\u001b[0;31m \u001b[0mfitness_dictionary\u001b[0m\u001b[0;34m[\u001b[0m\u001b[0;36m0\u001b[0m\u001b[0;34m]\u001b[0m\u001b[0;34m\u001b[0m\u001b[0;34m\u001b[0m\u001b[0m\n\u001b[0m",
            "\u001b[0;31mKeyError\u001b[0m: 0"
          ]
        }
      ]
    },
    {
      "cell_type": "code",
      "source": [
        "# Değer ile:\n",
        "\n",
        "fitness_dictionary[100]"
      ],
      "metadata": {
        "colab": {
          "base_uri": "https://localhost:8080/",
          "height": 176
        },
        "id": "nP7NqwwUxO_3",
        "outputId": "a5d11075-d7a1-4d8c-afc1-116068e30d38"
      },
      "execution_count": null,
      "outputs": [
        {
          "output_type": "error",
          "ename": "KeyError",
          "evalue": "100",
          "traceback": [
            "\u001b[0;31m---------------------------------------------------------------------------\u001b[0m",
            "\u001b[0;31mKeyError\u001b[0m                                  Traceback (most recent call last)",
            "\u001b[0;32m/tmp/ipython-input-13-1585995138.py\u001b[0m in \u001b[0;36m<cell line: 0>\u001b[0;34m()\u001b[0m\n\u001b[1;32m      1\u001b[0m \u001b[0;31m# Değer ile:\u001b[0m\u001b[0;34m\u001b[0m\u001b[0;34m\u001b[0m\u001b[0m\n\u001b[1;32m      2\u001b[0m \u001b[0;34m\u001b[0m\u001b[0m\n\u001b[0;32m----> 3\u001b[0;31m \u001b[0mfitness_dictionary\u001b[0m\u001b[0;34m[\u001b[0m\u001b[0;36m100\u001b[0m\u001b[0;34m]\u001b[0m\u001b[0;34m\u001b[0m\u001b[0;34m\u001b[0m\u001b[0m\n\u001b[0m",
            "\u001b[0;31mKeyError\u001b[0m: 100"
          ]
        }
      ]
    },
    {
      "cell_type": "code",
      "source": [
        "# Anahtar yanlış ise:\n",
        "\n",
        "fitness_dictionary[\"banan\"]"
      ],
      "metadata": {
        "colab": {
          "base_uri": "https://localhost:8080/",
          "height": 176
        },
        "id": "FMUgrM9zA0K3",
        "outputId": "13996285-aa07-4a27-f17e-acaabb64a1cf"
      },
      "execution_count": null,
      "outputs": [
        {
          "output_type": "error",
          "ename": "KeyError",
          "evalue": "'banan'",
          "traceback": [
            "\u001b[0;31m---------------------------------------------------------------------------\u001b[0m",
            "\u001b[0;31mKeyError\u001b[0m                                  Traceback (most recent call last)",
            "\u001b[0;32m/tmp/ipython-input-35-3900024304.py\u001b[0m in \u001b[0;36m<cell line: 0>\u001b[0;34m()\u001b[0m\n\u001b[1;32m      1\u001b[0m \u001b[0;31m# Anahtar yanlış ise:\u001b[0m\u001b[0;34m\u001b[0m\u001b[0;34m\u001b[0m\u001b[0m\n\u001b[1;32m      2\u001b[0m \u001b[0;34m\u001b[0m\u001b[0m\n\u001b[0;32m----> 3\u001b[0;31m \u001b[0mfitness_dictionary\u001b[0m\u001b[0;34m[\u001b[0m\u001b[0;34m\"banan\"\u001b[0m\u001b[0;34m]\u001b[0m\u001b[0;34m\u001b[0m\u001b[0;34m\u001b[0m\u001b[0m\n\u001b[0m",
            "\u001b[0;31mKeyError\u001b[0m: 'banan'"
          ]
        }
      ]
    },
    {
      "cell_type": "code",
      "source": [
        "# Anahtar ile:\n",
        "\n",
        "fitness_dictionary[\"banana\"]"
      ],
      "metadata": {
        "colab": {
          "base_uri": "https://localhost:8080/"
        },
        "id": "efOPhHRgxU_1",
        "outputId": "0c84cc72-7820-40b1-88a5-cedecb90af00"
      },
      "execution_count": null,
      "outputs": [
        {
          "output_type": "execute_result",
          "data": {
            "text/plain": [
              "100"
            ]
          },
          "metadata": {},
          "execution_count": 14
        }
      ]
    },
    {
      "cell_type": "code",
      "source": [
        "# Anahtar ile:\n",
        "\n",
        "fitness_dictionary[\"apple\"]"
      ],
      "metadata": {
        "colab": {
          "base_uri": "https://localhost:8080/"
        },
        "id": "owPGpwdbxj4v",
        "outputId": "028c822c-a48e-46d3-eff6-f05570190f79"
      },
      "execution_count": null,
      "outputs": [
        {
          "output_type": "execute_result",
          "data": {
            "text/plain": [
              "150"
            ]
          },
          "metadata": {},
          "execution_count": 15
        }
      ]
    },
    {
      "cell_type": "markdown",
      "source": [
        "Listelerde olduğu gibi, sözlüklere uygulanan işlemlere sözlük ismi, nokta ve tab tuşu ile ulaşılabilir.\n",
        "\n",
        "**Örnek:**\n",
        "\n",
        "fitness_dictionary.tab tuşu"
      ],
      "metadata": {
        "id": "507Y9rwYxvMR"
      }
    },
    {
      "cell_type": "markdown",
      "source": [
        "![image.png](data:image/png;base64,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)"
      ],
      "metadata": {
        "id": "CIib5NVRzEGr"
      }
    },
    {
      "cell_type": "markdown",
      "source": [
        "## **Sözlük (Dictionary) Fonksiyonları**"
      ],
      "metadata": {
        "id": "1bSIHS8qzHrF"
      }
    },
    {
      "cell_type": "markdown",
      "source": [
        "###**1. keys()**\n",
        "\n",
        "📌 Tüm anahtarları verir."
      ],
      "metadata": {
        "id": "p9odpcaJzZzZ"
      }
    },
    {
      "cell_type": "code",
      "source": [
        "fitness_dictionary.keys()"
      ],
      "metadata": {
        "colab": {
          "base_uri": "https://localhost:8080/"
        },
        "id": "BalnodZNzriB",
        "outputId": "1e43809a-cd14-4104-8910-8f08b87bf7c2"
      },
      "execution_count": null,
      "outputs": [
        {
          "output_type": "execute_result",
          "data": {
            "text/plain": [
              "dict_keys(['banana', 'apple'])"
            ]
          },
          "metadata": {},
          "execution_count": 17
        }
      ]
    },
    {
      "cell_type": "markdown",
      "source": [
        "###**2. values()**\n",
        "\n",
        "📌 Tüm değerleri döner."
      ],
      "metadata": {
        "id": "29eRagz1z3VO"
      }
    },
    {
      "cell_type": "code",
      "source": [
        "fitness_dictionary.values()"
      ],
      "metadata": {
        "colab": {
          "base_uri": "https://localhost:8080/"
        },
        "id": "kYrAzx2tz8Aa",
        "outputId": "bbd061a0-a2ad-4d49-a229-c61930076cb3"
      },
      "execution_count": null,
      "outputs": [
        {
          "output_type": "execute_result",
          "data": {
            "text/plain": [
              "dict_values([100, 150])"
            ]
          },
          "metadata": {},
          "execution_count": 18
        }
      ]
    },
    {
      "cell_type": "code",
      "source": [
        "# veri tipi kontrolü:\n",
        "\n",
        "type(fitness_dictionary.values())\n"
      ],
      "metadata": {
        "colab": {
          "base_uri": "https://localhost:8080/"
        },
        "id": "9-BIXBMs0AJu",
        "outputId": "e527838c-b0d7-4570-c34d-46a16a18b615"
      },
      "execution_count": null,
      "outputs": [
        {
          "output_type": "execute_result",
          "data": {
            "text/plain": [
              "dict_values"
            ]
          },
          "metadata": {},
          "execution_count": 19
        }
      ]
    },
    {
      "cell_type": "markdown",
      "source": [
        "**Not:**\n",
        "\n",
        "Görüldüğü gibi farklı bir veri yapısı karşımıza çıktı. Peki, meyve sözlüğüne karşılık gelen değerler var. Bu değerlerin ortalamasını bulmak isteyelim. Yani, bir meyve ortalama kaç kalori diye sorguladığımızda; listeye çevirip işlem yapabiliriz.\n",
        "\n"
      ],
      "metadata": {
        "id": "dsfDQ7QV0bGo"
      }
    },
    {
      "cell_type": "code",
      "source": [
        "# Listeye çevirelim\n",
        "\n",
        "list(fitness_dictionary.values())"
      ],
      "metadata": {
        "colab": {
          "base_uri": "https://localhost:8080/"
        },
        "id": "EJxt02yh1LF8",
        "outputId": "abaabd5e-ab23-4eab-f592-8be3d5bfe852"
      },
      "execution_count": null,
      "outputs": [
        {
          "output_type": "execute_result",
          "data": {
            "text/plain": [
              "[100, 150]"
            ]
          },
          "metadata": {},
          "execution_count": 20
        }
      ]
    },
    {
      "cell_type": "code",
      "source": [
        "# veri tipi kontrolü:\n",
        "\n",
        "type(list(fitness_dictionary.values()))"
      ],
      "metadata": {
        "colab": {
          "base_uri": "https://localhost:8080/"
        },
        "id": "LDMgGCuT1ZEu",
        "outputId": "9941017f-d933-43c3-b627-897807cdfae0"
      },
      "execution_count": null,
      "outputs": [
        {
          "output_type": "execute_result",
          "data": {
            "text/plain": [
              "list"
            ]
          },
          "metadata": {},
          "execution_count": 22
        }
      ]
    },
    {
      "cell_type": "markdown",
      "source": [
        "**Anahtar veya Değer Bilgisi Güncelleme:**"
      ],
      "metadata": {
        "id": "CD-Ifefq1mjs"
      }
    },
    {
      "cell_type": "code",
      "source": [
        "# Orijinal :\n",
        "\n",
        "fitness_dictionary"
      ],
      "metadata": {
        "colab": {
          "base_uri": "https://localhost:8080/"
        },
        "id": "fmEQd5am2E5m",
        "outputId": "c48f5f0a-f2dc-4942-d926-eb61c19abd56"
      },
      "execution_count": null,
      "outputs": [
        {
          "output_type": "execute_result",
          "data": {
            "text/plain": [
              "{'banana': 100, 'apple': 150}"
            ]
          },
          "metadata": {},
          "execution_count": 23
        }
      ]
    },
    {
      "cell_type": "code",
      "source": [
        "# banana değerini güncelle:\n",
        "\n",
        "fitness_dictionary[\"banana\"] = 200"
      ],
      "metadata": {
        "id": "3J8qlLfA2Gpe"
      },
      "execution_count": null,
      "outputs": []
    },
    {
      "cell_type": "code",
      "source": [
        "# Güncellenen sözlük :\n",
        "\n",
        "fitness_dictionary"
      ],
      "metadata": {
        "colab": {
          "base_uri": "https://localhost:8080/"
        },
        "id": "cBF8bOOm2RmG",
        "outputId": "ca43ae5d-3654-49d3-de43-f86ee704ba9d"
      },
      "execution_count": null,
      "outputs": [
        {
          "output_type": "execute_result",
          "data": {
            "text/plain": [
              "{'banana': 200, 'apple': 150}"
            ]
          },
          "metadata": {},
          "execution_count": 25
        }
      ]
    },
    {
      "cell_type": "markdown",
      "source": [
        "**Yeni Eleman Ekleme:**"
      ],
      "metadata": {
        "id": "RDH6p89T2XYG"
      }
    },
    {
      "cell_type": "code",
      "source": [
        "# Güncel sözlük:\n",
        "\n",
        "fitness_dictionary"
      ],
      "metadata": {
        "colab": {
          "base_uri": "https://localhost:8080/"
        },
        "id": "tl-8ljw_2bkG",
        "outputId": "0cf1f31b-fd1e-4dd4-bd72-919806846bb7"
      },
      "execution_count": null,
      "outputs": [
        {
          "output_type": "execute_result",
          "data": {
            "text/plain": [
              "{'banana': 200, 'apple': 150}"
            ]
          },
          "metadata": {},
          "execution_count": 26
        }
      ]
    },
    {
      "cell_type": "code",
      "source": [
        "# Eleman ekleme:\n",
        "\n",
        "fitness_dictionary[\"melon\"] = 300"
      ],
      "metadata": {
        "id": "mE5Ty6YR2est"
      },
      "execution_count": null,
      "outputs": []
    },
    {
      "cell_type": "code",
      "source": [
        "# Sözlük kontrol:\n",
        "# Eleman eklendi.\n",
        "\n",
        "fitness_dictionary"
      ],
      "metadata": {
        "colab": {
          "base_uri": "https://localhost:8080/"
        },
        "id": "xQPNOV_A2qV5",
        "outputId": "a460212c-fc86-4fee-fa90-56df1f4b9a6a"
      },
      "execution_count": null,
      "outputs": [
        {
          "output_type": "execute_result",
          "data": {
            "text/plain": [
              "{'banana': 200, 'apple': 150, 'melon': 300}"
            ]
          },
          "metadata": {},
          "execution_count": 28
        }
      ]
    },
    {
      "cell_type": "markdown",
      "source": [
        "Anahtar ve değer eşleşmesi yapıldığı anda ekleme yapılabilir. Listelerdeki gibi index mantığı olmadığı için kolayca yeni eleman eklemesi yapılır."
      ],
      "metadata": {
        "id": "uVp89NoT2z_Q"
      }
    },
    {
      "cell_type": "markdown",
      "source": [
        "**Dikkat:**\n",
        "\n",
        "Kod yazarken hata mesajı almak kodun düzeltilmesi için önemli. Fakat, herhangi bir uygulama tasarlandığında hata mesajlarını kullanıcı sürekli alırsa uygulamanın çökmesine sebep olur. Bu sebeple, hata mesajlarının kullanıcıya gösterilmesi düzenlenmelidir. Bunu `get()` fonksiyonu ile sağlarız."
      ],
      "metadata": {
        "id": "fUnlA7LY3G-8"
      }
    },
    {
      "cell_type": "code",
      "source": [
        "# Fonksiyona bakalım:\n",
        "\n",
        "help(fitness_dictionary.get)"
      ],
      "metadata": {
        "colab": {
          "base_uri": "https://localhost:8080/"
        },
        "id": "raUHAlxr_c1H",
        "outputId": "1052ee63-e97d-4998-89b6-26f4478b5fc2"
      },
      "execution_count": null,
      "outputs": [
        {
          "output_type": "stream",
          "name": "stdout",
          "text": [
            "Help on built-in function get:\n",
            "\n",
            "get(key, default=None, /) method of builtins.dict instance\n",
            "    Return the value for key if key is in the dictionary, else default.\n",
            "\n"
          ]
        }
      ]
    },
    {
      "cell_type": "markdown",
      "source": [
        "###**3. get()**\n",
        "\n",
        "📌 Anahtarı varsa değerini döner, yoksa None ya da belirtilen değeri döner.\n",
        "\n",
        "- get fonksiyonu aldığı default değeri sayesinde, anahtar kelimemiz eşleşmez ise, belirlenen değeri döndürür."
      ],
      "metadata": {
        "id": "pCsloYiv_n6K"
      }
    },
    {
      "cell_type": "code",
      "source": [
        "# apple anahtarı ile:\n",
        "\n",
        "fitness_dictionary.get(\"apple\", 0)"
      ],
      "metadata": {
        "colab": {
          "base_uri": "https://localhost:8080/"
        },
        "id": "2N6MoKtsAHV3",
        "outputId": "906a86f9-ea05-4474-f747-174cd56a9027"
      },
      "execution_count": null,
      "outputs": [
        {
          "output_type": "execute_result",
          "data": {
            "text/plain": [
              "150"
            ]
          },
          "metadata": {},
          "execution_count": 33
        }
      ]
    },
    {
      "cell_type": "code",
      "source": [
        "# anahtar yanlış ise:\n",
        "\n",
        "fitness_dictionary.get(\"appl\", 0)"
      ],
      "metadata": {
        "colab": {
          "base_uri": "https://localhost:8080/"
        },
        "id": "HsegA-rgAbKh",
        "outputId": "19d9c36e-feeb-4235-8b61-38cba65c2934"
      },
      "execution_count": null,
      "outputs": [
        {
          "output_type": "execute_result",
          "data": {
            "text/plain": [
              "0"
            ]
          },
          "metadata": {},
          "execution_count": 34
        }
      ]
    },
    {
      "cell_type": "markdown",
      "source": [
        "Anahtar-value tanımlamalarında, ilk yazılan değer anahtardır. Bunu string, int veri yapılarında tanımlayabiliriz. Burada önemli olan nokta bilgi erişiminin anahtar ile yapılmasıdır."
      ],
      "metadata": {
        "id": "6GN7dcL1BQgW"
      }
    },
    {
      "cell_type": "code",
      "source": [
        "# int:string\n",
        "\n",
        "my_dictionary = {100:\"a\", 200:\"b\", 300:\"c\"}"
      ],
      "metadata": {
        "id": "XE9taaMfBx8i"
      },
      "execution_count": null,
      "outputs": []
    },
    {
      "cell_type": "code",
      "source": [
        "my_dictionary[100]"
      ],
      "metadata": {
        "colab": {
          "base_uri": "https://localhost:8080/",
          "height": 36
        },
        "id": "Wa45mnN-B6sp",
        "outputId": "6d4c2d41-778e-4057-bf75-cee60dafbaff"
      },
      "execution_count": null,
      "outputs": [
        {
          "output_type": "execute_result",
          "data": {
            "text/plain": [
              "'a'"
            ],
            "application/vnd.google.colaboratory.intrinsic+json": {
              "type": "string"
            }
          },
          "metadata": {},
          "execution_count": 37
        }
      ]
    },
    {
      "cell_type": "code",
      "source": [
        "# string:string\n",
        "\n",
        "my_dictionary = {\"key1\":\"value1\", \"key2\":\"value2\"}"
      ],
      "metadata": {
        "id": "DXBFRj87B8it"
      },
      "execution_count": null,
      "outputs": []
    },
    {
      "cell_type": "code",
      "source": [
        "my_dictionary[\"key1\"]"
      ],
      "metadata": {
        "colab": {
          "base_uri": "https://localhost:8080/",
          "height": 36
        },
        "id": "kDQwQEQiCLPz",
        "outputId": "b943d610-0c21-4834-bacf-85c95a1e6e16"
      },
      "execution_count": null,
      "outputs": [
        {
          "output_type": "execute_result",
          "data": {
            "text/plain": [
              "'value1'"
            ],
            "application/vnd.google.colaboratory.intrinsic+json": {
              "type": "string"
            }
          },
          "metadata": {},
          "execution_count": 39
        }
      ]
    },
    {
      "cell_type": "code",
      "source": [
        "#string:int,float,list\n",
        "\n",
        "\n",
        "my_mixed_dictionary = {\"key1\":100, \"key2\": 3.14, \"key3\": [10,20,30]}"
      ],
      "metadata": {
        "id": "AYa-saGyCXQ0"
      },
      "execution_count": null,
      "outputs": []
    },
    {
      "cell_type": "code",
      "source": [
        "my_mixed_dictionary[\"key1\"]"
      ],
      "metadata": {
        "colab": {
          "base_uri": "https://localhost:8080/"
        },
        "id": "YF5I85oLCtyU",
        "outputId": "cdccecb0-13aa-45c8-b4f6-62e9fc8a4d02"
      },
      "execution_count": null,
      "outputs": [
        {
          "output_type": "execute_result",
          "data": {
            "text/plain": [
              "100"
            ]
          },
          "metadata": {},
          "execution_count": 42
        }
      ]
    },
    {
      "cell_type": "code",
      "source": [
        "my_mixed_dictionary[\"key2\"]"
      ],
      "metadata": {
        "colab": {
          "base_uri": "https://localhost:8080/"
        },
        "id": "N0tno04MCwtQ",
        "outputId": "1227996b-3016-4fee-b1fb-7b4cb02d75c5"
      },
      "execution_count": null,
      "outputs": [
        {
          "output_type": "execute_result",
          "data": {
            "text/plain": [
              "3.14"
            ]
          },
          "metadata": {},
          "execution_count": 43
        }
      ]
    },
    {
      "cell_type": "code",
      "source": [
        "my_mixed_dictionary[\"key3\"]"
      ],
      "metadata": {
        "colab": {
          "base_uri": "https://localhost:8080/"
        },
        "id": "-ZgwTVcBCyuO",
        "outputId": "bb5674d3-bf09-4ac7-bde1-9f93e15b785f"
      },
      "execution_count": null,
      "outputs": [
        {
          "output_type": "execute_result",
          "data": {
            "text/plain": [
              "[10, 20, 30]"
            ]
          },
          "metadata": {},
          "execution_count": 44
        }
      ]
    },
    {
      "cell_type": "code",
      "source": [
        "# Liste içindeki 20 değişkenine erişmek:\n",
        "# index ile erişme\n",
        "\n",
        "my_mixed_dictionary[\"key3\"][1]"
      ],
      "metadata": {
        "colab": {
          "base_uri": "https://localhost:8080/"
        },
        "id": "9lLaO65OC2VR",
        "outputId": "111ebc0e-20e5-4a1a-8206-4169a9551d1c"
      },
      "execution_count": null,
      "outputs": [
        {
          "output_type": "execute_result",
          "data": {
            "text/plain": [
              "20"
            ]
          },
          "metadata": {},
          "execution_count": 45
        }
      ]
    },
    {
      "cell_type": "code",
      "source": [
        "# Farkli veri yapıları ile sözlük tanımlama:\n",
        "\n",
        "last_dictionary ={\"k1\":10, \"k2\":[10,20,30,40,50], \"k3\":\"string\", \"k4\":{\"a\":100,\"b\":200}}"
      ],
      "metadata": {
        "id": "k8NnbhTFC9Ri"
      },
      "execution_count": null,
      "outputs": []
    },
    {
      "cell_type": "code",
      "source": [
        "#Sözlük 200 değişkenine erişmek:\n",
        "#anahtar ile\n",
        "\n",
        "last_dictionary[\"k4\"][\"a\"]"
      ],
      "metadata": {
        "colab": {
          "base_uri": "https://localhost:8080/"
        },
        "id": "AGP5VZuzDnef",
        "outputId": "13879836-9bc1-4e07-d469-9459132be0e6"
      },
      "execution_count": null,
      "outputs": [
        {
          "output_type": "execute_result",
          "data": {
            "text/plain": [
              "100"
            ]
          },
          "metadata": {},
          "execution_count": 50
        }
      ]
    },
    {
      "cell_type": "code",
      "source": [
        "#Liste 30 değişkenine erişmek:\n",
        "#index ile\n",
        "\n",
        "last_dictionary[\"k2\"][2]"
      ],
      "metadata": {
        "colab": {
          "base_uri": "https://localhost:8080/"
        },
        "id": "X9xqQgOmD4tc",
        "outputId": "769cfe21-0d1f-4400-8f62-bd5bdec97e7b"
      },
      "execution_count": null,
      "outputs": [
        {
          "output_type": "execute_result",
          "data": {
            "text/plain": [
              "30"
            ]
          },
          "metadata": {},
          "execution_count": 54
        }
      ]
    },
    {
      "cell_type": "markdown",
      "source": [
        "###**4. clear()**\n",
        "\n",
        "📌 Sözlüğün içindeki tüm verileri siler."
      ],
      "metadata": {
        "id": "_jgooHd_mfew"
      }
    },
    {
      "cell_type": "code",
      "source": [
        "# sözlük oluştur:\n",
        "\n",
        "my_dict = {\"a\": 1, \"b\": 2}\n",
        "my_dict"
      ],
      "metadata": {
        "colab": {
          "base_uri": "https://localhost:8080/"
        },
        "id": "jMm9I7d8mnFJ",
        "outputId": "061388bb-766a-4fda-c3db-f5f6ff0dc047"
      },
      "execution_count": null,
      "outputs": [
        {
          "output_type": "execute_result",
          "data": {
            "text/plain": [
              "{'a': 1, 'b': 2}"
            ]
          },
          "metadata": {},
          "execution_count": 1
        }
      ]
    },
    {
      "cell_type": "code",
      "source": [
        "# sözlüğü temizle:\n",
        "\n",
        "my_dict.clear()\n",
        "my_dict"
      ],
      "metadata": {
        "colab": {
          "base_uri": "https://localhost:8080/"
        },
        "id": "DCQaZvpHmr2A",
        "outputId": "0bc1ab2a-2de2-42d7-d2d3-fdae8e0dcad2"
      },
      "execution_count": null,
      "outputs": [
        {
          "output_type": "execute_result",
          "data": {
            "text/plain": [
              "{}"
            ]
          },
          "metadata": {},
          "execution_count": 2
        }
      ]
    },
    {
      "cell_type": "markdown",
      "source": [
        "### **5. copy()**\n",
        "\n",
        "📌 Sözlüğün bir kopyasını oluşturur (shallow copy)."
      ],
      "metadata": {
        "id": "n8j39YTBm3WU"
      }
    },
    {
      "cell_type": "code",
      "source": [
        "# original adlı sözlük oluştur\n",
        "original = {\"a\": 1, \"b\": 2}\n",
        "\n",
        "# new_dict adlı original sözlük kopyasını oluştur\n",
        "new_dict = original.copy()\n",
        "\n",
        "# yeni sözlüğü getir\n",
        "new_dict\n"
      ],
      "metadata": {
        "colab": {
          "base_uri": "https://localhost:8080/"
        },
        "id": "C3CaFyL5m-66",
        "outputId": "27b0103f-2516-4623-a128-b231e27fd2ce"
      },
      "execution_count": null,
      "outputs": [
        {
          "output_type": "execute_result",
          "data": {
            "text/plain": [
              "{'a': 1, 'b': 2}"
            ]
          },
          "metadata": {},
          "execution_count": 4
        }
      ]
    },
    {
      "cell_type": "markdown",
      "source": [
        "### **6. fromkeys()**\n",
        "\n",
        "📌 Verilen anahtarlarla yeni bir sözlük oluşturur."
      ],
      "metadata": {
        "id": "oxmwu-IVngIK"
      }
    },
    {
      "cell_type": "code",
      "source": [
        "# keys adlı sözlük oluştur\n",
        "keys = [\"a\", \"b\", \"c\"]\n",
        "\n",
        "# anahtar ile yeni sözlük oluştur\n",
        "new_dict = dict.fromkeys(keys, 0)\n",
        "\n",
        "# yeni sözlüğü getir\n",
        "new_dict"
      ],
      "metadata": {
        "colab": {
          "base_uri": "https://localhost:8080/"
        },
        "id": "ipaGyzGlnlW2",
        "outputId": "8f97768b-ff3d-4193-ba8a-23699d060036"
      },
      "execution_count": null,
      "outputs": [
        {
          "output_type": "execute_result",
          "data": {
            "text/plain": [
              "{'a': 0, 'b': 0, 'c': 0}"
            ]
          },
          "metadata": {},
          "execution_count": 5
        }
      ]
    },
    {
      "cell_type": "markdown",
      "source": [
        "### **7. items()**\n",
        "\n",
        "📌 Tüm anahtar-değer çiftlerini (key, value) şeklinde döner."
      ],
      "metadata": {
        "id": "sssN9SRToAW7"
      }
    },
    {
      "cell_type": "code",
      "source": [
        "# sözlük oluştur\n",
        "my_dict = {\"a\": 1, \"b\": 2}\n",
        "\n",
        "list(my_dict.items())"
      ],
      "metadata": {
        "colab": {
          "base_uri": "https://localhost:8080/"
        },
        "id": "G3PW9LJnn_X4",
        "outputId": "05904458-bfef-49a0-c773-d359445e74ac"
      },
      "execution_count": null,
      "outputs": [
        {
          "output_type": "execute_result",
          "data": {
            "text/plain": [
              "[('a', 1), ('b', 2)]"
            ]
          },
          "metadata": {},
          "execution_count": 6
        }
      ]
    },
    {
      "cell_type": "markdown",
      "source": [
        "### **8. pop(key)**\n",
        "\n",
        "📌 Verilen anahtarı siler ve değerini döner. Anahtar yoksa hata verir."
      ],
      "metadata": {
        "id": "58QCjTSSoSgg"
      }
    },
    {
      "cell_type": "code",
      "source": [
        "# sözlük oluştur\n",
        "my_dict = {\"a\": 1, \"b\": 2}\n",
        "\n",
        "# a anahtarını siler, değerini döndürür\n",
        "value = my_dict.pop(\"a\")\n",
        "\n",
        "#değeri getir\n",
        "value\n"
      ],
      "metadata": {
        "colab": {
          "base_uri": "https://localhost:8080/"
        },
        "id": "_zL7Y-FOoWhy",
        "outputId": "ce9411be-5b09-46ae-9c97-1898fe88e24e"
      },
      "execution_count": null,
      "outputs": [
        {
          "output_type": "execute_result",
          "data": {
            "text/plain": [
              "1"
            ]
          },
          "metadata": {},
          "execution_count": 12
        }
      ]
    },
    {
      "cell_type": "code",
      "source": [
        "# sözlüğü getir\n",
        "\n",
        "my_dict"
      ],
      "metadata": {
        "colab": {
          "base_uri": "https://localhost:8080/"
        },
        "id": "rYQ0klSXoqj5",
        "outputId": "3abd50fd-32db-4d7a-b352-2aabf40bd924"
      },
      "execution_count": null,
      "outputs": [
        {
          "output_type": "execute_result",
          "data": {
            "text/plain": [
              "{'b': 2}"
            ]
          },
          "metadata": {},
          "execution_count": 13
        }
      ]
    },
    {
      "cell_type": "markdown",
      "source": [
        "### **9. popitem()**\n",
        "\n",
        "📌 Son eklenen öğeyi siler ve (anahtar, değer) olarak döner."
      ],
      "metadata": {
        "id": "B-xyZnyVowCD"
      }
    },
    {
      "cell_type": "code",
      "source": [
        "# sözlük oluştur\n",
        "my_dict = {\"a\": 1, \"b\": 2}\n",
        "\n",
        "# son öğeri sil\n",
        "pair = my_dict.popitem()\n",
        "\n",
        "# silinen değeri getir\n",
        "pair\n"
      ],
      "metadata": {
        "colab": {
          "base_uri": "https://localhost:8080/"
        },
        "id": "86VdJQFNovD7",
        "outputId": "c8f08c20-90ba-46d5-831e-e01ddfe5a675"
      },
      "execution_count": null,
      "outputs": [
        {
          "output_type": "execute_result",
          "data": {
            "text/plain": [
              "('b', 2)"
            ]
          },
          "metadata": {},
          "execution_count": 14
        }
      ]
    },
    {
      "cell_type": "code",
      "source": [
        "# sözlüğü getir\n",
        "\n",
        "my_dict"
      ],
      "metadata": {
        "colab": {
          "base_uri": "https://localhost:8080/"
        },
        "id": "C3tJJKJGo-78",
        "outputId": "ebb8a734-ec7b-4825-b1c3-44cd5d867516"
      },
      "execution_count": null,
      "outputs": [
        {
          "output_type": "execute_result",
          "data": {
            "text/plain": [
              "{'a': 1}"
            ]
          },
          "metadata": {},
          "execution_count": 15
        }
      ]
    },
    {
      "cell_type": "markdown",
      "source": [
        "### **10. setdefault(key, default)**\n",
        "\n",
        "📌 Anahtar varsa değerini döner, yoksa default değeriyle ekler."
      ],
      "metadata": {
        "id": "9QYQIQjNpIvg"
      }
    },
    {
      "cell_type": "code",
      "source": [
        "# sözlük oluştur\n",
        "my_dict = {\"a\": 1}\n",
        "\n",
        "# anahtar ile değeri döndür\n",
        "my_dict.setdefault(\"b\", 2)\n",
        "\n",
        "# sözlüğü getir\n",
        "my_dict\n"
      ],
      "metadata": {
        "colab": {
          "base_uri": "https://localhost:8080/"
        },
        "id": "-cAS1rg7pNqk",
        "outputId": "c51689cb-1ce8-4ded-9fe2-758150124477"
      },
      "execution_count": null,
      "outputs": [
        {
          "output_type": "execute_result",
          "data": {
            "text/plain": [
              "{'a': 1, 'b': 2}"
            ]
          },
          "metadata": {},
          "execution_count": 17
        }
      ]
    },
    {
      "cell_type": "markdown",
      "source": [
        " ### **11. update()**\n",
        "\n",
        "📌 Bir başka sözlüğü mevcut sözlüğe ekler/günceller."
      ],
      "metadata": {
        "id": "K6lS-WVcpcyi"
      }
    },
    {
      "cell_type": "code",
      "source": [
        "#sözlük oluştur\n",
        "my_dict = {\"a\": 1}\n",
        "\n",
        "#sözlüğü güncelle\n",
        "my_dict.update({\"b\": 2, \"a\": 10})\n",
        "\n",
        "#sözlüğü getir\n",
        "my_dict\n"
      ],
      "metadata": {
        "colab": {
          "base_uri": "https://localhost:8080/"
        },
        "id": "w8i74GZxpbim",
        "outputId": "97cc6903-ec61-4d5d-91fc-3f4fe1700818"
      },
      "execution_count": null,
      "outputs": [
        {
          "output_type": "execute_result",
          "data": {
            "text/plain": [
              "{'a': 10, 'b': 2}"
            ]
          },
          "metadata": {},
          "execution_count": 18
        }
      ]
    },
    {
      "cell_type": "markdown",
      "source": [
        "# Set (Küme)"
      ],
      "metadata": {
        "id": "oqXY3FbK8XUt"
      }
    },
    {
      "cell_type": "markdown",
      "source": [
        "**📌 Tanım:**\n",
        "\n",
        "- Sırasızdır (unordered) ❌\n",
        "\n",
        "- Tekrar eden öğe içermez (unique) ✅\n",
        "\n",
        "- Değiştirilebilir ✅\n",
        "\n",
        "- Fakat içindeki öğeler değiştirilemez (hashable) olmalıdır.\n",
        "\n",
        "**Söz Dizimi:**"
      ],
      "metadata": {
        "id": "5sB0ASq09PKp"
      }
    },
    {
      "cell_type": "code",
      "source": [
        "# set oluştur\n",
        "my_set = {1, 2, 3}\n",
        "\n",
        "my_set"
      ],
      "metadata": {
        "colab": {
          "base_uri": "https://localhost:8080/"
        },
        "id": "xRUJQR-09XTs",
        "outputId": "5e460890-0bfb-4f4e-8d07-538e906628f0"
      },
      "execution_count": 19,
      "outputs": [
        {
          "output_type": "execute_result",
          "data": {
            "text/plain": [
              "{1, 2, 3}"
            ]
          },
          "metadata": {},
          "execution_count": 19
        }
      ]
    },
    {
      "cell_type": "markdown",
      "source": [
        "**🎯 Özellikler:**\n",
        "\n",
        "- Aynı eleman birden fazla kez eklenemez\n",
        "\n",
        "- İndeksleme yapılamaz (`my_set[0]` hata verir)\n",
        "\n",
        "- Küme işlemleri yapılabilir: birleşim, kesişim, fark\n",
        "\n",
        "**✅ Kullanım Sebepleri:**\n",
        "\n",
        "- Tekrarsız öğeler tutulmak istendiğinde\n",
        "\n",
        "- Kümelerle matematiksel işlemler yapmak için"
      ],
      "metadata": {
        "id": "FAuywW6v9eSS"
      }
    },
    {
      "cell_type": "code",
      "source": [
        "# liste oluşturalım\n",
        "\n",
        "myList =[10,20,30,10,20,40,10,20,40]"
      ],
      "metadata": {
        "id": "aIxuqKcg_hi-"
      },
      "execution_count": 21,
      "outputs": []
    },
    {
      "cell_type": "code",
      "source": [
        "# listedeki eleman sayısı:\n",
        "\n",
        "len(myList)"
      ],
      "metadata": {
        "colab": {
          "base_uri": "https://localhost:8080/"
        },
        "id": "5wW9MUad_qgX",
        "outputId": "dae94c37-b25c-469f-e47d-eea368a5d02e"
      },
      "execution_count": 22,
      "outputs": [
        {
          "output_type": "execute_result",
          "data": {
            "text/plain": [
              "9"
            ]
          },
          "metadata": {},
          "execution_count": 22
        }
      ]
    },
    {
      "cell_type": "code",
      "source": [
        "#listeyi çağır:\n",
        "\n",
        "myList"
      ],
      "metadata": {
        "colab": {
          "base_uri": "https://localhost:8080/"
        },
        "id": "aUWCCTGu_0Gz",
        "outputId": "9654566f-929e-4c3d-ad22-5fc961f5c0c2"
      },
      "execution_count": 23,
      "outputs": [
        {
          "output_type": "execute_result",
          "data": {
            "text/plain": [
              "[10, 20, 30, 10, 20, 40, 10, 20, 40]"
            ]
          },
          "metadata": {},
          "execution_count": 23
        }
      ]
    },
    {
      "cell_type": "code",
      "source": [
        "#Listeyi sete çevirelim\n",
        "\n",
        "mySet = set(myList)"
      ],
      "metadata": {
        "id": "DMO2cTg2_4uN"
      },
      "execution_count": 24,
      "outputs": []
    },
    {
      "cell_type": "code",
      "source": [
        "#Seti çağıralım\n",
        "\n",
        "mySet"
      ],
      "metadata": {
        "colab": {
          "base_uri": "https://localhost:8080/"
        },
        "id": "GAtzSCuDAGHQ",
        "outputId": "9a8057bd-98f5-4cef-8fc3-13602c4b6329"
      },
      "execution_count": 25,
      "outputs": [
        {
          "output_type": "execute_result",
          "data": {
            "text/plain": [
              "{10, 20, 30, 40}"
            ]
          },
          "metadata": {},
          "execution_count": 25
        }
      ]
    },
    {
      "cell_type": "markdown",
      "source": [
        "Görüldüğü gibi, listeyi sete çevirdiğimizde tekrar eden öğeler alınmamıştır."
      ],
      "metadata": {
        "id": "dQovZ9CcAKsf"
      }
    },
    {
      "cell_type": "code",
      "source": [
        "# yeni set oluşturalım\n",
        "\n",
        "mySet = {10,20,30,10,20,40,10,20,40}"
      ],
      "metadata": {
        "id": "V-DPSDnrATYG"
      },
      "execution_count": 27,
      "outputs": []
    },
    {
      "cell_type": "code",
      "source": [
        "# seti çağıralım\n",
        "\n",
        "mySet"
      ],
      "metadata": {
        "colab": {
          "base_uri": "https://localhost:8080/"
        },
        "id": "iNzgwC8dAb_S",
        "outputId": "462f5589-1082-4edd-cbf6-7fd97fd0cc3a"
      },
      "execution_count": 28,
      "outputs": [
        {
          "output_type": "execute_result",
          "data": {
            "text/plain": [
              "{10, 20, 30, 40}"
            ]
          },
          "metadata": {},
          "execution_count": 28
        }
      ]
    },
    {
      "cell_type": "markdown",
      "source": [
        "Seti kendimiz oluşturudğumuzda ve elemanları birden fazla yazdığımızda yine set değerleri tekli unique değerler olarak getirilir. Python hata üretmez otomatik olarak değerleri tekli olacak şekilde çağırır."
      ],
      "metadata": {
        "id": "sxX85bxhAh8d"
      }
    },
    {
      "cell_type": "markdown",
      "source": [
        "## **Set(Küme) Fonksiyonları**"
      ],
      "metadata": {
        "id": "JAH5V4MuEPvO"
      }
    },
    {
      "cell_type": "markdown",
      "source": [
        "### **1. add()**\n",
        "\n",
        "📌 Kümenin içine yeni bir öğe ekler."
      ],
      "metadata": {
        "id": "PSvmT86HA1Qx"
      }
    },
    {
      "cell_type": "code",
      "source": [
        "mySet"
      ],
      "metadata": {
        "colab": {
          "base_uri": "https://localhost:8080/"
        },
        "id": "OxwHYfVaAhCV",
        "outputId": "3d7bff31-0471-406f-94b3-347fea6a033f"
      },
      "execution_count": 30,
      "outputs": [
        {
          "output_type": "execute_result",
          "data": {
            "text/plain": [
              "{10, 20, 30, 40}"
            ]
          },
          "metadata": {},
          "execution_count": 30
        }
      ]
    },
    {
      "cell_type": "code",
      "source": [
        "#add() fonksiyonu ile eleman ekleme:\n",
        "\n",
        "mySet.add(10)\n",
        "\n",
        "mySet"
      ],
      "metadata": {
        "colab": {
          "base_uri": "https://localhost:8080/"
        },
        "id": "p7YWxZXpA0qR",
        "outputId": "aea0e04b-55eb-4a34-dc33-f61b363936fe"
      },
      "execution_count": 31,
      "outputs": [
        {
          "output_type": "execute_result",
          "data": {
            "text/plain": [
              "{10, 20, 30, 40}"
            ]
          },
          "metadata": {},
          "execution_count": 31
        }
      ]
    },
    {
      "cell_type": "markdown",
      "source": [
        "10 elemanı set değerlerinde geçtiği için tekrardan eklenemedi."
      ],
      "metadata": {
        "id": "HxCORE0YA0_I"
      }
    },
    {
      "cell_type": "code",
      "source": [
        "mySet.add(50)\n",
        "\n",
        "mySet"
      ],
      "metadata": {
        "colab": {
          "base_uri": "https://localhost:8080/"
        },
        "id": "Db3msyYhBGmV",
        "outputId": "ac09a91b-8b89-41ab-96e6-eaedef54b207"
      },
      "execution_count": 32,
      "outputs": [
        {
          "output_type": "execute_result",
          "data": {
            "text/plain": [
              "{10, 20, 30, 40, 50}"
            ]
          },
          "metadata": {},
          "execution_count": 32
        }
      ]
    },
    {
      "cell_type": "markdown",
      "source": [
        "Set değerleri içinde olmayan bir elemanı add fonksiyonu ile eklemek istediğimizde ise, görüldüğü gibi başarılı bir şekilde set değerlerine eklendi."
      ],
      "metadata": {
        "id": "4t_-SgcFBMRL"
      }
    },
    {
      "cell_type": "markdown",
      "source": [
        "**Not:**\n",
        "\n",
        "Indexleme işlemi yapılamaz, `TypeError` hatası verir."
      ],
      "metadata": {
        "id": "zZz7pIQfE6ls"
      }
    },
    {
      "cell_type": "code",
      "source": [
        "mySet[0]"
      ],
      "metadata": {
        "colab": {
          "base_uri": "https://localhost:8080/",
          "height": 141
        },
        "id": "McyT8SCdE9j8",
        "outputId": "feda268e-64d0-4235-f24f-aa7d20b2b50c"
      },
      "execution_count": 34,
      "outputs": [
        {
          "output_type": "error",
          "ename": "TypeError",
          "evalue": "'set' object is not subscriptable",
          "traceback": [
            "\u001b[0;31m---------------------------------------------------------------------------\u001b[0m",
            "\u001b[0;31mTypeError\u001b[0m                                 Traceback (most recent call last)",
            "\u001b[0;32m/tmp/ipython-input-34-1553399243.py\u001b[0m in \u001b[0;36m<cell line: 0>\u001b[0;34m()\u001b[0m\n\u001b[0;32m----> 1\u001b[0;31m \u001b[0mmySet\u001b[0m\u001b[0;34m[\u001b[0m\u001b[0;36m0\u001b[0m\u001b[0;34m]\u001b[0m\u001b[0;34m\u001b[0m\u001b[0;34m\u001b[0m\u001b[0m\n\u001b[0m",
            "\u001b[0;31mTypeError\u001b[0m: 'set' object is not subscriptable"
          ]
        }
      ]
    },
    {
      "cell_type": "markdown",
      "source": [
        "### **2. union() veya |**\n",
        "\n",
        "📌 İki kümenin birleşimi → Tüm öğeleri döner (tekrarsız)."
      ],
      "metadata": {
        "id": "hm0mkcJ-EpL3"
      }
    },
    {
      "cell_type": "code",
      "source": [
        "mySet"
      ],
      "metadata": {
        "colab": {
          "base_uri": "https://localhost:8080/"
        },
        "id": "fkWMZUMfBV0_",
        "outputId": "62c1db82-7ab0-4c36-f8c5-e59fc154adf6"
      },
      "execution_count": 33,
      "outputs": [
        {
          "output_type": "execute_result",
          "data": {
            "text/plain": [
              "{10, 20, 30, 40, 50}"
            ]
          },
          "metadata": {},
          "execution_count": 33
        }
      ]
    },
    {
      "cell_type": "code",
      "source": [
        "# 2. seti oluşturalım\n",
        "mySet2 = {30,40,50,60,70}\n",
        "\n",
        "mySet2"
      ],
      "metadata": {
        "colab": {
          "base_uri": "https://localhost:8080/"
        },
        "id": "OSsQTjLxEyn0",
        "outputId": "1c626935-8e1e-47fe-a5c1-f49ae0608d18"
      },
      "execution_count": 36,
      "outputs": [
        {
          "output_type": "execute_result",
          "data": {
            "text/plain": [
              "{30, 40, 50, 60, 70}"
            ]
          },
          "metadata": {},
          "execution_count": 36
        }
      ]
    },
    {
      "cell_type": "code",
      "source": [
        "# mySet ile mySet2 birleştir:\n",
        "# 30,40,50 tekrarlanır, fakat tek değer alınır\n",
        "\n",
        "mySet.union(mySet2)"
      ],
      "metadata": {
        "colab": {
          "base_uri": "https://localhost:8080/"
        },
        "id": "uDrPFIYtFMc6",
        "outputId": "20b89b49-2157-4777-a766-ee626e60a264"
      },
      "execution_count": 38,
      "outputs": [
        {
          "output_type": "execute_result",
          "data": {
            "text/plain": [
              "{10, 20, 30, 40, 50, 60, 70}"
            ]
          },
          "metadata": {},
          "execution_count": 38
        }
      ]
    },
    {
      "cell_type": "markdown",
      "source": [
        "### **3. intersection() veya &**\n",
        "\n",
        "📌 Ortak elemanları döner."
      ],
      "metadata": {
        "id": "SCmlPVBZFjUh"
      }
    },
    {
      "cell_type": "code",
      "source": [
        "mySet"
      ],
      "metadata": {
        "colab": {
          "base_uri": "https://localhost:8080/"
        },
        "id": "JI1Vr_XtFsXs",
        "outputId": "4c7d63cb-aa1f-4a82-8126-43a5847dd80c"
      },
      "execution_count": 39,
      "outputs": [
        {
          "output_type": "execute_result",
          "data": {
            "text/plain": [
              "{10, 20, 30, 40, 50}"
            ]
          },
          "metadata": {},
          "execution_count": 39
        }
      ]
    },
    {
      "cell_type": "code",
      "source": [
        "mySet2"
      ],
      "metadata": {
        "colab": {
          "base_uri": "https://localhost:8080/"
        },
        "id": "4ysBjzosFuiB",
        "outputId": "a42ffb02-c4b6-4cab-a218-bf547460b041"
      },
      "execution_count": 40,
      "outputs": [
        {
          "output_type": "execute_result",
          "data": {
            "text/plain": [
              "{30, 40, 50, 60, 70}"
            ]
          },
          "metadata": {},
          "execution_count": 40
        }
      ]
    },
    {
      "cell_type": "code",
      "source": [
        "# mySet ile mySet2 kesişimi:\n",
        "\n",
        "mySet.intersection(mySet2)"
      ],
      "metadata": {
        "colab": {
          "base_uri": "https://localhost:8080/"
        },
        "id": "potu7Pe0FoWB",
        "outputId": "37d8c7ed-b020-46b3-b956-d58e5a506753"
      },
      "execution_count": 41,
      "outputs": [
        {
          "output_type": "execute_result",
          "data": {
            "text/plain": [
              "{30, 40, 50}"
            ]
          },
          "metadata": {},
          "execution_count": 41
        }
      ]
    },
    {
      "cell_type": "markdown",
      "source": [
        "**Örnek Sorgu:**\n",
        "\n",
        "E-Ticaret web sitesinizde farklı ülkelere ürün satıldığını düşünelim.\n",
        "\n",
        "Ülkelerin listesini filtreleyelim. Veri setimiz de 1000 adet olsun.\n",
        "\n",
        "**Soru:**\n",
        "\n",
        "Her bir ülkeye kaç adet ürün satıldı?"
      ],
      "metadata": {
        "id": "gn5XlkctF5gY"
      }
    },
    {
      "cell_type": "code",
      "source": [
        "# Örnek veri seti:\n",
        "\n",
        "countryList = [\"de\",\"fr\",\"tr\", \"fr\",\"tr\",\"tr\",\"de\",\"nl\",\"de\",\"tr\"]"
      ],
      "metadata": {
        "id": "9EP_8A0GFwQ8"
      },
      "execution_count": 42,
      "outputs": []
    },
    {
      "cell_type": "code",
      "source": [
        "# Veri seti sayısı:\n",
        "\n",
        "len(countryList)"
      ],
      "metadata": {
        "colab": {
          "base_uri": "https://localhost:8080/"
        },
        "id": "ocd_XEIIGfIR",
        "outputId": "bc2fc7be-2106-4cd1-b67d-4f9cc40ba694"
      },
      "execution_count": 43,
      "outputs": [
        {
          "output_type": "execute_result",
          "data": {
            "text/plain": [
              "10"
            ]
          },
          "metadata": {},
          "execution_count": 43
        }
      ]
    },
    {
      "cell_type": "markdown",
      "source": [
        "10 adet ülke var. Fakat, aynı ülkelere birden fazla kez ürün satışı olduğu görülüyor. Bu da yanıltıcı olabilir.  1000 adet veya daha fazla veri olan veri setlerinde tek tek veri incelemesi yapılması zor olacağından set veri yapısının unique yani tekil değerlere sahip olması işimize yarar.\n",
        "\n",
        "Önce liste veri yapısını set veri yapısına çeviririz."
      ],
      "metadata": {
        "id": "bQNYHAGIGltt"
      }
    },
    {
      "cell_type": "code",
      "source": [
        "# listeyi sete çevirelim\n",
        "\n",
        "set(countryList)"
      ],
      "metadata": {
        "colab": {
          "base_uri": "https://localhost:8080/"
        },
        "id": "-EA3QV7UHIpC",
        "outputId": "d04a9812-6a20-496a-81c3-ca4360b7f7f2"
      },
      "execution_count": 44,
      "outputs": [
        {
          "output_type": "execute_result",
          "data": {
            "text/plain": [
              "{'de', 'fr', 'nl', 'tr'}"
            ]
          },
          "metadata": {},
          "execution_count": 44
        }
      ]
    },
    {
      "cell_type": "code",
      "source": [
        "# set veri sayısı:\n",
        "\n",
        "len(set(countryList))"
      ],
      "metadata": {
        "colab": {
          "base_uri": "https://localhost:8080/"
        },
        "id": "1H5-o1lLHNg5",
        "outputId": "a4272477-b143-48b5-f3a1-cfe9a7e3c573"
      },
      "execution_count": 45,
      "outputs": [
        {
          "output_type": "execute_result",
          "data": {
            "text/plain": [
              "4"
            ]
          },
          "metadata": {},
          "execution_count": 45
        }
      ]
    },
    {
      "cell_type": "markdown",
      "source": [
        "Görüldüğü gibi, set veri yapısına çevirip len yani veri setinin uzunluğu, eleman sayısına bakınca 4 adet tekil ülkenin olduğu ve bu ülkere satış yapıldığı görülür."
      ],
      "metadata": {
        "id": "TJHO01ZwHK7u"
      }
    },
    {
      "cell_type": "markdown",
      "source": [
        "**Not:**\n",
        "\n",
        "Set veri yapısına uygulanan diğer metodları veriyapısı nokta tab kısayolu ile ulaşabilirsiniz.\n",
        "\n",
        "**Örnek:**\n",
        "\n",
        "set.tab tuşu"
      ],
      "metadata": {
        "id": "hi2wuMFCLkLG"
      }
    },
    {
      "cell_type": "markdown",
      "source": [
        "###**Farklı Oluşturma Teknikleri**"
      ],
      "metadata": {
        "id": "5ClMruSaIrnB"
      }
    },
    {
      "cell_type": "markdown",
      "source": [
        "**Boş Liste Oluşturma:**"
      ],
      "metadata": {
        "id": "98JhJQNHIzWU"
      }
    },
    {
      "cell_type": "code",
      "source": [
        "# Boş liste oluştur\n",
        "\n",
        "emptyList = []"
      ],
      "metadata": {
        "id": "5sj0RjY7Hdhz"
      },
      "execution_count": 46,
      "outputs": []
    },
    {
      "cell_type": "code",
      "source": [
        "# Listeye eleman ekle\n",
        "\n",
        "emptyList.append(10)\n",
        "emptyList.append(20)\n",
        "emptyList.append(30)"
      ],
      "metadata": {
        "id": "Ysy04Y1fI6Og"
      },
      "execution_count": 47,
      "outputs": []
    },
    {
      "cell_type": "code",
      "source": [
        "# Listeyi çağır\n",
        "\n",
        "emptyList"
      ],
      "metadata": {
        "colab": {
          "base_uri": "https://localhost:8080/"
        },
        "id": "TGRbI3VvI_1s",
        "outputId": "a8a8f97e-eac8-44b5-a993-cfdf7068878c"
      },
      "execution_count": 48,
      "outputs": [
        {
          "output_type": "execute_result",
          "data": {
            "text/plain": [
              "[10, 20, 30]"
            ]
          },
          "metadata": {},
          "execution_count": 48
        }
      ]
    },
    {
      "cell_type": "markdown",
      "source": [
        "**Boş Sözlük(Dictionary) Oluşturma:**"
      ],
      "metadata": {
        "id": "uI2pUhZLJJuJ"
      }
    },
    {
      "cell_type": "code",
      "source": [
        "# boş sözlük oluştur\n",
        "\n",
        "emptyDict ={}"
      ],
      "metadata": {
        "id": "rM5RUC1bJJKR"
      },
      "execution_count": 49,
      "outputs": []
    },
    {
      "cell_type": "code",
      "source": [
        "# veri tipi kontrolü\n",
        "\n",
        "type(emptyDict)"
      ],
      "metadata": {
        "colab": {
          "base_uri": "https://localhost:8080/"
        },
        "id": "LMbLHSvVJUai",
        "outputId": "bb80c500-5366-48cb-dd67-a45788ef84a0"
      },
      "execution_count": 50,
      "outputs": [
        {
          "output_type": "execute_result",
          "data": {
            "text/plain": [
              "dict"
            ]
          },
          "metadata": {},
          "execution_count": 50
        }
      ]
    },
    {
      "cell_type": "markdown",
      "source": [
        "**Not:**\n",
        "\n",
        "Set ve Dict veri yapısını oluştururken süslü parantez `{ }` kullanılmaktadır. Burada süslü parantez ile boş veri yapısı oluşturunca Python dict yanş sözlük olarak tanımlar. Bu yüzden set veri yapısı ayrı tanımlanır."
      ],
      "metadata": {
        "id": "B1EPdTSpJYP5"
      }
    },
    {
      "cell_type": "markdown",
      "source": [
        "**Boş Set(Küme) Oluşturma:**"
      ],
      "metadata": {
        "id": "6GxORBZlJuJb"
      }
    },
    {
      "cell_type": "code",
      "source": [
        "#Parametresiz set() kullanımı ile boş set oluşturulur\n",
        "\n",
        "emptySet = set()"
      ],
      "metadata": {
        "id": "Ya4nuexYJ66B"
      },
      "execution_count": 51,
      "outputs": []
    },
    {
      "cell_type": "code",
      "source": [
        "#veri tipi kontrolü\n",
        "\n",
        "type(emptySet)"
      ],
      "metadata": {
        "colab": {
          "base_uri": "https://localhost:8080/"
        },
        "id": "_Q2zMvu3KBqb",
        "outputId": "bcc23003-b2cd-4fd4-d45d-5c6636e37eb3"
      },
      "execution_count": 52,
      "outputs": [
        {
          "output_type": "execute_result",
          "data": {
            "text/plain": [
              "set"
            ]
          },
          "metadata": {},
          "execution_count": 52
        }
      ]
    },
    {
      "cell_type": "code",
      "source": [
        "# set uzunluğu\n",
        "\n",
        "len(emptySet)"
      ],
      "metadata": {
        "colab": {
          "base_uri": "https://localhost:8080/"
        },
        "id": "R3_6hiVdKDzY",
        "outputId": "a9a318fe-6a9d-4e12-bfa0-9d5744669b10"
      },
      "execution_count": 53,
      "outputs": [
        {
          "output_type": "execute_result",
          "data": {
            "text/plain": [
              "0"
            ]
          },
          "metadata": {},
          "execution_count": 53
        }
      ]
    },
    {
      "cell_type": "code",
      "source": [
        "# Sete eleman ekle\n",
        "\n",
        "emptySet.add(10)\n",
        "emptySet.add(10)\n",
        "emptySet.add(10)\n",
        "emptySet.add(20)\n",
        "emptySet.add(30)"
      ],
      "metadata": {
        "id": "1AHs1l3GKU-5"
      },
      "execution_count": 54,
      "outputs": []
    },
    {
      "cell_type": "code",
      "source": [
        "# Seti çağır\n",
        "\n",
        "emptySet"
      ],
      "metadata": {
        "colab": {
          "base_uri": "https://localhost:8080/"
        },
        "id": "iK5aF4fvKgwX",
        "outputId": "110048ac-6e1d-423d-e3ff-0b16d9c96b85"
      },
      "execution_count": 55,
      "outputs": [
        {
          "output_type": "execute_result",
          "data": {
            "text/plain": [
              "{10, 20, 30}"
            ]
          },
          "metadata": {},
          "execution_count": 55
        }
      ]
    },
    {
      "cell_type": "markdown",
      "source": [
        "**Not:**\n",
        "\n",
        "set() kullanımı ile boş set oluşturma sadece set veri yapısına özgü değildir.\n",
        "\n",
        "list, dict veri yapılarında da bu şekilde kullanılabilir."
      ],
      "metadata": {
        "id": "6ApjtGOTKoJ0"
      }
    },
    {
      "cell_type": "code",
      "source": [
        "# liste oluştur\n",
        "\n",
        "emptyList = list()"
      ],
      "metadata": {
        "id": "5BvIJimfK1sq"
      },
      "execution_count": 56,
      "outputs": []
    },
    {
      "cell_type": "code",
      "source": [
        "# Listeye eleman ekle\n",
        "\n",
        "emptyList.append(10)\n",
        "emptyList.append(20)\n",
        "emptyList.append(30)\n",
        "\n",
        "emptyList"
      ],
      "metadata": {
        "colab": {
          "base_uri": "https://localhost:8080/"
        },
        "id": "wHtB3CuUK6x2",
        "outputId": "c392f292-69e3-44e1-a491-116f642a2a3b"
      },
      "execution_count": 57,
      "outputs": [
        {
          "output_type": "execute_result",
          "data": {
            "text/plain": [
              "[10, 20, 30]"
            ]
          },
          "metadata": {},
          "execution_count": 57
        }
      ]
    },
    {
      "cell_type": "code",
      "source": [
        "# dictionary oluştur\n",
        "\n",
        "emptyDictionary = dict()"
      ],
      "metadata": {
        "id": "G_nsRA0XLBCA"
      },
      "execution_count": 58,
      "outputs": []
    },
    {
      "cell_type": "code",
      "source": [
        "# dictionarye eleman ekle ve çağır\n",
        "\n",
        "emptyDictionary[\"a\"] = 10\n",
        "emptyDictionary[\"b\"] = 10\n",
        "\n",
        "emptyDictionary"
      ],
      "metadata": {
        "colab": {
          "base_uri": "https://localhost:8080/"
        },
        "id": "Pjrz-ezHLFpq",
        "outputId": "1df3357b-9a22-4238-cdf1-88dd6dca98f7"
      },
      "execution_count": 59,
      "outputs": [
        {
          "output_type": "execute_result",
          "data": {
            "text/plain": [
              "{'a': 10, 'b': 10}"
            ]
          },
          "metadata": {},
          "execution_count": 59
        }
      ]
    },
    {
      "cell_type": "markdown",
      "source": [
        "# Tuple(Demet)"
      ],
      "metadata": {
        "id": "rXHdSyj4Lz9I"
      }
    },
    {
      "cell_type": "markdown",
      "source": [
        "**📌 Tanım:**\n",
        "\n",
        "- Sıralıdır (ordered) ✅\n",
        "\n",
        "- Değiştirilemez (immutable) ❌\n",
        "\n",
        "- Aynı listeler gibi birden fazla öğe barındırır ama değiştirilemez.\n",
        "\n",
        "**Söz Dizimi:**\n",
        "\n",
        "Parantez kullanılır. `( )`"
      ],
      "metadata": {
        "id": "96av2gZ2L8dq"
      }
    },
    {
      "cell_type": "code",
      "source": [
        "my_tuple = (1, 2, 3)\n",
        "\n",
        "my_tuple"
      ],
      "metadata": {
        "colab": {
          "base_uri": "https://localhost:8080/"
        },
        "id": "Hzoke1LCMD-t",
        "outputId": "27baba63-84c1-4e2d-a9e9-a84b078d7f9a"
      },
      "execution_count": 60,
      "outputs": [
        {
          "output_type": "execute_result",
          "data": {
            "text/plain": [
              "(1, 2, 3)"
            ]
          },
          "metadata": {},
          "execution_count": 60
        }
      ]
    },
    {
      "cell_type": "markdown",
      "source": [
        "**🎯 Özellikler:**\n",
        "\n",
        "- İndekslenebilir: my_tuple[0] → 1\n",
        "\n",
        "- İçinde farklı veri tipleri olabilir\n",
        "\n",
        "- Değiştirilemez → my_tuple[0] = 10 hataya neden olur\n",
        "\n",
        "**✅ Kullanım Sebepleri:**\n",
        "\n",
        "- Değiştirilmesini istemediğin sabit veriler\n",
        "\n",
        "- Verilerin güvenli olması\n",
        "\n",
        "- Daha az bellek kullanımı"
      ],
      "metadata": {
        "id": "CH6pGx2wMIwh"
      }
    },
    {
      "cell_type": "code",
      "source": [
        "# Liste ile:\n",
        "\n",
        "myList = [10, \"a\", \"b\", 3.14]"
      ],
      "metadata": {
        "id": "LSYK4LWjMZ0Q"
      },
      "execution_count": 61,
      "outputs": []
    },
    {
      "cell_type": "code",
      "source": [
        "# 1. elemanı getir:\n",
        "\n",
        "myList[0]"
      ],
      "metadata": {
        "colab": {
          "base_uri": "https://localhost:8080/"
        },
        "id": "ACiLjdpAMZ_c",
        "outputId": "0b1cc4ed-2584-4112-c22b-825cbce1bd74"
      },
      "execution_count": 62,
      "outputs": [
        {
          "output_type": "execute_result",
          "data": {
            "text/plain": [
              "10"
            ]
          },
          "metadata": {},
          "execution_count": 62
        }
      ]
    },
    {
      "cell_type": "code",
      "source": [
        "# 1. elemanın değerini değiştir\n",
        "\n",
        "myList[0] = 100"
      ],
      "metadata": {
        "id": "Lyq0tgu5MaHX"
      },
      "execution_count": 63,
      "outputs": []
    },
    {
      "cell_type": "code",
      "source": [
        "# Listeyi getir\n",
        "\n",
        "myList"
      ],
      "metadata": {
        "colab": {
          "base_uri": "https://localhost:8080/"
        },
        "id": "-n_2x1BINLJN",
        "outputId": "3c224a1f-54ca-448f-dc59-c85dc80ed77d"
      },
      "execution_count": 64,
      "outputs": [
        {
          "output_type": "execute_result",
          "data": {
            "text/plain": [
              "[100, 'a', 'b', 3.14]"
            ]
          },
          "metadata": {},
          "execution_count": 64
        }
      ]
    },
    {
      "cell_type": "code",
      "source": [
        "# Tuple(Demet) ile:\n",
        "\n",
        "myTuple = (10, \"a\", \"b\", 3.14)"
      ],
      "metadata": {
        "id": "lGWb3WklNQEx"
      },
      "execution_count": 65,
      "outputs": []
    },
    {
      "cell_type": "code",
      "source": [
        "# Tuple getir\n",
        "\n",
        "myTuple"
      ],
      "metadata": {
        "colab": {
          "base_uri": "https://localhost:8080/"
        },
        "id": "f03jEnWHNhf9",
        "outputId": "57b222cc-68c2-49a0-e2de-5917349c68ab"
      },
      "execution_count": 66,
      "outputs": [
        {
          "output_type": "execute_result",
          "data": {
            "text/plain": [
              "(10, 'a', 'b', 3.14)"
            ]
          },
          "metadata": {},
          "execution_count": 66
        }
      ]
    },
    {
      "cell_type": "code",
      "source": [
        "#veri tipi kontrolü\n",
        "\n",
        "type(myTuple)"
      ],
      "metadata": {
        "colab": {
          "base_uri": "https://localhost:8080/"
        },
        "id": "8mTahplWNo_j",
        "outputId": "dc2bb777-a2bf-4d22-c142-a4c5f6ea2692"
      },
      "execution_count": 67,
      "outputs": [
        {
          "output_type": "execute_result",
          "data": {
            "text/plain": [
              "tuple"
            ]
          },
          "metadata": {},
          "execution_count": 67
        }
      ]
    },
    {
      "cell_type": "code",
      "source": [
        "# 1. elemanı getir\n",
        "\n",
        "myTuple[0]"
      ],
      "metadata": {
        "colab": {
          "base_uri": "https://localhost:8080/"
        },
        "id": "NF4SWZLzNtMM",
        "outputId": "6fd337d4-27ec-480d-c6df-8ec24e403272"
      },
      "execution_count": 68,
      "outputs": [
        {
          "output_type": "execute_result",
          "data": {
            "text/plain": [
              "10"
            ]
          },
          "metadata": {},
          "execution_count": 68
        }
      ]
    },
    {
      "cell_type": "code",
      "source": [
        "# 1. eleman değerini değiştir.\n",
        "\n",
        "myTuple[0] = 100"
      ],
      "metadata": {
        "colab": {
          "base_uri": "https://localhost:8080/",
          "height": 141
        },
        "id": "TVIfpe2TOHsz",
        "outputId": "743155e4-0ca0-4baf-9dd6-33d86b95332d"
      },
      "execution_count": 70,
      "outputs": [
        {
          "output_type": "error",
          "ename": "TypeError",
          "evalue": "'tuple' object does not support item assignment",
          "traceback": [
            "\u001b[0;31m---------------------------------------------------------------------------\u001b[0m",
            "\u001b[0;31mTypeError\u001b[0m                                 Traceback (most recent call last)",
            "\u001b[0;32m/tmp/ipython-input-70-2368055978.py\u001b[0m in \u001b[0;36m<cell line: 0>\u001b[0;34m()\u001b[0m\n\u001b[0;32m----> 1\u001b[0;31m \u001b[0mmyTuple\u001b[0m\u001b[0;34m[\u001b[0m\u001b[0;36m0\u001b[0m\u001b[0;34m]\u001b[0m \u001b[0;34m=\u001b[0m \u001b[0;36m100\u001b[0m\u001b[0;34m\u001b[0m\u001b[0;34m\u001b[0m\u001b[0m\n\u001b[0m",
            "\u001b[0;31mTypeError\u001b[0m: 'tuple' object does not support item assignment"
          ]
        }
      ]
    },
    {
      "cell_type": "markdown",
      "source": [
        "immutabilitiy-değiştirilemez özelliğinden dolayı eleman ekleme işleminde `TypeError` hatası aldık. Tuple veri yapısında herhangi bir güncelleme, ekleme gibi işlemlerin hiçbiri yapılamaz.\n",
        "\n",
        "Burada sadece index ve count metodları kullanılır."
      ],
      "metadata": {
        "id": "QZkm8hnQOOoh"
      }
    },
    {
      "cell_type": "markdown",
      "source": [
        "**Tuple'a Uygulanabilen Metotlar**\n",
        "\n",
        "tuple veri tipi sınırlı sayıda metoda sahiptir çünkü değiştirilemezdir."
      ],
      "metadata": {
        "id": "Y98jyzOSOqDx"
      }
    },
    {
      "cell_type": "markdown",
      "source": [
        "### **1. count()**\n",
        "\n",
        "📌 Belirli bir değerin tuple içinde kaç kez geçtiğini sayar."
      ],
      "metadata": {
        "id": "9c3fRZ_7OvFN"
      }
    },
    {
      "cell_type": "code",
      "source": [
        "# tuple tanımla\n",
        "\n",
        "my_tuple = (1, 2, 3, 2, 2, 4)\n",
        "\n",
        "#2 değeri kaç kez geçer?\n",
        "my_tuple.count(2)\n"
      ],
      "metadata": {
        "colab": {
          "base_uri": "https://localhost:8080/"
        },
        "id": "soMwCt8LOy4m",
        "outputId": "db3326db-2d88-4cd6-b7b3-2f8f2042b09c"
      },
      "execution_count": 72,
      "outputs": [
        {
          "output_type": "execute_result",
          "data": {
            "text/plain": [
              "3"
            ]
          },
          "metadata": {},
          "execution_count": 72
        }
      ]
    },
    {
      "cell_type": "markdown",
      "source": [
        "###**2. index()**\n",
        "\n",
        "📌 Belirli bir değerin tuple içindeki ilk geçtiği indeksi döner.\n",
        "Bulamazsa hata verir."
      ],
      "metadata": {
        "id": "sDF3D3C9O_Ef"
      }
    },
    {
      "cell_type": "code",
      "source": [
        "my_tuple = ('a', 'b', 'c', 'b')\n",
        "\n",
        "my_tuple.index('b')"
      ],
      "metadata": {
        "colab": {
          "base_uri": "https://localhost:8080/"
        },
        "id": "0dHZK1eRO-Og",
        "outputId": "f9c501ff-a9a1-4edd-8237-89f04973a7f0"
      },
      "execution_count": 73,
      "outputs": [
        {
          "output_type": "execute_result",
          "data": {
            "text/plain": [
              "1"
            ]
          },
          "metadata": {},
          "execution_count": 73
        }
      ]
    },
    {
      "cell_type": "markdown",
      "source": [
        "**⚠️ Dikkat:**\n",
        "\n",
        "tuple immutable olduğu için `append()`, `remove()`, `pop()`, `insert()` gibi liste metodları çalışmaz."
      ],
      "metadata": {
        "id": "A7yrTn7lPcE0"
      }
    },
    {
      "cell_type": "markdown",
      "source": [
        "**Not:**\n",
        "\n",
        "Python kütüphaneleri kullandığımızda kütüphanelerden olan geri dönüşlerde tuple veri yapısı döner. Bilginin doğruluğu ve güvenliği için bu tercih edilebilir.\n",
        "\n",
        "Eğer verilerle ileri işlemler yapılacaksa kütüphaneden geri dönen verileri list formatına çevirerek işleyebiliriz."
      ],
      "metadata": {
        "id": "4XFTB5MqPvHp"
      }
    },
    {
      "cell_type": "markdown",
      "source": [
        "# Tuple-Set-Dictionary Kıyaslama Tablosu\n",
        "\n",
        "| Özellik                 | Tuple          | Set             | Dictionary         |\n",
        "| ----------------------- | -------------- | --------------- | ------------------ |\n",
        "| Sıralı mı?              | ✅ Evet         | ❌ Hayır         | ✅ Evet (3.7+)      |\n",
        "| Değiştirilebilir mi?    | ❌ Hayır        | ✅ Evet          | ✅ Evet             |\n",
        "| Elemanlar benzersiz mi? | ❌ Hayır        | ✅ Evet          | 🔸 Anahtarlar evet |\n",
        "| İndeksleme              | ✅ Evet         | ❌ Hayır         | ✅ (anahtarla)      |\n",
        "| Veri yapısı             | Eleman listesi | Tekil elemanlar | Anahtar-Değer      |\n"
      ],
      "metadata": {
        "id": "p_UkVg5ZMaXC"
      }
    },
    {
      "cell_type": "markdown",
      "source": [
        "# Boolen"
      ],
      "metadata": {
        "id": "5KGFT6D-QJTA"
      }
    },
    {
      "cell_type": "markdown",
      "source": [
        "**📌 Tanım:**\n",
        "\n",
        "Boolean, sadece iki değer alabilir:\n",
        "\n",
        "True (Doğru)\n",
        "\n",
        "False (Yanlış)\n",
        "\n",
        "Python'da mantıksal işlemlerde, koşullarda (if, while gibi), karşılaştırmalarda ve kontrollerde çok sık kullanılır."
      ],
      "metadata": {
        "id": "hA-U0DN3QRvB"
      }
    },
    {
      "cell_type": "code",
      "source": [
        "# Temel Kullanım:\n",
        "\n",
        "x = True\n",
        "y = False\n",
        "\n",
        "type(x)"
      ],
      "metadata": {
        "colab": {
          "base_uri": "https://localhost:8080/"
        },
        "id": "S0oRF2NxRqzi",
        "outputId": "931f51ca-c0dc-40e2-81ce-a30e77a1dda5"
      },
      "execution_count": 79,
      "outputs": [
        {
          "output_type": "execute_result",
          "data": {
            "text/plain": [
              "bool"
            ]
          },
          "metadata": {},
          "execution_count": 79
        }
      ]
    },
    {
      "cell_type": "code",
      "source": [
        "myBoolean = True"
      ],
      "metadata": {
        "id": "_H7VWgG2Qq6d"
      },
      "execution_count": 74,
      "outputs": []
    },
    {
      "cell_type": "code",
      "source": [
        "type(myBoolean)"
      ],
      "metadata": {
        "colab": {
          "base_uri": "https://localhost:8080/"
        },
        "id": "fZdNJvZgQtat",
        "outputId": "ebd14e79-3402-41f8-d73c-9c980af4088f"
      },
      "execution_count": 75,
      "outputs": [
        {
          "output_type": "execute_result",
          "data": {
            "text/plain": [
              "bool"
            ]
          },
          "metadata": {},
          "execution_count": 75
        }
      ]
    },
    {
      "cell_type": "code",
      "source": [
        "# Kullanıcıdan yaş bilgisi iste:\n",
        "\n",
        "age = input(\"enter age: \")"
      ],
      "metadata": {
        "colab": {
          "base_uri": "https://localhost:8080/"
        },
        "id": "ICMbU2TOQ1sW",
        "outputId": "bf6673c6-731e-45b2-f12f-a4d343c398b5"
      },
      "execution_count": 76,
      "outputs": [
        {
          "name": "stdout",
          "output_type": "stream",
          "text": [
            "enter age: 3\n"
          ]
        }
      ]
    },
    {
      "cell_type": "code",
      "source": [
        "# Yaş 18 büyükse doğru, değilse yanlış:\n",
        "\n",
        "int(age) > 18"
      ],
      "metadata": {
        "colab": {
          "base_uri": "https://localhost:8080/"
        },
        "id": "5Iod0D72RUPx",
        "outputId": "2f64b7eb-a627-4753-f7f0-a76ea22e5c08"
      },
      "execution_count": 77,
      "outputs": [
        {
          "output_type": "execute_result",
          "data": {
            "text/plain": [
              "False"
            ]
          },
          "metadata": {},
          "execution_count": 77
        }
      ]
    },
    {
      "cell_type": "code",
      "source": [
        "10 > 5     # True"
      ],
      "metadata": {
        "colab": {
          "base_uri": "https://localhost:8080/"
        },
        "id": "k7sqx_RaR46w",
        "outputId": "aa2a67a0-5904-49da-a5d9-0eb2a7c171c9"
      },
      "execution_count": 81,
      "outputs": [
        {
          "output_type": "execute_result",
          "data": {
            "text/plain": [
              "True"
            ]
          },
          "metadata": {},
          "execution_count": 81
        }
      ]
    },
    {
      "cell_type": "code",
      "source": [
        "3 == 4     # False"
      ],
      "metadata": {
        "colab": {
          "base_uri": "https://localhost:8080/"
        },
        "id": "kI9Xe4sUR9VO",
        "outputId": "8961714b-d764-43d2-98cf-22e0aeea9ecb"
      },
      "execution_count": 82,
      "outputs": [
        {
          "output_type": "execute_result",
          "data": {
            "text/plain": [
              "False"
            ]
          },
          "metadata": {},
          "execution_count": 82
        }
      ]
    },
    {
      "cell_type": "markdown",
      "source": [
        "**🔁 Mantıksal Operatörlerle Kullanım**\n",
        "\n",
        "**🔸 and (ve): Her iki şart da doğruysa True**"
      ],
      "metadata": {
        "id": "BP2k9SaNR_84"
      }
    },
    {
      "cell_type": "code",
      "source": [
        "True and True   # True"
      ],
      "metadata": {
        "colab": {
          "base_uri": "https://localhost:8080/"
        },
        "id": "qfWsToeMSDJi",
        "outputId": "0c9ab51a-54c8-478b-b0a3-ecd2c2f9d158"
      },
      "execution_count": 83,
      "outputs": [
        {
          "output_type": "execute_result",
          "data": {
            "text/plain": [
              "True"
            ]
          },
          "metadata": {},
          "execution_count": 83
        }
      ]
    },
    {
      "cell_type": "code",
      "source": [
        "True and False # False"
      ],
      "metadata": {
        "colab": {
          "base_uri": "https://localhost:8080/"
        },
        "id": "UXXqj9AlSGhl",
        "outputId": "7d0b918d-53c9-45d0-c4fa-d54cd946b611"
      },
      "execution_count": 84,
      "outputs": [
        {
          "output_type": "execute_result",
          "data": {
            "text/plain": [
              "False"
            ]
          },
          "metadata": {},
          "execution_count": 84
        }
      ]
    },
    {
      "cell_type": "markdown",
      "source": [
        "**🔸 or (veya): En az biri doğruysa True**"
      ],
      "metadata": {
        "id": "SdMpALEgSI_i"
      }
    },
    {
      "cell_type": "code",
      "source": [
        "True or False   # True"
      ],
      "metadata": {
        "colab": {
          "base_uri": "https://localhost:8080/"
        },
        "id": "dShZtbyNSKz1",
        "outputId": "50295610-eb8b-4270-e0bb-39b949b21be9"
      },
      "execution_count": 85,
      "outputs": [
        {
          "output_type": "execute_result",
          "data": {
            "text/plain": [
              "True"
            ]
          },
          "metadata": {},
          "execution_count": 85
        }
      ]
    },
    {
      "cell_type": "markdown",
      "source": [
        "**🔸 not (değil): Değerin tersini döner**"
      ],
      "metadata": {
        "id": "r4Sf9OBdSN3X"
      }
    },
    {
      "cell_type": "code",
      "source": [
        "not True   # False"
      ],
      "metadata": {
        "colab": {
          "base_uri": "https://localhost:8080/"
        },
        "id": "xVmc0j2KSSii",
        "outputId": "f823780e-9964-434e-d782-d5c88025dfe1"
      },
      "execution_count": 86,
      "outputs": [
        {
          "output_type": "execute_result",
          "data": {
            "text/plain": [
              "False"
            ]
          },
          "metadata": {},
          "execution_count": 86
        }
      ]
    },
    {
      "cell_type": "code",
      "source": [
        "not False  # True"
      ],
      "metadata": {
        "colab": {
          "base_uri": "https://localhost:8080/"
        },
        "id": "0P0_XXEHSU-t",
        "outputId": "3b663cf6-9795-4dcb-f30f-7531f7caf180"
      },
      "execution_count": 87,
      "outputs": [
        {
          "output_type": "execute_result",
          "data": {
            "text/plain": [
              "True"
            ]
          },
          "metadata": {},
          "execution_count": 87
        }
      ]
    },
    {
      "cell_type": "markdown",
      "source": [
        "**🔢 Sayılarla Boolean**\n",
        "\n",
        "Python’da şu kurallar geçerlidir:\n",
        "\n",
        "| Değer                                         | Boolean Sonucu |\n",
        "| --------------------------------------------- | -------------- |\n",
        "| `0`, `0.0`, `None`, `\"\"`, `[]`, `{}`, `set()` | `False`        |\n",
        "| Diğer tüm değerler                            | `True`         |"
      ],
      "metadata": {
        "id": "guXyVuHRSYQ6"
      }
    },
    {
      "cell_type": "code",
      "source": [
        "bool(0)       # False"
      ],
      "metadata": {
        "colab": {
          "base_uri": "https://localhost:8080/"
        },
        "id": "hcQwkrlHSfmC",
        "outputId": "a50a63cf-4177-411a-8721-3370d088c80c"
      },
      "execution_count": 88,
      "outputs": [
        {
          "output_type": "execute_result",
          "data": {
            "text/plain": [
              "False"
            ]
          },
          "metadata": {},
          "execution_count": 88
        }
      ]
    },
    {
      "cell_type": "code",
      "source": [
        "bool(25)       # True"
      ],
      "metadata": {
        "colab": {
          "base_uri": "https://localhost:8080/"
        },
        "id": "qAf8tp8pSj0T",
        "outputId": "de361250-f311-4751-ba93-1c9bdf65c688"
      },
      "execution_count": 89,
      "outputs": [
        {
          "output_type": "execute_result",
          "data": {
            "text/plain": [
              "True"
            ]
          },
          "metadata": {},
          "execution_count": 89
        }
      ]
    },
    {
      "cell_type": "code",
      "source": [
        "bool(\"\")       # False"
      ],
      "metadata": {
        "colab": {
          "base_uri": "https://localhost:8080/"
        },
        "id": "mm5PTz-USl66",
        "outputId": "a22eeeac-8743-4808-dea7-72f97874927b"
      },
      "execution_count": 90,
      "outputs": [
        {
          "output_type": "execute_result",
          "data": {
            "text/plain": [
              "False"
            ]
          },
          "metadata": {},
          "execution_count": 90
        }
      ]
    },
    {
      "cell_type": "code",
      "source": [
        "bool(\"büşra\") # True"
      ],
      "metadata": {
        "colab": {
          "base_uri": "https://localhost:8080/"
        },
        "id": "Q455Brt9SoBM",
        "outputId": "fd6cdbd9-9570-466d-8b52-57975aa3cfd5"
      },
      "execution_count": 91,
      "outputs": [
        {
          "output_type": "execute_result",
          "data": {
            "text/plain": [
              "True"
            ]
          },
          "metadata": {},
          "execution_count": 91
        }
      ]
    },
    {
      "cell_type": "code",
      "source": [
        "# Gerçek Hayattan Örnek – Koşullu Durum\n",
        "\n",
        "yaş = 20\n",
        "reşit_mi = yaş >= 18\n",
        "\n",
        "reşit_mi"
      ],
      "metadata": {
        "colab": {
          "base_uri": "https://localhost:8080/"
        },
        "id": "EH97HUYbSv8w",
        "outputId": "4d75fe0e-d37a-4779-8377-2752fa8fcfea"
      },
      "execution_count": 92,
      "outputs": [
        {
          "output_type": "execute_result",
          "data": {
            "text/plain": [
              "True"
            ]
          },
          "metadata": {},
          "execution_count": 92
        }
      ]
    },
    {
      "cell_type": "markdown",
      "source": [
        "**🔍 Boolean Değer Döndüren Karşılaştırmalar:**\n",
        "\n",
        "| Karşılaştırma | Açıklama           | Sonuç   |\n",
        "| ------------- | ------------------ | ------- |\n",
        "| `5 > 3`       | 5, 3'ten büyük mü? | `True`  |\n",
        "| `2 == 4`      | Eşit mi?           | `False` |\n",
        "| `7 != 9`      | Farklı mı?         | `True`  |\n",
        "| `3 <= 3`      | Küçük eşit mi?     | `True`  |"
      ],
      "metadata": {
        "id": "Bz_rRQTsRzx0"
      }
    }
  ]
}