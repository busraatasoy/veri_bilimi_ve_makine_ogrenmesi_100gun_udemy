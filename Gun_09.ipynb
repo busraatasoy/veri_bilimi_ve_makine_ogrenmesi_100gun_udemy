{
  "nbformat": 4,
  "nbformat_minor": 0,
  "metadata": {
    "colab": {
      "provenance": [],
      "toc_visible": true,
      "authorship_tag": "ABX9TyPvNoeHxRtt/+g13wJ1YzzA",
      "include_colab_link": true
    },
    "kernelspec": {
      "name": "python3",
      "display_name": "Python 3"
    },
    "language_info": {
      "name": "python"
    }
  },
  "cells": [
    {
      "cell_type": "markdown",
      "metadata": {
        "id": "view-in-github",
        "colab_type": "text"
      },
      "source": [
        "<a href=\"https://colab.research.google.com/github/busraatasoy/veri_bilimi_ve_makine_ogrenmesi_100gun_udemy/blob/main/Gun_09.ipynb\" target=\"_parent\"><img src=\"https://colab.research.google.com/assets/colab-badge.svg\" alt=\"Open In Colab\"/></a>"
      ]
    },
    {
      "cell_type": "markdown",
      "source": [
        "# Gün 9: Fonksiyonlar"
      ],
      "metadata": {
        "id": "lWxBcBoAT0PM"
      }
    },
    {
      "cell_type": "markdown",
      "source": [
        "## Fonksiyonlara Giriş\n",
        "\n",
        "Bu bölümde Python'daki fonksiyon kavramına giriş yapacağız. Öncesinde  sıkça karşılaştığımız **fonksiyon** ve **metot** kavramlarının ne olduğuna kısaca bakalım.\n",
        "\n",
        "Ama unutmayalım: **Önemli olan tüm terimleri ezberlemlayıp doğru şekilde kod yazabilmektir.**\n",
        "\n",
        "**Terminoloji Bilgisi:**\n",
        "\n",
        "**✅ Fonksiyon (Function):**\n",
        "\n",
        "Fonksiyonlar, belirli bir işi yapmak için tanımlanan **bağımsız kod bloklarıdır.**\n",
        "Herhangi bir nesneye bağlı olmadan, kendi başlarına çalışabilirler.\n",
        "\n",
        "**✅ Metot (Method):**\n",
        "\n",
        "Metotlar ise, **bir nesneye bağlı olarak çalışan fonksiyonlardır.**\n",
        "Yani bir liste, string ya da sözlük gibi bir veri tipi üzerinden çağrılan özel fonksiyonlardır.\n",
        "\n",
        "| Özellik      | Fonksiyon               | Metot                                |\n",
        "| ------------ | ----------------------- | ------------------------------------ |\n",
        "| Bağımsız mı? | Evet                    | Hayır (bir nesneye bağlıdır)         |\n",
        "| Tanımı       | `def` ile tanımlanır    | Nesneye özel fonksiyon olarak vardır |\n",
        "| Örnek        | `print()`, `len()` gibi | `\"ali\".lower()`, `[1, 2].append(3)`  |\n"
      ],
      "metadata": {
        "id": "pSHWxq3VT9sH"
      }
    },
    {
      "cell_type": "code",
      "source": [
        "# değişken tanımlayalım\n",
        "\n",
        "my_name = \"büşra\""
      ],
      "metadata": {
        "id": "df8LEwUSY8YL"
      },
      "execution_count": null,
      "outputs": []
    },
    {
      "cell_type": "code",
      "source": [
        "# upper methodunu çalıştıralım-Harfleri büyük yapar.\n",
        "\n",
        "my_name.upper()"
      ],
      "metadata": {
        "colab": {
          "base_uri": "https://localhost:8080/",
          "height": 36
        },
        "id": "XVNLNjd8Y_17",
        "outputId": "d2cbd365-df3a-43ba-c683-7b1f75996419"
      },
      "execution_count": null,
      "outputs": [
        {
          "output_type": "execute_result",
          "data": {
            "text/plain": [
              "'BÜŞRA'"
            ],
            "application/vnd.google.colaboratory.intrinsic+json": {
              "type": "string"
            }
          },
          "metadata": {},
          "execution_count": 2
        }
      ]
    },
    {
      "cell_type": "code",
      "source": [
        "# Değişkenş kontrol edelim\n",
        "# Değişken üzerinde herhangi bir değişiklik olmadı\n",
        "\n",
        "my_name"
      ],
      "metadata": {
        "colab": {
          "base_uri": "https://localhost:8080/",
          "height": 36
        },
        "id": "dVspZgMOZOM0",
        "outputId": "ea536326-fea3-4318-9323-d6089a2a23d2"
      },
      "execution_count": null,
      "outputs": [
        {
          "output_type": "execute_result",
          "data": {
            "text/plain": [
              "'büşra'"
            ],
            "application/vnd.google.colaboratory.intrinsic+json": {
              "type": "string"
            }
          },
          "metadata": {},
          "execution_count": 3
        }
      ]
    },
    {
      "cell_type": "markdown",
      "source": [
        "Methodlarla çalıştığımızda sonucu tutmak istersek yeni bir değişkene atamamız gerekli. Aksi halde, değişkende bir değişiklik olmaz sadece ilgili kod bloğunda işlem çalışır."
      ],
      "metadata": {
        "id": "ia8rv0yYZZ3g"
      }
    },
    {
      "cell_type": "code",
      "source": [
        "# Değişikliği değişkene atayalım\n",
        "\n",
        "my_name_upper = my_name.upper()\n"
      ],
      "metadata": {
        "id": "wGdk_ZjkZk1j"
      },
      "execution_count": null,
      "outputs": []
    },
    {
      "cell_type": "code",
      "source": [
        "# Yeni değişkeni kontrol edelim\n",
        "\n",
        "my_name_upper"
      ],
      "metadata": {
        "colab": {
          "base_uri": "https://localhost:8080/",
          "height": 36
        },
        "id": "FBIU2yFzZt6b",
        "outputId": "6274b4af-c47d-4919-c2d6-e981cda4cd5d"
      },
      "execution_count": null,
      "outputs": [
        {
          "output_type": "execute_result",
          "data": {
            "text/plain": [
              "'BÜŞRA'"
            ],
            "application/vnd.google.colaboratory.intrinsic+json": {
              "type": "string"
            }
          },
          "metadata": {},
          "execution_count": 5
        }
      ]
    },
    {
      "cell_type": "code",
      "source": [
        "# Önceki değişkenş kontrol edelim\n",
        "\n",
        "my_name"
      ],
      "metadata": {
        "colab": {
          "base_uri": "https://localhost:8080/",
          "height": 36
        },
        "id": "eagYHnDlZ47j",
        "outputId": "1d9a9599-e472-481c-9560-69a243a63de5"
      },
      "execution_count": null,
      "outputs": [
        {
          "output_type": "execute_result",
          "data": {
            "text/plain": [
              "'büşra'"
            ],
            "application/vnd.google.colaboratory.intrinsic+json": {
              "type": "string"
            }
          },
          "metadata": {},
          "execution_count": 6
        }
      ]
    },
    {
      "cell_type": "markdown",
      "source": [
        "Görüldüğü gibi, herhangi bir işlemi kayıt altına almak istersek değişken ataması yaparak kullanmalıyız. Daha sonraki yazdığımız kodlarda bu yeni değişkeni kullanarak farklı işlemler için kullanabiliriz."
      ],
      "metadata": {
        "id": "LNaE8LSQZ8G_"
      }
    },
    {
      "cell_type": "code",
      "source": [
        "# upper işleminin ne olduğuna help ile bakalım\n",
        "\n",
        "\n",
        "help(my_name.upper)"
      ],
      "metadata": {
        "colab": {
          "base_uri": "https://localhost:8080/"
        },
        "id": "3yffLU08aOi5",
        "outputId": "67573cdb-c4fd-4958-8517-2374c6c4cda9"
      },
      "execution_count": null,
      "outputs": [
        {
          "output_type": "stream",
          "name": "stdout",
          "text": [
            "Help on built-in function upper:\n",
            "\n",
            "upper() method of builtins.str instance\n",
            "    Return a copy of the string converted to uppercase.\n",
            "\n"
          ]
        }
      ]
    },
    {
      "cell_type": "markdown",
      "source": [
        "help fonksiyonunu kullanarak yaptığımız işlemi yazdığımızda methodun ne olduğunu ve ne ile kullanıldığını açıklar."
      ],
      "metadata": {
        "id": "WfoDCbZSaXqC"
      }
    },
    {
      "cell_type": "markdown",
      "source": [
        "## Fonksiyonlar Ne Yapar?\n",
        "\n",
        "- Belirli bir işlemi gerçekleştiren kod bloklarıdır. (Tek satır ya da çok satır içerebilirler.)\n",
        "\n",
        "- Kodların daha düzenli ve okunabilir yazılmasını sağlarlar.\n",
        "\n",
        "- Tekrar tekrar kullanılabilirler, bu da kod tekrarını azaltır.\n",
        "\n",
        "- Girdi (input) alabilirler ve işledikleri veriye göre çıktı (output) üretebilirler."
      ],
      "metadata": {
        "id": "TLnGZ9K8ayXf"
      }
    },
    {
      "cell_type": "markdown",
      "source": [
        "**Fonksiyonlar Nasıl Tanımlanır?**\n",
        "\n",
        "Python'da fonksiyon tanımlamak için def anahtar kelimesi(keyword) kullanılır.\n",
        "\n",
        "define -> tanımlamaktan gelir.\n",
        "\n",
        "**Temel yapısı:**\n",
        "\n",
        "\n",
        "\n",
        "```\n",
        "def fonksiyon_adi(parametre1, parametre2, ...):\n",
        "    # Yapılacak işlemler\n",
        "    return çıktı  # (İsteğe bağlı)\n",
        "\n",
        "```\n",
        "\n",
        "\n",
        "**Açıklama:**\n",
        "\n",
        "- `def →` Fonksiyon tanımlamak için kullanılır.\n",
        "\n",
        "- `fonksiyon_adi →` Fonksiyona verdiğimiz isimdir. (Anlamlı ve küçük harflerle yazılmalı.)\n",
        "\n",
        "- `parametreler →` Fonksiyona dışarıdan gönderilen verilerdir. (İsteğe bağlıdır.)\n",
        "\n",
        "- `return →` Fonksiyonun dışarıya değer göndermesini sağlar. (Kullanmak zorunlu değildir.)\n"
      ],
      "metadata": {
        "id": "c79bEXqvcCpF"
      }
    },
    {
      "cell_type": "code",
      "source": [
        "# Fonksiyon tanımlayalım\n",
        "\n",
        "def hello_python():\n",
        "  print(\"Merhaba\")\n",
        "  print(\"Python!\")"
      ],
      "metadata": {
        "id": "QsN3i49SbkED"
      },
      "execution_count": null,
      "outputs": []
    },
    {
      "cell_type": "code",
      "source": [
        "# Ne olduğuna bakalım:\n",
        "\n",
        "hello_python"
      ],
      "metadata": {
        "colab": {
          "base_uri": "https://localhost:8080/",
          "height": 103
        },
        "id": "txG63yH0c4Ib",
        "outputId": "d6217178-16cb-4a2c-ce87-8ad231c93d0b"
      },
      "execution_count": null,
      "outputs": [
        {
          "output_type": "execute_result",
          "data": {
            "text/plain": [
              "<function __main__.hello_python()>"
            ],
            "text/html": [
              "<div style=\"max-width:800px; border: 1px solid var(--colab-border-color);\"><style>\n",
              "      pre.function-repr-contents {\n",
              "        overflow-x: auto;\n",
              "        padding: 8px 12px;\n",
              "        max-height: 500px;\n",
              "      }\n",
              "\n",
              "      pre.function-repr-contents.function-repr-contents-collapsed {\n",
              "        cursor: pointer;\n",
              "        max-height: 100px;\n",
              "      }\n",
              "    </style>\n",
              "    <pre style=\"white-space: initial; background:\n",
              "         var(--colab-secondary-surface-color); padding: 8px 12px;\n",
              "         border-bottom: 1px solid var(--colab-border-color);\"><b>hello_python</b><br/>def hello_python()</pre><pre class=\"function-repr-contents function-repr-contents-collapsed\" style=\"\"><a class=\"filepath\" style=\"display:none\" href=\"#\">/tmp/ipython-input-15-76555429.py</a>&lt;no docstring&gt;</pre></div>"
            ]
          },
          "metadata": {},
          "execution_count": 16
        }
      ]
    },
    {
      "cell_type": "code",
      "source": [
        "# Fonksiyonu çalıştırmak için parantezle yazılmalıdır:\n",
        "\n",
        "hello_python()"
      ],
      "metadata": {
        "colab": {
          "base_uri": "https://localhost:8080/"
        },
        "id": "Eha1Z0jTdDkO",
        "outputId": "c607ea7e-da4d-41fd-81e5-f8d717a3f24f"
      },
      "execution_count": null,
      "outputs": [
        {
          "output_type": "stream",
          "name": "stdout",
          "text": [
            "Merhaba\n",
            "Python!\n"
          ]
        }
      ]
    },
    {
      "cell_type": "code",
      "source": [
        "# input girdi alan fonksiyon oluşturalım:\n",
        "\n",
        "def hello_name(name):\n",
        "    print(\"Hello\")\n",
        "    print(name)"
      ],
      "metadata": {
        "id": "_q2Bsqcbdq-V"
      },
      "execution_count": null,
      "outputs": []
    },
    {
      "cell_type": "code",
      "source": [
        "# Fonksiyonu çalıştıralım:\n",
        "\n",
        "hello_name()"
      ],
      "metadata": {
        "colab": {
          "base_uri": "https://localhost:8080/",
          "height": 176
        },
        "id": "ELM6_WA5d9GG",
        "outputId": "dd702af2-7045-4d16-a0ed-dd0093c6f7f9"
      },
      "execution_count": null,
      "outputs": [
        {
          "output_type": "error",
          "ename": "TypeError",
          "evalue": "hello_name() missing 1 required positional argument: 'name'",
          "traceback": [
            "\u001b[0;31m---------------------------------------------------------------------------\u001b[0m",
            "\u001b[0;31mTypeError\u001b[0m                                 Traceback (most recent call last)",
            "\u001b[0;32m/tmp/ipython-input-19-174831940.py\u001b[0m in \u001b[0;36m<cell line: 0>\u001b[0;34m()\u001b[0m\n\u001b[1;32m      1\u001b[0m \u001b[0;31m# Fonksiyonu çalıştıralım:\u001b[0m\u001b[0;34m\u001b[0m\u001b[0;34m\u001b[0m\u001b[0m\n\u001b[1;32m      2\u001b[0m \u001b[0;34m\u001b[0m\u001b[0m\n\u001b[0;32m----> 3\u001b[0;31m \u001b[0mhello_name\u001b[0m\u001b[0;34m(\u001b[0m\u001b[0;34m)\u001b[0m\u001b[0;34m\u001b[0m\u001b[0;34m\u001b[0m\u001b[0m\n\u001b[0m",
            "\u001b[0;31mTypeError\u001b[0m: hello_name() missing 1 required positional argument: 'name'"
          ]
        }
      ]
    },
    {
      "cell_type": "markdown",
      "source": [
        "`TypeError` hatası aldık. Neden ?\n",
        "\n",
        "**Sebebi:** fonksiyonu oluştururken input(girdi) işleyecek şekilde oluşturduk. Yani bir parametre ekleyerek name tanımladık. Bu yüzden parametre girerek çalıştırılmalıdır."
      ],
      "metadata": {
        "id": "zCiqfn64eC9x"
      }
    },
    {
      "cell_type": "code",
      "source": [
        "# Fonksiyonu parametre girerek çalıştıralım:\n",
        "# Hello kısmı otomatik print edilir.\n",
        "\n",
        "hello_name(\"Büşra\")"
      ],
      "metadata": {
        "colab": {
          "base_uri": "https://localhost:8080/"
        },
        "id": "c1fKC9UTeqeX",
        "outputId": "e3ac7505-dd7d-421f-eb18-3f0ef3a2e8ea"
      },
      "execution_count": null,
      "outputs": [
        {
          "output_type": "stream",
          "name": "stdout",
          "text": [
            "Hello\n",
            "Büşra\n"
          ]
        }
      ]
    },
    {
      "cell_type": "code",
      "source": [
        "# Toplama fonksiyonu oluşturalım:\n",
        "# Dikkat: Python'da tanımlı sum() fonksiyonu toplam için tanımlıdır.\n",
        "# Bunu etkilememek ve bozmamak için başka isimle tanımlayalım:\n",
        "\n",
        "def sum_example(num1, num2):\n",
        "    print(num1 + num2)"
      ],
      "metadata": {
        "id": "5CDEvePUe_3c"
      },
      "execution_count": null,
      "outputs": []
    },
    {
      "cell_type": "code",
      "source": [
        "#Fonksiyonu parametre girerek çalıştıralım:\n",
        "\n",
        "sum_example(10, 20)"
      ],
      "metadata": {
        "colab": {
          "base_uri": "https://localhost:8080/"
        },
        "id": "7cLl89c3fcPt",
        "outputId": "724a713b-4f5a-494b-9909-ef54c37bdf51"
      },
      "execution_count": null,
      "outputs": [
        {
          "output_type": "stream",
          "name": "stdout",
          "text": [
            "30\n"
          ]
        }
      ]
    },
    {
      "cell_type": "code",
      "source": [
        "# Farklı değişkenler oluşturup atama yaparakta ilerleyebiliriz:\n",
        "# Aynı örneği deneyelim:\n",
        "\n",
        "def sum_example(num1, num2):\n",
        "    num3 = num1 + num2\n",
        "    print(num3)"
      ],
      "metadata": {
        "id": "1sopTvq9flIn"
      },
      "execution_count": null,
      "outputs": []
    },
    {
      "cell_type": "code",
      "source": [
        "#Fonksiyonu parametre girerek tekrar çalıştıralım:\n",
        "\n",
        "sum_example(10,20)"
      ],
      "metadata": {
        "colab": {
          "base_uri": "https://localhost:8080/"
        },
        "id": "sJT-WQTufzCk",
        "outputId": "22dfe932-81b3-46fb-da0c-2dc5377b87ac"
      },
      "execution_count": null,
      "outputs": [
        {
          "output_type": "stream",
          "name": "stdout",
          "text": [
            "30\n"
          ]
        }
      ]
    },
    {
      "cell_type": "markdown",
      "source": [
        "**📌Dikkat:**\n",
        "\n",
        "Peki, her zaman yazdığımız parametreleri girmemiz gerekli mi?\n",
        "TypeError hatası almayı önlemek için farklı bir işlem yapabilir miyiz?\n",
        "\n",
        "\n",
        "**Fonksiyonlarda Varsayılan (Default) Parametre Değeri**\n",
        "\n",
        "Fonksiyonlara her zaman dışarıdan parametre gönderilmesi zorunlu değildir.\n",
        "Eğer bir parametreye varsayılan bir değer tanımlarsak, o parametre gönderilmese bile fonksiyon sorunsuz çalışır.\n",
        "\n",
        "Bu, hata almayı önler ve fonksiyonları daha esnek hale getirir.\n",
        "\n",
        "**Yapısı:**\n",
        "\n",
        "\n",
        "\n",
        "```\n",
        "def fonksiyon_adi(parametre=\"varsayılan_değer\"):\n",
        "    # işlemler\n",
        "\n",
        "```\n",
        "\n",
        "\n"
      ],
      "metadata": {
        "id": "pY80K_UBgYp4"
      }
    },
    {
      "cell_type": "code",
      "source": [
        "# yeni parametreli örnek tanımlayalım:\n",
        "# surname kısmında baştan değer tanımlamamız gerekli.\n",
        "\n",
        "def hello_surname(surname = \"Atasoy\"):\n",
        "    print(\"hello\")\n",
        "    print(surname)"
      ],
      "metadata": {
        "id": "K1KeE6T2gYSi"
      },
      "execution_count": null,
      "outputs": []
    },
    {
      "cell_type": "code",
      "source": [
        "# Parametre vermeden çağırırsak:\n",
        "\n",
        "hello_surname()"
      ],
      "metadata": {
        "colab": {
          "base_uri": "https://localhost:8080/"
        },
        "id": "QDw17VJfg8h4",
        "outputId": "902e081a-1384-4828-9af2-800bf92b2064"
      },
      "execution_count": null,
      "outputs": [
        {
          "output_type": "stream",
          "name": "stdout",
          "text": [
            "hello\n",
            "Atasoy\n"
          ]
        }
      ]
    },
    {
      "cell_type": "code",
      "source": [
        "# Yeni bir parametre verirsek:\n",
        "\n",
        "hello_surname(\"Yıldız\")"
      ],
      "metadata": {
        "colab": {
          "base_uri": "https://localhost:8080/"
        },
        "id": "oJ4uGDQKhMKD",
        "outputId": "5b01e683-c0ba-4530-b055-aad4ec7b0543"
      },
      "execution_count": null,
      "outputs": [
        {
          "output_type": "stream",
          "name": "stdout",
          "text": [
            "hello\n",
            "Yıldız\n"
          ]
        }
      ]
    },
    {
      "cell_type": "markdown",
      "source": [
        "**Not:**\n",
        "\n",
        "- Varsayılan değer, sadece parametre gönderilmediğinde kullanılır.\n",
        "- Eğer bir değer gönderilirse, gönderilen değer kullanılır."
      ],
      "metadata": {
        "id": "TC5ZjxVGiPr3"
      }
    },
    {
      "cell_type": "markdown",
      "source": [
        "##**Fonksiyonlarda `return` Nedir? Ne İşe Yarar?**\n",
        "\n",
        "Python'da return komutu, bir fonksiyonun dış dünyaya çıktı (sonuç) göndermesini sağlar.\n",
        "\n",
        "Fonksiyon içinde hesaplanan veya elde edilen veriyi, fonksiyonun çağrıldığı yere geri döndürür.\n",
        "\n",
        "**🔹 Peki, neden print() değil de return kullanıyoruz?**\n",
        "\n",
        "- `print()` sadece ekrana yazdırır (görsel çıktı verir), ama veriyi başka işlemlerde kullanamayız.\n",
        "\n",
        "- `return `ise değeri dışarı aktarır, böylece o değeri başka işlemlerde kullanabiliriz.\n",
        "\n"
      ],
      "metadata": {
        "id": "yhKKHMpig_Xu"
      }
    },
    {
      "cell_type": "code",
      "source": [
        "# Yeni fonksiyon tanımlayalım:\n",
        "\n",
        "def summation( num1,num2,num3):\n",
        "  print(num1+num2+num3)"
      ],
      "metadata": {
        "id": "Khb2dlrlg-sX"
      },
      "execution_count": null,
      "outputs": []
    },
    {
      "cell_type": "code",
      "source": [
        "#Fonksiyonu parametre girerek çalıştıralım:\n",
        "\n",
        "summation(10,2,8)"
      ],
      "metadata": {
        "colab": {
          "base_uri": "https://localhost:8080/"
        },
        "id": "YNEiun6Xhy9U",
        "outputId": "9ad7bd4c-a50f-4b0f-d18c-281646ca6846"
      },
      "execution_count": null,
      "outputs": [
        {
          "output_type": "stream",
          "name": "stdout",
          "text": [
            "20\n"
          ]
        }
      ]
    },
    {
      "cell_type": "markdown",
      "source": [
        "Fonksiyonun değer döndürüp döndürmediğini nasıl anlarız?"
      ],
      "metadata": {
        "id": "Una2MFn9iCDn"
      }
    },
    {
      "cell_type": "code",
      "source": [
        "# Fonksiyonu değişkene atayalım:\n",
        "\n",
        "x = summation(10,2,8)"
      ],
      "metadata": {
        "colab": {
          "base_uri": "https://localhost:8080/"
        },
        "id": "r4ZHwk5diOLA",
        "outputId": "a8372165-88f2-49ea-dc9d-756b5c94f8a5"
      },
      "execution_count": null,
      "outputs": [
        {
          "output_type": "stream",
          "name": "stdout",
          "text": [
            "20\n"
          ]
        }
      ]
    },
    {
      "cell_type": "code",
      "source": [
        "# Değişkeni yazdıralım:\n",
        "# Değer dönmez.\n",
        "\n",
        "x"
      ],
      "metadata": {
        "id": "m2QstNWviUbQ"
      },
      "execution_count": null,
      "outputs": []
    },
    {
      "cell_type": "code",
      "source": [
        "# print ile ekrana yazalım:\n",
        "# Sonuç: None yani değer yok.\n",
        "\n",
        "print(x)"
      ],
      "metadata": {
        "colab": {
          "base_uri": "https://localhost:8080/"
        },
        "id": "HzFsHYMsiX3u",
        "outputId": "cb20c096-52cc-4fc3-ea70-818d7a0f56bd"
      },
      "execution_count": null,
      "outputs": [
        {
          "output_type": "stream",
          "name": "stdout",
          "text": [
            "None\n"
          ]
        }
      ]
    },
    {
      "cell_type": "code",
      "source": [
        "# Tip kontrolü yaparakta kontrol edelim:\n",
        "\n",
        "type(x)"
      ],
      "metadata": {
        "colab": {
          "base_uri": "https://localhost:8080/"
        },
        "id": "0VANo-Kuiglb",
        "outputId": "b998b046-9908-4600-e620-d567c48b9954"
      },
      "execution_count": null,
      "outputs": [
        {
          "output_type": "execute_result",
          "data": {
            "text/plain": [
              "NoneType"
            ]
          },
          "metadata": {},
          "execution_count": 6
        }
      ]
    },
    {
      "cell_type": "markdown",
      "source": [
        "Örnekten de görüleceği üzere, bu fonksiyon ❌ Değer Döndürmeyen (Sadece Yazdıran) fonksiyondur."
      ],
      "metadata": {
        "id": "i1a26NxMirEJ"
      }
    },
    {
      "cell_type": "markdown",
      "source": [
        "**✅ Değer Döndüren Fonksiyon kullanımını return ile sağlayalım:**"
      ],
      "metadata": {
        "id": "yj7hb0B6i7HB"
      }
    },
    {
      "cell_type": "code",
      "source": [
        "# Fonksiyonu return ile tanımlayalım:\n",
        "\n",
        "def return_summation( num1,num2,num3):\n",
        "  return num1+num2+num3"
      ],
      "metadata": {
        "id": "R_aoA4Tvi_oo"
      },
      "execution_count": null,
      "outputs": []
    },
    {
      "cell_type": "code",
      "source": [
        "#Fonksiyonu parametre girerek çalıştıralım:\n",
        "\n",
        "return_summation(10,2,8)"
      ],
      "metadata": {
        "colab": {
          "base_uri": "https://localhost:8080/"
        },
        "id": "dkqGOl6ajUTM",
        "outputId": "caef3cf7-014f-45ed-9fb9-60a20fa45c08"
      },
      "execution_count": null,
      "outputs": [
        {
          "output_type": "execute_result",
          "data": {
            "text/plain": [
              "20"
            ]
          },
          "metadata": {},
          "execution_count": 9
        }
      ]
    },
    {
      "cell_type": "code",
      "source": [
        "# Fonksiyonu değişkene atayalım:\n",
        "# Ekrana yazdırmaz, işler.\n",
        "\n",
        "x = return_summation(10,2,8)"
      ],
      "metadata": {
        "id": "xod64D6Xjf_9"
      },
      "execution_count": null,
      "outputs": []
    },
    {
      "cell_type": "code",
      "source": [
        "# Değişkeni yazdıralım:\n",
        "# Değer döner ve ekrana yazar.\n",
        "\n",
        "x"
      ],
      "metadata": {
        "colab": {
          "base_uri": "https://localhost:8080/"
        },
        "id": "9FKuo27QjmZc",
        "outputId": "6341e673-acc5-46ac-c0d6-7008f6d559d2"
      },
      "execution_count": null,
      "outputs": [
        {
          "output_type": "execute_result",
          "data": {
            "text/plain": [
              "20"
            ]
          },
          "metadata": {},
          "execution_count": 11
        }
      ]
    },
    {
      "cell_type": "markdown",
      "source": [
        "**Peki, x değişkeni için hem değer döndürüp hem ekrana yazdırma yapabilir miyiz ?**"
      ],
      "metadata": {
        "id": "hPfPHGQ9j_mG"
      }
    },
    {
      "cell_type": "code",
      "source": [
        "# Fonksiyonu tekrar tanımlayalım:\n",
        "\n",
        "def return_summation( num1,num2,num3):\n",
        "    result = num1+num2+num3      # kodu kısaltmak için değişkene atama yapalım.\n",
        "    print(result)                # sonucu yazdıralım.\n",
        "    return result                # değeri döndürelim.\n"
      ],
      "metadata": {
        "id": "M-z4rYEMkD4N"
      },
      "execution_count": null,
      "outputs": []
    },
    {
      "cell_type": "code",
      "source": [
        "# Fonksiyonu değişkene atayalım:\n",
        "# Sonucu yazdırır.\n",
        "\n",
        "\n",
        "x = return_summation(10,2,8)"
      ],
      "metadata": {
        "colab": {
          "base_uri": "https://localhost:8080/"
        },
        "id": "ymo-_vvzkl9k",
        "outputId": "b2ffa01f-5869-4d14-bdc0-6a7da4f24105"
      },
      "execution_count": null,
      "outputs": [
        {
          "output_type": "stream",
          "name": "stdout",
          "text": [
            "20\n"
          ]
        }
      ]
    },
    {
      "cell_type": "code",
      "source": [
        "# Değişkeni yazdıralım:\n",
        "# Değer döner ve ekrana yazar.\n",
        "\n",
        "x"
      ],
      "metadata": {
        "colab": {
          "base_uri": "https://localhost:8080/"
        },
        "id": "iWEhnsqPk1bg",
        "outputId": "84b01893-ea4e-4ee1-cb5e-3c014d7044c8"
      },
      "execution_count": null,
      "outputs": [
        {
          "output_type": "execute_result",
          "data": {
            "text/plain": [
              "20"
            ]
          },
          "metadata": {},
          "execution_count": 21
        }
      ]
    },
    {
      "cell_type": "markdown",
      "source": [
        "**✅ Önemli Notlar:**\n",
        "\n",
        "- `return` yazıldığı anda fonksiyon çalışmayı durdurur, yani altında başka kod varsa çalışmaz.\n",
        "\n",
        "- Fonksiyonda birden fazla return olabilir ama ilk çalışan durumu geri döndürür."
      ],
      "metadata": {
        "id": "BYfmF2IWlS5T"
      }
    },
    {
      "cell_type": "markdown",
      "source": [
        "**Aynı örneği kullanarak `return`'den sonra` print` kullanımına bakalım aynı sonucu alabilecek miyiz?**"
      ],
      "metadata": {
        "id": "BqzsQmOulU21"
      }
    },
    {
      "cell_type": "code",
      "source": [
        "# Fonksiyonu tekrar tanımlayalım:\n",
        "\n",
        "def return_summation( num1,num2,num3):\n",
        "    result = num1+num2+num3      # kodu kısaltmak için değişkene atama yapalım.\n",
        "    return result                # değeri döndürelim.\n",
        "    print(result)                # sonucu yazdıralım."
      ],
      "metadata": {
        "id": "MabeTO7glh--"
      },
      "execution_count": null,
      "outputs": []
    },
    {
      "cell_type": "code",
      "source": [
        "# Fonksiyonu değişkene atayalım:\n",
        "# Sonucu yazdırmaz! Sebebi, return yazıldığı anda fonksiyon çalışmayı durdurur.\n",
        "# Ekrana yazdırmak istediğimizde hem return'den önce yazmalı hem de fonksiyon girintisi içinde yazmalıyız.\n",
        "\n",
        "x = return_summation(10,2,8)"
      ],
      "metadata": {
        "id": "uCbgO34JlrXD"
      },
      "execution_count": null,
      "outputs": []
    },
    {
      "cell_type": "code",
      "source": [
        "# Değişkeni yazdıralım:\n",
        "# Değer dönme kısmında problem olmadan ekrana yazar.\n",
        "\n",
        "x"
      ],
      "metadata": {
        "colab": {
          "base_uri": "https://localhost:8080/"
        },
        "id": "ikXmbmy7l1-d",
        "outputId": "795c7a6b-11f6-4e28-a031-12722b2bcbbe"
      },
      "execution_count": null,
      "outputs": [
        {
          "output_type": "execute_result",
          "data": {
            "text/plain": [
              "20"
            ]
          },
          "metadata": {},
          "execution_count": 24
        }
      ]
    },
    {
      "cell_type": "markdown",
      "source": [
        "##**Fonksiyonlarda loop ve if Kullanılır mı?**\n",
        "\n",
        "Evet! Fonksiyonların içinde `döngüler (for, while)` ve `koşul ifadeleri (if, elif, else)` rahatlıkla kullanılabilir.\n",
        "\n",
        "Bu sayede fonksiyonlar daha dinamik hale gelir; karar verir, tekrar eder, veri üzerinde işlem yapar.\n",
        "\n",
        "**Neden kullanılır?**\n",
        "\n",
        "- Gelen veriye göre şartlı işlem yapmak için → `if`\n",
        "\n",
        "- Birden fazla veri üzerinde tekrar eden işlemler yapmak için → `for`, `while`\n",
        "\n",
        "\n",
        "| Kullanım | Açıklama                           | Fonksiyonda Kullanımı |\n",
        "| -------- | ---------------------------------- | --------------------- |\n",
        "| `if`     | Şarta göre işlem yapar             | ✅                     |\n",
        "| `for`    | Liste gibi yapıları döner          | ✅                     |\n",
        "| `while`  | Şart sağlandığı sürece tekrar eder | ✅                     |\n",
        "\n"
      ],
      "metadata": {
        "id": "lqqUZNPMnf6N"
      }
    },
    {
      "cell_type": "code",
      "source": [
        "# Örnek Kullanım:\n",
        "# str tanımlı olduğu için parametre ismi olarak yazmamaya dikkat edelim!\n",
        "\n",
        "def control_string(s):\n",
        "    if s[0] == \"a\":        # Eğer string'in ilk harfi \"a\" ise\n",
        "        print(\"a ile başlıyor\")\n",
        "    else:\n",
        "        print(\"a ile başlamıyor\")"
      ],
      "metadata": {
        "id": "kaRwbUspn9Wa"
      },
      "execution_count": null,
      "outputs": []
    },
    {
      "cell_type": "code",
      "source": [
        "# Kontrol edelim:\n",
        "\n",
        "control_string(\"Mustafa\")"
      ],
      "metadata": {
        "colab": {
          "base_uri": "https://localhost:8080/"
        },
        "id": "X9ty2i_1oG57",
        "outputId": "97b0225a-ed3b-46e1-bcb8-859747bf8545"
      },
      "execution_count": null,
      "outputs": [
        {
          "output_type": "stream",
          "name": "stdout",
          "text": [
            "a ile başlamıyor\n"
          ]
        }
      ]
    },
    {
      "cell_type": "code",
      "source": [
        "# Kontrol edelim:\n",
        "\n",
        "control_string(\"Büşra\")"
      ],
      "metadata": {
        "colab": {
          "base_uri": "https://localhost:8080/"
        },
        "id": "YBEjczgIoefK",
        "outputId": "2937e9ad-1359-489c-f1e4-a892735bf90a"
      },
      "execution_count": null,
      "outputs": [
        {
          "output_type": "stream",
          "name": "stdout",
          "text": [
            "a ile başlamıyor\n"
          ]
        }
      ]
    },
    {
      "cell_type": "code",
      "source": [
        "# Kontrol edelim:\n",
        "# Büyük \"A\", küçük \"a\" ile aynı değildir. (Büyük/küçük harfe duyarlı)\n",
        "\n",
        "control_string(\"Alime\")"
      ],
      "metadata": {
        "colab": {
          "base_uri": "https://localhost:8080/"
        },
        "id": "mz4_06X6ogxL",
        "outputId": "c9790e7d-49a2-49b5-a054-d36fb6f1e9e7"
      },
      "execution_count": null,
      "outputs": [
        {
          "output_type": "stream",
          "name": "stdout",
          "text": [
            "a ile başlamıyor\n"
          ]
        }
      ]
    },
    {
      "cell_type": "code",
      "source": [
        "# Kontrol edelim:\n",
        "# İlk harf küçük \"a\" olduğu için koşul sağlandı.\n",
        "\n",
        "control_string(\"alime\")"
      ],
      "metadata": {
        "colab": {
          "base_uri": "https://localhost:8080/"
        },
        "id": "usOg85EsosNc",
        "outputId": "e3b5f472-0cff-42d5-b85a-5647a3d9f039"
      },
      "execution_count": null,
      "outputs": [
        {
          "output_type": "stream",
          "name": "stdout",
          "text": [
            "a ile başlıyor\n"
          ]
        }
      ]
    },
    {
      "cell_type": "markdown",
      "source": [
        "**Not:**\n",
        "\n",
        "- String’lerde `s[0]`, o string’in **ilk karakterini** verir.\n",
        "\n",
        "- Python’da karakter karşılaştırmaları **büyük/küçük harfe duyarlıdır.**\n",
        "\n",
        "- `\"a\" != \"A\"` → eşit sayılmaz!"
      ],
      "metadata": {
        "id": "2FXxIxnnpX0O"
      }
    },
    {
      "cell_type": "markdown",
      "source": [
        "**💡 İPUCU: Harf kontrolünde büyük/küçük farkını yok saymak istersen:**\n",
        "\n",
        "\n",
        "```\n",
        "if s[0].lower() == \"a\":\n",
        "\n",
        "```"
      ],
      "metadata": {
        "id": "FbKLzCOVp47v"
      }
    },
    {
      "cell_type": "markdown",
      "source": [
        "##**Fonksiyonlarda Argümanlar (Arguments)**\n",
        "\n",
        "Bir fonksiyona dışarıdan veri göndermek için argüman (argument) kullanırız.\n",
        "Bu sayede fonksiyon aynı yapıyla farklı veriler üzerinde çalışabilir.\n",
        "\n",
        "| Tür        | Açıklama                                             | Örnek Kullanım               |\n",
        "| ---------- | ---------------------------------------------------- | ---------------------------- |\n",
        "| Pozisyonel | Sırasıyla girilen veriler                            | `def topla(a, b):`           |\n",
        "| Varsayılan | Başlangıç değeri olan parametreler                   | `def selam(isim=\"Misafir\"):` |\n",
        "| `*args`    | İstediğin kadar pozisyonel argüman alır (tuple olur) | `def topla(*args):`          |\n",
        "| `**kwargs` | İstediğin kadar isimli (anahtar=değer) argüman alır  | `def bilgi(**kwargs):`       |\n"
      ],
      "metadata": {
        "id": "ObWhLVUaqwAz"
      }
    },
    {
      "cell_type": "markdown",
      "source": [
        "🔹 ***args(arguments) → Çoklu Pozisyonel Argüman**\n",
        "\n",
        "- *args, birden fazla değer almanı sağlar.\n",
        "\n",
        "- Gelen veriler tuple (demet) olarak saklanır.\n",
        "\n",
        "**Not:**\n",
        "\n",
        "Fonksiyonda yazarken args ismini değiştirebilirsin, önemli olan başındaki `*.`\n",
        "\n",
        "Ancak; anlaşılır olması için `*args ` kullanmakta fayda var."
      ],
      "metadata": {
        "id": "3Ni7smj1q4FQ"
      }
    },
    {
      "cell_type": "code",
      "source": [
        "# Örnek Kullanım:\n",
        "\n",
        "def args_sum(*args):\n",
        "    return sum(args)          # burada * yazmak zorunlu değil."
      ],
      "metadata": {
        "id": "SLPzCCgkrT7q"
      },
      "execution_count": null,
      "outputs": []
    },
    {
      "cell_type": "code",
      "source": [
        "# Kontrol edelim:\n",
        "\n",
        "args_sum(10,20,30,40,50,60)"
      ],
      "metadata": {
        "colab": {
          "base_uri": "https://localhost:8080/"
        },
        "id": "l_O1BZNWrUCO",
        "outputId": "55310a75-bc99-4691-ca2d-00d14548246c"
      },
      "execution_count": null,
      "outputs": [
        {
          "output_type": "execute_result",
          "data": {
            "text/plain": [
              "210"
            ]
          },
          "metadata": {},
          "execution_count": 32
        }
      ]
    },
    {
      "cell_type": "code",
      "source": [
        "# Çalışmasını print ile yazdırarak görelim:\n",
        "\n",
        "def args_example(*args):\n",
        "    print(args)             # burada * yazmak zorunlu değil."
      ],
      "metadata": {
        "id": "ZHzXWrwxskSZ"
      },
      "execution_count": null,
      "outputs": []
    },
    {
      "cell_type": "code",
      "source": [
        "# Kontrol edelim:\n",
        "# Sonuç: Değerler tuple içinde saklanır.\n",
        "\n",
        "\n",
        "args_example(10,20,30,40,50,60)"
      ],
      "metadata": {
        "colab": {
          "base_uri": "https://localhost:8080/"
        },
        "id": "lw6aPxrlsujC",
        "outputId": "2420d4dc-9ca5-407a-9452-2114b0b2126b"
      },
      "execution_count": null,
      "outputs": [
        {
          "output_type": "stream",
          "name": "stdout",
          "text": [
            "(10, 20, 30, 40, 50, 60)\n"
          ]
        }
      ]
    },
    {
      "cell_type": "markdown",
      "source": [
        "**🔍 Kısa Tanım:**\n",
        "\n",
        "`*args,` sayısı belli olmayan verileri (girdileri) almak için kullanılır.\n",
        "\n",
        "Fonksiyonlara kaç adet veri geleceği belli değilse, hepsini *args ile yakalayabiliriz.\n",
        "\n",
        "📌 Genellikle toplama, listeleme, işlem tekrarı gibi durumlarda tercih edilir."
      ],
      "metadata": {
        "id": "aax8TkMpthvY"
      }
    },
    {
      "cell_type": "markdown",
      "source": [
        "🔹 ****kwargs(key word arguments) → Çoklu Anahtar=Değer Argümanı**\n",
        "\n",
        "- **kwargs, birden fazla `anahtar = değer` çifti alır.\n",
        "\n",
        "- Gelen veriler sözlük (dict) olarak saklanır.\n",
        "\n",
        "**Not:**\n",
        "\n",
        "Aynı şekilde fonksiyonda yazarken kwargs ismini değiştirebilirsin, önemli olan başındaki `**.`\n",
        "\n",
        "Ancak; anlaşılır olması için `**kwargs ` kullanmakta fayda var."
      ],
      "metadata": {
        "id": "9HJ6GxBxrUTX"
      }
    },
    {
      "cell_type": "code",
      "source": [
        "# Örnek Kullanım:\n",
        "\n",
        "def kwargs_example(**kwargs):\n",
        "    print(kwargs)"
      ],
      "metadata": {
        "id": "R8UJMl6suUi3"
      },
      "execution_count": 2,
      "outputs": []
    },
    {
      "cell_type": "code",
      "source": [
        "# Kontrol edelim:\n",
        "\n",
        "kwargs_example(apple=100,banana=150,melon=200)"
      ],
      "metadata": {
        "colab": {
          "base_uri": "https://localhost:8080/"
        },
        "id": "RDirV_ziulPA",
        "outputId": "dd8a5e23-009b-4721-a82e-d3d81f1f6063"
      },
      "execution_count": 3,
      "outputs": [
        {
          "output_type": "stream",
          "name": "stdout",
          "text": [
            "{'apple': 100, 'banana': 150, 'melon': 200}\n"
          ]
        }
      ]
    },
    {
      "cell_type": "code",
      "source": [
        "# If koşulu kullanarak sözlük içinde kontrol sağlayabiliriz:\n",
        "\n",
        "def kwargs_example2(**kwargs):\n",
        "    if \"apple\" in kwargs:\n",
        "        print(\"Apple var\")\n",
        "    else:\n",
        "        print(\"Apple yok\")"
      ],
      "metadata": {
        "id": "DUOeXzugvMdY"
      },
      "execution_count": 4,
      "outputs": []
    },
    {
      "cell_type": "code",
      "source": [
        "# kontrol edelim:\n",
        "\n",
        "kwargs_example2(apple=10,banana=15)"
      ],
      "metadata": {
        "colab": {
          "base_uri": "https://localhost:8080/"
        },
        "id": "w6UG6GVmvnsy",
        "outputId": "5bc09c3a-feae-4a3d-a5e5-3030c5d3141f"
      },
      "execution_count": 5,
      "outputs": [
        {
          "output_type": "stream",
          "name": "stdout",
          "text": [
            "Apple var\n"
          ]
        }
      ]
    },
    {
      "cell_type": "code",
      "source": [
        "# apple olmadan kontrol edelim:\n",
        "\n",
        "kwargs_example2(melon=10,banana=15)"
      ],
      "metadata": {
        "colab": {
          "base_uri": "https://localhost:8080/"
        },
        "id": "dCDaSoD0vz_n",
        "outputId": "d39630dd-2cf1-458a-ae71-7af8b648d15d"
      },
      "execution_count": 6,
      "outputs": [
        {
          "output_type": "stream",
          "name": "stdout",
          "text": [
            "Apple yok\n"
          ]
        }
      ]
    },
    {
      "cell_type": "markdown",
      "source": [
        "**🔍 Kısa Tanım:**\n",
        "\n",
        "`**kwargs,` sayısı belli olmayan isimli verileri (anahtar = değer çiftlerini) almak için kullanılır.\n",
        "Fonksiyona gelen bilgileri etiketli şekilde işler (örneğin: isim=\"Büşra\").\n",
        "\n",
        "📌 Genellikle kişisel bilgiler, ayar tanımlamaları gibi durumlarda kullanılır."
      ],
      "metadata": {
        "id": "UiRISAR4wieb"
      }
    },
    {
      "cell_type": "markdown",
      "source": [
        "**✅ Özet:**\n",
        "\n",
        "| Yapı       | Gelen Veri Tipi | Kullanım Amacı                          |\n",
        "| ---------- | --------------- | --------------------------------------- |\n",
        "| `*args`    | `tuple`         | Çok sayıda **sırasız** argümanı yakalar |\n",
        "| `**kwargs` | `dict`          | Çok sayıda **isimli** argümanı yakalar  |\n"
      ],
      "metadata": {
        "id": "Nl3TiIk4roIy"
      }
    },
    {
      "cell_type": "markdown",
      "source": [
        "##  Python Hazır (Yerleşik) Fonksiyonlar\n",
        "\n",
        "Python, birçok işi kolaylaştıran hazır fonksiyonlarla birlikte gelir. Bu fonksiyonları biz tanımlamayız; Python zaten tanımlamıştır.\n",
        "Sadece kullanırız."
      ],
      "metadata": {
        "id": "VxvPQygZhtQI"
      }
    },
    {
      "cell_type": "code",
      "source": [
        "# Bölme işlemi yapalım:\n",
        "\n",
        "def divideNumber(number):\n",
        "    return number / 2\n"
      ],
      "metadata": {
        "id": "CDrhiU4zhzmj"
      },
      "execution_count": 7,
      "outputs": []
    },
    {
      "cell_type": "code",
      "source": [
        "# Kontrol edelim\n",
        "\n",
        "divideNumber(20)"
      ],
      "metadata": {
        "colab": {
          "base_uri": "https://localhost:8080/"
        },
        "id": "6XWsZybgiPdh",
        "outputId": "c59c8ad2-b56f-464c-8e64-0e06a5d3e61c"
      },
      "execution_count": 9,
      "outputs": [
        {
          "output_type": "execute_result",
          "data": {
            "text/plain": [
              "10.0"
            ]
          },
          "metadata": {},
          "execution_count": 9
        }
      ]
    },
    {
      "cell_type": "code",
      "source": [
        "# Liste tanımlayalım:\n",
        "\n",
        "myList = [3,5,7,10,20,30]"
      ],
      "metadata": {
        "id": "7Bu4K0gAiWWj"
      },
      "execution_count": 10,
      "outputs": []
    },
    {
      "cell_type": "code",
      "source": [
        "# Listeyi kullanarak bölme işlemi yapalım ve yeni bir listeye kaydedelim:\n",
        "\n",
        "myResultList = []   #boş liste tanımlayalım\n",
        "\n",
        "for num in myList:              #for döngüsüyle listedeki her sayıyı işleyelim\n",
        "    myResultList.append(divideNumber(num))   # Sonuç listemize sonuçlarımızı ekleyelim\n"
      ],
      "metadata": {
        "id": "z_5rg-cPiasQ"
      },
      "execution_count": 11,
      "outputs": []
    },
    {
      "cell_type": "code",
      "source": [
        "# Sonuç listemizi kontrol edelim:\n",
        "\n",
        "myResultList"
      ],
      "metadata": {
        "colab": {
          "base_uri": "https://localhost:8080/"
        },
        "id": "InPP-tpUi1Kt",
        "outputId": "6ecf91a0-99c6-476d-e87c-01237947c61d"
      },
      "execution_count": 12,
      "outputs": [
        {
          "output_type": "execute_result",
          "data": {
            "text/plain": [
              "[1.5, 2.5, 3.5, 5.0, 10.0, 15.0]"
            ]
          },
          "metadata": {},
          "execution_count": 12
        }
      ]
    },
    {
      "cell_type": "markdown",
      "source": [
        "**Detaylı Açıklama:**\n",
        "\n",
        "**🔹 number:**\n",
        "\n",
        "Fonksiyon tanımında yer alan parametre ismidir.\n",
        "Bu, fonksiyona dışarıdan gelen verinin alındığı isimdir.\n",
        "\n",
        "\n",
        "\n",
        "```\n",
        "def divideNumber(number):  \n",
        "    # Buradaki 'number', fonksiyona gelen değeri temsil eder.\n",
        "```\n",
        "\n",
        "**🔹 num:**\n",
        "\n",
        "for döngüsünde myList listesindeki her bir elemanı temsil eder.\n",
        "\n",
        "\n",
        "\n",
        "```\n",
        "for num in myList:\n",
        "    # 'num', listedeki her sayıyı sırayla alır\n",
        "```\n",
        "\n",
        "**🔁 Nasıl çalışır?**\n",
        "\n",
        "\n",
        "\n",
        "```\n",
        "divideNumber(num)\n",
        "```\n",
        "\n",
        "**Bu satırda:**\n",
        "\n",
        "- `num, `listedeki elemandır (örneğin 10)\n",
        "\n",
        "- `divideNumber(num)` ifadesi çağrıldığında:\n",
        "\n",
        "       `num`, number isimli parametreye aktarılır\n",
        "\n",
        "        Yani `number = num` gibi olur\n",
        "\n",
        "        Fonksiyon içinde `number / 2` işlemi yapılır.\n",
        "\n",
        "\n",
        "**✅ Sonuç:**\n",
        "\n",
        "- `num` ve `number` farklı görevlerde farklı isimlendirmelerdir.\n",
        "\n",
        "- Aynı ismi vermek de mümkündür ama isimlerin anlamlı ve ayrı bağlamlara göre verilmesi kodun okunabilirliğini artırır.\n"
      ],
      "metadata": {
        "id": "pTpAK7lZkC7q"
      }
    },
    {
      "cell_type": "markdown",
      "source": [
        "## **🔹 map() Fonksiyonu Nedir?**\n",
        "\n",
        "**🔍 Kısa Tanım:**\n",
        "\n",
        "map(), bir fonksiyonu, bir liste veya sıralı veri tipi (list, tuple, vs.) üzerinde tek tek tüm elemanlara uygular ve sonuçları bize verir.\n",
        "\n",
        "**Ne İşe Yarar?**\n",
        "\n",
        "- Kodunuzu daha kısa ve okunabilir hale getirir.\n",
        "\n",
        "- Döngü kullanmadan dönüşüm işlemleri yapmanızı sağlar.\n",
        "\n",
        "- Fonksiyonel programlama yaklaşımıdır.\n",
        "\n",
        "**📦 Yapısı:**\n",
        "\n",
        "\n",
        "\n",
        "```\n",
        "map(fonksiyon, iterable)\n",
        "```\n",
        "`fonksiyon:` Her elemana uygulanacak işlem\n",
        "\n",
        "`iterable:` Liste, tuple gibi yinelenebilir veri\n",
        "\n",
        "\n",
        "**🧩 Nerelerde Kullanılır?**\n",
        "\n",
        "- Sayısal dönüşümlerde\n",
        "\n",
        "- Metin işlemede (küçük harfe çevirme, boşluk temizleme…)\n",
        "\n",
        "- Tekrarlı işlemlerde daha sade yazım için\n",
        "\n",
        "\n"
      ],
      "metadata": {
        "id": "h80rBBJPlrn-"
      }
    },
    {
      "cell_type": "code",
      "source": [
        "# help ile tanımına bakalım:\n",
        "\n",
        "help(map)"
      ],
      "metadata": {
        "colab": {
          "base_uri": "https://localhost:8080/"
        },
        "id": "Z7A4ZFVVmlPk",
        "outputId": "23e7a608-4262-49a0-8a44-608bc1e478e2"
      },
      "execution_count": 13,
      "outputs": [
        {
          "output_type": "stream",
          "name": "stdout",
          "text": [
            "Help on class map in module builtins:\n",
            "\n",
            "class map(object)\n",
            " |  map(func, *iterables) --> map object\n",
            " |  \n",
            " |  Make an iterator that computes the function using arguments from\n",
            " |  each of the iterables.  Stops when the shortest iterable is exhausted.\n",
            " |  \n",
            " |  Methods defined here:\n",
            " |  \n",
            " |  __getattribute__(self, name, /)\n",
            " |      Return getattr(self, name).\n",
            " |  \n",
            " |  __iter__(self, /)\n",
            " |      Implement iter(self).\n",
            " |  \n",
            " |  __next__(self, /)\n",
            " |      Implement next(self).\n",
            " |  \n",
            " |  __reduce__(...)\n",
            " |      Return state information for pickling.\n",
            " |  \n",
            " |  ----------------------------------------------------------------------\n",
            " |  Static methods defined here:\n",
            " |  \n",
            " |  __new__(*args, **kwargs)\n",
            " |      Create and return a new object.  See help(type) for accurate signature.\n",
            "\n"
          ]
        }
      ]
    },
    {
      "cell_type": "code",
      "source": [
        "# Aynı örneği map ile yapalım:\n",
        "\n",
        "map(divideNumber,myList)"
      ],
      "metadata": {
        "colab": {
          "base_uri": "https://localhost:8080/"
        },
        "id": "NVuQf9PfnOLM",
        "outputId": "048a029d-f98d-4a59-951a-e26a28bacff7"
      },
      "execution_count": 15,
      "outputs": [
        {
          "output_type": "execute_result",
          "data": {
            "text/plain": [
              "<map at 0x7a8953816800>"
            ]
          },
          "metadata": {},
          "execution_count": 15
        }
      ]
    },
    {
      "cell_type": "markdown",
      "source": [
        "**Not:**\n",
        "\n",
        "map() fonksiyonu, sonucu doğrudan liste olarak döndürmez.\n",
        "\n",
        "Bir map objesi verir, bu yüzden list() içine alarak dönüştürmelisiniz."
      ],
      "metadata": {
        "id": "04355vIRmgYx"
      }
    },
    {
      "cell_type": "code",
      "source": [
        "# Aynı örneği map kullanarak listeye dönüştürelim:\n",
        "\n",
        "list(map(divideNumber,myList))"
      ],
      "metadata": {
        "colab": {
          "base_uri": "https://localhost:8080/"
        },
        "id": "r1OnbOSIm7H4",
        "outputId": "1d3f7e75-d7cd-4901-c2b3-d3a1a0bfa106"
      },
      "execution_count": 14,
      "outputs": [
        {
          "output_type": "execute_result",
          "data": {
            "text/plain": [
              "[1.5, 2.5, 3.5, 5.0, 10.0, 15.0]"
            ]
          },
          "metadata": {},
          "execution_count": 14
        }
      ]
    },
    {
      "cell_type": "code",
      "source": [
        "# String kontrol etmek için bir fonksiyon tanımlayalım:\n",
        "\n",
        "def control_string(string):\n",
        "    return \"Mustafa\" in string\n"
      ],
      "metadata": {
        "id": "P1fwevaInZqo"
      },
      "execution_count": 16,
      "outputs": []
    },
    {
      "cell_type": "code",
      "source": [
        "# Parametre girerek kontrol edelim:\n",
        "\n",
        "control_string(\"Mustafa\")"
      ],
      "metadata": {
        "colab": {
          "base_uri": "https://localhost:8080/"
        },
        "id": "8Jm6r7wRnph6",
        "outputId": "54817e9d-4610-46de-800e-480e707fceee"
      },
      "execution_count": 19,
      "outputs": [
        {
          "output_type": "execute_result",
          "data": {
            "text/plain": [
              "True"
            ]
          },
          "metadata": {},
          "execution_count": 19
        }
      ]
    },
    {
      "cell_type": "code",
      "source": [
        "# Parametre girerek başka bir değerle kontrol edelim:\n",
        "\n",
        "control_string(\"Büşra\")"
      ],
      "metadata": {
        "colab": {
          "base_uri": "https://localhost:8080/"
        },
        "id": "_GRhLWLjn3uU",
        "outputId": "d8dc2094-1cd2-425e-a886-6de7072c211e"
      },
      "execution_count": 20,
      "outputs": [
        {
          "output_type": "execute_result",
          "data": {
            "text/plain": [
              "False"
            ]
          },
          "metadata": {},
          "execution_count": 20
        }
      ]
    },
    {
      "cell_type": "code",
      "source": [
        "# Liste tanımlayalım:\n",
        "\n",
        "myStringList = [\"Büşra\", \"Mustafa\", \"Defne\",\"Mete\"]"
      ],
      "metadata": {
        "id": "TZEQu_kzn8Ox"
      },
      "execution_count": 21,
      "outputs": []
    },
    {
      "cell_type": "code",
      "source": [
        "# Aynı örneği map kullanarak dönüştürelim:\n",
        "\n",
        "list(map(control_string,myStringList))"
      ],
      "metadata": {
        "colab": {
          "base_uri": "https://localhost:8080/"
        },
        "id": "ob7_JWY6oLSc",
        "outputId": "006b0b7c-c149-46b7-fcb5-972bc52c9194"
      },
      "execution_count": 22,
      "outputs": [
        {
          "output_type": "execute_result",
          "data": {
            "text/plain": [
              "[False, True, False, False]"
            ]
          },
          "metadata": {},
          "execution_count": 22
        }
      ]
    },
    {
      "cell_type": "markdown",
      "source": [
        "Peki, `map()` sonucu boolen değerler olarak `True` ve `False` olarak döndürür. **Sadece True olan değerleri döndürüp saydırabileceğimiz bir yöntem var mı ?**\n",
        "\n",
        "Evet, `map()` sonucu `True` ve `False (yani Boolean)` değerler içeriyorsa, sadece True olanları döndürmek veya saymak mümkündür. Bunu genellikle `filter()`, `list()` ve `sum()` gibi yardımcı fonksiyonlarla birlikte yaparız."
      ],
      "metadata": {
        "id": "uX3EAdTHotQ8"
      }
    },
    {
      "cell_type": "markdown",
      "source": [
        "## **🔹 filter() Fonksiyonu Nedir?**\n",
        "\n",
        "**🔍 Kısa Tanım:**\n",
        "\n",
        "`filter()`, bir koşula (fonksiyona) göre bir veri listesindeki uygun (True döndüren) elemanları süzer, yani filtreler.\n",
        "\n",
        "👉 Sadece şartı sağlayan veriler kalır, diğerleri elenir.\n",
        "\n",
        "**📦 Yapısı:**\n",
        "\n",
        "\n",
        "```\n",
        "filter(fonksiyon, liste)\n",
        "```\n",
        "\n",
        "`fonksiyon:` Her elemana uygulanacak test (True/False döndüren bir fonksiyon)\n",
        "\n",
        "`liste:` Filtrelemek istediğin veri kümesi\n",
        "\n",
        "Sonuç olarak bir `filter` objesi döner. Liste görmek için genelde `list()` ile çevrilir.\n",
        "\n",
        "\n",
        "**🎯 Ne Zaman Kullanılır?**\n",
        "\n",
        "- Şartı sağlayan elemanları seçmek için\n",
        "\n",
        "- Uzun for döngüleri yazmadan kısa ve temiz kod yazmak için\n",
        "\n",
        "- `map()` gibi fonksiyonel programlamaya uygun durumlarda"
      ],
      "metadata": {
        "id": "ek6K4z3spyzq"
      }
    },
    {
      "cell_type": "code",
      "source": [
        "# Aynı örneğin filter ile kullanımı:\n",
        "# Sadece True olan değeri list formunda döndürür.\n",
        "\n",
        "list(filter(control_string,myStringList))"
      ],
      "metadata": {
        "colab": {
          "base_uri": "https://localhost:8080/"
        },
        "id": "goWSI_71qz2R",
        "outputId": "2429072b-1b5f-49ec-de00-f04d5ab42e20"
      },
      "execution_count": 24,
      "outputs": [
        {
          "output_type": "execute_result",
          "data": {
            "text/plain": [
              "['Mustafa']"
            ]
          },
          "metadata": {},
          "execution_count": 24
        }
      ]
    },
    {
      "cell_type": "markdown",
      "source": [
        "## **🔹 lambda() Fonksiyonu Nedir?**\n",
        "\n",
        "**🔍 Kısa Tanım:**\n",
        "\n",
        "`lambda()`, tek satırlık, isimsiz (anonim) fonksiyonlar oluşturmak için kullanılır.\n",
        "Yani normal bir def fonksiyonu gibi çalışır ama adlandırılmaz ve kısa yazılır.\n",
        "\n",
        "**📦 Yapısı:**\n",
        "\n",
        "\n",
        "\n",
        "```\n",
        "lambda parametre: işlem\n",
        "\n",
        "```\n",
        "\n",
        "`parametre: `Girdi (bir veya daha fazla olabilir)\n",
        "\n",
        "`işlem:` Döndürülecek değer (tek satırlık olmalı)\n",
        "\n",
        "**⚡ En Sık Kullanıldığı Yerler:**\n",
        "\n",
        "- `map()`, `filter()` ve `sorted()` gibi fonksiyonlarla\n",
        "\n",
        "- Hızlı, küçük hesaplamalar yapılacaksa\n",
        "\n",
        "- Fonksiyon tanımlayıp tekrar kullanılmayacaksa\n",
        "\n",
        "**🎯 Avantajı:**\n",
        "\n",
        "- Daha kısa, okunabilir kod\n",
        "\n",
        "- Fonksiyon tanımlamadan hızlı işlem"
      ],
      "metadata": {
        "id": "vkrkQIQkri41"
      }
    },
    {
      "cell_type": "code",
      "source": [
        "# Çarpma fonksyionunu lambda ile tanımlayalım:\n",
        "# fonksiyonu değişkene atayarak yapalım:\n",
        "\n",
        "multiplyLambda = lambda num: num *3     # parametre:num  #işlem: num * 3"
      ],
      "metadata": {
        "id": "XSuix6d8riYF"
      },
      "execution_count": 25,
      "outputs": []
    },
    {
      "cell_type": "code",
      "source": [
        "# Tip kontrolü yapalım:\n",
        "# Sonuç def kullanılmadan fonksiyon olur.\n",
        "\n",
        "type(multiplyLambda)"
      ],
      "metadata": {
        "colab": {
          "base_uri": "https://localhost:8080/"
        },
        "id": "9uowHG5Jt9Xv",
        "outputId": "bb8766b6-1f6f-454b-ef1b-851b3e4bf355"
      },
      "execution_count": 26,
      "outputs": [
        {
          "output_type": "execute_result",
          "data": {
            "text/plain": [
              "function"
            ]
          },
          "metadata": {},
          "execution_count": 26
        }
      ]
    },
    {
      "cell_type": "code",
      "source": [
        "# Kontrol edelim:\n",
        "\n",
        "multiplyLambda(20)"
      ],
      "metadata": {
        "colab": {
          "base_uri": "https://localhost:8080/"
        },
        "id": "ijTAq4PguUSN",
        "outputId": "63864967-ede9-47c1-c914-bf47d918ec29"
      },
      "execution_count": 27,
      "outputs": [
        {
          "output_type": "execute_result",
          "data": {
            "text/plain": [
              "60"
            ]
          },
          "metadata": {},
          "execution_count": 27
        }
      ]
    },
    {
      "cell_type": "code",
      "source": [
        "# değişkene atayarak çağıralım:\n",
        "\n",
        "result = multiplyLambda(20)"
      ],
      "metadata": {
        "id": "oMFMdJQkufa9"
      },
      "execution_count": 28,
      "outputs": []
    },
    {
      "cell_type": "code",
      "source": [
        "# Sonuç değişkenini çağıralım:\n",
        "# Değeri geri döndürür.\n",
        "\n",
        "result"
      ],
      "metadata": {
        "colab": {
          "base_uri": "https://localhost:8080/"
        },
        "id": "W7Riwf3ounbg",
        "outputId": "3cf8cf2e-0774-4410-c245-bcbfdfb8e5b8"
      },
      "execution_count": 29,
      "outputs": [
        {
          "output_type": "execute_result",
          "data": {
            "text/plain": [
              "60"
            ]
          },
          "metadata": {},
          "execution_count": 29
        }
      ]
    },
    {
      "cell_type": "markdown",
      "source": [
        "**Not:**\n",
        "\n",
        "Yukarıdaki lambda fonksiyonu, şu normal fonksiyon (def) ile aynı işi yapar:\n",
        "\n",
        "\n",
        "```\n",
        "def multiply(num):\n",
        "    return num * 3\n",
        "```\n",
        "\n",
        "Yani lambda, kısa ve tek satırlık işlemler için kullanılan, isim vermeye gerek duymadığımız bir fonksiyon tanımlama yöntemidir.\n"
      ],
      "metadata": {
        "id": "mJytIM8BuxN9"
      }
    },
    {
      "cell_type": "code",
      "source": [
        "# Liste tanımlayalım:\n",
        "\n",
        "numList = [10,20,30,40,50]"
      ],
      "metadata": {
        "id": "1CBdm3oLvaQL"
      },
      "execution_count": 35,
      "outputs": []
    },
    {
      "cell_type": "code",
      "source": [
        "# map ile tanımı:\n",
        "\n",
        "# list(map(fonksiyon, numList))"
      ],
      "metadata": {
        "id": "SbashyjGvgW5"
      },
      "execution_count": 36,
      "outputs": []
    },
    {
      "cell_type": "code",
      "source": [
        "# Fonksiyon tanımlamadan nasıl yapılır?\n",
        "# lambda parametre: işlem ile map'le birlikte anonim olarak fonksiyon tanımlanmadan sadece bu satırda kullanılabilir.\n",
        "\n",
        "\n",
        "list(map(lambda num: num / 4, numList))"
      ],
      "metadata": {
        "colab": {
          "base_uri": "https://localhost:8080/"
        },
        "id": "E4ycf0JLvvG5",
        "outputId": "5c488b9b-77a4-4f20-ef12-a3db2af5bb67"
      },
      "execution_count": 38,
      "outputs": [
        {
          "output_type": "execute_result",
          "data": {
            "text/plain": [
              "[2.5, 5.0, 7.5, 10.0, 12.5]"
            ]
          },
          "metadata": {},
          "execution_count": 38
        }
      ]
    },
    {
      "cell_type": "markdown",
      "source": [
        "## **🔍 Kapsam (Scope) Nedir?**\n",
        "\n",
        "Kapsam, bir değişkenin görünür olduğu alanı ifade eder.\n",
        "\n",
        "\n",
        "**💡 1. Global Scope (Genel Kapsam)**\n",
        "\n",
        "Fonksiyonların dışında tanımlanan değişkenlerdir. Kodun her yerinden erişilebilir.\n",
        "\n",
        "\n",
        "\n",
        "```\n",
        "x = 10  # global değişken\n",
        "\n",
        "def show():\n",
        "    print(x)  # global x'e erişti\n",
        "\n",
        "show()    # 10\n",
        "\n",
        "```\n",
        "\n",
        "**💡 2. Local Scope (Yerel Kapsam)**\n",
        "\n",
        "Bir fonksiyonun içinde tanımlanan değişkenlerdir. Sadece o fonksiyon içinde geçerlidir.\n",
        "\n",
        "\n",
        "\n",
        "```\n",
        "def myFunc():\n",
        "    y = 5  # local değişken\n",
        "    print(y)\n",
        "\n",
        "myFunc()     # 5\n",
        "# print(y)   # ❌ HATA: y sadece fonksiyon içinde tanımlı\n",
        "```\n",
        "**💡 3. Enclosing Scope (İç içe fonksiyonlarda kapsam)**\n",
        "\n",
        "İç içe fonksiyonlarda, dış fonksiyonun değişkenine iç fonksiyondan erişilebilir.\n",
        "\n",
        "\n",
        "\n",
        "```\n",
        "def outer():\n",
        "    z = 3\n",
        "    def inner():\n",
        "        print(z)  # enclosing scope'taki z'yi kullanır\n",
        "    inner()\n",
        "\n",
        "outer()    # 3\n",
        "```\n",
        "\n",
        "**💡 4. Built-in Scope (Yerleşik Kapsam)**\n",
        "\n",
        "Python'un içinde tanımlı olan `len()`, `print()` gibi fonksiyonlardır. Her yerden erişilebilir.\n",
        "\n",
        "\n",
        "\n",
        "```\n",
        "print(len(\"Merhaba\"))   # Yerleşik fonksiyon\n",
        "```\n",
        "\n",
        "\n",
        "**📌Özet:**\n",
        "\n",
        "| Kapsam Türü   | Nerede Tanımlanır?           | Nereden Erişilebilir?     |\n",
        "| ------------- | ---------------------------- | ------------------------- |\n",
        "| **Global**    | Fonksiyon dışında            | Her yerden                |\n",
        "| **Local**     | Fonksiyon içinde             | Sadece o fonksiyon içinde |\n",
        "| **Enclosing** | Dış fonksiyon içinde         | İç fonksiyon erişebilir   |\n",
        "| **Built-in**  | Python tarafından tanımlıdır | Her yerden                |\n",
        "\n"
      ],
      "metadata": {
        "id": "f0-wpYBawcsm"
      }
    },
    {
      "cell_type": "code",
      "source": [
        "# Fonksiyon Örneği:\n",
        "\n",
        "x = 20\n",
        "\n",
        "def multiply(num):\n",
        "    x = 5\n",
        "    return num * x"
      ],
      "metadata": {
        "id": "c2CUzWUmxb_y"
      },
      "execution_count": 39,
      "outputs": []
    },
    {
      "cell_type": "code",
      "source": [
        "# Değeri kontrol edelim:\n",
        "# x = 5 değerini alır.\n",
        "\n",
        "\n",
        "multiply(10)"
      ],
      "metadata": {
        "colab": {
          "base_uri": "https://localhost:8080/"
        },
        "id": "MBbKPNMbx8ZG",
        "outputId": "3b918204-252a-4259-ac80-fbbb64f61687"
      },
      "execution_count": 40,
      "outputs": [
        {
          "output_type": "execute_result",
          "data": {
            "text/plain": [
              "50"
            ]
          },
          "metadata": {},
          "execution_count": 40
        }
      ]
    },
    {
      "cell_type": "code",
      "source": [
        "# x değerini kontrol edelim:\n",
        "\n",
        "print(x)"
      ],
      "metadata": {
        "colab": {
          "base_uri": "https://localhost:8080/"
        },
        "id": "wVtqIOyPyHlZ",
        "outputId": "f4698aa3-70bb-4b7d-bde9-2d11b4fd92f4"
      },
      "execution_count": 42,
      "outputs": [
        {
          "output_type": "stream",
          "name": "stdout",
          "text": [
            "20\n"
          ]
        }
      ]
    },
    {
      "cell_type": "markdown",
      "source": [
        "**💡 Neden print(x) satırı 20 yazdırdı?**\n",
        "\n",
        "**Çünkü**:\n",
        "\n",
        "- `x = 20 `satırı global scope'ta tanımlı. Yani programın her yerinden erişilebilen `genel bir değişken.`\n",
        "\n",
        "- Fonksiyon içindeki `x = 5` ise `local scope'ta`. Sadece `multiply()` fonksiyonu içinde geçerli.\n",
        "\n",
        "- `print(x) `fonksiyon dışında çalıştığı için, global x olan 20'yi alır.\n",
        "\n",
        "**Fonksiyon içindeki x, dışarıdaki (global) x'i değiştirmez.**\n",
        "\n",
        "**📌 Özet:**\n",
        "\n",
        "- Fonksiyon içindeki x ile dışındaki x farklıdır.\n",
        "\n",
        "- Python her zaman önce local, sonra global değişkene bakar (LEGB kuralı).\n",
        "\n",
        "- print(x) satırı fonksiyonun dışındadır, bu yüzden global x = 20 yazdırılır."
      ],
      "metadata": {
        "id": "l9rc-CxUyeje"
      }
    },
    {
      "cell_type": "code",
      "source": [
        "# Aynı örneği x tanımını değiştirerek tekrar yapalım:\n",
        "\n",
        "x = 20\n",
        "\n",
        "def multiply(num):\n",
        "    x = 5\n",
        "    return num * x\n",
        "x = 10"
      ],
      "metadata": {
        "id": "RBZdYelc0N9c"
      },
      "execution_count": 43,
      "outputs": []
    },
    {
      "cell_type": "code",
      "source": [
        "# x değerini kontrol edelim:\n",
        "# x değeri print işlemindeki global sonuç gibi davrandı ve en son değeri aldı.\n",
        "\n",
        "print(x)"
      ],
      "metadata": {
        "colab": {
          "base_uri": "https://localhost:8080/"
        },
        "id": "X0RH5L4a0VuC",
        "outputId": "530651b8-cc79-4a5d-baa9-79514e419049"
      },
      "execution_count": 44,
      "outputs": [
        {
          "output_type": "stream",
          "name": "stdout",
          "text": [
            "10\n"
          ]
        }
      ]
    },
    {
      "cell_type": "code",
      "source": [
        "# Değeri kontrol edelim:\n",
        "# fonksiyonda sonuç yine x = 5 değerini alır. çünkü fonksiyonda geçerli olan x işlenir.\n",
        "\n",
        "\n",
        "multiply(5)"
      ],
      "metadata": {
        "colab": {
          "base_uri": "https://localhost:8080/"
        },
        "id": "_jPxMfAV0k-5",
        "outputId": "d89f823c-5cda-4368-893e-1603a1deefe7"
      },
      "execution_count": 46,
      "outputs": [
        {
          "output_type": "execute_result",
          "data": {
            "text/plain": [
              "25"
            ]
          },
          "metadata": {},
          "execution_count": 46
        }
      ]
    },
    {
      "cell_type": "code",
      "source": [
        "# x hiç tanımlamadan nasıl yapılır?\n",
        "\n",
        "x = 20\n",
        "\n",
        "def multiply(num):\n",
        "    return num * x\n"
      ],
      "metadata": {
        "id": "gDGlr4wj02D5"
      },
      "execution_count": 47,
      "outputs": []
    },
    {
      "cell_type": "code",
      "source": [
        "# Değeri kontrol edelim:\n",
        "# x = 20 değerini alır.\n",
        "\n",
        "multiply(5)"
      ],
      "metadata": {
        "colab": {
          "base_uri": "https://localhost:8080/"
        },
        "id": "63R9XjqP0-m6",
        "outputId": "2653eb66-cc9b-4124-b3e9-43bd83df835f"
      },
      "execution_count": 48,
      "outputs": [
        {
          "output_type": "execute_result",
          "data": {
            "text/plain": [
              "100"
            ]
          },
          "metadata": {},
          "execution_count": 48
        }
      ]
    },
    {
      "cell_type": "markdown",
      "source": [
        "**🔍 Neler Oluyor?**\n",
        "\n",
        "x = 20 global değişkendir.\n",
        "\n",
        "`multiply() `fonksiyonu içinde x yok ama Python, dışarıdaki (global) x'i bulur ve kullanır.\n",
        "\n",
        "Bu durumda multiply(5) çağrıldığında, 5 * 20 = 100 sonucu döner."
      ],
      "metadata": {
        "id": "Jv019Ztk1Pc6"
      }
    },
    {
      "cell_type": "markdown",
      "source": [
        "**Not:**\n",
        "\n",
        "Eğer x hiç hiçbir yerde tanımlanmazsa, `NameError` alırsın:\n",
        "\n",
        "\n",
        "\n",
        "```\n",
        "def multiply(num):\n",
        "    return num * x\n",
        "\n",
        "multiply(5)   # ❌ Hata: NameError: name 'x' is not defined\n",
        "```\n",
        "\n",
        "**✅ Özet:**\n",
        "\n",
        "- Fonksiyon içinde bir değişken tanımlı değilse, Python dışarıdaki (global) değişkenlere bakar.\n",
        "\n",
        "- Globalde de yoksa, NameError verir.\n",
        "\n",
        "- Bu, Python’un **LEGB** (`Local` →` Enclosing` →` Global` → `Built-in`) **kapsam kuralı**na dayanır."
      ],
      "metadata": {
        "id": "I_uflx3M1a2i"
      }
    },
    {
      "cell_type": "code",
      "source": [
        "# Fonksiyon yazalım:\n",
        "\n",
        "#Global\n",
        "myString = \"Büşra\"\n",
        "\n",
        "def myFunction():\n",
        "    #Enclosing\n",
        "    myString = \"Büşra 2\"\n",
        "    print(myString)\n",
        "\n",
        "    def myFunction2():\n",
        "        #Local\n",
        "        myString = \"Büşra 3\"\n",
        "        print(myString)\n",
        "\n",
        "    myFunction2()"
      ],
      "metadata": {
        "id": "nQoF7Zto1Y-d"
      },
      "execution_count": 49,
      "outputs": []
    },
    {
      "cell_type": "code",
      "source": [
        "# Değeri kontrol edelim:\n",
        "\n",
        "myString"
      ],
      "metadata": {
        "colab": {
          "base_uri": "https://localhost:8080/",
          "height": 35
        },
        "id": "Fjz3CvJo4ABw",
        "outputId": "2a710ca5-62b1-451f-a6ff-2526e87dd4f8"
      },
      "execution_count": 50,
      "outputs": [
        {
          "output_type": "execute_result",
          "data": {
            "text/plain": [
              "'Büşra'"
            ],
            "application/vnd.google.colaboratory.intrinsic+json": {
              "type": "string"
            }
          },
          "metadata": {},
          "execution_count": 50
        }
      ]
    },
    {
      "cell_type": "code",
      "source": [
        "# Fonksiyonu çağıralım:\n",
        "\n",
        "myFunction()"
      ],
      "metadata": {
        "colab": {
          "base_uri": "https://localhost:8080/"
        },
        "id": "GJBdHUmu4U1O",
        "outputId": "42df2c5a-ca07-4db3-9b8e-f0e40d062b32"
      },
      "execution_count": 51,
      "outputs": [
        {
          "output_type": "stream",
          "name": "stdout",
          "text": [
            "Büşra 2\n",
            "Büşra 3\n"
          ]
        }
      ]
    },
    {
      "cell_type": "markdown",
      "source": [
        "**✅ myFunction() Çağrıldığında Ne Olur?**\n",
        "\n",
        "`myFunction() `çalışır.\n",
        "\n",
        "- İçinde önce `myString = \"Büşra 2\"` tanımlanır ve print(myString) çalışır → ekrana `Büşra 2` yazılır.\n",
        "\n",
        "- Sonra `myFunction2()` fonksiyonu çağrılır.\n",
        "\n",
        "- `myFunction2()` fonksiyonu kendi içinde `myString = \"Büşra 3\"` tanımlar ve print(myString) çalışır → ekrana `Büşra 3 `yazılır.\n",
        "\n",
        "**💡 Neden Büşra 3 yazılır?**\n",
        "\n",
        "**Çünkü:**\n",
        "\n",
        "- `myFunction2() `fonksiyonu içinde yeni bir myString değişkeni tanımlanmıştır.\n",
        "\n",
        "- Python, değişken ararken önce kendi fonksiyonu içindeki `(local) scope`'a bakar.\n",
        "\n",
        "- myFunction2 fonksiyonu içindeki `myString = \"Büşra 3\"` ifadesi, oradaki print(myString) için öncelikli olur."
      ],
      "metadata": {
        "id": "JiUgDNUD5nzi"
      }
    },
    {
      "cell_type": "code",
      "source": [
        "# Aynı fonksiyonu Büşra3 tanımı olmadan yazalım:\n",
        "\n",
        "#Global\n",
        "myString = \"Büşra\"\n",
        "\n",
        "def myFunction():\n",
        "    #Enclosing\n",
        "    myString = \"Büşra 2\"\n",
        "    print(myString)\n",
        "\n",
        "    def myFunction2():\n",
        "        #Local\n",
        "        #myString = \"Büşra 3\"  # Yorum satırına dönüştü, kod çalışmaz.\n",
        "        print(myString)\n",
        "\n",
        "    myFunction2()"
      ],
      "metadata": {
        "id": "t-xkb3c352OW"
      },
      "execution_count": 52,
      "outputs": []
    },
    {
      "cell_type": "code",
      "source": [
        "# Fonksiyonu tekrar çağıralım:\n",
        "\n",
        "myFunction()"
      ],
      "metadata": {
        "colab": {
          "base_uri": "https://localhost:8080/"
        },
        "id": "P3Fp7kne6KnG",
        "outputId": "9c2fdc65-7c84-412a-9811-0dcf2f1963d4"
      },
      "execution_count": 53,
      "outputs": [
        {
          "output_type": "stream",
          "name": "stdout",
          "text": [
            "Büşra 2\n",
            "Büşra 2\n"
          ]
        }
      ]
    },
    {
      "cell_type": "markdown",
      "source": [
        "**🔍 Ne Olur Bu Kodda?**\n",
        "\n",
        "`myFunction()` çağrıldığında:\n",
        "\n",
        "- İlk print(myString) ifadesi, myFunction içindeki \"Büşra 2\"'yi yazdırır.\n",
        "\n",
        "- Sonra `myFunction2()` çalışır, ancak içinde **myString tanımlı değildir.**\n",
        "\n",
        "- Python bu değişkeni kendi lokal alanında bulamaz.\n",
        "\n",
        "- Bu yüzden bir üst kapsam olan myFunction fonksiyonunun içindeki myString değerine ulaşır.\n",
        "\n",
        "- Ve bu değeri yazdırır:` \"Büşra 2\"`\n",
        "\n",
        "**📌 Neden?**\n",
        "\n",
        "- Python’da değişken arama sırası **(LEGB)** sayesinde:\n",
        "\n",
        "- `myFunction2() `fonksiyonu içinde tanımlı bir myString yok.\n",
        "\n",
        "- Bir üst kapsam **(Enclosing)** olan myFunction içinde vardı: `\"Büşra 2\"`\n",
        "\n",
        "Bu yüzden onu kullanır."
      ],
      "metadata": {
        "id": "Vx8C1i-H6Xbz"
      }
    },
    {
      "cell_type": "markdown",
      "source": [
        "## **Kapsam Kullanımı Neden Önemli?**\n",
        "\n",
        "| Sebep                           | Açıklama                                                                              |\n",
        "| ------------------------------- | ------------------------------------------------------------------------------------- |\n",
        "| ✅ **Hata ayıklama**             | Yanlış kapsamda değişken kullanımı beklenmeyen sonuçlar doğurabilir.                  |\n",
        "| ✅ **Kodun okunabilirliği**      | Nerede hangi değişken geçerli kolayca anlaşılır.                                      |\n",
        "| ✅ **Modülerlik**                | Fonksiyonların kendi değişkenlerine sahip olması kod tekrarını azaltır.               |\n",
        "| ✅ **Güvenlik ve sınırlandırma** | Fonksiyon dışında erişilmesi gerekmeyen veriler, dışarıdan erişilemez hale getirilir. |\n"
      ],
      "metadata": {
        "id": "l15GKCK_8u3P"
      }
    },
    {
      "cell_type": "code",
      "source": [
        "# Örnek Kullanımı:\n",
        "# test1 fonksiyonu:\n",
        "\n",
        "\n",
        "def test1():\n",
        "    my_variable = 10\n",
        "    print(my_variable * 2)"
      ],
      "metadata": {
        "id": "IFrDDpnY88Fe"
      },
      "execution_count": 88,
      "outputs": []
    },
    {
      "cell_type": "code",
      "source": [
        "# test 2 fonksiyonu:\n",
        "\n",
        "def test2():\n",
        "    print(my_variable * 3)"
      ],
      "metadata": {
        "id": "DRxPWSo_9Hai"
      },
      "execution_count": 89,
      "outputs": []
    },
    {
      "cell_type": "code",
      "source": [
        "# test2 çağıralım:\n",
        "\n",
        "test2()"
      ],
      "metadata": {
        "colab": {
          "base_uri": "https://localhost:8080/",
          "height": 263
        },
        "id": "IA8eYRmi9XmV",
        "outputId": "fae831d8-e8cf-4b5b-f117-cd67209f4105"
      },
      "execution_count": 90,
      "outputs": [
        {
          "output_type": "error",
          "ename": "NameError",
          "evalue": "name 'my_variable' is not defined",
          "traceback": [
            "\u001b[0;31m---------------------------------------------------------------------------\u001b[0m",
            "\u001b[0;31mNameError\u001b[0m                                 Traceback (most recent call last)",
            "\u001b[0;32m/tmp/ipython-input-90-447211516.py\u001b[0m in \u001b[0;36m<cell line: 0>\u001b[0;34m()\u001b[0m\n\u001b[1;32m      1\u001b[0m \u001b[0;31m# test2 çağıralım:\u001b[0m\u001b[0;34m\u001b[0m\u001b[0;34m\u001b[0m\u001b[0m\n\u001b[1;32m      2\u001b[0m \u001b[0;34m\u001b[0m\u001b[0m\n\u001b[0;32m----> 3\u001b[0;31m \u001b[0mtest2\u001b[0m\u001b[0;34m(\u001b[0m\u001b[0;34m)\u001b[0m\u001b[0;34m\u001b[0m\u001b[0;34m\u001b[0m\u001b[0m\n\u001b[0m",
            "\u001b[0;32m/tmp/ipython-input-89-2204685947.py\u001b[0m in \u001b[0;36mtest2\u001b[0;34m()\u001b[0m\n\u001b[1;32m      2\u001b[0m \u001b[0;34m\u001b[0m\u001b[0m\n\u001b[1;32m      3\u001b[0m \u001b[0;32mdef\u001b[0m \u001b[0mtest2\u001b[0m\u001b[0;34m(\u001b[0m\u001b[0;34m)\u001b[0m\u001b[0;34m:\u001b[0m\u001b[0;34m\u001b[0m\u001b[0;34m\u001b[0m\u001b[0m\n\u001b[0;32m----> 4\u001b[0;31m     \u001b[0mprint\u001b[0m\u001b[0;34m(\u001b[0m\u001b[0mmy_variable\u001b[0m \u001b[0;34m*\u001b[0m \u001b[0;36m3\u001b[0m\u001b[0;34m)\u001b[0m\u001b[0;34m\u001b[0m\u001b[0;34m\u001b[0m\u001b[0m\n\u001b[0m",
            "\u001b[0;31mNameError\u001b[0m: name 'my_variable' is not defined"
          ]
        }
      ]
    },
    {
      "cell_type": "markdown",
      "source": [
        "**❓ Neden Hata Aldık ?**\n",
        "\n",
        "- `my_variable,` yalnızca `test1() `fonksiyonu içinde tanımlanmıştır.\n",
        "\n",
        "- Bu yüzden sadece `Local Scope (yerel kapsam)` içinde geçerlidir.\n",
        "\n",
        "- `test2()` fonksiyonu kendi içinde myVariable'ı ne tanımlar ne de başka bir kapsamdan `(Global ya da Enclosing)` erişebilir.\n",
        "\n",
        "**Dolayısıyla my_variable'a ulaşmaya çalıştığında bulunamaz ve hata verir.**\n",
        "\n",
        "\n",
        "\n"
      ],
      "metadata": {
        "id": "Wh9UXHb49rUe"
      }
    },
    {
      "cell_type": "markdown",
      "source": [
        "**✅ Çözüm Yolları:**\n",
        "\n",
        "Global'de tanımlarsan, her yerden erişilebilir:"
      ],
      "metadata": {
        "id": "6_m4mwHJ9_XW"
      }
    },
    {
      "cell_type": "code",
      "source": [
        "# global kapsamına alırsak:\n",
        "\n",
        "my_variable = 10\n",
        "\n",
        "def test1():\n",
        "    print(my_variable * 2)\n",
        "\n",
        "def test2():\n",
        "    print(my_variable * 3)"
      ],
      "metadata": {
        "id": "330E2ouH-A62"
      },
      "execution_count": 91,
      "outputs": []
    },
    {
      "cell_type": "code",
      "source": [
        "# test1 kontrolü:\n",
        "\n",
        "test1()"
      ],
      "metadata": {
        "colab": {
          "base_uri": "https://localhost:8080/"
        },
        "id": "UyypRTXq_EX0",
        "outputId": "ef57d89e-d0f9-4d4e-fcfb-8ce529d40f48"
      },
      "execution_count": 92,
      "outputs": [
        {
          "output_type": "stream",
          "name": "stdout",
          "text": [
            "20\n"
          ]
        }
      ]
    },
    {
      "cell_type": "code",
      "source": [
        "# test2 kontrolü:\n",
        "\n",
        "test2()"
      ],
      "metadata": {
        "colab": {
          "base_uri": "https://localhost:8080/"
        },
        "id": "LvF8JxIg_L_8",
        "outputId": "b966aaf6-c774-4ec6-eea2-85597248b5fe"
      },
      "execution_count": 93,
      "outputs": [
        {
          "output_type": "stream",
          "name": "stdout",
          "text": [
            "30\n"
          ]
        }
      ]
    },
    {
      "cell_type": "markdown",
      "source": [
        "**💡 İpucu:**\n",
        "\n",
        "Global değişkeni fonksiyon içinde değiştirmek istersen global anahtar kelimesi gerekir:"
      ],
      "metadata": {
        "id": "7xKWspyaAPlP"
      }
    },
    {
      "cell_type": "code",
      "source": [
        "# Yeni fonksiyon tanımlayalım:\n",
        "\n",
        "y = 10   # Global y\n",
        "\n",
        "def newFunction(y):    # Parametre olarak da 'y' tanımlanmış → Bu, yerel (local) y'dir.\n",
        "  print(y)             # ⬅ İlk olarak dışarıdan gelen parametreyi yazdırır (10)\n",
        "  y = 5                # ⬅ Yerel y değeri artık 5 olur\n",
        "  print(y)             # ⬅ Bu yeni değeri yazdırır (5)\n",
        "  return y             # ⬅ Fonksiyon bu yeni y değerini (5) döndürür"
      ],
      "metadata": {
        "id": "EZXEdKZ9ASFF"
      },
      "execution_count": 102,
      "outputs": []
    },
    {
      "cell_type": "code",
      "source": [
        "# Fonksiyonu çağıralım:\n",
        "\n",
        "newFunction(10)"
      ],
      "metadata": {
        "colab": {
          "base_uri": "https://localhost:8080/"
        },
        "id": "imE7orgTAhtv",
        "outputId": "51aaa175-9cec-424b-cb1e-2e6a7cfcc85d"
      },
      "execution_count": 103,
      "outputs": [
        {
          "output_type": "stream",
          "name": "stdout",
          "text": [
            "10\n",
            "5\n"
          ]
        },
        {
          "output_type": "execute_result",
          "data": {
            "text/plain": [
              "5"
            ]
          },
          "metadata": {},
          "execution_count": 103
        }
      ]
    },
    {
      "cell_type": "code",
      "source": [
        "# y değerini kontrol edelim:\n",
        "# ⬅ Global y'yi yazdırır: 10\n",
        "\n",
        "y"
      ],
      "metadata": {
        "colab": {
          "base_uri": "https://localhost:8080/"
        },
        "id": "IYMqziWpAoGO",
        "outputId": "561243f6-f7ca-42d6-ae4b-2cb6499543ae"
      },
      "execution_count": 104,
      "outputs": [
        {
          "output_type": "execute_result",
          "data": {
            "text/plain": [
              "10"
            ]
          },
          "metadata": {},
          "execution_count": 104
        }
      ]
    },
    {
      "cell_type": "code",
      "source": [
        "# Global değişkeni fonksiyon içinde değiştirelim:\n",
        "\n",
        "y = 10\n",
        "\n",
        "def changeY():\n",
        "    global y\n",
        "    y = 5\n",
        "    print(y)"
      ],
      "metadata": {
        "id": "sqaAOzXaEmrd"
      },
      "execution_count": 105,
      "outputs": []
    },
    {
      "cell_type": "code",
      "source": [
        "# changeY çalıştıralım:\n",
        "\n",
        "changeY()"
      ],
      "metadata": {
        "colab": {
          "base_uri": "https://localhost:8080/"
        },
        "id": "P_NHzpHOFBOE",
        "outputId": "e501641f-6005-426e-f7c1-bf5cc5f10839"
      },
      "execution_count": 106,
      "outputs": [
        {
          "output_type": "stream",
          "name": "stdout",
          "text": [
            "5\n"
          ]
        }
      ]
    },
    {
      "cell_type": "code",
      "source": [
        "# y değişkenini çalıştıralım:\n",
        "\n",
        "y"
      ],
      "metadata": {
        "colab": {
          "base_uri": "https://localhost:8080/"
        },
        "id": "IbhmZP7jFHQ5",
        "outputId": "27999cb8-98f6-4a4c-ef3f-6816561e0c38"
      },
      "execution_count": 107,
      "outputs": [
        {
          "output_type": "execute_result",
          "data": {
            "text/plain": [
              "5"
            ]
          },
          "metadata": {},
          "execution_count": 107
        }
      ]
    }
  ]
}