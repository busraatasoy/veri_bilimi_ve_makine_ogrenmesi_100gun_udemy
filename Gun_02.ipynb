{
  "nbformat": 4,
  "nbformat_minor": 0,
  "metadata": {
    "colab": {
      "provenance": [],
      "toc_visible": true,
      "authorship_tag": "ABX9TyODO7WhhHEaicsXduXFjyqT",
      "include_colab_link": true
    },
    "kernelspec": {
      "name": "python3",
      "display_name": "Python 3"
    },
    "language_info": {
      "name": "python"
    }
  },
  "cells": [
    {
      "cell_type": "markdown",
      "metadata": {
        "id": "view-in-github",
        "colab_type": "text"
      },
      "source": [
        "<a href=\"https://colab.research.google.com/github/busraatasoy/veri_bilimi_ve_makine_ogrenmesi_100gun_udemy/blob/main/Gun_02.ipynb\" target=\"_parent\"><img src=\"https://colab.research.google.com/assets/colab-badge.svg\" alt=\"Open In Colab\"/></a>"
      ]
    },
    {
      "cell_type": "markdown",
      "source": [
        "# Gün 2: Veri Tipleri(Data Types)"
      ],
      "metadata": {
        "id": "AUjpJhJqyGr4"
      }
    },
    {
      "cell_type": "markdown",
      "source": [
        "Kodları yazarken not almak istersek hastag işareti (#) kullanılmaktadır."
      ],
      "metadata": {
        "id": "p_yP8rN_zpsf"
      }
    },
    {
      "cell_type": "code",
      "source": [
        "# Yorum satırı oluşturmak için hastag işareti kullanılır.\n",
        "# Okunur kod yazmak için tanımlar, açıklamalar için kullanılmaktadır.\n",
        "# Ayrıca, yazılan kodun başına hastag işareti konulursa kod çalışmaz."
      ],
      "metadata": {
        "id": "xNpML98Oz46x"
      },
      "execution_count": null,
      "outputs": []
    },
    {
      "cell_type": "markdown",
      "source": [
        "Herhangi bir sayı, değer, karakterin veri tipini öğrenmek için` type()` tanımlı fonksiyonu kullanılır."
      ],
      "metadata": {
        "id": "XgMrW0AE0uR5"
      }
    },
    {
      "cell_type": "code",
      "source": [
        "type(10)"
      ],
      "metadata": {
        "colab": {
          "base_uri": "https://localhost:8080/"
        },
        "id": "CUkuhu_j0g1g",
        "outputId": "58a4f70d-0502-43d4-e171-e61212252d02"
      },
      "execution_count": null,
      "outputs": [
        {
          "output_type": "execute_result",
          "data": {
            "text/plain": [
              "int"
            ]
          },
          "metadata": {},
          "execution_count": 8
        }
      ]
    },
    {
      "cell_type": "code",
      "source": [
        "type(10*3)"
      ],
      "metadata": {
        "colab": {
          "base_uri": "https://localhost:8080/"
        },
        "id": "Nnq_guFY07Zp",
        "outputId": "5f552a82-3b08-48c0-cb77-133f169fe85f"
      },
      "execution_count": null,
      "outputs": [
        {
          "output_type": "execute_result",
          "data": {
            "text/plain": [
              "int"
            ]
          },
          "metadata": {},
          "execution_count": 9
        }
      ]
    },
    {
      "cell_type": "code",
      "source": [
        "# Age ataması ve matematil işlemi\n",
        "\n",
        "age = 50\n",
        "\n",
        "age * 5"
      ],
      "metadata": {
        "colab": {
          "base_uri": "https://localhost:8080/"
        },
        "id": "ldvO0lR_1C5L",
        "outputId": "076919bd-31a5-4ad0-fa05-d5bac32c91f8"
      },
      "execution_count": null,
      "outputs": [
        {
          "output_type": "execute_result",
          "data": {
            "text/plain": [
              "250"
            ]
          },
          "metadata": {},
          "execution_count": 16
        }
      ]
    },
    {
      "cell_type": "code",
      "source": [
        "# İşlem sonucunu vermez, sonucun veri tipini verir.\n",
        "\n",
        "type(age * 5)"
      ],
      "metadata": {
        "colab": {
          "base_uri": "https://localhost:8080/"
        },
        "id": "ugKMA7kA0-Hp",
        "outputId": "afd32e91-ff90-4310-fa23-abbec92d6784"
      },
      "execution_count": null,
      "outputs": [
        {
          "output_type": "execute_result",
          "data": {
            "text/plain": [
              "int"
            ]
          },
          "metadata": {},
          "execution_count": 17
        }
      ]
    },
    {
      "cell_type": "markdown",
      "source": [
        "## **int (Integer - Tam Sayı)**\n",
        "\n",
        "Tam sayıları ifade eder. Ondalık (virgüllü) kısmı yoktur."
      ],
      "metadata": {
        "id": "nkatu1At1pP-"
      }
    },
    {
      "cell_type": "code",
      "source": [
        "type(5)"
      ],
      "metadata": {
        "colab": {
          "base_uri": "https://localhost:8080/"
        },
        "id": "3SvYjwcY81-U",
        "outputId": "61a6b88b-06ff-4471-d377-1828a17f196f"
      },
      "execution_count": null,
      "outputs": [
        {
          "output_type": "execute_result",
          "data": {
            "text/plain": [
              "int"
            ]
          },
          "metadata": {},
          "execution_count": 21
        }
      ]
    },
    {
      "cell_type": "code",
      "source": [
        "type(0)"
      ],
      "metadata": {
        "colab": {
          "base_uri": "https://localhost:8080/"
        },
        "id": "TT2pPStv87Ru",
        "outputId": "fab1f940-9128-4d6a-fe23-02c7f0f6a0ff"
      },
      "execution_count": null,
      "outputs": [
        {
          "output_type": "execute_result",
          "data": {
            "text/plain": [
              "int"
            ]
          },
          "metadata": {},
          "execution_count": 22
        }
      ]
    },
    {
      "cell_type": "code",
      "source": [
        "type(-1000)"
      ],
      "metadata": {
        "colab": {
          "base_uri": "https://localhost:8080/"
        },
        "id": "W5s7fX271x-6",
        "outputId": "427fa50f-05e1-4c9e-e9bd-9034969a3e2c"
      },
      "execution_count": null,
      "outputs": [
        {
          "output_type": "execute_result",
          "data": {
            "text/plain": [
              "int"
            ]
          },
          "metadata": {},
          "execution_count": 18
        }
      ]
    },
    {
      "cell_type": "code",
      "source": [
        "# Değer atama\n",
        "\n",
        "x = -100"
      ],
      "metadata": {
        "id": "tJnZ6pnD10-w"
      },
      "execution_count": null,
      "outputs": []
    },
    {
      "cell_type": "code",
      "source": [
        "type(x)"
      ],
      "metadata": {
        "colab": {
          "base_uri": "https://localhost:8080/"
        },
        "id": "VJ-UBtWN13KO",
        "outputId": "e1bedc7e-1304-4cd4-d823-2e0dc6d05894"
      },
      "execution_count": null,
      "outputs": [
        {
          "output_type": "execute_result",
          "data": {
            "text/plain": [
              "int"
            ]
          },
          "metadata": {},
          "execution_count": 24
        }
      ]
    },
    {
      "cell_type": "markdown",
      "source": [
        "## **float (Floating Point - Ondalıklı Sayı)**\n",
        "\n",
        "Ondalıklı, yani virgüllü (küsuratlı) sayıları ifade eder."
      ],
      "metadata": {
        "id": "SZUJAwlE9C-Q"
      }
    },
    {
      "cell_type": "code",
      "source": [
        "#Pi sayısı\n",
        "\n",
        "type(3.14)"
      ],
      "metadata": {
        "colab": {
          "base_uri": "https://localhost:8080/"
        },
        "id": "L2_LK2i0-geb",
        "outputId": "5c2fa742-8369-4604-8528-c1af1b11f6ee"
      },
      "execution_count": null,
      "outputs": [
        {
          "output_type": "execute_result",
          "data": {
            "text/plain": [
              "float"
            ]
          },
          "metadata": {},
          "execution_count": 46
        }
      ]
    },
    {
      "cell_type": "code",
      "source": [
        "#Atama yapalım\n",
        "\n",
        "pi =3.14"
      ],
      "metadata": {
        "id": "1xHmkOiz-pQK"
      },
      "execution_count": null,
      "outputs": []
    },
    {
      "cell_type": "code",
      "source": [
        "pi * 2"
      ],
      "metadata": {
        "colab": {
          "base_uri": "https://localhost:8080/"
        },
        "id": "_eQ-iA9p-s5i",
        "outputId": "b7958e68-a50b-4208-eb2b-6bac923fd9af"
      },
      "execution_count": null,
      "outputs": [
        {
          "output_type": "execute_result",
          "data": {
            "text/plain": [
              "6.28"
            ]
          },
          "metadata": {},
          "execution_count": 27
        }
      ]
    },
    {
      "cell_type": "code",
      "source": [
        "x  #değer atamıştık"
      ],
      "metadata": {
        "colab": {
          "base_uri": "https://localhost:8080/"
        },
        "id": "T3F6tsof-ubZ",
        "outputId": "504e785d-5fdc-45b3-e4b2-e61da1105b7d"
      },
      "execution_count": null,
      "outputs": [
        {
          "output_type": "execute_result",
          "data": {
            "text/plain": [
              "-100"
            ]
          },
          "metadata": {},
          "execution_count": 28
        }
      ]
    },
    {
      "cell_type": "code",
      "source": [
        "x + pi"
      ],
      "metadata": {
        "colab": {
          "base_uri": "https://localhost:8080/"
        },
        "id": "QBleipoT-zEt",
        "outputId": "d195e8cd-7af3-442b-fe24-8cc607906817"
      },
      "execution_count": null,
      "outputs": [
        {
          "output_type": "execute_result",
          "data": {
            "text/plain": [
              "-96.86"
            ]
          },
          "metadata": {},
          "execution_count": 29
        }
      ]
    },
    {
      "cell_type": "code",
      "source": [
        "x / pi"
      ],
      "metadata": {
        "colab": {
          "base_uri": "https://localhost:8080/"
        },
        "id": "tLUjiwc5-6ho",
        "outputId": "d278ef53-9af0-4a7e-b178-b0a51c016c9a"
      },
      "execution_count": null,
      "outputs": [
        {
          "output_type": "execute_result",
          "data": {
            "text/plain": [
              "-31.84713375796178"
            ]
          },
          "metadata": {},
          "execution_count": 30
        }
      ]
    },
    {
      "cell_type": "markdown",
      "source": [
        "## **Değişkenin Değerini Değiştirmek – Atama**"
      ],
      "metadata": {
        "id": "pVWdIOdRCT_t"
      }
    },
    {
      "cell_type": "markdown",
      "source": [
        "**Dikkat:**\n",
        "\n",
        "Daha önce x' e -100 olarak değer atamıştık. Peki, bunu değiştirebilir miyiz?"
      ],
      "metadata": {
        "id": "M2tUabhhBDYu"
      }
    },
    {
      "cell_type": "code",
      "source": [
        "# x -100 yerine 10 olacak şekilde atamasını değiştirelim\n",
        "\n",
        "x = 10"
      ],
      "metadata": {
        "id": "AZ6APUqw_sT0"
      },
      "execution_count": null,
      "outputs": []
    },
    {
      "cell_type": "code",
      "source": [
        "# x ile işlem yapalım\n",
        "\n",
        "x + 3"
      ],
      "metadata": {
        "colab": {
          "base_uri": "https://localhost:8080/"
        },
        "id": "84MMvEc3BUvf",
        "outputId": "22a4bab5-625e-41aa-9491-761994d6e8df"
      },
      "execution_count": null,
      "outputs": [
        {
          "output_type": "execute_result",
          "data": {
            "text/plain": [
              "13"
            ]
          },
          "metadata": {},
          "execution_count": 41
        }
      ]
    },
    {
      "cell_type": "code",
      "source": [
        "# x atamasını tekrar değiştirelim\n",
        "\n",
        "x = 20"
      ],
      "metadata": {
        "id": "2o8bxNXyAG9m"
      },
      "execution_count": null,
      "outputs": []
    },
    {
      "cell_type": "code",
      "source": [
        "# x ile aynı işlemi yapalım\n",
        "\n",
        "x + 3"
      ],
      "metadata": {
        "colab": {
          "base_uri": "https://localhost:8080/"
        },
        "id": "Rqbq4kE7AI21",
        "outputId": "8416afd6-91c5-4e07-9888-6735eee5c79b"
      },
      "execution_count": null,
      "outputs": [
        {
          "output_type": "execute_result",
          "data": {
            "text/plain": [
              "23"
            ]
          },
          "metadata": {},
          "execution_count": 43
        }
      ]
    },
    {
      "cell_type": "markdown",
      "source": [
        "**Peki, ne oldu ?**\n",
        "\n",
        "- Değişken x, önce -100, sonra 10, en son 20 değerini aldı.\n",
        "\n",
        "- Her yeni atama, önceki değeri geçersiz kılar ve x artık son değeri olan 20’yi temsil eder.\n",
        "\n",
        "- Sonuç olarak x + 3, artık 23 sonucunu verir.\n",
        "\n",
        "\n",
        "\n",
        "✅ Sebebi:\n",
        "\n",
        "Python'da değişkenler (variables), bir veriyi tutan **`etiketler (labels)`** gibidir.\n",
        "Bu etiketin tuttuğu veriyi (yani değerini) değiştirmek çok kolaydır.\n",
        "\n",
        "- x = 10 dediğimizde, x artık 10’u temsil eder.\n",
        "\n",
        "- Önceki değer (örneğin -100), artık kullanılmaz.\n",
        "\n",
        "Bu esneklik, Python’un **`dinamik tür`** yapısına **`(dynamic typing)`** dayanır.\n",
        "\n",
        "📌 Unutma:\n",
        "\n",
        "- Bir değişkenin değerini istediğin zaman değiştirebilirsin.\n",
        "\n",
        "- Değeri değiştirmek için sadece = (atama operatörü) kullanman yeterli.\n",
        "\n",
        "- Her atama işlemi, değişkenin önceki değerini yok sayar."
      ],
      "metadata": {
        "id": "bNl76-0gBtxS"
      }
    },
    {
      "cell_type": "markdown",
      "source": [
        "**❓ Soru:**\n",
        "\n",
        "`int` ve `float` ikisi de sayı olmasına rağmen neden iki farklı veri tipi olarak tanımlanmıştır?\n",
        "\n"
      ],
      "metadata": {
        "id": "Jttm0gwY_Rg9"
      }
    },
    {
      "cell_type": "code",
      "source": [
        "myFloat = 1.3442423"
      ],
      "metadata": {
        "id": "0-RjB5DhDGoD"
      },
      "execution_count": null,
      "outputs": []
    },
    {
      "cell_type": "code",
      "source": [
        "type(myFloat)"
      ],
      "metadata": {
        "colab": {
          "base_uri": "https://localhost:8080/"
        },
        "id": "tVeKGuC2DMC-",
        "outputId": "91ba8bcc-c074-4395-f7ec-df70f1917043"
      },
      "execution_count": null,
      "outputs": [
        {
          "output_type": "execute_result",
          "data": {
            "text/plain": [
              "float"
            ]
          },
          "metadata": {},
          "execution_count": 45
        }
      ]
    },
    {
      "cell_type": "markdown",
      "source": [
        "**✅Cevap:**\n",
        "\n",
        " Programlama dilleri; farklı özellikleri olan veri tiplerini aynı sınıflar, sınıflandırmalar içerisinde tutmaya çalışırlar.\n",
        "\n",
        "Programlama dillerinde her veri tipinin hafızada kapladığı alan, işlem türü, ve hassasiyet seviyesi farklıdır.\n",
        "\n",
        "Bu nedenle tamsayı (int) ile ondalıklı sayı (float) birbirinden ayrı veri tipleri olarak tanımlanmıştır.\n",
        "\n",
        "**💾 Hafıza (Bellek) Açısından Fark**\n",
        "Bilgisayarlar verileri ikili sistemde (0 ve 1) işler.\n",
        "Bu yüzden sayılar bellekte `bitler (binary digits)` olarak saklanır.\n",
        "\n",
        "**int (tamsayı)** → daha az yer kaplar, çünkü sadece tam değerleri saklar.\n",
        "\n",
        "Örn: 10 sayısı bellekte doğrudan 2-3 byte ile saklanabilir.\n",
        "\n",
        "**float (ondalıklı sayı)** → daha fazla yer kaplar, çünkü virgülden sonraki kısmı da saklamak gerekir.\n",
        "\n",
        "Örn: 1.3442423 gibi bir sayı, bellekte yaklaşık 8 byte yer kaplar ve daha karmaşık yapıda saklanır (IEEE 754 standardı kullanılır).\n",
        "\n",
        "**🎯 Neden Ayrı Veri Tipleri?**\n",
        "\n",
        "**Hassasiyet Farkı**\n",
        "\n",
        "- float, çok küçük ya da çok büyük ondalıklı sayıları temsil edebilir.\n",
        "\n",
        "- int ise sadece tam sayılar için optimize edilmiştir.\n",
        "\n",
        "**Bellek Kullanımı***\n",
        "\n",
        "- int daha az yer kaplar → büyük veri işlemlerinde avantaj sağlar.\n",
        "\n",
        "- float daha fazla yer kaplar ama daha esnek hesaplamalara izin verir.\n",
        "\n",
        "**İşlem Türü**\n",
        "\n",
        "Bilgisayar, int ve float ile yapılan işlemleri farklı işlemcilerle yürütür (bazı sistemlerde).\n",
        "\n",
        "Bu da performans farklarına yol açar.\n",
        "\n",
        "**🔍 Sonuç:**\n",
        "\n",
        "int ve float ikisi de sayı türü olsa da;\n",
        "\n",
        "- Farklı hassasiyet\n",
        "\n",
        "- Farklı bellek kullanımı\n",
        "\n",
        "- Farklı matematiksel işlem yapısı\n",
        "\n",
        "sebebiyle Python ve diğer dillerde ayrı veri tipleri olarak tanımlanmışlardır.\n",
        "\n"
      ],
      "metadata": {
        "id": "qfkhYcDxAgaq"
      }
    },
    {
      "cell_type": "markdown",
      "source": [
        "##**🏷️Adlandırmalar Nasıl Yapılır?**\n",
        "\n",
        "Programlamada değişken, fonksiyon veya sınıf adları verirken belirli adlandırma kurallarına uymak hem okunabilirliği artırır hem de kodun profesyonel görünmesini sağlar."
      ],
      "metadata": {
        "id": "3FU9mTYTA2T6"
      }
    },
    {
      "cell_type": "markdown",
      "source": [
        "**✅ İyi Adlandırma Kuralları:**\n",
        "\n",
        "- Anlamlı ve okunabilir olmalı\n",
        "\n",
        "- Rakamla başlamamalı\n",
        "\n",
        "- Boşluk içeremez\n",
        "\n",
        "- Türkçe karakterler (ç,ğ,ı,ö,ş,ü) kullanılmaz\n",
        "\n",
        "- Özel karakterler (@, !, % vb.) kullanılmaz\n",
        "\n",
        "- Küçük harf, büyük harf veya alt çizgi kullanılabilir"
      ],
      "metadata": {
        "id": "xPo10X00GWEg"
      }
    },
    {
      "cell_type": "markdown",
      "source": [
        "**✍️ Adlandırma Biçimleri (Naming Conventions)**\n",
        "\n",
        "**1. camelCase**\n",
        "\n",
        "İlk kelime küçük harf, sonraki kelimelerin baş harfi büyük olur.\n",
        "\n",
        "👉 Genellikle JavaScript, bazı Python değişkenlerinde kullanılır.\n",
        "\n",
        "Örnek:\n",
        "\n",
        "myFloat\n",
        "studentName\n",
        "\n",
        "**2. snake_case**\n",
        "\n",
        "Kelimeler alt tire (_) ile ayrılır.\n",
        "\n",
        "👉 Python’da en çok tercih edilen stildir.\n",
        "\n",
        "Örnek:\n",
        "\n",
        "my_float\n",
        "student_name\n",
        "\n",
        "Python programlarında genellikle snake_case tercih edilir. Ancak, her iki kullanımda uygundur."
      ],
      "metadata": {
        "id": "NfMAwnsUGh8X"
      }
    },
    {
      "cell_type": "markdown",
      "source": [
        "**❌ Kötü Adlandırma Örnekleri:**\n",
        "\n",
        "1. Rakamla başlayamaz\n",
        "- 1name = \"Ali\"\n",
        "\n",
        "2. Türkçe karakter kullanılmaz\n",
        "\n",
        "- öğrenciAdı = \"Ayşe\"  \n",
        "\n",
        "3. Boşluk olamaz\n",
        "- my float = 5         "
      ],
      "metadata": {
        "id": "H1aaEKZeG06Q"
      }
    },
    {
      "cell_type": "markdown",
      "source": [
        "## Int vs Float İşlem Farkları"
      ],
      "metadata": {
        "id": "2qPIKuCeSMmr"
      }
    },
    {
      "cell_type": "markdown",
      "source": [
        "**İki tam sayının bölme işlemi**"
      ],
      "metadata": {
        "id": "hurDjNxMbQzB"
      }
    },
    {
      "cell_type": "code",
      "source": [
        "# Bölme işlemi\n",
        "\n",
        "40 / 4"
      ],
      "metadata": {
        "colab": {
          "base_uri": "https://localhost:8080/"
        },
        "id": "Uv0L1INBYa86",
        "outputId": "741af855-7e8d-48aa-cd6c-cb4240aab12c"
      },
      "execution_count": null,
      "outputs": [
        {
          "output_type": "execute_result",
          "data": {
            "text/plain": [
              "10.0"
            ]
          },
          "metadata": {},
          "execution_count": 50
        }
      ]
    },
    {
      "cell_type": "code",
      "source": [
        "# Neden bu işlem float?\n",
        "\n",
        "type(40 / 4)"
      ],
      "metadata": {
        "colab": {
          "base_uri": "https://localhost:8080/"
        },
        "id": "_l7Ykd9WYcnS",
        "outputId": "db1216e2-3800-45be-e631-c1633e2a8140"
      },
      "execution_count": null,
      "outputs": [
        {
          "output_type": "execute_result",
          "data": {
            "text/plain": [
              "float"
            ]
          },
          "metadata": {},
          "execution_count": 49
        }
      ]
    },
    {
      "cell_type": "code",
      "source": [
        "40 / 9"
      ],
      "metadata": {
        "colab": {
          "base_uri": "https://localhost:8080/"
        },
        "id": "zU3C5fXbYpvE",
        "outputId": "abb3be35-acac-4214-d46c-d0c0abd47d66"
      },
      "execution_count": null,
      "outputs": [
        {
          "output_type": "execute_result",
          "data": {
            "text/plain": [
              "4.444444444444445"
            ]
          },
          "metadata": {},
          "execution_count": 51
        }
      ]
    },
    {
      "cell_type": "code",
      "source": [
        "40 / 13"
      ],
      "metadata": {
        "colab": {
          "base_uri": "https://localhost:8080/"
        },
        "id": "kfcSXC2HYrrz",
        "outputId": "c3e06722-01a9-4472-aa83-d4a62f2c4ce8"
      },
      "execution_count": null,
      "outputs": [
        {
          "output_type": "execute_result",
          "data": {
            "text/plain": [
              "3.076923076923077"
            ]
          },
          "metadata": {},
          "execution_count": 52
        }
      ]
    },
    {
      "cell_type": "markdown",
      "source": [
        "**📝Not:**\n",
        "\n",
        "- Python programlama dili kapsamında 2 tam sayının bölümü kesirli çıkma ihtimali örneklerde olduğu gibi yüksek olduğu için veri tipi float olarak kararlaştırılmıştır.\n",
        "\n",
        "- Bu Python'a özel bir durumdur ve sonuç tam sayı çıksa da geçerlidir. Örneğin `4 / 2 işlemi`nin sonucu `2 tamsayısı` olmasına rağmen işlem sonucu `2.0` olarak float değerde olur.\n",
        "\n",
        "- Java programlama dilinde ise bu geçerli değildir. Böyle bir kural olmadığı için `tamsayı / tamsayı` sonucundan bağımsız` tam sayı değeri` döner. Tam bölünmese dahi kesirli olarak ifade edilmez. Fakat bu mantık da küsüratlı işlem gerektiren örneğin banka sekötrü gibi işlem gören yerlerde hatalı veri sonuçlarına yol açar. Burada da tip seçimi önem arz eder.\n",
        "\n",
        "İşlemlerde `4 / 2` yerine `4.0 / 2.0 ` yazılmalıdır. Farkı nedir? Java'da bu anlamlı bir farktır çünkü tamsayı yerine float bölümü yapılması istenir. Python'da ise bu kural sebebiyle her iki işlemin sonucu da aynı döner."
      ],
      "metadata": {
        "id": "mxBGc9uFZLeK"
      }
    },
    {
      "cell_type": "code",
      "source": [
        "type(4)"
      ],
      "metadata": {
        "colab": {
          "base_uri": "https://localhost:8080/"
        },
        "id": "fBG7yofMarqv",
        "outputId": "7ae25fef-5686-43bc-9d99-b94025cab1a4"
      },
      "execution_count": null,
      "outputs": [
        {
          "output_type": "execute_result",
          "data": {
            "text/plain": [
              "int"
            ]
          },
          "metadata": {},
          "execution_count": 54
        }
      ]
    },
    {
      "cell_type": "code",
      "source": [
        "type(4.0)"
      ],
      "metadata": {
        "colab": {
          "base_uri": "https://localhost:8080/"
        },
        "id": "0dZw6vp6axUS",
        "outputId": "30ca39f2-ad36-4008-ec7b-914f8beee2be"
      },
      "execution_count": null,
      "outputs": [
        {
          "output_type": "execute_result",
          "data": {
            "text/plain": [
              "float"
            ]
          },
          "metadata": {},
          "execution_count": 55
        }
      ]
    },
    {
      "cell_type": "markdown",
      "source": [
        "**İki tam sayının çarpma işlemi**"
      ],
      "metadata": {
        "id": "UAYgVrgJbYMm"
      }
    },
    {
      "cell_type": "code",
      "source": [
        "4 * 2"
      ],
      "metadata": {
        "colab": {
          "base_uri": "https://localhost:8080/"
        },
        "id": "U3XjBj1ybLIB",
        "outputId": "64368242-792c-4a94-d08a-1bd14ebd36a4"
      },
      "execution_count": null,
      "outputs": [
        {
          "output_type": "execute_result",
          "data": {
            "text/plain": [
              "8"
            ]
          },
          "metadata": {},
          "execution_count": 56
        }
      ]
    },
    {
      "cell_type": "markdown",
      "source": [
        "**İki tam sayının toplama işlemi**"
      ],
      "metadata": {
        "id": "GXlzJbmUbdW_"
      }
    },
    {
      "cell_type": "code",
      "source": [
        "4 + 2"
      ],
      "metadata": {
        "colab": {
          "base_uri": "https://localhost:8080/"
        },
        "id": "TYLEZtuybeow",
        "outputId": "aaf38e14-d479-4c4d-e784-71de306b41cf"
      },
      "execution_count": null,
      "outputs": [
        {
          "output_type": "execute_result",
          "data": {
            "text/plain": [
              "6"
            ]
          },
          "metadata": {},
          "execution_count": 57
        }
      ]
    },
    {
      "cell_type": "markdown",
      "source": [
        "**İki tam sayının çıkarma işlemi**"
      ],
      "metadata": {
        "id": "YxntSwsYbh8i"
      }
    },
    {
      "cell_type": "code",
      "source": [
        "4 - 2"
      ],
      "metadata": {
        "colab": {
          "base_uri": "https://localhost:8080/"
        },
        "id": "PcY-pMnEbg7k",
        "outputId": "f97cbbea-16a3-4f02-a8b3-54d11789746d"
      },
      "execution_count": null,
      "outputs": [
        {
          "output_type": "execute_result",
          "data": {
            "text/plain": [
              "2"
            ]
          },
          "metadata": {},
          "execution_count": 58
        }
      ]
    },
    {
      "cell_type": "markdown",
      "source": [
        "Görüldüğü gibi; iki tam sayı işlemlerinde bu kural sadece bölme işleminde geçerlidir. çarpma, toplama ve çıkarma işlemlerinde sonuç tam sayı olacağı için bu kural geçerli değildir."
      ],
      "metadata": {
        "id": "MPrjpp51bpGM"
      }
    },
    {
      "cell_type": "markdown",
      "source": [
        "**Float - Int(Tam Sayı) Çıkarma İşlemi**\n",
        "\n",
        "Bu işlemlerde kesirli sayıdan çıkarma yaptığımız için sonuç kesirli yani float veri tipinde olur."
      ],
      "metadata": {
        "id": "l9pci2L0b2m9"
      }
    },
    {
      "cell_type": "code",
      "source": [
        "4.0 - 2"
      ],
      "metadata": {
        "colab": {
          "base_uri": "https://localhost:8080/"
        },
        "id": "W38i5TzdcTOn",
        "outputId": "f9efd9d3-0125-456e-aa2f-d21e583369ad"
      },
      "execution_count": null,
      "outputs": [
        {
          "output_type": "execute_result",
          "data": {
            "text/plain": [
              "2.0"
            ]
          },
          "metadata": {},
          "execution_count": 59
        }
      ]
    },
    {
      "cell_type": "code",
      "source": [
        "4.1 - 2"
      ],
      "metadata": {
        "colab": {
          "base_uri": "https://localhost:8080/"
        },
        "id": "y9Qarv8gcf-9",
        "outputId": "0b95fcda-7521-47f4-caad-f42e296d10f9"
      },
      "execution_count": null,
      "outputs": [
        {
          "output_type": "execute_result",
          "data": {
            "text/plain": [
              "2.0999999999999996"
            ]
          },
          "metadata": {},
          "execution_count": 60
        }
      ]
    },
    {
      "cell_type": "code",
      "source": [
        "4.2 - 2"
      ],
      "metadata": {
        "colab": {
          "base_uri": "https://localhost:8080/"
        },
        "id": "COIyLThZciO7",
        "outputId": "91fb4275-0783-40bd-cf4a-f868add79a41"
      },
      "execution_count": null,
      "outputs": [
        {
          "output_type": "execute_result",
          "data": {
            "text/plain": [
              "2.2"
            ]
          },
          "metadata": {},
          "execution_count": 61
        }
      ]
    },
    {
      "cell_type": "code",
      "source": [
        "4.3 - 2"
      ],
      "metadata": {
        "colab": {
          "base_uri": "https://localhost:8080/"
        },
        "id": "MGp10YMGckK3",
        "outputId": "1f66077d-6cb1-4998-fe91-589ca3442406"
      },
      "execution_count": null,
      "outputs": [
        {
          "output_type": "execute_result",
          "data": {
            "text/plain": [
              "2.3"
            ]
          },
          "metadata": {},
          "execution_count": 62
        }
      ]
    },
    {
      "cell_type": "code",
      "source": [
        "4.4 - 2"
      ],
      "metadata": {
        "colab": {
          "base_uri": "https://localhost:8080/"
        },
        "id": "9r1kxyEzcmIN",
        "outputId": "b51314b1-2eb0-4d28-af2f-8ad557b672b8"
      },
      "execution_count": null,
      "outputs": [
        {
          "output_type": "execute_result",
          "data": {
            "text/plain": [
              "2.4000000000000004"
            ]
          },
          "metadata": {},
          "execution_count": 63
        }
      ]
    },
    {
      "cell_type": "code",
      "source": [
        "4.5 - 2"
      ],
      "metadata": {
        "colab": {
          "base_uri": "https://localhost:8080/"
        },
        "id": "voyoRFc_dRMK",
        "outputId": "ec416495-67a4-486f-bdc1-99e301df2268"
      },
      "execution_count": null,
      "outputs": [
        {
          "output_type": "execute_result",
          "data": {
            "text/plain": [
              "2.5"
            ]
          },
          "metadata": {},
          "execution_count": 64
        }
      ]
    },
    {
      "cell_type": "code",
      "source": [
        "type(4.5 - 2)"
      ],
      "metadata": {
        "colab": {
          "base_uri": "https://localhost:8080/"
        },
        "id": "4lWlqHtcdX10",
        "outputId": "3afb4c0b-a066-49f4-f5d0-993bfd2a917e"
      },
      "execution_count": null,
      "outputs": [
        {
          "output_type": "execute_result",
          "data": {
            "text/plain": [
              "float"
            ]
          },
          "metadata": {},
          "execution_count": 66
        }
      ]
    },
    {
      "cell_type": "markdown",
      "source": [
        "**Dipnot:**\n",
        "\n",
        "Bazı durumlarda `4.4 - 2 = 2.4` yerine `2.4000000000000004` gibi sonuçlar Python'da gelmektedir. Çok önemsenmeyecek küçük hatalar olabilir. Bunlar float yani kesirli sayıların ele alınmasından kaynaklı oluşmaktadır. Hesaplamalarda veya kullanıcıya bilgi gösterirken sonucun bir kısmını alabiliriz."
      ],
      "metadata": {
        "id": "DG68ot52cqEK"
      }
    },
    {
      "cell_type": "markdown",
      "source": [
        "**Float - Int(Tam Sayı) Çarpma İşlemi**\n",
        "\n",
        "Çarpma işlemlerinde de çıkarma işleminde oldupu gibi float veri tipinde sonuç verir."
      ],
      "metadata": {
        "id": "M0tCXrqVdTnW"
      }
    },
    {
      "cell_type": "code",
      "source": [
        "# Float - tam sayı değeri\n",
        "\n",
        "4.2 * 3"
      ],
      "metadata": {
        "colab": {
          "base_uri": "https://localhost:8080/"
        },
        "id": "ZMhIYTX3djJ4",
        "outputId": "af755f8e-461c-4be7-c95f-de3d55dc5fe2"
      },
      "execution_count": null,
      "outputs": [
        {
          "output_type": "execute_result",
          "data": {
            "text/plain": [
              "12.600000000000001"
            ]
          },
          "metadata": {},
          "execution_count": 67
        }
      ]
    },
    {
      "cell_type": "code",
      "source": [
        "# İki float değeri\n",
        "\n",
        "4.2 * 3.2"
      ],
      "metadata": {
        "colab": {
          "base_uri": "https://localhost:8080/"
        },
        "id": "UDVqroHMdlpJ",
        "outputId": "2dbf59c7-91f8-4545-f8c6-a31959e3c32b"
      },
      "execution_count": null,
      "outputs": [
        {
          "output_type": "execute_result",
          "data": {
            "text/plain": [
              "13.440000000000001"
            ]
          },
          "metadata": {},
          "execution_count": 68
        }
      ]
    },
    {
      "cell_type": "code",
      "source": [
        "# Float - tam sayı çok işlemli\n",
        "\n",
        "4.2 * 3 - 10"
      ],
      "metadata": {
        "colab": {
          "base_uri": "https://localhost:8080/"
        },
        "id": "ZYlz_gHhdz5H",
        "outputId": "3baa13fa-2dd8-421a-b4bd-d04de1b23cce"
      },
      "execution_count": null,
      "outputs": [
        {
          "output_type": "execute_result",
          "data": {
            "text/plain": [
              "2.6000000000000014"
            ]
          },
          "metadata": {},
          "execution_count": 69
        }
      ]
    },
    {
      "cell_type": "markdown",
      "source": [
        "Python'da yazılan işlem sıralamasından bağımsız olarak matemetiksel işlem önceliğine göre hesaplama yapılır."
      ],
      "metadata": {
        "id": "YmL8Mn_leK3l"
      }
    },
    {
      "cell_type": "code",
      "source": [
        "2 - 10 * 2"
      ],
      "metadata": {
        "colab": {
          "base_uri": "https://localhost:8080/"
        },
        "id": "NEBQi4AUeU7y",
        "outputId": "9ec7ae26-a58a-4ee7-be31-810168e92ebf"
      },
      "execution_count": null,
      "outputs": [
        {
          "output_type": "execute_result",
          "data": {
            "text/plain": [
              "-18"
            ]
          },
          "metadata": {},
          "execution_count": 73
        }
      ]
    },
    {
      "cell_type": "code",
      "source": [
        "2 - (10 * 2)"
      ],
      "metadata": {
        "colab": {
          "base_uri": "https://localhost:8080/"
        },
        "id": "fk3LE-i4e367",
        "outputId": "5ad5cbba-ffff-43c7-f52a-5a75ac276d87"
      },
      "execution_count": null,
      "outputs": [
        {
          "output_type": "execute_result",
          "data": {
            "text/plain": [
              "-18"
            ]
          },
          "metadata": {},
          "execution_count": 74
        }
      ]
    },
    {
      "cell_type": "markdown",
      "source": [
        "Örnekte görüldüğü gibi, yazılan işlem sırasından bağımsız olarak matematiksel işlem önceliğindeki önce çarpma sonra çıkarma işlemi yapılır. Parantezli yazılmasa dahi bu durum geçerlidir."
      ],
      "metadata": {
        "id": "2yl47ei8eejB"
      }
    },
    {
      "cell_type": "markdown",
      "source": [
        "**Üs Alma / Üslü Yazma İşlemi**\n",
        "\n",
        "İki yıldız işareti `(**)` ile sayıların üs alma işlemi kolaylıkla yapılabilir."
      ],
      "metadata": {
        "id": "uht-2hiOfLUZ"
      }
    },
    {
      "cell_type": "code",
      "source": [
        "2 * 2 * 2 * 2 * 2"
      ],
      "metadata": {
        "colab": {
          "base_uri": "https://localhost:8080/"
        },
        "id": "zebQJmg7fRfL",
        "outputId": "531b63bb-2f0d-412f-dc7d-3f4d03e770c0"
      },
      "execution_count": null,
      "outputs": [
        {
          "output_type": "execute_result",
          "data": {
            "text/plain": [
              "32"
            ]
          },
          "metadata": {},
          "execution_count": 75
        }
      ]
    },
    {
      "cell_type": "code",
      "source": [
        "2 ** 5"
      ],
      "metadata": {
        "colab": {
          "base_uri": "https://localhost:8080/"
        },
        "id": "LFlJZejRfUEc",
        "outputId": "eecc95f8-b5c4-44bb-9d69-61844729ed98"
      },
      "execution_count": null,
      "outputs": [
        {
          "output_type": "execute_result",
          "data": {
            "text/plain": [
              "32"
            ]
          },
          "metadata": {},
          "execution_count": 76
        }
      ]
    },
    {
      "cell_type": "code",
      "source": [
        "2 ** 9"
      ],
      "metadata": {
        "colab": {
          "base_uri": "https://localhost:8080/"
        },
        "id": "55yhcX-LfhpW",
        "outputId": "02066c1a-df6f-493b-f07e-31a4f3083c08"
      },
      "execution_count": null,
      "outputs": [
        {
          "output_type": "execute_result",
          "data": {
            "text/plain": [
              "512"
            ]
          },
          "metadata": {},
          "execution_count": 78
        }
      ]
    },
    {
      "cell_type": "markdown",
      "source": [
        "**Kalanını Bulma(Remainder) İşlemi**\n",
        "\n",
        "Bölme işleminden kalan bulma yüzde` (%)` işareti kullanılarak yapılır."
      ],
      "metadata": {
        "id": "FLsJ5HonfvaX"
      }
    },
    {
      "cell_type": "code",
      "source": [
        "10 % 3"
      ],
      "metadata": {
        "colab": {
          "base_uri": "https://localhost:8080/"
        },
        "id": "xqCEiPN2fyQd",
        "outputId": "805f3d91-5ae9-4ea9-b994-7b7a1c33b00b"
      },
      "execution_count": null,
      "outputs": [
        {
          "output_type": "execute_result",
          "data": {
            "text/plain": [
              "1"
            ]
          },
          "metadata": {},
          "execution_count": 79
        }
      ]
    },
    {
      "cell_type": "code",
      "source": [
        "# Tam bölme işlemlerinde kalan `sıfır(0)`dır.\n",
        "\n",
        "10 % 2"
      ],
      "metadata": {
        "colab": {
          "base_uri": "https://localhost:8080/"
        },
        "id": "HGXjbm_8gFNL",
        "outputId": "0eaaea58-cf30-4ef5-9586-855f477f6bb9"
      },
      "execution_count": null,
      "outputs": [
        {
          "output_type": "execute_result",
          "data": {
            "text/plain": [
              "0"
            ]
          },
          "metadata": {},
          "execution_count": 81
        }
      ]
    },
    {
      "cell_type": "code",
      "source": [
        "10 % 4"
      ],
      "metadata": {
        "colab": {
          "base_uri": "https://localhost:8080/"
        },
        "id": "EXB4pba7gSL5",
        "outputId": "5b9e7d46-bc43-4559-a2c3-62775587184e"
      },
      "execution_count": null,
      "outputs": [
        {
          "output_type": "execute_result",
          "data": {
            "text/plain": [
              "2"
            ]
          },
          "metadata": {},
          "execution_count": 82
        }
      ]
    },
    {
      "cell_type": "markdown",
      "source": [
        "## String\n",
        "\n",
        "Programlama'ya ilk başlayanların yazdığı yazıyı yazmaya başlayarak ilerleyim.\n",
        "\n",
        "String ifadeler çift tırnak `(\"\")` olarak yazılmalıdır. Aksi halde syntaxerror hatası yani geçersiz söz dizimi uyarısı verir. Çift tırnak içine ifadeyi aldığımız da problem çözülür."
      ],
      "metadata": {
        "id": "eiEFCcYxguvL"
      }
    },
    {
      "cell_type": "code",
      "source": [
        "hello world"
      ],
      "metadata": {
        "colab": {
          "base_uri": "https://localhost:8080/",
          "height": 106
        },
        "id": "BfyrDK-bh9Cj",
        "outputId": "b8b592e0-a238-4fe3-cf36-3e1f68fc67e1"
      },
      "execution_count": null,
      "outputs": [
        {
          "output_type": "error",
          "ename": "SyntaxError",
          "evalue": "invalid syntax (ipython-input-84-3537592377.py, line 1)",
          "traceback": [
            "\u001b[0;36m  File \u001b[0;32m\"/tmp/ipython-input-84-3537592377.py\"\u001b[0;36m, line \u001b[0;32m1\u001b[0m\n\u001b[0;31m    hello world\u001b[0m\n\u001b[0m          ^\u001b[0m\n\u001b[0;31mSyntaxError\u001b[0m\u001b[0;31m:\u001b[0m invalid syntax\n"
          ]
        }
      ]
    },
    {
      "cell_type": "code",
      "source": [
        "\"hello world\""
      ],
      "metadata": {
        "colab": {
          "base_uri": "https://localhost:8080/",
          "height": 36
        },
        "id": "W3LCdzPxh5xv",
        "outputId": "4580881e-83ce-4678-bdcf-e5545edca29a"
      },
      "execution_count": null,
      "outputs": [
        {
          "output_type": "execute_result",
          "data": {
            "text/plain": [
              "'hello world'"
            ],
            "application/vnd.google.colaboratory.intrinsic+json": {
              "type": "string"
            }
          },
          "metadata": {},
          "execution_count": 85
        }
      ]
    },
    {
      "cell_type": "markdown",
      "source": [
        "**`print()` komutu:**"
      ],
      "metadata": {
        "id": "2lkKmp0Ekl42"
      }
    },
    {
      "cell_type": "markdown",
      "source": [
        "`print()` komutu yani fonksiyonu işlem yapmak istediğimiz bilgiyi ve kodu ekrana yazdırır.\n",
        "\n",
        "**Dikkat:**\n",
        "\n",
        "Jupyter notebook kullanırken her yazılan kodun çıktısı ekrara doğrudan yazdırıldığı için bu fonksiyonu kullanmadık.\n",
        "\n",
        "Fakat; PyCharm, Visual Studio Code gibi farklı ortamlarda kod yazılınca çıktıları görmek için bu komutu yazmamız gereklidir."
      ],
      "metadata": {
        "id": "gNL-PPsbj9SG"
      }
    },
    {
      "cell_type": "code",
      "source": [
        "print(\"hello world\")"
      ],
      "metadata": {
        "colab": {
          "base_uri": "https://localhost:8080/"
        },
        "id": "6kJEyJVMj69J",
        "outputId": "8fa10b11-5612-4e4f-a699-bcfcfbfa2863"
      },
      "execution_count": null,
      "outputs": [
        {
          "output_type": "stream",
          "name": "stdout",
          "text": [
            "hello world\n"
          ]
        }
      ]
    },
    {
      "cell_type": "code",
      "source": [
        "# String veri tipini atama\n",
        "\n",
        "name = \"atıl\""
      ],
      "metadata": {
        "id": "2LN02nHSk2kR"
      },
      "execution_count": null,
      "outputs": []
    },
    {
      "cell_type": "code",
      "source": [
        "# Veri tipi kontrolü\n",
        "\n",
        "type(name)"
      ],
      "metadata": {
        "colab": {
          "base_uri": "https://localhost:8080/"
        },
        "id": "Bps8v_GUk7Jb",
        "outputId": "d65f952b-f20d-4d57-c7ce-b38ef3792365"
      },
      "execution_count": null,
      "outputs": [
        {
          "output_type": "execute_result",
          "data": {
            "text/plain": [
              "str"
            ]
          },
          "metadata": {},
          "execution_count": 89
        }
      ]
    },
    {
      "cell_type": "markdown",
      "source": [
        "Tek `'....'` ve çift tırnak `\"....\"` içine string ifade tanımlanabilir. Aynı çıktı sonucunu verir."
      ],
      "metadata": {
        "id": "YCK_L9XblMnn"
      }
    },
    {
      "cell_type": "code",
      "source": [
        "'atil restaurant'"
      ],
      "metadata": {
        "colab": {
          "base_uri": "https://localhost:8080/",
          "height": 36
        },
        "id": "eWsYcaDFlHRD",
        "outputId": "6fd28e18-a302-40f9-f7c7-170dcbcdec4b"
      },
      "execution_count": null,
      "outputs": [
        {
          "output_type": "execute_result",
          "data": {
            "text/plain": [
              "'atil restaurant'"
            ],
            "application/vnd.google.colaboratory.intrinsic+json": {
              "type": "string"
            }
          },
          "metadata": {},
          "execution_count": 90
        }
      ]
    },
    {
      "cell_type": "code",
      "source": [
        "\"atil restaurant\""
      ],
      "metadata": {
        "colab": {
          "base_uri": "https://localhost:8080/",
          "height": 36
        },
        "id": "lYsCyG6xlJ1q",
        "outputId": "4b09d355-50d0-4f58-a3a0-96ed28a1e03b"
      },
      "execution_count": null,
      "outputs": [
        {
          "output_type": "execute_result",
          "data": {
            "text/plain": [
              "'atil restaurant'"
            ],
            "application/vnd.google.colaboratory.intrinsic+json": {
              "type": "string"
            }
          },
          "metadata": {},
          "execution_count": 91
        }
      ]
    },
    {
      "cell_type": "markdown",
      "source": [
        "Ancak, bazı `kesme işareti(apostrophe)` kullanılması gereken durumlar olduğunda tek tırnak kullanımında hata almamak için çift tırnak tercih edilir."
      ],
      "metadata": {
        "id": "fMWeKL_Gl2Yd"
      }
    },
    {
      "cell_type": "code",
      "source": [
        "\"atil's restaurant\""
      ],
      "metadata": {
        "colab": {
          "base_uri": "https://localhost:8080/",
          "height": 36
        },
        "id": "is_Mo4ICl5B7",
        "outputId": "f23a81bb-8da2-47da-e613-03ace668a38a"
      },
      "execution_count": null,
      "outputs": [
        {
          "output_type": "execute_result",
          "data": {
            "text/plain": [
              "\"atil's restaurant\""
            ],
            "application/vnd.google.colaboratory.intrinsic+json": {
              "type": "string"
            }
          },
          "metadata": {},
          "execution_count": 92
        }
      ]
    },
    {
      "cell_type": "code",
      "source": [
        "'atil's restaurant'"
      ],
      "metadata": {
        "colab": {
          "base_uri": "https://localhost:8080/",
          "height": 106
        },
        "id": "Ls7TINmAl7_A",
        "outputId": "a897d4d2-6716-466a-c21a-f72d2b657394"
      },
      "execution_count": null,
      "outputs": [
        {
          "output_type": "error",
          "ename": "SyntaxError",
          "evalue": "unterminated string literal (detected at line 1) (ipython-input-162-871278371.py, line 1)",
          "traceback": [
            "\u001b[0;36m  File \u001b[0;32m\"/tmp/ipython-input-162-871278371.py\"\u001b[0;36m, line \u001b[0;32m1\u001b[0m\n\u001b[0;31m    'atil's restaurant'\u001b[0m\n\u001b[0m                      ^\u001b[0m\n\u001b[0;31mSyntaxError\u001b[0m\u001b[0;31m:\u001b[0m unterminated string literal (detected at line 1)\n"
          ]
        }
      ]
    },
    {
      "cell_type": "markdown",
      "source": [
        "Görüldüğü gibi, `SyntaxError hatası` alındı. Burada tek tırnak içinde yazılan kısma kadar string ifade olarak tanındı fakat kalan kısım hata verdi. İfade açık kalmış halde görünmektedir.\n",
        "\n",
        "Bu tip durumların önüne geçmek için çift tırnak ile string tanımı yapılabilir."
      ],
      "metadata": {
        "id": "0ZOspdyoq6tO"
      }
    },
    {
      "cell_type": "code",
      "source": [
        "# Tanımlanan değişken\n",
        "\n",
        "name"
      ],
      "metadata": {
        "colab": {
          "base_uri": "https://localhost:8080/",
          "height": 36
        },
        "id": "CmLZKVa-sjkP",
        "outputId": "4a664c28-ace1-4d5e-d863-31e6c7e2cbe8"
      },
      "execution_count": null,
      "outputs": [
        {
          "output_type": "execute_result",
          "data": {
            "text/plain": [
              "'atil'"
            ],
            "application/vnd.google.colaboratory.intrinsic+json": {
              "type": "string"
            }
          },
          "metadata": {},
          "execution_count": 105
        }
      ]
    },
    {
      "cell_type": "code",
      "source": [
        " # name değişken atamasının değiştirilmesi\n",
        "\n",
        " name = \"atil\""
      ],
      "metadata": {
        "id": "qoNwBGBlsooS"
      },
      "execution_count": null,
      "outputs": []
    },
    {
      "cell_type": "code",
      "source": [
        "name"
      ],
      "metadata": {
        "colab": {
          "base_uri": "https://localhost:8080/",
          "height": 36
        },
        "id": "b5_sdv2AsvRL",
        "outputId": "3306eaf4-b78e-4192-ae0b-bc02c1aa48ef"
      },
      "execution_count": null,
      "outputs": [
        {
          "output_type": "execute_result",
          "data": {
            "text/plain": [
              "'atil'"
            ],
            "application/vnd.google.colaboratory.intrinsic+json": {
              "type": "string"
            }
          },
          "metadata": {},
          "execution_count": 114
        }
      ]
    },
    {
      "cell_type": "code",
      "source": [
        "type(name)"
      ],
      "metadata": {
        "colab": {
          "base_uri": "https://localhost:8080/"
        },
        "id": "oiMNNLqKs5Sr",
        "outputId": "abff66aa-5e2f-42ac-bcb7-54d0337c13b5"
      },
      "execution_count": null,
      "outputs": [
        {
          "output_type": "execute_result",
          "data": {
            "text/plain": [
              "str"
            ]
          },
          "metadata": {},
          "execution_count": 115
        }
      ]
    },
    {
      "cell_type": "code",
      "source": [
        "name = \"büşra atasoy\""
      ],
      "metadata": {
        "id": "kf2pHFIWuGoL"
      },
      "execution_count": null,
      "outputs": []
    },
    {
      "cell_type": "code",
      "source": [
        "name"
      ],
      "metadata": {
        "colab": {
          "base_uri": "https://localhost:8080/",
          "height": 36
        },
        "id": "sY8AxNMtuKoG",
        "outputId": "ff1fd387-2e58-41a5-e92c-c916d1aca72f"
      },
      "execution_count": null,
      "outputs": [
        {
          "output_type": "execute_result",
          "data": {
            "text/plain": [
              "'büşra atasoy'"
            ],
            "application/vnd.google.colaboratory.intrinsic+json": {
              "type": "string"
            }
          },
          "metadata": {},
          "execution_count": 118
        }
      ]
    },
    {
      "cell_type": "markdown",
      "source": [
        "**Değişkenlerin Özelliklerine Erişme**\n",
        "\n",
        "- name değişkeni -> nokta -> tab tuşu basıldığında (name.) bu değişken için yapılacak tüm işlemlere ulaşılır.\n",
        "- name değişkeni string ifade olarak tanımlı olduğu için stringlere uygulanan capitalize gibi method ve fonksiyonlara pratik olarak ulaşılır."
      ],
      "metadata": {
        "id": "TuKTCCy4u1WI"
      }
    },
    {
      "cell_type": "code",
      "source": [
        "# İlk harfini büyük harf ile yazmak için;\n",
        "\n",
        "name.capitalize()"
      ],
      "metadata": {
        "colab": {
          "base_uri": "https://localhost:8080/",
          "height": 36
        },
        "id": "7unuiJgBuZF5",
        "outputId": "75567dcb-9807-4fe6-fed0-ba75d3261dc2"
      },
      "execution_count": null,
      "outputs": [
        {
          "output_type": "execute_result",
          "data": {
            "text/plain": [
              "'Büşra atasoy'"
            ],
            "application/vnd.google.colaboratory.intrinsic+json": {
              "type": "string"
            }
          },
          "metadata": {},
          "execution_count": 121
        }
      ]
    },
    {
      "cell_type": "markdown",
      "source": [
        "**Fonksiyonlarda Parantez Kullanımı ve Anlamı**\n",
        "\n",
        "- Yazılan fonksiyonlara parantezler eklenirse () gibi çalıştır anlamındadır.\n",
        "- Parantezsiz yazıldığında ise, ne olduğunu yazan bir yazı ekrana yansır. Yani; Sadece FONKSİYONUN KENDİSİNE referans verilir.\n",
        "Çalıştırılmaz, sadece “bu bir fonksiyondur” der gibi ekrana yansır.\n",
        "\n",
        "- Bazıları () parantez eklenmeden de çalıştırılabilir bu kuralın geçerli olmadığı fonksiyon harici durumlar olabilir. Parantezsiz çalışıyorsa → muhtemelen fonksiyon değil, bir veri ya da nesnedir.\n"
      ],
      "metadata": {
        "id": "6yGPSyKZvn3q"
      }
    },
    {
      "cell_type": "code",
      "source": [
        "name.capitalize"
      ],
      "metadata": {
        "colab": {
          "base_uri": "https://localhost:8080/"
        },
        "id": "Yn1poOuDvR53",
        "outputId": "2d0fec99-0a44-485a-e38a-951e8b6861af"
      },
      "execution_count": null,
      "outputs": [
        {
          "output_type": "execute_result",
          "data": {
            "text/plain": [
              "<function str.capitalize()>"
            ]
          },
          "metadata": {},
          "execution_count": 122
        }
      ]
    },
    {
      "cell_type": "code",
      "source": [
        "x = 10"
      ],
      "metadata": {
        "id": "0Cbqvzfzxcy_"
      },
      "execution_count": null,
      "outputs": []
    },
    {
      "cell_type": "code",
      "source": [
        "type(x)"
      ],
      "metadata": {
        "colab": {
          "base_uri": "https://localhost:8080/"
        },
        "id": "MkT_r7aOxeAq",
        "outputId": "c7038942-a689-4994-bc3c-4fed366deec9"
      },
      "execution_count": null,
      "outputs": [
        {
          "output_type": "execute_result",
          "data": {
            "text/plain": [
              "int"
            ]
          },
          "metadata": {},
          "execution_count": 123
        }
      ]
    },
    {
      "cell_type": "markdown",
      "source": [
        "x. ile hızlıca bakılırsa stringlere kıyasla int ile yapılacak daha az işlem olduğu görülür.\n",
        "\n",
        "- Farklı veri tiplerinin olması bu yönüyle de önemlidir. Bölme yapmak stringde anlam ifade etmediği gibi, ilk harfi büyük yapma gibi işlemler integerda anlamsızdır.\n",
        "\n",
        "- Bu sebeple, her veri tipinin farklı olması ve uygulanacak işlemlerinde farklı olması anlamlıdır."
      ],
      "metadata": {
        "id": "lI9Lvr66xi8x"
      }
    },
    {
      "cell_type": "markdown",
      "source": [
        "## String Methodları"
      ],
      "metadata": {
        "id": "4I0unPRF_Lbz"
      }
    },
    {
      "cell_type": "markdown",
      "source": [
        "Eğer değişkenlere uygulanacak işlemlerin nasıl uygulanacağını ve ne anlama geldiğini bilmiyorsak Python dökümanından yararlanabiliriz.\n",
        "\n",
        "-> [Python documentation link:](https://www.python.org/doc/)\n",
        "\n",
        "Dökümanı incelediğinizde anlatım seviyesi ileri gelebilir. Bu durumda Python help yönetimini kullanarak da işlemler hakkında bilgi sahibi olabiliriz. Kısa açıklamalı olarak hızlıca erişim sağlayabiliriz."
      ],
      "metadata": {
        "id": "PavhKMYSzXRl"
      }
    },
    {
      "cell_type": "code",
      "source": [
        "# Değişken ve uygulanmak istenen işlem yazılır.\n",
        "\n",
        "help(name.count)"
      ],
      "metadata": {
        "colab": {
          "base_uri": "https://localhost:8080/"
        },
        "id": "_1j32kba0LdX",
        "outputId": "d11506f5-7a91-46d1-8c11-cfdb73a27c49"
      },
      "execution_count": null,
      "outputs": [
        {
          "output_type": "stream",
          "name": "stdout",
          "text": [
            "Help on built-in function count:\n",
            "\n",
            "count(...) method of builtins.str instance\n",
            "    S.count(sub[, start[, end]]) -> int\n",
            "    \n",
            "    Return the number of non-overlapping occurrences of substring sub in\n",
            "    string S[start:end].  Optional arguments start and end are\n",
            "    interpreted as in slice notation.\n",
            "\n"
          ]
        }
      ]
    },
    {
      "cell_type": "code",
      "source": [
        "# Bilgi almak istediğimiz için parantezsiz yazılır.\n",
        "\n",
        "help(name.capitalize)"
      ],
      "metadata": {
        "colab": {
          "base_uri": "https://localhost:8080/"
        },
        "id": "aqjfIMes0Yst",
        "outputId": "f6f99884-644e-4a5a-9f75-de11e506322a"
      },
      "execution_count": null,
      "outputs": [
        {
          "output_type": "stream",
          "name": "stdout",
          "text": [
            "Help on built-in function capitalize:\n",
            "\n",
            "capitalize() method of builtins.str instance\n",
            "    Return a capitalized version of the string.\n",
            "    \n",
            "    More specifically, make the first character have upper case and the rest lower\n",
            "    case.\n",
            "\n"
          ]
        }
      ]
    },
    {
      "cell_type": "markdown",
      "source": [
        "**Count() methodu:**\n",
        "\n",
        "Yazılan değişken içindeki harfin sayımını yapar.\n",
        "\n",
        "Değişken isminde olmayan harf sayımı istendiğinde sıfır \"0\" sonucunu döndürür."
      ],
      "metadata": {
        "id": "yo_DpSGK0ymA"
      }
    },
    {
      "cell_type": "code",
      "source": [
        "name"
      ],
      "metadata": {
        "colab": {
          "base_uri": "https://localhost:8080/",
          "height": 36
        },
        "id": "2nqTY5MF0-BU",
        "outputId": "fa2eb7ec-ff29-40a6-9e50-aa2f2c4730a9"
      },
      "execution_count": null,
      "outputs": [
        {
          "output_type": "execute_result",
          "data": {
            "text/plain": [
              "'büşra atasoy'"
            ],
            "application/vnd.google.colaboratory.intrinsic+json": {
              "type": "string"
            }
          },
          "metadata": {},
          "execution_count": 132
        }
      ]
    },
    {
      "cell_type": "code",
      "source": [
        "# Kaç tane \"a\" var?\n",
        "\n",
        "name.count(\"a\")"
      ],
      "metadata": {
        "colab": {
          "base_uri": "https://localhost:8080/"
        },
        "id": "vKviYE4F0ol4",
        "outputId": "0cf12941-a9db-4bc5-c0eb-2f491632869e"
      },
      "execution_count": null,
      "outputs": [
        {
          "output_type": "execute_result",
          "data": {
            "text/plain": [
              "3"
            ]
          },
          "metadata": {},
          "execution_count": 131
        }
      ]
    },
    {
      "cell_type": "code",
      "source": [
        "# Kaç tane \"b\" var?\n",
        "\n",
        "name.count(\"b\")"
      ],
      "metadata": {
        "colab": {
          "base_uri": "https://localhost:8080/"
        },
        "id": "NnnwdG2b0q6M",
        "outputId": "c82d6a6d-2add-4a43-d900-d915e3047807"
      },
      "execution_count": null,
      "outputs": [
        {
          "output_type": "execute_result",
          "data": {
            "text/plain": [
              "1"
            ]
          },
          "metadata": {},
          "execution_count": 133
        }
      ]
    },
    {
      "cell_type": "code",
      "source": [
        "# Kaç tane \"c\" var?\n",
        "name.count(\"c\")\n"
      ],
      "metadata": {
        "colab": {
          "base_uri": "https://localhost:8080/"
        },
        "id": "ldiPog3f1VJ_",
        "outputId": "706b3031-c8ed-494d-9e7b-c1cbdef5d457"
      },
      "execution_count": null,
      "outputs": [
        {
          "output_type": "execute_result",
          "data": {
            "text/plain": [
              "0"
            ]
          },
          "metadata": {},
          "execution_count": 135
        }
      ]
    },
    {
      "cell_type": "markdown",
      "source": [
        "**upper() methodu:**\n",
        "\n",
        "String ifadenin tüm harflerini büyük harf haline getirir."
      ],
      "metadata": {
        "id": "AgOqdBJ11k-o"
      }
    },
    {
      "cell_type": "code",
      "source": [
        "name.upper()"
      ],
      "metadata": {
        "colab": {
          "base_uri": "https://localhost:8080/",
          "height": 36
        },
        "id": "InRMVhUH1kst",
        "outputId": "159c42e8-221b-46a1-fc7e-f4952630dd96"
      },
      "execution_count": null,
      "outputs": [
        {
          "output_type": "execute_result",
          "data": {
            "text/plain": [
              "'BÜŞRA ATASOY'"
            ],
            "application/vnd.google.colaboratory.intrinsic+json": {
              "type": "string"
            }
          },
          "metadata": {},
          "execution_count": 137
        }
      ]
    },
    {
      "cell_type": "markdown",
      "source": [
        "**Peki; yapılan tüm değişiklikler kayıtlı mı ?**\n",
        "\n",
        "capitalize() methodu ile ilk harfi büyük dönüştürdük, uyguladık, şimdi de upper() ile hepsini büyük harfe çevirdik.\n",
        "\n",
        "Ancak; name yazıp değişken ismini çağırdığımızda en başta atanan değerde olduğunu görebiliriz.\n"
      ],
      "metadata": {
        "id": "dLxq952q13mo"
      }
    },
    {
      "cell_type": "code",
      "source": [
        "name"
      ],
      "metadata": {
        "colab": {
          "base_uri": "https://localhost:8080/",
          "height": 36
        },
        "id": "7_KAcvAe2JRo",
        "outputId": "da780120-a4a0-4461-ae6f-471bc36cec76"
      },
      "execution_count": null,
      "outputs": [
        {
          "output_type": "execute_result",
          "data": {
            "text/plain": [
              "'büşra atasoy'"
            ],
            "application/vnd.google.colaboratory.intrinsic+json": {
              "type": "string"
            }
          },
          "metadata": {},
          "execution_count": 138
        }
      ]
    },
    {
      "cell_type": "markdown",
      "source": [
        "**Peki; neden böyle ?**\n",
        "\n",
        "Bazı fonksiyonlar çalışılan değişkenin içeriğini doğrudan değiştirebilir , bazıları ise, orijinal veriyi değiştirmez, sadece geçici olarak işlem sonucu üretir.\n",
        "\n",
        "Bu durumda yeni bir değişken ataması oluşturularak değişikliğin kaydedilmesi gereklidir. Böylece yeni değişken çağrıldığında değişiklik uygulanmış olur.\n",
        "\n",
        "\n",
        "\n",
        "**🧭 Sonuç:**\n",
        "\n",
        "Bir metod çalıştırıldığında:\n",
        "\n",
        "- Eğer sonucu yeni bir değişkene atamazsan, orijinal veri değişmez.\n",
        "\n",
        "- Python, özellikle string gibi “değiştirilemez (immutable)” veri tiplerinde orijinal veriyi korumayı tercih eder."
      ],
      "metadata": {
        "id": "e5mp582q2VPW"
      }
    },
    {
      "cell_type": "code",
      "source": [
        "# Değişkenleri tanımlayalım\n",
        "\n",
        "x = 10\n",
        "y = 5"
      ],
      "metadata": {
        "id": "iT7bT_Sc6YaU"
      },
      "execution_count": null,
      "outputs": []
    },
    {
      "cell_type": "code",
      "source": [
        "# Değişken işlem sonucu\n",
        "\n",
        "x + y"
      ],
      "metadata": {
        "colab": {
          "base_uri": "https://localhost:8080/"
        },
        "id": "hoNSaLub6a2h",
        "outputId": "8cf5d7ad-c0fd-45e4-e151-f86bab8dc1cc"
      },
      "execution_count": null,
      "outputs": [
        {
          "output_type": "execute_result",
          "data": {
            "text/plain": [
              "15"
            ]
          },
          "metadata": {},
          "execution_count": 140
        }
      ]
    },
    {
      "cell_type": "code",
      "source": [
        "# z adlı başka değişkene atama\n",
        "\n",
        "z = x + y"
      ],
      "metadata": {
        "id": "Zp97OgkU6eS_"
      },
      "execution_count": null,
      "outputs": []
    },
    {
      "cell_type": "code",
      "source": [
        "# değişkeni çağırma\n",
        "\n",
        "z"
      ],
      "metadata": {
        "colab": {
          "base_uri": "https://localhost:8080/"
        },
        "id": "MnjqCZLX6gWO",
        "outputId": "8e85e823-e967-4204-867b-d99df8b95965"
      },
      "execution_count": null,
      "outputs": [
        {
          "output_type": "execute_result",
          "data": {
            "text/plain": [
              "15"
            ]
          },
          "metadata": {},
          "execution_count": 142
        }
      ]
    },
    {
      "cell_type": "code",
      "source": [
        "name"
      ],
      "metadata": {
        "colab": {
          "base_uri": "https://localhost:8080/",
          "height": 36
        },
        "id": "pwv-1g-E6tqF",
        "outputId": "0fa6441d-5d1d-439d-d23a-576f6541e12d"
      },
      "execution_count": null,
      "outputs": [
        {
          "output_type": "execute_result",
          "data": {
            "text/plain": [
              "'büşra atasoy'"
            ],
            "application/vnd.google.colaboratory.intrinsic+json": {
              "type": "string"
            }
          },
          "metadata": {},
          "execution_count": 143
        }
      ]
    },
    {
      "cell_type": "code",
      "source": [
        "#upper methodunu farklı değişkene atama\n",
        "\n",
        "nameUpper = name.upper()"
      ],
      "metadata": {
        "id": "w9NJBQxJ6xLo"
      },
      "execution_count": null,
      "outputs": []
    },
    {
      "cell_type": "code",
      "source": [
        "# yeni değişkeni çağırma\n",
        "\n",
        "nameUpper"
      ],
      "metadata": {
        "colab": {
          "base_uri": "https://localhost:8080/",
          "height": 36
        },
        "id": "iry_O0nO61DR",
        "outputId": "f4dd41ba-37a0-45b2-fffd-b24fa5479469"
      },
      "execution_count": null,
      "outputs": [
        {
          "output_type": "execute_result",
          "data": {
            "text/plain": [
              "'BÜŞRA ATASOY'"
            ],
            "application/vnd.google.colaboratory.intrinsic+json": {
              "type": "string"
            }
          },
          "metadata": {},
          "execution_count": 145
        }
      ]
    },
    {
      "cell_type": "markdown",
      "source": [
        "Görüldüğü üzere, yapılan işlemler yeni değişkene atanıp çağrıldığında işlemlerin uygulandığı görünür ve kayıtlı hale gelir.\n",
        "\n",
        "Burada name değişkenin içeriği yine değişmez sadece yapılan diğer işlemler yeni değişken ile kayıtlı hale gelir."
      ],
      "metadata": {
        "id": "qkhWH_C_698x"
      }
    },
    {
      "cell_type": "code",
      "source": [
        "name"
      ],
      "metadata": {
        "colab": {
          "base_uri": "https://localhost:8080/",
          "height": 36
        },
        "id": "S6vhanRe7JvV",
        "outputId": "415e12f0-150a-4ac2-c4bb-374164e7a2e7"
      },
      "execution_count": null,
      "outputs": [
        {
          "output_type": "execute_result",
          "data": {
            "text/plain": [
              "'büşra atasoy'"
            ],
            "application/vnd.google.colaboratory.intrinsic+json": {
              "type": "string"
            }
          },
          "metadata": {},
          "execution_count": 146
        }
      ]
    },
    {
      "cell_type": "code",
      "source": [
        "print(name.upper())"
      ],
      "metadata": {
        "colab": {
          "base_uri": "https://localhost:8080/"
        },
        "id": "BFDni_327ZR9",
        "outputId": "1bfdd9d3-b5b7-4802-c3f2-b54be0432c0d"
      },
      "execution_count": null,
      "outputs": [
        {
          "output_type": "stream",
          "name": "stdout",
          "text": [
            "BÜŞRA ATASOY\n"
          ]
        }
      ]
    },
    {
      "cell_type": "markdown",
      "source": [
        "**Not:**\n",
        "\n",
        "Eğer uygulanılan işlem bilgisi sadece kullanıcıya anlık göstermek için ise; print içine işlem yazılarak gösterilir.\n",
        "\n",
        "Fakat, işlem kayıtlı olması ve kod devamında başka işlemlerde kullanılacak ise, yeni değişken ataması ile kayıtlı hale getirilmelidir."
      ],
      "metadata": {
        "id": "tyz6RbOy7dsw"
      }
    },
    {
      "cell_type": "code",
      "source": [
        "help(name.upper)"
      ],
      "metadata": {
        "colab": {
          "base_uri": "https://localhost:8080/"
        },
        "id": "lqpIpoyI7y46",
        "outputId": "0e6d3db2-fd61-449e-aa4c-00aedb60e7ef"
      },
      "execution_count": null,
      "outputs": [
        {
          "output_type": "stream",
          "name": "stdout",
          "text": [
            "Help on built-in function upper:\n",
            "\n",
            "upper() method of builtins.str instance\n",
            "    Return a copy of the string converted to uppercase.\n",
            "\n"
          ]
        }
      ]
    },
    {
      "cell_type": "markdown",
      "source": [
        "**Açıklamasında yazdığı gibi:**\n",
        "\n",
        "`**Return a copy**` of the string converted to uppercase.\n",
        "\n",
        "Dizenin büyük harfe dönüştürülmüş bir kopyasını döndür."
      ],
      "metadata": {
        "id": "-ca9gzb575ST"
      }
    },
    {
      "cell_type": "markdown",
      "source": [
        "**len() methodu:**\n",
        "\n",
        "- Length yani uzunluk bilgisi verir."
      ],
      "metadata": {
        "id": "9KDr7ZaC8QWo"
      }
    },
    {
      "cell_type": "code",
      "source": [
        "# name: büşra atasoy olarak kaç harfli?\n",
        "# Boşluk karakterini de sayar.\n",
        "\n",
        "len(name)"
      ],
      "metadata": {
        "colab": {
          "base_uri": "https://localhost:8080/"
        },
        "id": "iMBJRsI28W5m",
        "outputId": "db6ab19e-1852-4fa5-b63c-7c3bad6741cb"
      },
      "execution_count": null,
      "outputs": [
        {
          "output_type": "execute_result",
          "data": {
            "text/plain": [
              "12"
            ]
          },
          "metadata": {},
          "execution_count": 149
        }
      ]
    },
    {
      "cell_type": "code",
      "source": [
        "help(len)"
      ],
      "metadata": {
        "colab": {
          "base_uri": "https://localhost:8080/"
        },
        "id": "7hb1sfS_8tX-",
        "outputId": "93129664-b2b5-4280-830b-bced152e06a7"
      },
      "execution_count": null,
      "outputs": [
        {
          "output_type": "stream",
          "name": "stdout",
          "text": [
            "Help on built-in function len in module builtins:\n",
            "\n",
            "len(obj, /)\n",
            "    Return the number of items in a container.\n",
            "\n"
          ]
        }
      ]
    },
    {
      "cell_type": "markdown",
      "source": [
        "**Kaçış Karakterleri-Escape Characters**\n",
        "\n",
        "**Farklı Satırda Yazdırma İşlemi:**\n",
        "\n",
        "- Ters slaş ve n harfi (\\n)kullanılarak yapılır.\n",
        "- Hangi satırı altta yazılmasını istiyorsak onun başına yazılır."
      ],
      "metadata": {
        "id": "mhg5rDDJ89ra"
      }
    },
    {
      "cell_type": "code",
      "source": [
        "print(\"büşra atasoy\")"
      ],
      "metadata": {
        "colab": {
          "base_uri": "https://localhost:8080/"
        },
        "id": "QqxY0IHu84aw",
        "outputId": "b6d9a9f0-3e61-4063-b13b-84a9f95f6773"
      },
      "execution_count": null,
      "outputs": [
        {
          "output_type": "stream",
          "name": "stdout",
          "text": [
            "büşra atasoy\n"
          ]
        }
      ]
    },
    {
      "cell_type": "code",
      "source": [
        "print(\"büşra \\natasoy\")"
      ],
      "metadata": {
        "colab": {
          "base_uri": "https://localhost:8080/"
        },
        "id": "-up3hRy59SZk",
        "outputId": "5114f1ff-a377-4196-edda-8ae15e54eb70"
      },
      "execution_count": null,
      "outputs": [
        {
          "output_type": "stream",
          "name": "stdout",
          "text": [
            "büşra \n",
            "atasoy\n"
          ]
        }
      ]
    },
    {
      "cell_type": "markdown",
      "source": [
        "**Bir tablık boşluk bırakma İşlemi:**\n",
        "\n",
        "- Tek boşluk yerine bir tablık boşluk bırakılır.\n",
        "\n",
        "- Ters slaş ve t harfi (\\t)kullanılarak yapılır."
      ],
      "metadata": {
        "id": "zb1A6jlT-Dm_"
      }
    },
    {
      "cell_type": "code",
      "source": [
        "print(\"büşra \\tatasoy\")"
      ],
      "metadata": {
        "colab": {
          "base_uri": "https://localhost:8080/"
        },
        "id": "JYHW393q-OuN",
        "outputId": "2d7adfce-4814-4731-a248-0a0f6bd50876"
      },
      "execution_count": null,
      "outputs": [
        {
          "output_type": "stream",
          "name": "stdout",
          "text": [
            "büşra \tatasoy\n"
          ]
        }
      ]
    }
  ]
}