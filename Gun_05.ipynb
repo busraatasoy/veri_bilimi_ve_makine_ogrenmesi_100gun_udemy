{
  "nbformat": 4,
  "nbformat_minor": 0,
  "metadata": {
    "colab": {
      "provenance": [],
      "toc_visible": true,
      "authorship_tag": "ABX9TyMvedg6ig/DGX/ju3mTavkv",
      "include_colab_link": true
    },
    "kernelspec": {
      "name": "python3",
      "display_name": "Python 3"
    },
    "language_info": {
      "name": "python"
    }
  },
  "cells": [
    {
      "cell_type": "markdown",
      "metadata": {
        "id": "view-in-github",
        "colab_type": "text"
      },
      "source": [
        "<a href=\"https://colab.research.google.com/github/busraatasoy/veri_bilimi_ve_makine_ogrenmesi_100gun_udemy/blob/main/Gun_05.ipynb\" target=\"_parent\"><img src=\"https://colab.research.google.com/assets/colab-badge.svg\" alt=\"Open In Colab\"/></a>"
      ]
    },
    {
      "cell_type": "markdown",
      "source": [
        "# Gün 5: QUIZ\n",
        "\n",
        "Bugün 10 sorudan oluşan quiz çalışması yapılmıştır. Bunlar:\n",
        "\n",
        "- Değişken atama\n",
        "- Indexleme işlemi\n",
        "- Slicing işlemi\n",
        "- Veri tipi sorgulama (type)\n",
        "- Matematiksel işlemler\n",
        "- Liste Oluşturma\n",
        "- Liste içinden eleman bulma\n",
        "- Sözlük içinden eleman bulma\n",
        "- Liste-set dönüşümü\n",
        "- Boolen değer döndürme"
      ],
      "metadata": {
        "id": "F2m-Vgfdqu9O"
      }
    },
    {
      "cell_type": "code",
      "execution_count": null,
      "metadata": {
        "id": "wHnEoAp3qodk"
      },
      "outputs": [],
      "source": [
        "# 1) Asagidaki string'in 5. harfini bir degiskene atayiniz"
      ]
    },
    {
      "cell_type": "code",
      "source": [
        "my_string = \"Python Ogreniyorum\""
      ],
      "metadata": {
        "id": "W6M9hfsar77J"
      },
      "execution_count": 2,
      "outputs": []
    },
    {
      "cell_type": "code",
      "source": [
        "#cevap\n",
        "# Indexler 0 ile başlar.\n",
        "\n",
        "my_letter = my_string[4]"
      ],
      "metadata": {
        "id": "EEZHtHykr8CL"
      },
      "execution_count": 3,
      "outputs": []
    },
    {
      "cell_type": "code",
      "source": [
        "#cevap\n",
        "# Ekrana yazdıralım\n",
        "\n",
        "my_letter"
      ],
      "metadata": {
        "colab": {
          "base_uri": "https://localhost:8080/",
          "height": 36
        },
        "id": "m3HnzkIEr8E4",
        "outputId": "2c097d43-0f85-46cf-ec48-9a1a26325945"
      },
      "execution_count": 4,
      "outputs": [
        {
          "output_type": "execute_result",
          "data": {
            "text/plain": [
              "'o'"
            ],
            "application/vnd.google.colaboratory.intrinsic+json": {
              "type": "string"
            }
          },
          "metadata": {},
          "execution_count": 4
        }
      ]
    },
    {
      "cell_type": "code",
      "source": [
        "# 2) Asagidaki String'in 5. ve 8. karakteri arasindaki tum harflerini yazdiriniz (5 ve 8 dahil)"
      ],
      "metadata": {
        "id": "eARt0x_fr8Hv"
      },
      "execution_count": null,
      "outputs": []
    },
    {
      "cell_type": "code",
      "source": [
        "my_new_letter = \"ProgramlamayaMerhabaDedik\""
      ],
      "metadata": {
        "id": "ItOfzj2Or8KW"
      },
      "execution_count": 8,
      "outputs": []
    },
    {
      "cell_type": "code",
      "source": [
        "#cevap\n",
        "# Index 0 ile başlar\n",
        "# Slicing işleminde -e kadar işlemi dahil.\n",
        "\n",
        "my_slicing = my_new_letter[4:8]   #veya my_new_letter[4:8:]"
      ],
      "metadata": {
        "id": "INi_CaTjr8M9"
      },
      "execution_count": 15,
      "outputs": []
    },
    {
      "cell_type": "code",
      "source": [
        "#cevap\n",
        "# Ekrana yazdıralım\n",
        "\n",
        "my_slicing"
      ],
      "metadata": {
        "colab": {
          "base_uri": "https://localhost:8080/",
          "height": 36
        },
        "id": "ytvssNvZr8PU",
        "outputId": "665f3d80-87d4-4bf5-888f-9f8182184c34"
      },
      "execution_count": 16,
      "outputs": [
        {
          "output_type": "execute_result",
          "data": {
            "text/plain": [
              "'raml'"
            ],
            "application/vnd.google.colaboratory.intrinsic+json": {
              "type": "string"
            }
          },
          "metadata": {},
          "execution_count": 16
        }
      ]
    },
    {
      "cell_type": "code",
      "source": [
        "# 3) Asagidaki String'i kod ile tersten yazin"
      ],
      "metadata": {
        "id": "m5F-eVL9r8R8"
      },
      "execution_count": null,
      "outputs": []
    },
    {
      "cell_type": "code",
      "source": [
        "my_last_string = \"Afyonkarahisarlilastiramadiklarimizdanmisiniz\""
      ],
      "metadata": {
        "id": "c9RJo7SJr8Uq"
      },
      "execution_count": 18,
      "outputs": []
    },
    {
      "cell_type": "code",
      "source": [
        "#cevap\n",
        "\n",
        "my_backwords = my_last_string[::-1]"
      ],
      "metadata": {
        "id": "HE08iW6Ur8XZ"
      },
      "execution_count": 20,
      "outputs": []
    },
    {
      "cell_type": "code",
      "source": [
        "#cevap\n",
        "# Ekrana yazdıralım\n",
        "\n",
        "my_backwords"
      ],
      "metadata": {
        "colab": {
          "base_uri": "https://localhost:8080/",
          "height": 36
        },
        "id": "1lKc4gRor8aA",
        "outputId": "b37b5faf-c059-4a74-f4ad-65bfb9762427"
      },
      "execution_count": 21,
      "outputs": [
        {
          "output_type": "execute_result",
          "data": {
            "text/plain": [
              "'zinisimnadzimiralkidamaritsalilrasiharaknoyfA'"
            ],
            "application/vnd.google.colaboratory.intrinsic+json": {
              "type": "string"
            }
          },
          "metadata": {},
          "execution_count": 21
        }
      ]
    },
    {
      "cell_type": "code",
      "source": [
        "# 4) Asagidaki islemin sonucu hangi veri tipinde olacaktir?"
      ],
      "metadata": {
        "id": "c-gYcst8r8c3"
      },
      "execution_count": null,
      "outputs": []
    },
    {
      "cell_type": "code",
      "source": [
        "4 + 12.2 + 48"
      ],
      "metadata": {
        "colab": {
          "base_uri": "https://localhost:8080/"
        },
        "id": "6Bv0WhGRr8fe",
        "outputId": "10856768-9a66-4f6f-b591-28cddcacd510"
      },
      "execution_count": 22,
      "outputs": [
        {
          "output_type": "execute_result",
          "data": {
            "text/plain": [
              "64.2"
            ]
          },
          "metadata": {},
          "execution_count": 22
        }
      ]
    },
    {
      "cell_type": "code",
      "source": [
        "#cevap\n",
        "\n",
        "type(4 + 12.2 + 48)"
      ],
      "metadata": {
        "colab": {
          "base_uri": "https://localhost:8080/"
        },
        "id": "-leNGNVNr8iX",
        "outputId": "c8628faa-cb1f-4f83-ac8d-699e91e95dc7"
      },
      "execution_count": 23,
      "outputs": [
        {
          "output_type": "execute_result",
          "data": {
            "text/plain": [
              "float"
            ]
          },
          "metadata": {},
          "execution_count": 23
        }
      ]
    },
    {
      "cell_type": "code",
      "source": [
        "# 5) Asagidaki islemin sonucu kactir?"
      ],
      "metadata": {
        "id": "ZLCQzBo-r8nq"
      },
      "execution_count": null,
      "outputs": []
    },
    {
      "cell_type": "code",
      "source": [
        "5 + 7 * 12"
      ],
      "metadata": {
        "colab": {
          "base_uri": "https://localhost:8080/"
        },
        "id": "HtgE1oP7r8qb",
        "outputId": "a6844cac-3d89-4747-af08-661f75838023"
      },
      "execution_count": 24,
      "outputs": [
        {
          "output_type": "execute_result",
          "data": {
            "text/plain": [
              "89"
            ]
          },
          "metadata": {},
          "execution_count": 24
        }
      ]
    },
    {
      "cell_type": "code",
      "source": [
        "#cevap\n",
        "# Matematikte öncelik işlemi vardır."
      ],
      "metadata": {
        "id": "t8OcMX4Rr8tQ"
      },
      "execution_count": null,
      "outputs": []
    },
    {
      "cell_type": "code",
      "source": [
        "# 6) Bu listeyi en az 2 farkli yoldan olusturunuz: [1,3,\"a\"]"
      ],
      "metadata": {
        "id": "M1o3-IHDr8y0"
      },
      "execution_count": null,
      "outputs": []
    },
    {
      "cell_type": "code",
      "source": [
        "#cevap 1\n",
        "\n",
        "my_list = [1,3,\"a\"]"
      ],
      "metadata": {
        "id": "jye-TCldr81b"
      },
      "execution_count": 25,
      "outputs": []
    },
    {
      "cell_type": "code",
      "source": [
        "#cevap 1\n",
        "# Ekrana yazdıralım\n",
        "\n",
        "my_list"
      ],
      "metadata": {
        "colab": {
          "base_uri": "https://localhost:8080/"
        },
        "id": "0aAhm5o8r84J",
        "outputId": "475c0c91-4fc1-4e2f-cadd-0be012239b38"
      },
      "execution_count": 26,
      "outputs": [
        {
          "output_type": "execute_result",
          "data": {
            "text/plain": [
              "[1, 3, 'a']"
            ]
          },
          "metadata": {},
          "execution_count": 26
        }
      ]
    },
    {
      "cell_type": "code",
      "source": [
        "#cevap 2\n",
        "#Boş liste oluşturalım\n",
        "\n",
        "my_list2 = list()"
      ],
      "metadata": {
        "id": "epxyPtgUsdG7"
      },
      "execution_count": 40,
      "outputs": []
    },
    {
      "cell_type": "code",
      "source": [
        "#cevap 2\n",
        "#Listeye ekleme yapalım\n",
        "\n",
        "my_list2.append(1)\n",
        "my_list2.append(3)\n",
        "my_list2.append(\"a\")"
      ],
      "metadata": {
        "id": "UkQKkI4Sw-KJ"
      },
      "execution_count": 41,
      "outputs": []
    },
    {
      "cell_type": "code",
      "source": [
        "#cevap 2\n",
        "# Ekrana yazdıralım\n",
        "\n",
        "my_list2"
      ],
      "metadata": {
        "colab": {
          "base_uri": "https://localhost:8080/"
        },
        "id": "eUpnMgu_xKd3",
        "outputId": "7a764319-70a6-431f-f116-b5b9c4ffbfbd"
      },
      "execution_count": 42,
      "outputs": [
        {
          "output_type": "execute_result",
          "data": {
            "text/plain": [
              "[1, 3, 'a']"
            ]
          },
          "metadata": {},
          "execution_count": 42
        }
      ]
    },
    {
      "cell_type": "code",
      "source": [
        "# 7) Asagidaki \"b\"'yi tek satirda aliniz:"
      ],
      "metadata": {
        "id": "EgSrUTkUsfEd"
      },
      "execution_count": null,
      "outputs": []
    },
    {
      "cell_type": "code",
      "source": [
        "my_list = [3.14,4,[2,3,\"b\"],True]"
      ],
      "metadata": {
        "id": "CpeScf-MsgQB"
      },
      "execution_count": 43,
      "outputs": []
    },
    {
      "cell_type": "code",
      "source": [
        "#cevap\n",
        "#Liste içinde listeden eleman seçelim\n",
        "\n",
        "my_list[2][2]"
      ],
      "metadata": {
        "colab": {
          "base_uri": "https://localhost:8080/",
          "height": 36
        },
        "id": "kD4wlqZPsjKR",
        "outputId": "10586c8f-8fa2-4415-a9be-76b1730fa1b9"
      },
      "execution_count": 44,
      "outputs": [
        {
          "output_type": "execute_result",
          "data": {
            "text/plain": [
              "'b'"
            ],
            "application/vnd.google.colaboratory.intrinsic+json": {
              "type": "string"
            }
          },
          "metadata": {},
          "execution_count": 44
        }
      ]
    },
    {
      "cell_type": "code",
      "source": [
        "# 8) Asagidaki \"a\"'yi tek satirda aliniz:"
      ],
      "metadata": {
        "id": "rz8rrLt2sk0k"
      },
      "execution_count": null,
      "outputs": []
    },
    {
      "cell_type": "code",
      "source": [
        "my_dictionary = {\"key1\":20.25, \"kk2\":[40,{\"k21\":\"a\"}]}"
      ],
      "metadata": {
        "id": "2FxMFzf8skyX"
      },
      "execution_count": 30,
      "outputs": []
    },
    {
      "cell_type": "code",
      "source": [
        "#cevap\n",
        "#Sözlük içinden eleman seçelim\n",
        "\n",
        "my_dictionary[\"kk2\"][1][\"k21\"]"
      ],
      "metadata": {
        "colab": {
          "base_uri": "https://localhost:8080/",
          "height": 36
        },
        "id": "mXTGOS5Eskvg",
        "outputId": "6d223e31-0e47-49bb-af12-516bef84438c"
      },
      "execution_count": 31,
      "outputs": [
        {
          "output_type": "execute_result",
          "data": {
            "text/plain": [
              "'a'"
            ],
            "application/vnd.google.colaboratory.intrinsic+json": {
              "type": "string"
            }
          },
          "metadata": {},
          "execution_count": 31
        }
      ]
    },
    {
      "cell_type": "code",
      "source": [
        "# 9) Asagidaki liste set'e cevirilince hangi degerler icinde kalacaktir?"
      ],
      "metadata": {
        "id": "uoQPyFOCskqd"
      },
      "execution_count": null,
      "outputs": []
    },
    {
      "cell_type": "code",
      "source": [
        "my_list_to_be_set = [3,4,9,3,21,22,4,3,9,10,21,22]"
      ],
      "metadata": {
        "id": "xhUFYCTPsknh"
      },
      "execution_count": 45,
      "outputs": []
    },
    {
      "cell_type": "code",
      "source": [
        "#cevap\n",
        "#Listeyi sete çevirelim\n",
        "\n",
        "my_list_to_be_set = set(my_list_to_be_set)"
      ],
      "metadata": {
        "id": "GSe1k8S4skfZ"
      },
      "execution_count": 46,
      "outputs": []
    },
    {
      "cell_type": "code",
      "source": [
        "#cevap\n",
        "#Ekrana yazdıralım\n",
        "#unique değerler kalır.\n",
        "\n",
        "\n",
        "my_list_to_be_set"
      ],
      "metadata": {
        "colab": {
          "base_uri": "https://localhost:8080/"
        },
        "id": "fpbPye4tssTU",
        "outputId": "f978539b-906c-4a55-9e7a-3178335aa568"
      },
      "execution_count": 47,
      "outputs": [
        {
          "output_type": "execute_result",
          "data": {
            "text/plain": [
              "{3, 4, 9, 10, 21, 22}"
            ]
          },
          "metadata": {},
          "execution_count": 47
        }
      ]
    },
    {
      "cell_type": "code",
      "source": [
        "# 10) Asagidaki ifadenin sonucu ne olacaktir?"
      ],
      "metadata": {
        "id": "WeMOdmAXssQs"
      },
      "execution_count": null,
      "outputs": []
    },
    {
      "cell_type": "code",
      "source": [
        "x = 30 * 5 + 3"
      ],
      "metadata": {
        "id": "uf1JRl5AssNt"
      },
      "execution_count": 36,
      "outputs": []
    },
    {
      "cell_type": "code",
      "source": [
        "y = 108 - 2 * 4"
      ],
      "metadata": {
        "id": "FxA_7cXaswgr"
      },
      "execution_count": 37,
      "outputs": []
    },
    {
      "cell_type": "code",
      "source": [
        "#cevap\n",
        "\n",
        "x"
      ],
      "metadata": {
        "colab": {
          "base_uri": "https://localhost:8080/"
        },
        "id": "MUBkRTk_swYh",
        "outputId": "8992afb6-7e15-44b0-f85a-cd06a202515c"
      },
      "execution_count": 38,
      "outputs": [
        {
          "output_type": "execute_result",
          "data": {
            "text/plain": [
              "153"
            ]
          },
          "metadata": {},
          "execution_count": 38
        }
      ]
    },
    {
      "cell_type": "code",
      "source": [
        "#cevap\n",
        "\n",
        "y"
      ],
      "metadata": {
        "colab": {
          "base_uri": "https://localhost:8080/"
        },
        "id": "VXg_XMEqs1Rt",
        "outputId": "3fb9fc05-3710-48de-f9b1-7bb9c3028db6"
      },
      "execution_count": 39,
      "outputs": [
        {
          "output_type": "execute_result",
          "data": {
            "text/plain": [
              "100"
            ]
          },
          "metadata": {},
          "execution_count": 39
        }
      ]
    },
    {
      "cell_type": "code",
      "source": [
        "#cevap\n",
        "#Boolen değer döndürür. (True veya False)\n",
        "\n",
        "x > y"
      ],
      "metadata": {
        "colab": {
          "base_uri": "https://localhost:8080/"
        },
        "id": "rz5uEIZds2Gi",
        "outputId": "3408ad18-a85d-4f46-e660-c169e7355ef6"
      },
      "execution_count": 48,
      "outputs": [
        {
          "output_type": "execute_result",
          "data": {
            "text/plain": [
              "True"
            ]
          },
          "metadata": {},
          "execution_count": 48
        }
      ]
    }
  ]
}