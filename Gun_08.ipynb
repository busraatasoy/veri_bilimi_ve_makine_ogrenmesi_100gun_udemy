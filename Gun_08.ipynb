{
  "nbformat": 4,
  "nbformat_minor": 0,
  "metadata": {
    "colab": {
      "provenance": [],
      "authorship_tag": "ABX9TyO4hQI3cdTphPZtsWWJRGny",
      "include_colab_link": true
    },
    "kernelspec": {
      "name": "python3",
      "display_name": "Python 3"
    },
    "language_info": {
      "name": "python"
    }
  },
  "cells": [
    {
      "cell_type": "markdown",
      "metadata": {
        "id": "view-in-github",
        "colab_type": "text"
      },
      "source": [
        "<a href=\"https://colab.research.google.com/github/busraatasoy/veri_bilimi_ve_makine_ogrenmesi_100gun_udemy/blob/main/Gun_08.ipynb\" target=\"_parent\"><img src=\"https://colab.research.google.com/assets/colab-badge.svg\" alt=\"Open In Colab\"/></a>"
      ]
    },
    {
      "cell_type": "markdown",
      "source": [
        "# Gün 8: QUIZ 2\n",
        "\n",
        "Bugün 10 sorudan oluşan quiz çalışması yapılmıştır.\n",
        "\n",
        "Bunlar:\n",
        "\n",
        "1️⃣ Karşılaştırma Operatörleri ile Boolean Sonuç\n",
        "\n",
        "2️⃣ OR Operatörü ile Koşul Değerlendirme\n",
        "\n",
        "3️⃣ Yaş Kontrolü ve if-elif-else Kullanımı\n",
        "\n",
        "4️⃣ Sözlük Değerlerinde Karakter Arama (in)\n",
        "\n",
        "5️⃣ Sözlük Anahtarlarında Karakter Arama (in)\n",
        "\n",
        "6️⃣ Listeden Çift Sayıları Bulma\n",
        "\n",
        "7️⃣ Yarıçap Listesinden Çevre Hesaplama\n",
        "\n",
        "8️⃣ İsim-Yaş Listesinden Yaşları Çekme\n",
        "\n",
        "9️⃣ Rastgele Eleman Yazdırma\n",
        "\n",
        "🔟 List Comprehension ile Çift Sayı Kontrolü"
      ],
      "metadata": {
        "id": "gldSqsSNZp5V"
      }
    },
    {
      "cell_type": "code",
      "execution_count": 53,
      "metadata": {
        "id": "4Z-6aR0HmF65"
      },
      "outputs": [],
      "source": [
        "# 1) Aşağıdaki kodun çıktısı ne olacaktır?"
      ]
    },
    {
      "cell_type": "code",
      "source": [
        "x = 5\n",
        "y = 3\n",
        "z = 6"
      ],
      "metadata": {
        "id": "qgtONBFimOqa"
      },
      "execution_count": 54,
      "outputs": []
    },
    {
      "cell_type": "markdown",
      "source": [
        "x > y and z > x"
      ],
      "metadata": {
        "id": "TriEH3qtmUCu"
      }
    },
    {
      "cell_type": "code",
      "source": [
        "# cevap\n",
        "# True yanıtı verir.\n",
        "# 5 > 3 ve 6 > 5 iki durumda True olduğundan sonuç True olur.\n",
        "\n",
        "\n",
        "x > y and z > x"
      ],
      "metadata": {
        "id": "-e2uluhPmSwC",
        "colab": {
          "base_uri": "https://localhost:8080/"
        },
        "outputId": "230fb0ec-6f5a-441b-bf90-f2b494bd9b48"
      },
      "execution_count": 55,
      "outputs": [
        {
          "output_type": "execute_result",
          "data": {
            "text/plain": [
              "True"
            ]
          },
          "metadata": {},
          "execution_count": 55
        }
      ]
    },
    {
      "cell_type": "code",
      "source": [
        "# 2) Aynı değerlerle kod şu şekilde değiştilirse çıktı ne olacaktır?"
      ],
      "metadata": {
        "id": "FRAfcbdnmWFJ"
      },
      "execution_count": 56,
      "outputs": []
    },
    {
      "cell_type": "markdown",
      "source": [
        "x < y or z > y"
      ],
      "metadata": {
        "id": "rK3pDYxZmX_9"
      }
    },
    {
      "cell_type": "code",
      "source": [
        "# cevap\n",
        "\n",
        "# 5 < 3 : False veya 6 > 3 : True olduğundan sonuç True olur.\n",
        "\n",
        "x < y or z > y"
      ],
      "metadata": {
        "id": "HVqz4ZQ7mZ2-",
        "colab": {
          "base_uri": "https://localhost:8080/"
        },
        "outputId": "0d4ab5c2-982a-45e4-acf1-6e703fa76854"
      },
      "execution_count": 57,
      "outputs": [
        {
          "output_type": "execute_result",
          "data": {
            "text/plain": [
              "True"
            ]
          },
          "metadata": {},
          "execution_count": 57
        }
      ]
    },
    {
      "cell_type": "code",
      "source": [
        "# 3) Aşağıdaki kodun çıktısı ne olacaktır?"
      ],
      "metadata": {
        "id": "DpE9Kg7HmbXO"
      },
      "execution_count": 58,
      "outputs": []
    },
    {
      "cell_type": "code",
      "source": [
        "'''\n",
        "yas = 20\n",
        "\n",
        "if yas < 18:\n",
        "    print(\"18 yaşından küçüksünüz\")\n",
        "elif yas >= 18 and yas < 30:\n",
        "    print(\"18 ile 30 yaş arasında bir gençsiniz\")\n",
        "elif yas >= 30 and yas < 40:\n",
        "    print(\"30 ve 40 arasına gelmişsiniz\")\n",
        "else:\n",
        "    print(\"40 yaşından daha büyüksünüz\")\n",
        "'''"
      ],
      "metadata": {
        "id": "W1czTV3ymc9S",
        "colab": {
          "base_uri": "https://localhost:8080/",
          "height": 53
        },
        "outputId": "aee56a4a-2ee0-481d-b632-109d834f39f6"
      },
      "execution_count": 60,
      "outputs": [
        {
          "output_type": "execute_result",
          "data": {
            "text/plain": [
              "'\\nyas = 20\\n\\nif yas < 18:\\n    print(\"18 yaşından küçüksünüz\")\\nelif yas >= 18 and yas < 30:\\n    print(\"18 ile 30 yaş arasında bir gençsiniz\")\\nelif yas >= 30 and yas < 40:\\n    print(\"30 ve 40 arasına gelmişsiniz\")\\nelse:\\n    print(\"40 yaşından daha büyüksünüz\")\\n'"
            ],
            "application/vnd.google.colaboratory.intrinsic+json": {
              "type": "string"
            }
          },
          "metadata": {},
          "execution_count": 60
        }
      ]
    },
    {
      "cell_type": "code",
      "source": [
        "# cevap\n",
        "# Yaş 20 olarak atanmıştır. Koşullardan \"18 ile 30 yaş arasında bir gençsiniz\" kısmına uymaktadır.\n",
        "# Kodu çalıştıralım:\n",
        "\n",
        "yas = 20\n",
        "\n",
        "if yas < 18:\n",
        "    print(\"18 yaşından küçüksünüz\")\n",
        "elif yas >= 18 and yas < 30:\n",
        "    print(\"18 ile 30 yaş arasında bir gençsiniz\")\n",
        "elif yas >= 30 and yas < 40:\n",
        "    print(\"30 ve 40 arasına gelmişsiniz\")\n",
        "else:\n",
        "    print(\"40 yaşından daha büyüksünüz\")\n"
      ],
      "metadata": {
        "id": "1kJGrI8nme0i",
        "colab": {
          "base_uri": "https://localhost:8080/"
        },
        "outputId": "438ce372-8ec8-47ee-b6b0-d0fc20a80a58"
      },
      "execution_count": 61,
      "outputs": [
        {
          "output_type": "stream",
          "name": "stdout",
          "text": [
            "18 ile 30 yaş arasında bir gençsiniz\n"
          ]
        }
      ]
    },
    {
      "cell_type": "code",
      "source": [
        "#4) Aşağıdaki sözlükte, değerler içinde c harfinin geçip geçmediğini gösteren bir if koşulu yazınız"
      ],
      "metadata": {
        "id": "7jxKuDaamja-"
      },
      "execution_count": 62,
      "outputs": []
    },
    {
      "cell_type": "code",
      "source": [
        "my_dictionary = {\"k1\":10,\"k2k\":\"a\",\"k32\":30,\"k4\":\"c\"}"
      ],
      "metadata": {
        "id": "ZCcuiBJYmn-u"
      },
      "execution_count": 63,
      "outputs": []
    },
    {
      "cell_type": "code",
      "source": [
        "# cevap\n",
        "\n",
        "if \"c\" in my_dictionary.values():\n",
        "        print(\"evet\")"
      ],
      "metadata": {
        "id": "tP0knA3hmp-O",
        "colab": {
          "base_uri": "https://localhost:8080/"
        },
        "outputId": "51f17f2a-7c5b-4e45-ef6d-7f60c99910d4"
      },
      "execution_count": 64,
      "outputs": [
        {
          "output_type": "stream",
          "name": "stdout",
          "text": [
            "evet\n"
          ]
        }
      ]
    },
    {
      "cell_type": "code",
      "source": [
        "# cevap\n",
        "\n",
        "if \"c\" in my_dictionary.values():\n",
        "        print(\"c\", \"sözlük içinde var\")\n",
        "else:\n",
        "        print(\"c\", \"sözlük içinde yok\")"
      ],
      "metadata": {
        "id": "M80h_f60mpZl",
        "colab": {
          "base_uri": "https://localhost:8080/"
        },
        "outputId": "c5b11eab-9a96-4895-fcb6-db9a3dabd65a"
      },
      "execution_count": 65,
      "outputs": [
        {
          "output_type": "stream",
          "name": "stdout",
          "text": [
            "c sözlük içinde var\n"
          ]
        }
      ]
    },
    {
      "cell_type": "code",
      "source": [
        "#5) Aşağıdaki sözlükte, anahtarlar içinde a harfinin geçip geçmediğini gösteren bir if koşulu yazınız"
      ],
      "metadata": {
        "id": "66yQ-gfxmv9C"
      },
      "execution_count": 66,
      "outputs": []
    },
    {
      "cell_type": "code",
      "source": [
        "my_other_dictionary = {\"b\":203,\"c\":\"a\",\"a\":400,\"d\":\"f\"}"
      ],
      "metadata": {
        "id": "i3l-gM8XmxwG"
      },
      "execution_count": 67,
      "outputs": []
    },
    {
      "cell_type": "code",
      "source": [
        "# cevap\n",
        "\n",
        "if \"a\" in my_other_dictionary.keys():\n",
        "        print(\"evet\")"
      ],
      "metadata": {
        "id": "h6_BFlsNmzK-",
        "colab": {
          "base_uri": "https://localhost:8080/"
        },
        "outputId": "4b481a10-413b-4e63-f7e6-3fab45af7fff"
      },
      "execution_count": 68,
      "outputs": [
        {
          "output_type": "stream",
          "name": "stdout",
          "text": [
            "evet\n"
          ]
        }
      ]
    },
    {
      "cell_type": "code",
      "source": [
        "# cevap\n",
        "\n",
        "if \"a\" in my_other_dictionary.keys():\n",
        "        print(\"a\", \"sözlük içinde var\")\n",
        "else:\n",
        "        print(\"a\", \"sözlük içinde yok\")"
      ],
      "metadata": {
        "id": "e0Kcv9p_mzgu",
        "colab": {
          "base_uri": "https://localhost:8080/"
        },
        "outputId": "f0696bfe-0443-48c6-9520-4053194e7d9e"
      },
      "execution_count": 69,
      "outputs": [
        {
          "output_type": "stream",
          "name": "stdout",
          "text": [
            "a sözlük içinde var\n"
          ]
        }
      ]
    },
    {
      "cell_type": "code",
      "source": [
        "#6) Aşağıdaki listedeki sayılardan sadece çift sayı olanları yazdıran bir kod yazınız."
      ],
      "metadata": {
        "id": "dwvCHGEhmz4C"
      },
      "execution_count": 70,
      "outputs": []
    },
    {
      "cell_type": "code",
      "source": [
        "my_numbers = [1,2,3,4,5,6,19,20,32,21,20,1111,23,24]"
      ],
      "metadata": {
        "id": "SewDSPwjm1ne"
      },
      "execution_count": 71,
      "outputs": []
    },
    {
      "cell_type": "code",
      "source": [
        "# cevap\n",
        "\n",
        "for i in my_numbers:\n",
        "    if i % 2 == 0:            # çift sayıya bölümünden kalan 0 olmalı\n",
        "        print(i)"
      ],
      "metadata": {
        "id": "ZUp-a16Om3q_",
        "colab": {
          "base_uri": "https://localhost:8080/"
        },
        "outputId": "788cca99-2742-487f-af13-d278d3f71c31"
      },
      "execution_count": 72,
      "outputs": [
        {
          "output_type": "stream",
          "name": "stdout",
          "text": [
            "2\n",
            "4\n",
            "6\n",
            "20\n",
            "32\n",
            "20\n",
            "24\n"
          ]
        }
      ]
    },
    {
      "cell_type": "code",
      "source": [
        "#7) Aşağıdaki listedeki sayılar bir dairenin yarı çapını vermektedir."
      ],
      "metadata": {
        "id": "o3xnf-zsm5oW"
      },
      "execution_count": 73,
      "outputs": []
    },
    {
      "cell_type": "code",
      "source": [
        "#Tüm dairelerin çevresini içeren başka yeni bir liste oluşturunuz. (İpucu: 2 * pi * r)  Pi 3.14 alınabilir."
      ],
      "metadata": {
        "id": "XEIqL1I9m7Av"
      },
      "execution_count": 74,
      "outputs": []
    },
    {
      "cell_type": "code",
      "source": [
        "r_list = [3,2,5,8,4,6,9,12]"
      ],
      "metadata": {
        "id": "SIuJd4lGm8Sm"
      },
      "execution_count": 75,
      "outputs": []
    },
    {
      "cell_type": "code",
      "source": [
        "# cevap\n",
        "\n",
        "pi = 3.14"
      ],
      "metadata": {
        "id": "2cmKuR93m8am"
      },
      "execution_count": 76,
      "outputs": []
    },
    {
      "cell_type": "code",
      "source": [
        "# cevap\n",
        "\n",
        "cevre_listesi = []         #boş liste oluşturduk\n",
        "\n",
        "for r in r_list:\n",
        "    cevre = 2 * pi * r         #formulü atadık\n",
        "    cevre_listesi.append(cevre)    # append ile listeye ekledik"
      ],
      "metadata": {
        "id": "r-eRkZEkm8eX"
      },
      "execution_count": 77,
      "outputs": []
    },
    {
      "cell_type": "code",
      "source": [
        "# cevap\n",
        "# liste kontrolü:\n",
        "\n",
        "\n",
        "cevre_listesi"
      ],
      "metadata": {
        "id": "NTtFDggum8g4",
        "colab": {
          "base_uri": "https://localhost:8080/"
        },
        "outputId": "f57c0357-b859-42ba-ee8e-615c82353097"
      },
      "execution_count": 78,
      "outputs": [
        {
          "output_type": "execute_result",
          "data": {
            "text/plain": [
              "[18.84, 12.56, 31.400000000000002, 50.24, 25.12, 37.68, 56.52, 75.36]"
            ]
          },
          "metadata": {},
          "execution_count": 78
        }
      ]
    },
    {
      "cell_type": "code",
      "source": [
        "#8) Aşağıdaki listede isim - yaş eşleşmelerinin bulunduğu yapılar mevcuttur."
      ],
      "metadata": {
        "id": "Eyvuoa_fm_Ce"
      },
      "execution_count": 79,
      "outputs": []
    },
    {
      "cell_type": "code",
      "source": [
        "# Sadece yaşların olduğu yeni ve ayrı bir liste oluşturunuz."
      ],
      "metadata": {
        "id": "MBTFwbbJm_FQ"
      },
      "execution_count": 80,
      "outputs": []
    },
    {
      "cell_type": "code",
      "source": [
        "age_name_list = [(\"Ahmet\",30),(\"Ayse\",24),(\"Mehmet\",40),(\"Fatma\",29)]"
      ],
      "metadata": {
        "id": "fZmu5FnZm_Hu"
      },
      "execution_count": 81,
      "outputs": []
    },
    {
      "cell_type": "code",
      "source": [
        "# cevap\n",
        "\n",
        "yas_listesi = []           #boş liste tanımladık\n",
        "\n",
        "for (isim, yas) in age_name_list:\n",
        "    yas_listesi.append(yas)"
      ],
      "metadata": {
        "id": "yMlJdfYVenga"
      },
      "execution_count": 82,
      "outputs": []
    },
    {
      "cell_type": "code",
      "source": [
        "# cevap\n",
        "# liste kontrolü:\n",
        "\n",
        "yas_listesi"
      ],
      "metadata": {
        "colab": {
          "base_uri": "https://localhost:8080/"
        },
        "id": "NdvMhdmie2-U",
        "outputId": "cd5368c4-d18e-4786-e32a-c0d4c1a6101a"
      },
      "execution_count": 83,
      "outputs": [
        {
          "output_type": "execute_result",
          "data": {
            "text/plain": [
              "[30, 24, 40, 29]"
            ]
          },
          "metadata": {},
          "execution_count": 83
        }
      ]
    },
    {
      "cell_type": "code",
      "source": [
        "# cevap2\n",
        "\n",
        "yas_listesi = []           #boş liste tanımladık\n",
        "\n",
        "for i in age_name_list:\n",
        "    yas_listesi.append(i[1])        # index 1 yani yaşları listeye append ile  ekledik"
      ],
      "metadata": {
        "id": "IgEQZh0sm_KN"
      },
      "execution_count": 84,
      "outputs": []
    },
    {
      "cell_type": "code",
      "source": [
        "# cevap2\n",
        "# liste kontrolü:\n",
        "\n",
        "yas_listesi"
      ],
      "metadata": {
        "id": "DroDmUFJm_L_",
        "colab": {
          "base_uri": "https://localhost:8080/"
        },
        "outputId": "1c1933e9-9581-48c8-eb13-a2be864966a6"
      },
      "execution_count": 85,
      "outputs": [
        {
          "output_type": "execute_result",
          "data": {
            "text/plain": [
              "[30, 24, 40, 29]"
            ]
          },
          "metadata": {},
          "execution_count": 85
        }
      ]
    },
    {
      "cell_type": "code",
      "source": [
        "#9) Aşağıdaki müzik gruplarından birini rastgele yazdıran bir kod yazınız"
      ],
      "metadata": {
        "id": "Ac4kgrY0nItL"
      },
      "execution_count": 86,
      "outputs": []
    },
    {
      "cell_type": "code",
      "source": [
        "metal_list = [\"Metallica\",\"Iron Maiden\",\"Dream Theater\",\"Megadeth\",\"AC/DC\"]"
      ],
      "metadata": {
        "id": "c2CJaIdRnIw-"
      },
      "execution_count": 87,
      "outputs": []
    },
    {
      "cell_type": "code",
      "source": [
        "# cevap\n",
        "# Random modülü içinden randint fonksiyonunu yükleyelim\n",
        "\n",
        "\n",
        "from random import randint"
      ],
      "metadata": {
        "id": "HBsj_4NCnIzq"
      },
      "execution_count": 88,
      "outputs": []
    },
    {
      "cell_type": "code",
      "source": [
        "# cevap\n",
        "# 0 ile 4 arasında seçilmeli\n",
        "\n",
        "\n",
        "metal_list[randint(0,len(metal_list)-1)]   # liste boyutundan 1 eksik alınacak."
      ],
      "metadata": {
        "id": "I0_mu39lnM8C",
        "colab": {
          "base_uri": "https://localhost:8080/",
          "height": 36
        },
        "outputId": "c10cbcbe-e492-4175-8e7b-9c489b8d0987"
      },
      "execution_count": 89,
      "outputs": [
        {
          "output_type": "execute_result",
          "data": {
            "text/plain": [
              "'Dream Theater'"
            ],
            "application/vnd.google.colaboratory.intrinsic+json": {
              "type": "string"
            }
          },
          "metadata": {},
          "execution_count": 89
        }
      ]
    },
    {
      "cell_type": "code",
      "source": [
        "#10) Aşağıdaki kodun çıktısı ne olacaktır?"
      ],
      "metadata": {
        "id": "0-f_l6OxnPBi"
      },
      "execution_count": 90,
      "outputs": []
    },
    {
      "cell_type": "code",
      "source": [
        "number_list = [5,7,18,21,20,10,405,24]"
      ],
      "metadata": {
        "id": "hMz_VxyWnP4i"
      },
      "execution_count": 91,
      "outputs": []
    },
    {
      "cell_type": "markdown",
      "source": [
        "[num % 2 == 0 for num in number_list]"
      ],
      "metadata": {
        "id": "0DHmkxicfrOd"
      }
    },
    {
      "cell_type": "code",
      "source": [
        "# Kodu çalıştıralım:\n",
        "# Numaraları kontrol edip boolean değer True ve False döndürür.\n",
        "# Yani, numaralar çift sayıyıa bölünürsa True, bölünmüyorsa False olur.\n",
        "\n",
        "[num % 2 == 0 for num in number_list]"
      ],
      "metadata": {
        "id": "csWtW1P-nS4T",
        "colab": {
          "base_uri": "https://localhost:8080/"
        },
        "outputId": "18bb3aec-bd71-4186-a9b8-1ba0e6e7a5d8"
      },
      "execution_count": 92,
      "outputs": [
        {
          "output_type": "execute_result",
          "data": {
            "text/plain": [
              "[False, False, True, False, True, True, False, True]"
            ]
          },
          "metadata": {},
          "execution_count": 92
        }
      ]
    }
  ]
}