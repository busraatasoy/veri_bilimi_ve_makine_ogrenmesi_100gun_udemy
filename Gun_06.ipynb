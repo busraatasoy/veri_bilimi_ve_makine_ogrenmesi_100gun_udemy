{
  "nbformat": 4,
  "nbformat_minor": 0,
  "metadata": {
    "colab": {
      "provenance": [],
      "toc_visible": true,
      "authorship_tag": "ABX9TyOqkK8fyhUvb9yHOsmpXjuE",
      "include_colab_link": true
    },
    "kernelspec": {
      "name": "python3",
      "display_name": "Python 3"
    },
    "language_info": {
      "name": "python"
    }
  },
  "cells": [
    {
      "cell_type": "markdown",
      "metadata": {
        "id": "view-in-github",
        "colab_type": "text"
      },
      "source": [
        "<a href=\"https://colab.research.google.com/github/busraatasoy/veri_bilimi_ve_makine_ogrenmesi_100gun_udemy/blob/main/Gun_06.ipynb\" target=\"_parent\"><img src=\"https://colab.research.google.com/assets/colab-badge.svg\" alt=\"Open In Colab\"/></a>"
      ]
    },
    {
      "cell_type": "markdown",
      "source": [
        "# Gün 6: Kontroller ve Döngüler\n",
        "\n",
        "Python’da `kontroller (koşul ifadeleri)` ve `döngüler (tekrar yapıları)`, programın akışını yönlendirmemizi sağlayan temel yapılardır. Bunlar, bir işlemi belli koşullara göre çalıştırmamıza ya da bir işlemi tekrar etmemize olanak tanır."
      ],
      "metadata": {
        "id": "Dk3j1tJf0S2C"
      }
    },
    {
      "cell_type": "markdown",
      "source": [
        "# Boolen Değer Kontrolleri"
      ],
      "metadata": {
        "id": "ovr-pHLxJnse"
      }
    },
    {
      "cell_type": "code",
      "execution_count": null,
      "metadata": {
        "id": "hFH00enh0P_q"
      },
      "outputs": [],
      "source": [
        "# Boolen değerleri anlayalım.\n",
        "\n",
        "x = 5\n",
        "y = 2"
      ]
    },
    {
      "cell_type": "code",
      "source": [
        "x > y"
      ],
      "metadata": {
        "colab": {
          "base_uri": "https://localhost:8080/"
        },
        "id": "GHsUQqVYIP4l",
        "outputId": "5259ce6f-5e43-46e4-8e03-4c1f212cf994"
      },
      "execution_count": null,
      "outputs": [
        {
          "output_type": "execute_result",
          "data": {
            "text/plain": [
              "True"
            ]
          },
          "metadata": {},
          "execution_count": 2
        }
      ]
    },
    {
      "cell_type": "code",
      "source": [
        "x < y"
      ],
      "metadata": {
        "colab": {
          "base_uri": "https://localhost:8080/"
        },
        "id": "KE8OvE0pIRVC",
        "outputId": "7d4172c8-6b8c-42ac-f594-25457a837f0f"
      },
      "execution_count": null,
      "outputs": [
        {
          "output_type": "execute_result",
          "data": {
            "text/plain": [
              "False"
            ]
          },
          "metadata": {},
          "execution_count": 3
        }
      ]
    },
    {
      "cell_type": "code",
      "source": [
        "y > x"
      ],
      "metadata": {
        "colab": {
          "base_uri": "https://localhost:8080/"
        },
        "id": "8eKNfVsgIVyS",
        "outputId": "5d1a39d4-881c-4bdb-cffb-2bd1f0376eeb"
      },
      "execution_count": null,
      "outputs": [
        {
          "output_type": "execute_result",
          "data": {
            "text/plain": [
              "False"
            ]
          },
          "metadata": {},
          "execution_count": 4
        }
      ]
    },
    {
      "cell_type": "code",
      "source": [
        "y < x"
      ],
      "metadata": {
        "colab": {
          "base_uri": "https://localhost:8080/"
        },
        "id": "47V8h0wNIXrN",
        "outputId": "8a631bec-7dee-4377-addb-2c66bc3f72bb"
      },
      "execution_count": null,
      "outputs": [
        {
          "output_type": "execute_result",
          "data": {
            "text/plain": [
              "True"
            ]
          },
          "metadata": {},
          "execution_count": 5
        }
      ]
    },
    {
      "cell_type": "code",
      "source": [
        "# y değerini değiştirelim\n",
        "\n",
        "y = 5"
      ],
      "metadata": {
        "id": "pblTdosyIbT4"
      },
      "execution_count": null,
      "outputs": []
    },
    {
      "cell_type": "code",
      "source": [
        "x >= y"
      ],
      "metadata": {
        "colab": {
          "base_uri": "https://localhost:8080/"
        },
        "id": "XP19SKyvIdVk",
        "outputId": "6932d3cf-b968-424a-8c47-42508b719224"
      },
      "execution_count": null,
      "outputs": [
        {
          "output_type": "execute_result",
          "data": {
            "text/plain": [
              "True"
            ]
          },
          "metadata": {},
          "execution_count": 8
        }
      ]
    },
    {
      "cell_type": "code",
      "source": [
        "x <= y"
      ],
      "metadata": {
        "colab": {
          "base_uri": "https://localhost:8080/"
        },
        "id": "wy8wU3MEIizS",
        "outputId": "6e02ed3c-051c-4e96-8d39-6cc56747d2de"
      },
      "execution_count": null,
      "outputs": [
        {
          "output_type": "execute_result",
          "data": {
            "text/plain": [
              "True"
            ]
          },
          "metadata": {},
          "execution_count": 9
        }
      ]
    },
    {
      "cell_type": "code",
      "source": [
        "x"
      ],
      "metadata": {
        "colab": {
          "base_uri": "https://localhost:8080/"
        },
        "id": "CoVbyoZ3Ipv7",
        "outputId": "d632f75d-8c47-4811-a5a0-74746e5e6ab5"
      },
      "execution_count": null,
      "outputs": [
        {
          "output_type": "execute_result",
          "data": {
            "text/plain": [
              "5"
            ]
          },
          "metadata": {},
          "execution_count": 10
        }
      ]
    },
    {
      "cell_type": "code",
      "source": [
        "y"
      ],
      "metadata": {
        "colab": {
          "base_uri": "https://localhost:8080/"
        },
        "id": "Tebrhr3PIqWn",
        "outputId": "6a86cde5-97e8-4bda-b4b1-cc3afd61fc6d"
      },
      "execution_count": null,
      "outputs": [
        {
          "output_type": "execute_result",
          "data": {
            "text/plain": [
              "5"
            ]
          },
          "metadata": {},
          "execution_count": 11
        }
      ]
    },
    {
      "cell_type": "code",
      "source": [
        "x >= 5.0"
      ],
      "metadata": {
        "colab": {
          "base_uri": "https://localhost:8080/"
        },
        "id": "5D0oWwo2IwOd",
        "outputId": "b891f965-789f-48cc-c370-72dcfbf85793"
      },
      "execution_count": null,
      "outputs": [
        {
          "output_type": "execute_result",
          "data": {
            "text/plain": [
              "True"
            ]
          },
          "metadata": {},
          "execution_count": 12
        }
      ]
    },
    {
      "cell_type": "code",
      "source": [
        "x >= 5.001"
      ],
      "metadata": {
        "colab": {
          "base_uri": "https://localhost:8080/"
        },
        "id": "0bGHEt64I1BC",
        "outputId": "dc57e558-ae72-4619-e4c3-81a0a04518f6"
      },
      "execution_count": null,
      "outputs": [
        {
          "output_type": "execute_result",
          "data": {
            "text/plain": [
              "False"
            ]
          },
          "metadata": {},
          "execution_count": 13
        }
      ]
    },
    {
      "cell_type": "code",
      "source": [
        "#x ve y değerini değiştirelim\n",
        "\n",
        "x = 10\n",
        "y = 8"
      ],
      "metadata": {
        "id": "VfVNGomzI6hh"
      },
      "execution_count": null,
      "outputs": []
    },
    {
      "cell_type": "code",
      "source": [
        "x"
      ],
      "metadata": {
        "colab": {
          "base_uri": "https://localhost:8080/"
        },
        "id": "ZV8xsiSrJCcJ",
        "outputId": "5f6ff8a0-684e-4d8a-a45d-c73e0e5c515a"
      },
      "execution_count": null,
      "outputs": [
        {
          "output_type": "execute_result",
          "data": {
            "text/plain": [
              "10"
            ]
          },
          "metadata": {},
          "execution_count": 15
        }
      ]
    },
    {
      "cell_type": "code",
      "source": [
        "y"
      ],
      "metadata": {
        "colab": {
          "base_uri": "https://localhost:8080/"
        },
        "id": "zUqq-i1vJDIh",
        "outputId": "26eba86c-45d0-48b7-a2f0-680ca62220d8"
      },
      "execution_count": null,
      "outputs": [
        {
          "output_type": "execute_result",
          "data": {
            "text/plain": [
              "8"
            ]
          },
          "metadata": {},
          "execution_count": 16
        }
      ]
    },
    {
      "cell_type": "code",
      "source": [
        "# x değişkenini y ye atama:\n",
        "\n",
        "x = y"
      ],
      "metadata": {
        "id": "vQMSW5oRJEzf"
      },
      "execution_count": null,
      "outputs": []
    },
    {
      "cell_type": "code",
      "source": [
        "x"
      ],
      "metadata": {
        "colab": {
          "base_uri": "https://localhost:8080/"
        },
        "id": "ogHCTXMtJGbD",
        "outputId": "ab25aa76-2d9c-4b53-919f-4a49160ec50d"
      },
      "execution_count": null,
      "outputs": [
        {
          "output_type": "execute_result",
          "data": {
            "text/plain": [
              "8"
            ]
          },
          "metadata": {},
          "execution_count": 18
        }
      ]
    },
    {
      "cell_type": "code",
      "source": [
        "y"
      ],
      "metadata": {
        "colab": {
          "base_uri": "https://localhost:8080/"
        },
        "id": "cw1wxd_tJLlH",
        "outputId": "407d66bb-5828-4697-f376-d46d4e2285fa"
      },
      "execution_count": null,
      "outputs": [
        {
          "output_type": "execute_result",
          "data": {
            "text/plain": [
              "8"
            ]
          },
          "metadata": {},
          "execution_count": 19
        }
      ]
    },
    {
      "cell_type": "code",
      "source": [
        "x = 10"
      ],
      "metadata": {
        "id": "nWYxxCwHJOzl"
      },
      "execution_count": null,
      "outputs": []
    },
    {
      "cell_type": "code",
      "source": [
        "x"
      ],
      "metadata": {
        "colab": {
          "base_uri": "https://localhost:8080/"
        },
        "id": "Sl2-qubWJSa_",
        "outputId": "054227d9-5adf-41c3-93d9-41ebae9e7564"
      },
      "execution_count": null,
      "outputs": [
        {
          "output_type": "execute_result",
          "data": {
            "text/plain": [
              "10"
            ]
          },
          "metadata": {},
          "execution_count": 22
        }
      ]
    },
    {
      "cell_type": "code",
      "source": [
        "y"
      ],
      "metadata": {
        "colab": {
          "base_uri": "https://localhost:8080/"
        },
        "id": "yJ8uFG76JQiR",
        "outputId": "692a68e1-b62d-4ec3-b550-06b6a49f4b73"
      },
      "execution_count": null,
      "outputs": [
        {
          "output_type": "execute_result",
          "data": {
            "text/plain": [
              "8"
            ]
          },
          "metadata": {},
          "execution_count": 21
        }
      ]
    },
    {
      "cell_type": "code",
      "source": [
        "# Eşit mi kontrolünde iki eşittir kullanılır.\n",
        "# Tek eşittir atama işlemi yapar.\n",
        "\n",
        "x == y"
      ],
      "metadata": {
        "colab": {
          "base_uri": "https://localhost:8080/"
        },
        "id": "ScVov7wgJTTd",
        "outputId": "c571a7fc-5e5d-4bbf-f377-a8ef41281c28"
      },
      "execution_count": null,
      "outputs": [
        {
          "output_type": "execute_result",
          "data": {
            "text/plain": [
              "False"
            ]
          },
          "metadata": {},
          "execution_count": 24
        }
      ]
    },
    {
      "cell_type": "code",
      "source": [
        "# Eşit değildir kontrolü:\n",
        "\n",
        "x != y"
      ],
      "metadata": {
        "colab": {
          "base_uri": "https://localhost:8080/"
        },
        "id": "Uw75nNg-JfYd",
        "outputId": "8e163ca5-54a7-4a1f-a296-a00533ee6f2a"
      },
      "execution_count": null,
      "outputs": [
        {
          "output_type": "execute_result",
          "data": {
            "text/plain": [
              "True"
            ]
          },
          "metadata": {},
          "execution_count": 25
        }
      ]
    },
    {
      "cell_type": "markdown",
      "source": [
        "### Ve(and) Kullanımı"
      ],
      "metadata": {
        "id": "w6H-mUwtKK1N"
      }
    },
    {
      "cell_type": "code",
      "source": [
        "# ve(and) kullanımında her iki koşul doğru olmalı\n",
        "\n",
        "2 > 1 and 3 > 2"
      ],
      "metadata": {
        "colab": {
          "base_uri": "https://localhost:8080/"
        },
        "id": "XoCeVD0IJs-w",
        "outputId": "e41b94b6-d4d3-4aa4-de9a-7cd817a7a5d3"
      },
      "execution_count": null,
      "outputs": [
        {
          "output_type": "execute_result",
          "data": {
            "text/plain": [
              "True"
            ]
          },
          "metadata": {},
          "execution_count": 27
        }
      ]
    },
    {
      "cell_type": "code",
      "source": [
        "# ve(and) her iki taraff doğru olmazsa False döner.\n",
        "\n",
        "2 > 1 and 3 < 2"
      ],
      "metadata": {
        "colab": {
          "base_uri": "https://localhost:8080/"
        },
        "id": "ZxaKLKp0J2LV",
        "outputId": "7740916f-f877-4157-f852-8dd8cca150f5"
      },
      "execution_count": null,
      "outputs": [
        {
          "output_type": "execute_result",
          "data": {
            "text/plain": [
              "False"
            ]
          },
          "metadata": {},
          "execution_count": 28
        }
      ]
    },
    {
      "cell_type": "code",
      "source": [
        "True and True"
      ],
      "metadata": {
        "colab": {
          "base_uri": "https://localhost:8080/"
        },
        "id": "i9LDVP6aKCDf",
        "outputId": "bd870e58-f788-43a0-9218-89ddd943016c"
      },
      "execution_count": null,
      "outputs": [
        {
          "output_type": "execute_result",
          "data": {
            "text/plain": [
              "True"
            ]
          },
          "metadata": {},
          "execution_count": 29
        }
      ]
    },
    {
      "cell_type": "code",
      "source": [
        "True and False"
      ],
      "metadata": {
        "colab": {
          "base_uri": "https://localhost:8080/"
        },
        "id": "aJYR-464KD7z",
        "outputId": "78a6b903-c665-46e0-e210-45dcb0ae2525"
      },
      "execution_count": null,
      "outputs": [
        {
          "output_type": "execute_result",
          "data": {
            "text/plain": [
              "False"
            ]
          },
          "metadata": {},
          "execution_count": 30
        }
      ]
    },
    {
      "cell_type": "code",
      "source": [
        "False and False"
      ],
      "metadata": {
        "colab": {
          "base_uri": "https://localhost:8080/"
        },
        "id": "IkWB7wzjKFs2",
        "outputId": "7f728645-7b36-4b25-a33a-4baaf483b242"
      },
      "execution_count": null,
      "outputs": [
        {
          "output_type": "execute_result",
          "data": {
            "text/plain": [
              "False"
            ]
          },
          "metadata": {},
          "execution_count": 31
        }
      ]
    },
    {
      "cell_type": "markdown",
      "source": [
        "### Veya(Or) Kullanımı"
      ],
      "metadata": {
        "id": "iaYMKcRSKUg8"
      }
    },
    {
      "cell_type": "code",
      "source": [
        "# Bir tarafın doğru olması yeterli.\n",
        "\n",
        "2 > 1 or 3 < 2"
      ],
      "metadata": {
        "colab": {
          "base_uri": "https://localhost:8080/"
        },
        "id": "2BT1kBGOKZHL",
        "outputId": "1071864b-21c2-487e-b944-6ee9c5c48be9"
      },
      "execution_count": null,
      "outputs": [
        {
          "output_type": "execute_result",
          "data": {
            "text/plain": [
              "True"
            ]
          },
          "metadata": {},
          "execution_count": 32
        }
      ]
    },
    {
      "cell_type": "code",
      "source": [
        "# Her iki taraf yanlış ise False döner.\n",
        "\n",
        "1 > 2 or 3 < 2"
      ],
      "metadata": {
        "colab": {
          "base_uri": "https://localhost:8080/"
        },
        "id": "6JiWzjiSKg7m",
        "outputId": "0d3ff5e2-86bf-4070-815a-750e83ae682a"
      },
      "execution_count": null,
      "outputs": [
        {
          "output_type": "execute_result",
          "data": {
            "text/plain": [
              "False"
            ]
          },
          "metadata": {},
          "execution_count": 33
        }
      ]
    },
    {
      "cell_type": "markdown",
      "source": [
        "### Not - In Kullanımı\n",
        "\n",
        "Not: Olumsuzluk bildirir. Tersini belirtir.\n",
        "\n",
        "In: İçinde anlamında var kontrolünde kullanılır."
      ],
      "metadata": {
        "id": "lPHQOgxCKqZi"
      }
    },
    {
      "cell_type": "code",
      "source": [
        "not 1 == 1"
      ],
      "metadata": {
        "colab": {
          "base_uri": "https://localhost:8080/"
        },
        "id": "i8VW1pC8KloX",
        "outputId": "577e0386-ffd0-4463-88f6-52a91d757d00"
      },
      "execution_count": null,
      "outputs": [
        {
          "output_type": "execute_result",
          "data": {
            "text/plain": [
              "False"
            ]
          },
          "metadata": {},
          "execution_count": 34
        }
      ]
    },
    {
      "cell_type": "code",
      "source": [
        "# Liste içinde var mı kontrolü:\n",
        "\n",
        "10 in [10,20,30]"
      ],
      "metadata": {
        "colab": {
          "base_uri": "https://localhost:8080/"
        },
        "id": "ixeqLXZJK1Bw",
        "outputId": "88a66ddf-785e-483d-f719-046bae12b958"
      },
      "execution_count": null,
      "outputs": [
        {
          "output_type": "execute_result",
          "data": {
            "text/plain": [
              "True"
            ]
          },
          "metadata": {},
          "execution_count": 35
        }
      ]
    },
    {
      "cell_type": "code",
      "source": [
        "# Liste içinde var mı kontrolü:\n",
        "\n",
        "5 in [10,20,30]"
      ],
      "metadata": {
        "colab": {
          "base_uri": "https://localhost:8080/"
        },
        "id": "hakXMKUSK66I",
        "outputId": "9b85c046-e975-4bbe-8b59-33aae4d1a3d2"
      },
      "execution_count": null,
      "outputs": [
        {
          "output_type": "execute_result",
          "data": {
            "text/plain": [
              "False"
            ]
          },
          "metadata": {},
          "execution_count": 36
        }
      ]
    },
    {
      "cell_type": "code",
      "source": [
        "# Liste içinde yok mu kontrolü:\n",
        "\n",
        "5 not in [10,20,30]"
      ],
      "metadata": {
        "colab": {
          "base_uri": "https://localhost:8080/"
        },
        "id": "iJOiYsZEK-k3",
        "outputId": "9867474f-03b2-48e1-9874-a93b0aed4d98"
      },
      "execution_count": null,
      "outputs": [
        {
          "output_type": "execute_result",
          "data": {
            "text/plain": [
              "True"
            ]
          },
          "metadata": {},
          "execution_count": 38
        }
      ]
    },
    {
      "cell_type": "code",
      "source": [
        "# Set içinde var mı kontrolü:\n",
        "\n",
        "10 in {10,20,30}"
      ],
      "metadata": {
        "colab": {
          "base_uri": "https://localhost:8080/"
        },
        "id": "rVm8FcNzLIOS",
        "outputId": "57feca44-28b9-431d-acf9-2814f263f41a"
      },
      "execution_count": null,
      "outputs": [
        {
          "output_type": "execute_result",
          "data": {
            "text/plain": [
              "True"
            ]
          },
          "metadata": {},
          "execution_count": 39
        }
      ]
    },
    {
      "cell_type": "code",
      "source": [
        "# Sözlük oluştur.\n",
        "\n",
        "my_dictionary = {\"a\":10, \"b\":20, \"c\":30}"
      ],
      "metadata": {
        "id": "h1IKNRvALOcf"
      },
      "execution_count": null,
      "outputs": []
    },
    {
      "cell_type": "code",
      "source": [
        "# Sözlükte 10 var mı kontrolü:\n",
        "# Bu kontrolde yanlıştır. Key-value kullanımı gerekli.\n",
        "\n",
        "10 in my_dictionary"
      ],
      "metadata": {
        "colab": {
          "base_uri": "https://localhost:8080/"
        },
        "id": "ky0jWyjRLSIN",
        "outputId": "04a235ad-97c7-4147-bf78-2aa38829156d"
      },
      "execution_count": null,
      "outputs": [
        {
          "output_type": "execute_result",
          "data": {
            "text/plain": [
              "False"
            ]
          },
          "metadata": {},
          "execution_count": 42
        }
      ]
    },
    {
      "cell_type": "code",
      "source": [
        "# Değerler(value) içinde var mı kontrolü:\n",
        "\n",
        "10 in my_dictionary.values()"
      ],
      "metadata": {
        "colab": {
          "base_uri": "https://localhost:8080/"
        },
        "id": "34fwxZqGLh2p",
        "outputId": "4923f3bc-e85c-4292-bc06-cc4520dd4c46"
      },
      "execution_count": null,
      "outputs": [
        {
          "output_type": "execute_result",
          "data": {
            "text/plain": [
              "True"
            ]
          },
          "metadata": {},
          "execution_count": 43
        }
      ]
    },
    {
      "cell_type": "code",
      "source": [
        "# Anahtar(key) içinde var mı kontrolü:\n",
        "\n",
        "\"b\" in my_dictionary.keys()"
      ],
      "metadata": {
        "colab": {
          "base_uri": "https://localhost:8080/"
        },
        "id": "Eaxsf6GXLrB5",
        "outputId": "16415cbc-419d-4afb-a9ed-8da0f8414186"
      },
      "execution_count": null,
      "outputs": [
        {
          "output_type": "execute_result",
          "data": {
            "text/plain": [
              "True"
            ]
          },
          "metadata": {},
          "execution_count": 44
        }
      ]
    },
    {
      "cell_type": "code",
      "source": [
        "# Tuple(demet) içinde var mı kontrolü:\n",
        "\n",
        "10 in (10,20,30)"
      ],
      "metadata": {
        "colab": {
          "base_uri": "https://localhost:8080/"
        },
        "id": "CcdL1FDQL2_Q",
        "outputId": "bcb2dee7-a05a-41e6-8115-fcb815147264"
      },
      "execution_count": null,
      "outputs": [
        {
          "output_type": "execute_result",
          "data": {
            "text/plain": [
              "True"
            ]
          },
          "metadata": {},
          "execution_count": 45
        }
      ]
    },
    {
      "cell_type": "markdown",
      "source": [
        "### String Değer Kontrolü\n",
        "\n",
        "String değerler içinde eşit mi kontrolü yapılabilir. Veya `in` kullanılarak veri seti içinde değerin olup olmadığı kontrol edilebilir.\n"
      ],
      "metadata": {
        "id": "w4fN-ZsoMekb"
      }
    },
    {
      "cell_type": "code",
      "source": [
        "my_superhero = \"Batman\""
      ],
      "metadata": {
        "id": "xvjPqC8CMkzd"
      },
      "execution_count": null,
      "outputs": []
    },
    {
      "cell_type": "code",
      "source": [
        "my_superhero"
      ],
      "metadata": {
        "colab": {
          "base_uri": "https://localhost:8080/",
          "height": 36
        },
        "id": "Lj_71ffUMpfy",
        "outputId": "c2969afe-c711-4aa9-a33e-ba4c6790faf5"
      },
      "execution_count": null,
      "outputs": [
        {
          "output_type": "execute_result",
          "data": {
            "text/plain": [
              "'Batman'"
            ],
            "application/vnd.google.colaboratory.intrinsic+json": {
              "type": "string"
            }
          },
          "metadata": {},
          "execution_count": 22
        }
      ]
    },
    {
      "cell_type": "code",
      "source": [
        "# Batman mi? kontrolü:\n",
        "\n",
        "my_superhero == \"Batman\""
      ],
      "metadata": {
        "colab": {
          "base_uri": "https://localhost:8080/"
        },
        "id": "VbNPT2oxMsfq",
        "outputId": "da47fe7d-4421-4812-8d64-7b7b8e98026b"
      },
      "execution_count": null,
      "outputs": [
        {
          "output_type": "execute_result",
          "data": {
            "text/plain": [
              "True"
            ]
          },
          "metadata": {},
          "execution_count": 23
        }
      ]
    },
    {
      "cell_type": "code",
      "source": [
        "# Superman mi? kontrolü:\n",
        "\n",
        "my_superhero == \"Superman\""
      ],
      "metadata": {
        "colab": {
          "base_uri": "https://localhost:8080/"
        },
        "id": "tGRYjRcKMyiX",
        "outputId": "39eb4f43-75f3-4b1f-f73f-5f2198c00531"
      },
      "execution_count": null,
      "outputs": [
        {
          "output_type": "execute_result",
          "data": {
            "text/plain": [
              "False"
            ]
          },
          "metadata": {},
          "execution_count": 24
        }
      ]
    },
    {
      "cell_type": "markdown",
      "source": [
        "# IF Kontrolleri\n",
        "\n",
        "✅ KONTROLLER (Koşul İfadeleri)\n",
        "\n",
        "Python’da koşullar genellikle `if,` `elif`, ve `else` ifadeleriyle kurulur.\n",
        "\n",
        "If yapısı yazılırken Python kod blokları için 1 tablık boşluk bırakır. Buna Indentation denir. Eğer boşluklar uygun verilmezse`IndentationError`hatası alınır."
      ],
      "metadata": {
        "id": "vtA6OWOVMOGI"
      }
    },
    {
      "cell_type": "code",
      "source": [
        "# Değişken kontrolü:\n",
        "my_superhero\n"
      ],
      "metadata": {
        "colab": {
          "base_uri": "https://localhost:8080/",
          "height": 36
        },
        "id": "0S-omSvYIjdQ",
        "outputId": "d5d11332-75f6-428b-8385-a0379b88ae65"
      },
      "execution_count": null,
      "outputs": [
        {
          "output_type": "execute_result",
          "data": {
            "text/plain": [
              "'Batman'"
            ],
            "application/vnd.google.colaboratory.intrinsic+json": {
              "type": "string"
            }
          },
          "metadata": {},
          "execution_count": 25
        }
      ]
    },
    {
      "cell_type": "code",
      "source": [
        "# Değişken ataması doğruysa yazdırır.\n",
        "\n",
        "if my_superhero == \"Batman\":\n",
        "    print(\"batmann\")            #Indentation 1 tablık boşluk.\n",
        "    print(\"batman bir kahramandır\")"
      ],
      "metadata": {
        "colab": {
          "base_uri": "https://localhost:8080/"
        },
        "id": "V6wqlZFJHcz1",
        "outputId": "05dbcf6a-768a-4de2-e35a-791ef5e5a185"
      },
      "execution_count": null,
      "outputs": [
        {
          "output_type": "stream",
          "name": "stdout",
          "text": [
            "batmann\n",
            "batman bir kahramandır\n"
          ]
        }
      ]
    },
    {
      "cell_type": "code",
      "source": [
        "#Değişken atamasını değiştirelim.\n",
        "\n",
        "my_superhero = \"Superman\""
      ],
      "metadata": {
        "id": "w7B8s9nXIgcN"
      },
      "execution_count": null,
      "outputs": []
    },
    {
      "cell_type": "code",
      "source": [
        "# Değişken ataması yanlışsa yazdırmaz.\n",
        "\n",
        "if my_superhero == \"Batman\":\n",
        "    print(\"batmann\")            #Indentation 1 tablık boşluk.\n",
        "    print(\"batman bir kahramandır\")"
      ],
      "metadata": {
        "id": "rqopVDcZIcGH"
      },
      "execution_count": null,
      "outputs": []
    },
    {
      "cell_type": "markdown",
      "source": [
        "False döndüğü için if altındaki kod bloğu çalıştırılmadı. Ekrana yazılmadı."
      ],
      "metadata": {
        "id": "rMgEFB2fIzkU"
      }
    },
    {
      "cell_type": "code",
      "source": [
        "# Değişken ataması yanlışsa yazdırmaz.\n",
        "\n",
        "if my_superhero == \"Batman\":\n",
        "    print(\"batmann\")            #Indentation 1 tablık boşluk.\n",
        "    print(\"batman bir kahramandır\")\n",
        "\n",
        "# If bloğundan çıkılırsa sorgudan bağımsız olarak ne yazılırsa çalışır.\n",
        "print(\"hello python\")"
      ],
      "metadata": {
        "colab": {
          "base_uri": "https://localhost:8080/"
        },
        "id": "2q0MEZpRHdEg",
        "outputId": "ee2d284d-6e5b-40fd-cd2f-12f0f72eb4c3"
      },
      "execution_count": null,
      "outputs": [
        {
          "output_type": "stream",
          "name": "stdout",
          "text": [
            "hello python\n"
          ]
        }
      ]
    },
    {
      "cell_type": "code",
      "source": [
        "# If sorgusunda değişken ataması doğruysa yazılan her şey çalışır.\n",
        "\n",
        "if my_superhero == \"Superman\":\n",
        "    print(\"batmann\")\n",
        "    print(\"batman bir kahramandır\")\n",
        "\n",
        "# If bloğundan çıkılırsa sorgudan bağımsız olarak ne yazılırsa çalışır.\n",
        "print(\"hello python\")"
      ],
      "metadata": {
        "colab": {
          "base_uri": "https://localhost:8080/"
        },
        "id": "IBUL1rGgHdHe",
        "outputId": "ef17e88c-9b4a-408c-ee35-55da0fc3dc7c"
      },
      "execution_count": null,
      "outputs": [
        {
          "output_type": "stream",
          "name": "stdout",
          "text": [
            "batmann\n",
            "batman bir kahramandır\n",
            "hello python\n"
          ]
        }
      ]
    },
    {
      "cell_type": "markdown",
      "source": [
        "Yani; if bloğu ile yaptığımız sorguda if bloğunda yazılan sorgu True olursa kodlar çalışır, yanlış ise çalışmaz. If bloğu dışında kalan tüm kodlar if kontrolünden bağımsız olarak ekrana yazdırılır."
      ],
      "metadata": {
        "id": "89F31rlgJbzJ"
      }
    },
    {
      "cell_type": "code",
      "source": [
        "# İşlem sorgusu:\n",
        "\n",
        "if 3 > 2:                  #3, 2 'den büyük ise, değerleri yazdır. -True\n",
        "    print(\"hello world\")\n",
        "    print(\"Bu bir matematik işlemidir\")"
      ],
      "metadata": {
        "colab": {
          "base_uri": "https://localhost:8080/"
        },
        "id": "zYWGFHX0HdKU",
        "outputId": "2698ad78-e1e5-4acd-d77a-767bc1546d38"
      },
      "execution_count": null,
      "outputs": [
        {
          "output_type": "stream",
          "name": "stdout",
          "text": [
            "hello world\n",
            "Bu bir matematik işlemidir\n"
          ]
        }
      ]
    },
    {
      "cell_type": "code",
      "source": [
        "# İşlem sorgusu:\n",
        "\n",
        "if 3 > 4:                  #3, 4 'den büyük ise, değerleri yazdır. -False\n",
        "    print(\"hello world\")\n",
        "    print(\"Bu bir matematik işlemidir\")"
      ],
      "metadata": {
        "id": "sYeHN76jJuYO"
      },
      "execution_count": null,
      "outputs": []
    },
    {
      "cell_type": "markdown",
      "source": [
        "3 > 4 işlemi sonucu yanlış olduğu için sorgu ekrana yazdırılmadı.\n",
        "\n",
        "**Peki birden fazla koşul belirtebilir miyiz ?**"
      ],
      "metadata": {
        "id": "nJOuRlz2KI4G"
      }
    },
    {
      "cell_type": "code",
      "source": [
        "if 3 > 4:\n",
        "    print(\"hello world\")\n",
        "    print(\"Bu bir matematik işlemidir\")"
      ],
      "metadata": {
        "id": "JulubcoEHdM4"
      },
      "execution_count": null,
      "outputs": []
    },
    {
      "cell_type": "code",
      "source": [
        "#Kullanıcıdan bilgi alalım:\n",
        "#Kodu her çalıştırdığımızda farklı bir bilgi girebiliriz.\n",
        "\n",
        "my_superhero = input(\"Lütfen bir süper kahraman giriniz: \")"
      ],
      "metadata": {
        "colab": {
          "base_uri": "https://localhost:8080/"
        },
        "id": "KnuGKppeHdPp",
        "outputId": "1b5433bd-2bfd-41f9-eaad-4f086a2a902b"
      },
      "execution_count": null,
      "outputs": [
        {
          "name": "stdout",
          "output_type": "stream",
          "text": [
            "Lütfen bir süper kahraman giriniz: Superman\n"
          ]
        }
      ]
    },
    {
      "cell_type": "code",
      "source": [
        "# Birden fazla koşul belirtme: else if yani elif kullanılır.\n",
        "# Kullanıcıdan alınan değerlere göre çalışması değişir.\n",
        "# if bloklarında olmayan örneğin wonder woman gibi bir değer girildiğinde yine kod çalışmayacaktır.\n",
        "\n",
        "if my_superhero == \"Aquaman\":\n",
        "    print(\"Aquaman\")\n",
        "elif my_superhero == \"Batman\":\n",
        "    print(\"Batman\")\n",
        "elif my_superhero == \"Superman\":\n",
        "    print(\"Superman\")\n",
        "elif my_superhero == \"Ironman\":\n",
        "    print(\"Ironman\")"
      ],
      "metadata": {
        "colab": {
          "base_uri": "https://localhost:8080/"
        },
        "id": "JhwNlP_bHdSN",
        "outputId": "ee0f3898-6865-40d0-84ec-3fc058bb6eea"
      },
      "execution_count": null,
      "outputs": [
        {
          "output_type": "stream",
          "name": "stdout",
          "text": [
            "Superman\n"
          ]
        }
      ]
    },
    {
      "cell_type": "code",
      "source": [
        "# If bloğunda geçmeyen değerler için de else kullanılır.\n",
        "\n",
        "if my_superhero == \"Aquaman\":\n",
        "    print(\"Aquaman\")\n",
        "elif my_superhero == \"Batman\":\n",
        "    print(\"Batman\")\n",
        "elif my_superhero == \"Superman\":\n",
        "    print(\"Superman\")\n",
        "elif my_superhero == \"Ironman\":\n",
        "    print(\"Ironman\")\n",
        "else:\n",
        "    print(\"Bu süper kahramanı bilmiyorum\")"
      ],
      "metadata": {
        "colab": {
          "base_uri": "https://localhost:8080/"
        },
        "id": "6v_DLoz8MeY5",
        "outputId": "92200b4f-5ed0-4210-ce7a-1950a72e9bca"
      },
      "execution_count": null,
      "outputs": [
        {
          "output_type": "stream",
          "name": "stdout",
          "text": [
            "Superman\n"
          ]
        }
      ]
    },
    {
      "cell_type": "code",
      "source": [
        "# Yaş bilgisi örneği:\n",
        "\n",
        "my_age = 18\n",
        "\n",
        "\n",
        "#20 olursa : 18 - age - 30,  35 olursa: 30 - age - 40,  100 olursa: age > 40 yazar"
      ],
      "metadata": {
        "id": "xDkflrkIMv4_"
      },
      "execution_count": null,
      "outputs": []
    },
    {
      "cell_type": "code",
      "source": [
        "if my_age <= 18:\n",
        "  print(\"age <= 18\")\n",
        "elif my_age >= 18 and my_age <= 30:\n",
        "  print(\"18 - age - 30\")\n",
        "elif my_age > 30 and my_age <= 40:\n",
        "  print(\"30 - age - 40\")\n",
        "else:\n",
        "  print(\"age > 40\")"
      ],
      "metadata": {
        "colab": {
          "base_uri": "https://localhost:8080/"
        },
        "id": "ZC-Pg8vhMv_s",
        "outputId": "7a1298a8-8c88-4281-8bbf-60cef14afb58"
      },
      "execution_count": null,
      "outputs": [
        {
          "output_type": "stream",
          "name": "stdout",
          "text": [
            "age <= 18\n"
          ]
        }
      ]
    },
    {
      "cell_type": "markdown",
      "source": [
        "If bloklarında istediğimiz kadar elif ile koşul belirtebiliriz. Yanlış girilen sayılar için hata mesajı yazdırabiliriz. `<, > , =` gibi durumları kullanabilir ve mantıksal işlemleri `ve(and)` ile kurabiliriz. Hiçbir koşula uymayan değerler içinde else bloğunu çalıştırabiliriz."
      ],
      "metadata": {
        "id": "ypOiBKqtOI26"
      }
    },
    {
      "cell_type": "code",
      "source": [
        "# Listeler ile oluşturulabilir miyiz?\n",
        "# Kullanıcıdan bilgi alalım\n",
        "\n",
        "my_superhero = input(\"Bir kahraman giriniz:\")"
      ],
      "metadata": {
        "colab": {
          "base_uri": "https://localhost:8080/"
        },
        "id": "crX1TLs4MwCj",
        "outputId": "c473e3b2-0994-43ac-d7da-d89737789765"
      },
      "execution_count": null,
      "outputs": [
        {
          "name": "stdout",
          "output_type": "stream",
          "text": [
            "Bir kahraman giriniz:Spider Man\n"
          ]
        }
      ]
    },
    {
      "cell_type": "code",
      "source": [
        "# Liste oluşturalım\n",
        "\n",
        "my_superhero_list = [\"Spider Man\", \"Iron Man\", \"Thor\", \"Black Widow\"]"
      ],
      "metadata": {
        "id": "GU2vDfRiMwFJ"
      },
      "execution_count": null,
      "outputs": []
    },
    {
      "cell_type": "code",
      "source": [
        "# Liste içinde mi kontrolü:\n",
        "\n",
        "if my_superhero in my_superhero_list:    # Yazılan my_superhero listede ise;\n",
        "    print(\"Evet listede var\")            # Doğru ise bu bloğu çalıştır\n",
        "else:                                    # Yanlış ise bu bloğu çalıştır\n",
        "    print(\"Hayır listede yok\")"
      ],
      "metadata": {
        "colab": {
          "base_uri": "https://localhost:8080/"
        },
        "id": "xh0azIroMwJK",
        "outputId": "04c33fb1-849a-4029-d5ac-09683559dbdd"
      },
      "execution_count": null,
      "outputs": [
        {
          "output_type": "stream",
          "name": "stdout",
          "text": [
            "Evet listede var\n"
          ]
        }
      ]
    },
    {
      "cell_type": "markdown",
      "source": [
        "### If Kontrolü Farklı Kullanım Alanları"
      ],
      "metadata": {
        "id": "qqicUDmkQiI8"
      }
    },
    {
      "cell_type": "markdown",
      "source": [
        " `if kontrolü` yazılım dünyasında karar verme mekanizması olarak kullanılır ve birçok alanda hayati öneme sahiptir. Aşağıda farklı kullanım alanları ve bu alanlara özgü if kontrolü örneklerini paylaşıyorum:"
      ],
      "metadata": {
        "id": "Czg-VrOmP8Ya"
      }
    },
    {
      "cell_type": "markdown",
      "source": [
        "**🔐 1. Kullanıcı Erişim Kontrolleri (Authentication / Authorization)**\n",
        "\n",
        "**Amaç:** Kullanıcının yetkisi olup olmadığını kontrol etmek\n",
        "\n",
        "**Kullanım Alanı:** Web siteleri, video platformları, oyunlar, üyelik sistemleri."
      ],
      "metadata": {
        "id": "FUf_2GuDQxAH"
      }
    },
    {
      "cell_type": "code",
      "source": [
        "# Örnek\n",
        "\n",
        "yas = 16\n",
        "if yas < 18:\n",
        "    print(\"18 yaşından küçük kullanıcılar bu içeriğe erişemez.\")\n"
      ],
      "metadata": {
        "colab": {
          "base_uri": "https://localhost:8080/"
        },
        "id": "1qw1-d_PPSuk",
        "outputId": "b53e0851-c636-4f91-804a-250925c2ac47"
      },
      "execution_count": null,
      "outputs": [
        {
          "output_type": "stream",
          "name": "stdout",
          "text": [
            "18 yaşından küçük kullanıcılar bu içeriğe erişemez.\n"
          ]
        }
      ]
    },
    {
      "cell_type": "markdown",
      "source": [
        "**📊 2. Veri Tabanı Kontrolleri / Veri Durumuna Göre Aksiyon**\n",
        "\n",
        "**Amaç:** Veri tabanından gelen veriye göre koşul belirlemek\n",
        "\n",
        "**Kullanım Alanı:** Dashboard, raporlama sistemleri, performans analizleri"
      ],
      "metadata": {
        "id": "xXHGHw-fRBOZ"
      }
    },
    {
      "cell_type": "code",
      "source": [
        "# Örnek\n",
        "\n",
        "satis_miktari = 1000\n",
        "if satis_miktari > 500:\n",
        "    print(\"Bu ürün çok satıyor!\")\n",
        "else:\n",
        "    print(\"Bu üründen az satılıyor.\")\n"
      ],
      "metadata": {
        "colab": {
          "base_uri": "https://localhost:8080/"
        },
        "id": "JDRZV_z3RJSc",
        "outputId": "42005956-e25c-4420-adcd-288250fc7b95"
      },
      "execution_count": null,
      "outputs": [
        {
          "output_type": "stream",
          "name": "stdout",
          "text": [
            "Bu ürün çok satıyor!\n"
          ]
        }
      ]
    },
    {
      "cell_type": "markdown",
      "source": [
        "**📱 3. Form Girişi ve Validasyon (Kullanıcıdan Veri Alımı)**\n",
        "\n",
        "**Amaç:** Boş alanları veya hatalı veri girişini kontrol etmek\n",
        "\n",
        "**Kullanım Alanı:** Kayıt formları, başvuru sistemleri, ödeme sayfaları"
      ],
      "metadata": {
        "id": "Vtvqu7UCRHWv"
      }
    },
    {
      "cell_type": "code",
      "source": [
        "# Örnek\n",
        "\n",
        "email = \"\"                   # boş değişken tanımla\n",
        "if not email:                # email boş ise True döner\n",
        "    print(\"E-posta alanı boş bırakılamaz.\")     # ifadeyi ekrana yazdırır\n"
      ],
      "metadata": {
        "colab": {
          "base_uri": "https://localhost:8080/"
        },
        "id": "awQU7sisRcwP",
        "outputId": "426baf71-cf69-4bca-e65f-af0484b5c7c2"
      },
      "execution_count": null,
      "outputs": [
        {
          "output_type": "stream",
          "name": "stdout",
          "text": [
            "E-posta alanı boş bırakılamaz.\n"
          ]
        }
      ]
    },
    {
      "cell_type": "markdown",
      "source": [
        "**🛒 4. E-Ticaret - Stok ve Sepet Kontrolü**\n",
        "\n",
        "**Amaç:** Ürünün stokta olup olmadığını kontrol etmek\n",
        "\n",
        "\n",
        "**Kullanım Alanı:** Ürün detay sayfası, alışveriş sepeti"
      ],
      "metadata": {
        "id": "Jp-UMvu2RkXS"
      }
    },
    {
      "cell_type": "code",
      "source": [
        "# Örnek\n",
        "\n",
        "stok = 10\n",
        "if stok == 1:\n",
        "    print(\"Bu ürün şu anda stokta yok.\")\n",
        "else:\n",
        "    print(\"Bu ürün stokta mevcut.\")"
      ],
      "metadata": {
        "colab": {
          "base_uri": "https://localhost:8080/"
        },
        "id": "B-ILVECFRqWI",
        "outputId": "1afff279-e94d-43a4-9356-818b5ef136c7"
      },
      "execution_count": null,
      "outputs": [
        {
          "output_type": "stream",
          "name": "stdout",
          "text": [
            "Bu ürün stokta mevcut.\n"
          ]
        }
      ]
    },
    {
      "cell_type": "markdown",
      "source": [
        "**🧲 5. Makine Öğrenmesi - Sınır Değerlendirme**\n",
        "\n",
        "**Amaç:** Bir değer belirli eşikleri geçti mi kontrol etmek\n",
        "\n",
        "**Kullanım Alanı:** Model değerlendirme, uyarı sistemi, otomatik kararlar"
      ],
      "metadata": {
        "id": "H4KgsWjiR9EK"
      }
    },
    {
      "cell_type": "code",
      "source": [
        "# Örnek\n",
        "\n",
        "accuracy = 0.92\n",
        "if accuracy > 0.9:\n",
        "    print(\"Model yüksek doğrulukla tahmin yapıyor.\")\n",
        "else:\n",
        "    print(\"Model düşük doğrulukla tahmin yapıyor.\")"
      ],
      "metadata": {
        "colab": {
          "base_uri": "https://localhost:8080/"
        },
        "id": "ekpPFvKISIsg",
        "outputId": "5b24ce7b-7b12-45be-913e-08c9e4ccd59b"
      },
      "execution_count": null,
      "outputs": [
        {
          "output_type": "stream",
          "name": "stdout",
          "text": [
            "Model yüksek doğrulukla tahmin yapıyor.\n"
          ]
        }
      ]
    },
    {
      "cell_type": "markdown",
      "source": [
        "**🌦️ 6. API Verisi / Sensör Girdisi Kontrolü**\n",
        "\n",
        "**Amaç:** Dış servislerden gelen verilere göre tepki vermek\n",
        "\n",
        "**Kullanım Alanı:** Hava durumu uygulamaları, IoT sistemleri, sağlık sensörleri"
      ],
      "metadata": {
        "id": "KMkpPgGMSIHs"
      }
    },
    {
      "cell_type": "code",
      "source": [
        "sicaklik = 35\n",
        "\n",
        "if sicaklik >= 40:\n",
        "    print(\"Hava çok sıcak, dışarı çıkarken dikkatli olun.\")\n",
        "else:\n",
        "    print(\"Hava yürüyüş yapmak için ideal.\")"
      ],
      "metadata": {
        "colab": {
          "base_uri": "https://localhost:8080/"
        },
        "id": "XZBFo4w7S1Um",
        "outputId": "5a64ba1a-a8ca-476d-922e-039fec0ed571"
      },
      "execution_count": null,
      "outputs": [
        {
          "output_type": "stream",
          "name": "stdout",
          "text": [
            "Hava yürüyüş yapmak için ideal.\n"
          ]
        }
      ]
    },
    {
      "cell_type": "markdown",
      "source": [
        "**🕒 7. Zaman & Tarih Bazlı Kararlar**\n",
        "\n",
        "**Amaç:** Gün, saat veya tarihe göre işlem yapmak\n",
        "\n",
        "**Kullanım Alanı:** Planlayıcılar, mobil uygulamalar, otomasyon sistemleri"
      ],
      "metadata": {
        "id": "Q_hP82F0S9Xq"
      }
    },
    {
      "cell_type": "code",
      "source": [
        "# Örnek\n",
        "\n",
        "saat = 23\n",
        "if saat >= 22:\n",
        "    print(\"Gece modu aktif edildi.\")"
      ],
      "metadata": {
        "colab": {
          "base_uri": "https://localhost:8080/"
        },
        "id": "Uywpm9-ATCKT",
        "outputId": "095eb03f-a511-4c44-843d-2196c12508c5"
      },
      "execution_count": null,
      "outputs": [
        {
          "output_type": "stream",
          "name": "stdout",
          "text": [
            "Gece modu aktif edildi.\n"
          ]
        }
      ]
    },
    {
      "cell_type": "markdown",
      "source": [
        "**🎮 8. Oyunlarda Durum Kontrolü**\n",
        "\n",
        "**Amaç:** Can sayısı, skor, seviye gibi durumlara göre oyun akışı belirlemek\n",
        "\n",
        "**Kullanım Alanı:** Oyun motorları, mobil oyunlar, skor sistemleri"
      ],
      "metadata": {
        "id": "7PlVaoQ6TTMK"
      }
    },
    {
      "cell_type": "code",
      "source": [
        "# Örnek\n",
        "\n",
        "can = 0\n",
        "if can == 1:\n",
        "    print(\"Oyun bitti!\")\n",
        "else:\n",
        "    print(\"Oyun devam ediyor.\")"
      ],
      "metadata": {
        "colab": {
          "base_uri": "https://localhost:8080/"
        },
        "id": "LSjfcFMKTYqC",
        "outputId": "3fe63c67-9d47-4d70-c127-1349d0865065"
      },
      "execution_count": null,
      "outputs": [
        {
          "output_type": "stream",
          "name": "stdout",
          "text": [
            "Oyun devam ediyor.\n"
          ]
        }
      ]
    },
    {
      "cell_type": "markdown",
      "source": [
        "**🔄 9. Döngü İçinde Durum Değişiklikleri**\n",
        "\n",
        "**Amaç:** Belirli bir koşulda döngüyü durdurmak ya da atlamak\n",
        "\n",
        "**Kullanım Alanı:** Veri işleme, loglama, temizleme"
      ],
      "metadata": {
        "id": "QEWuDLDbTglz"
      }
    },
    {
      "cell_type": "code",
      "source": [
        "# örnek\n",
        "\n",
        "veriler = [50, 1000, 30]            # liste tanımla\n",
        "\n",
        "for veri in veriler:                # listedeki her veri için döngü başlat\n",
        "    if veri > 400:                  # Her bir veri için, değeri 400’den büyük mü? diye kontrol yapılır. Eğer büyükse, ekrana uyarı mesajı yazdırılır.\n",
        "        print(\"Uyarı: Veri sınırı aşıldı.\")"
      ],
      "metadata": {
        "colab": {
          "base_uri": "https://localhost:8080/"
        },
        "id": "uCPYHdWaTlTJ",
        "outputId": "4bab0e20-3e1e-4a35-bc04-65d8a9e044f7"
      },
      "execution_count": null,
      "outputs": [
        {
          "output_type": "stream",
          "name": "stdout",
          "text": [
            "Uyarı: Veri sınırı aşıldı.\n"
          ]
        }
      ]
    },
    {
      "cell_type": "markdown",
      "source": [
        "| `veri` Değeri | Koşul (`veri > 400`) | Ekrana Yazılır mı?           |\n",
        "| ------------- | -------------------- | ---------------------------- |\n",
        "| 50            | ❌ Hayır              | Hiçbir şey yazılmaz          |\n",
        "| 1000          | ✅ Evet               | \"Uyarı: Veri sınırı aşıldı.\" |\n",
        "| 30            | ❌ Hayır              | Hiçbir şey yazılmaz          |\n"
      ],
      "metadata": {
        "id": "xae5URyXUWEv"
      }
    },
    {
      "cell_type": "markdown",
      "source": [
        "**Gerçek Hayat Uygulaması:**\n",
        "\n",
        "**Bu tür bir kontrol:**\n",
        "\n",
        "Bir veri kaynağından gelen değerlerin sınırı aşıp aşmadığını kontrol etmek için kullanılır.\n",
        "\n",
        "**Örnek alanlar:**\n",
        "\n",
        "**IoT cihazları** (örneğin: sıcaklık sensörü 400 dereceyi geçerse uyarı ver)\n",
        "\n",
        "**Sunucu performansı** (CPU kullanımı 400ms’yi geçerse logla)\n",
        "\n",
        "**Satış ya da stok sayıları** (stok miktarı 400’ü geçince alarm ver)"
      ],
      "metadata": {
        "id": "cjBEw4a6UZ2f"
      }
    },
    {
      "cell_type": "markdown",
      "source": [
        "**`if kontrolü` şu alanlarda aktif kullanılır:**\n",
        "\n",
        "| Alan                   | Amaç                           |\n",
        "| ---------------------- | ------------------------------ |\n",
        "| Kullanıcı kontrolü     | Giriş, yaş, yetki vb.          |\n",
        "| Veri işleme            | Sayısal sınır, eksik veri      |\n",
        "| Formlar                | Boş/yanlış giriş engelleme     |\n",
        "| E-ticaret              | Stok, sepet durumu             |\n",
        "| Zaman-temelli işlemler | Gün/saat bazlı aksiyon         |\n",
        "| Oyunlar                | Skor, can, level kontrolü      |\n",
        "| API/IoT                | Sensör ya da dış veri kontrolü |\n",
        "| Model değerlendirme    | Başarı oranı, eşik             |\n"
      ],
      "metadata": {
        "id": "io3IjVcRUjjP"
      }
    },
    {
      "cell_type": "markdown",
      "source": [
        "# Döngüler (Loops)\n",
        "\n",
        "🔁 DÖNGÜLER (Tekrar Yapıları)\n",
        "\n",
        "Döngüler, belirli bir kod bloğunu birden fazla kez çalıştırmak için kullanılır.\n",
        "\n",
        "Belli bir koşul sağlanana kadar işlemlerin sürekli yapılması, tekrarlanmasıdır. Koleksiyonlar ile beraber kullanılır. If kullanımında olduğu gibi for ve while döngülerinde de 1 tablık boşluk ile kod blokları oluşturulur.\n",
        "\n",
        "- 🔸 For Loop(for döngüsü) – Genellikle liste, dizi, aralık (range) gibi yapılar üzerinde gezinmek için kullanılır.\n",
        "\n",
        "- 🔸 While Loop(while döngüsü) – Koşul doğru olduğu sürece çalışır."
      ],
      "metadata": {
        "id": "yttNDIUHi10q"
      }
    },
    {
      "cell_type": "code",
      "source": [
        "# Verilern listedeki her elemanı 5 ile bölüp 2 katını alalım.\n",
        "\n",
        "# Liste oluşturalım\n",
        "\n",
        "my_list = [10,20,30,40,50,60,70]"
      ],
      "metadata": {
        "id": "WuMLcf-JjTgY"
      },
      "execution_count": null,
      "outputs": []
    },
    {
      "cell_type": "code",
      "source": [
        "# 1. eleman:\n",
        "\n",
        "my_list[0] / 5 * 2"
      ],
      "metadata": {
        "colab": {
          "base_uri": "https://localhost:8080/"
        },
        "id": "meVMq-sEjjOk",
        "outputId": "f40b8318-8a0e-435c-b0c3-17a618822381"
      },
      "execution_count": null,
      "outputs": [
        {
          "output_type": "execute_result",
          "data": {
            "text/plain": [
              "4.0"
            ]
          },
          "metadata": {},
          "execution_count": 81
        }
      ]
    },
    {
      "cell_type": "code",
      "source": [
        "# 2. eleman:\n",
        "\n",
        "my_list[1] / 5 * 2"
      ],
      "metadata": {
        "colab": {
          "base_uri": "https://localhost:8080/"
        },
        "id": "B1Gc2iRfjy-N",
        "outputId": "ff3ac931-8067-493d-ad3e-36b24ebcafca"
      },
      "execution_count": null,
      "outputs": [
        {
          "output_type": "execute_result",
          "data": {
            "text/plain": [
              "8.0"
            ]
          },
          "metadata": {},
          "execution_count": 82
        }
      ]
    },
    {
      "cell_type": "code",
      "source": [
        "#3. eleman:\n",
        "\n",
        "my_list[2] / 5 * 2\n"
      ],
      "metadata": {
        "colab": {
          "base_uri": "https://localhost:8080/"
        },
        "id": "PGGgqIB6j2Md",
        "outputId": "b3d2c9e3-b105-4c4c-f4fd-84abb5f36f72"
      },
      "execution_count": null,
      "outputs": [
        {
          "output_type": "execute_result",
          "data": {
            "text/plain": [
              "12.0"
            ]
          },
          "metadata": {},
          "execution_count": 83
        }
      ]
    },
    {
      "cell_type": "markdown",
      "source": [
        "Listedeki her bir elemana yapılan bu işlemi sırayla yaparız. Fakat, liste çok uzun olduğunda her bir işlemi tek tek yapmak mantıklı mıdır ? İşte bu noktada döngüler devreye girer. Döngü kullanarak bir listedeki tüm elemanları kolayca işleme alabiliriz."
      ],
      "metadata": {
        "id": "zsC5E2tAj55G"
      }
    },
    {
      "cell_type": "code",
      "source": [
        "# Döngü(For) ile:\n",
        "# Liste içindeki tüm numaralar için:\n",
        "\n",
        "for number in my_list:       # number herhangi bir değişken ismidir kendimiz isimlendiririz.\n",
        "    print(number / 5 * 2)    # number için işlemi ekrana yazalım\n"
      ],
      "metadata": {
        "colab": {
          "base_uri": "https://localhost:8080/"
        },
        "id": "gksPP_KFkKLE",
        "outputId": "5ee840c3-1817-46b7-e3c6-6ef131ada834"
      },
      "execution_count": null,
      "outputs": [
        {
          "output_type": "stream",
          "name": "stdout",
          "text": [
            "4.0\n",
            "8.0\n",
            "12.0\n",
            "16.0\n",
            "20.0\n",
            "24.0\n",
            "28.0\n"
          ]
        }
      ]
    },
    {
      "cell_type": "code",
      "source": [
        "# number yerine herhangi bir x değişkeni verelim\n",
        "# İşlem sonucu aynıdır.\n",
        "# Liste içindeki eleman sayısı kadar döngü çalışır.\n",
        "\n",
        "for x in my_list:\n",
        "  new_number = x / 5 * 2        #işlemi yeni değişkene atayalım.\n",
        "  print(new_number)\n"
      ],
      "metadata": {
        "colab": {
          "base_uri": "https://localhost:8080/"
        },
        "id": "GhKgu69mk3S4",
        "outputId": "770ca244-15d5-4d0c-c882-4e61ac673f4a"
      },
      "execution_count": null,
      "outputs": [
        {
          "output_type": "stream",
          "name": "stdout",
          "text": [
            "4.0\n",
            "8.0\n",
            "12.0\n",
            "16.0\n",
            "20.0\n",
            "24.0\n",
            "28.0\n"
          ]
        }
      ]
    },
    {
      "cell_type": "code",
      "source": [
        "# Döngü dışında istediğimiz her bilgiyi yazabiliriz.\n",
        "\n",
        "print(\"Döngü başladı.\")          # Döngünün dışında yazılır.\n",
        "for x in my_list:\n",
        "  new_number = x / 5 * 2\n",
        "  print(new_number)\n",
        "print(\"Döngü tamamlandı.\")      # Döngünün dışında yazılır."
      ],
      "metadata": {
        "colab": {
          "base_uri": "https://localhost:8080/"
        },
        "id": "lnyNcWA7lWXI",
        "outputId": "eda637a0-7122-4de4-9306-1a3096930eb9"
      },
      "execution_count": null,
      "outputs": [
        {
          "output_type": "stream",
          "name": "stdout",
          "text": [
            "Döngü başladı.\n",
            "4.0\n",
            "8.0\n",
            "12.0\n",
            "16.0\n",
            "20.0\n",
            "24.0\n",
            "28.0\n",
            "Döngü tamamlandı.\n"
          ]
        }
      ]
    },
    {
      "cell_type": "markdown",
      "source": [
        "**ÖDEV:**\n",
        "\n",
        "Listede for döngüsü yazalım ve if kontrolü ile listedeki tüm elemanlar içinde sadece 6 sayısına tam bölünenleri ekrana yazdıralım.\n"
      ],
      "metadata": {
        "id": "rN7pjpn_mgO4"
      }
    },
    {
      "cell_type": "code",
      "source": [
        "# Listemizi kontol edelim:\n",
        "\n",
        "my_list"
      ],
      "metadata": {
        "colab": {
          "base_uri": "https://localhost:8080/"
        },
        "id": "dfcB1k9EmeFI",
        "outputId": "c0be1280-7443-4a33-b565-a0b83690241d"
      },
      "execution_count": null,
      "outputs": [
        {
          "output_type": "execute_result",
          "data": {
            "text/plain": [
              "[10, 20, 30, 40, 50, 60, 70]"
            ]
          },
          "metadata": {},
          "execution_count": 88
        }
      ]
    },
    {
      "cell_type": "code",
      "source": [
        "# Çözüm:\n",
        "\n",
        "for sayi in my_list:    # Her sayı için for döngüsü oluşturalım.\n",
        "  if sayi % 6 == 0:     # Eğer sayının 6 'ya bölümü 0' a eşit(tam bölünüyor) ise ekrana yazdıralım.\n",
        "    print(sayi)"
      ],
      "metadata": {
        "colab": {
          "base_uri": "https://localhost:8080/"
        },
        "id": "AWQyampXm4pz",
        "outputId": "6a7a2f5e-edc4-4c19-ac10-ed9910f99435"
      },
      "execution_count": null,
      "outputs": [
        {
          "output_type": "stream",
          "name": "stdout",
          "text": [
            "30\n",
            "60\n"
          ]
        }
      ]
    },
    {
      "cell_type": "markdown",
      "source": [
        "**Neden yüzde(%) kullanılır ?**\n",
        "\n",
        "Python’da yüzde işareti` %`, `modülüs (modulus)` veya kalan bulma operatörü olarak kullanılır. Bu operatör, bir sayının başka bir sayıya bölümünden kalanı verir.\n",
        "\n",
        "- % operatörü kalanı bulur.\n",
        "\n",
        "- sayi % 6 == 0 demek: sayi, 6’ya tam bölünüyor mu?\n",
        "\n",
        "- Eğer evet ise (kalan = 0), print(sayi) çalışır ve ekrana o sayı yazdırılır."
      ],
      "metadata": {
        "id": "V2WMkQCqoOSc"
      }
    },
    {
      "cell_type": "code",
      "source": [
        "# Her bir sayının sağlamasını yapalım.\n",
        "\n",
        "10 / 6"
      ],
      "metadata": {
        "colab": {
          "base_uri": "https://localhost:8080/"
        },
        "id": "sGjKB6sXncWq",
        "outputId": "36bce60e-f293-4578-cde3-fa68335c007a"
      },
      "execution_count": null,
      "outputs": [
        {
          "output_type": "execute_result",
          "data": {
            "text/plain": [
              "1.6666666666666667"
            ]
          },
          "metadata": {},
          "execution_count": 90
        }
      ]
    },
    {
      "cell_type": "code",
      "source": [
        "20 / 6"
      ],
      "metadata": {
        "colab": {
          "base_uri": "https://localhost:8080/"
        },
        "id": "yJO990lOngKG",
        "outputId": "0fb2166a-8971-46a3-ac77-7ddc2c6ae98c"
      },
      "execution_count": null,
      "outputs": [
        {
          "output_type": "execute_result",
          "data": {
            "text/plain": [
              "3.3333333333333335"
            ]
          },
          "metadata": {},
          "execution_count": 91
        }
      ]
    },
    {
      "cell_type": "code",
      "source": [
        "30 / 6       # tam bölünüyor"
      ],
      "metadata": {
        "colab": {
          "base_uri": "https://localhost:8080/"
        },
        "id": "Kv6U7Kj_nh24",
        "outputId": "5c64012a-0e29-47b2-fa5d-e3f82d77f57a"
      },
      "execution_count": null,
      "outputs": [
        {
          "output_type": "execute_result",
          "data": {
            "text/plain": [
              "5.0"
            ]
          },
          "metadata": {},
          "execution_count": 92
        }
      ]
    },
    {
      "cell_type": "code",
      "source": [
        "40 / 6"
      ],
      "metadata": {
        "colab": {
          "base_uri": "https://localhost:8080/"
        },
        "id": "CbpmOjOtnqQQ",
        "outputId": "653e5a8b-84c0-4097-8130-695b1c6666a7"
      },
      "execution_count": null,
      "outputs": [
        {
          "output_type": "execute_result",
          "data": {
            "text/plain": [
              "6.666666666666667"
            ]
          },
          "metadata": {},
          "execution_count": 94
        }
      ]
    },
    {
      "cell_type": "code",
      "source": [
        "50 / 6"
      ],
      "metadata": {
        "colab": {
          "base_uri": "https://localhost:8080/"
        },
        "id": "bALZzeMvnslu",
        "outputId": "31c54c3f-a107-4d37-efa5-115019cb1d2a"
      },
      "execution_count": null,
      "outputs": [
        {
          "output_type": "execute_result",
          "data": {
            "text/plain": [
              "8.333333333333334"
            ]
          },
          "metadata": {},
          "execution_count": 95
        }
      ]
    },
    {
      "cell_type": "code",
      "source": [
        "60 / 6   # tam bölünüyor"
      ],
      "metadata": {
        "colab": {
          "base_uri": "https://localhost:8080/"
        },
        "id": "p_3L4cCunu8N",
        "outputId": "fc05526c-089e-41e9-fe69-896c643707c2"
      },
      "execution_count": null,
      "outputs": [
        {
          "output_type": "execute_result",
          "data": {
            "text/plain": [
              "10.0"
            ]
          },
          "metadata": {},
          "execution_count": 96
        }
      ]
    },
    {
      "cell_type": "code",
      "source": [
        "70 / 6"
      ],
      "metadata": {
        "colab": {
          "base_uri": "https://localhost:8080/"
        },
        "id": "LZ9XS07VnyAW",
        "outputId": "32128c88-ead0-4ef7-fd16-c0a0c92698d6"
      },
      "execution_count": null,
      "outputs": [
        {
          "output_type": "execute_result",
          "data": {
            "text/plain": [
              "11.666666666666666"
            ]
          },
          "metadata": {},
          "execution_count": 97
        }
      ]
    },
    {
      "cell_type": "markdown",
      "source": [
        "**Sonuç:**\n",
        "\n",
        "Gördüğümüz gibi sağlamasını yaptığımızda 30 ve 60 dışındaki tüm sayılar tam bölünemez. For döngüsü ve if kontrolü ile işlemi kolayca yapabiliriz."
      ],
      "metadata": {
        "id": "x50ymcYpn0MG"
      }
    },
    {
      "cell_type": "code",
      "source": [
        "# Yeni liste oluşturalım\n",
        "\n",
        "number_list = [1,2,3,4,5,6,7,8,9,10]"
      ],
      "metadata": {
        "id": "RtRFpX6rou_4"
      },
      "execution_count": null,
      "outputs": []
    },
    {
      "cell_type": "code",
      "source": [
        "# Liste kontrolü:\n",
        "\n",
        "number_list"
      ],
      "metadata": {
        "colab": {
          "base_uri": "https://localhost:8080/"
        },
        "id": "TqowZBKyo14D",
        "outputId": "404935bc-55c4-40fd-f3eb-1a2f6650f029"
      },
      "execution_count": null,
      "outputs": [
        {
          "output_type": "execute_result",
          "data": {
            "text/plain": [
              "[1, 2, 3, 4, 5, 6, 7, 8, 9, 10]"
            ]
          },
          "metadata": {},
          "execution_count": 102
        }
      ]
    },
    {
      "cell_type": "code",
      "source": [
        "# Listedeki elemanların 2 ile tam bölünenlerini bulunuz:\n",
        "\n",
        "for i in number_list:       # i herhangi bir değişken. listedeki her bir elemanı kontrol edelim\n",
        "  if i % 2 == 0:            # eğer 2 ile bölümünden kalan 0 ise;\n",
        "    print(i)                # ekrana yazdıralım"
      ],
      "metadata": {
        "colab": {
          "base_uri": "https://localhost:8080/"
        },
        "id": "xl6PUyspo5wX",
        "outputId": "52932ec0-e2c6-4397-d204-8760a2f468e9"
      },
      "execution_count": null,
      "outputs": [
        {
          "output_type": "stream",
          "name": "stdout",
          "text": [
            "2\n",
            "4\n",
            "6\n",
            "8\n",
            "10\n"
          ]
        }
      ]
    },
    {
      "cell_type": "code",
      "source": [
        "# String tanımlayalım\n",
        "\n",
        "my_string = \"büşra atasoy\""
      ],
      "metadata": {
        "id": "N2TTfLGz5LNM"
      },
      "execution_count": 1,
      "outputs": []
    },
    {
      "cell_type": "code",
      "source": [
        "# String içinde geçen tüm harfleri yazdırma:\n",
        "\n",
        "for c in my_string:\n",
        "  print(c)"
      ],
      "metadata": {
        "colab": {
          "base_uri": "https://localhost:8080/"
        },
        "id": "nZXjmfd75NwU",
        "outputId": "913701aa-ae91-4c14-9b3d-0163698e1ab1"
      },
      "execution_count": 2,
      "outputs": [
        {
          "output_type": "stream",
          "name": "stdout",
          "text": [
            "b\n",
            "ü\n",
            "ş\n",
            "r\n",
            "a\n",
            " \n",
            "a\n",
            "t\n",
            "a\n",
            "s\n",
            "o\n",
            "y\n"
          ]
        }
      ]
    },
    {
      "cell_type": "code",
      "source": [
        "#tuple tanımlayalım\n",
        "\n",
        "my_tuple = (10,20,30,40,50,60,70)"
      ],
      "metadata": {
        "id": "WPgHm2w75cdC"
      },
      "execution_count": 3,
      "outputs": []
    },
    {
      "cell_type": "code",
      "source": [
        "# Tuple işlemi:\n",
        "\n",
        "for num in my_tuple:\n",
        "  print(num / 5 * 2)"
      ],
      "metadata": {
        "colab": {
          "base_uri": "https://localhost:8080/"
        },
        "id": "_Ay54HCr5ivx",
        "outputId": "8dd0dd03-f625-44f2-e40a-d4be6c88c408"
      },
      "execution_count": 4,
      "outputs": [
        {
          "output_type": "stream",
          "name": "stdout",
          "text": [
            "4.0\n",
            "8.0\n",
            "12.0\n",
            "16.0\n",
            "20.0\n",
            "24.0\n",
            "28.0\n"
          ]
        }
      ]
    },
    {
      "cell_type": "markdown",
      "source": [
        "**Dikkat:**\n",
        "\n",
        "Normalde **tuple** listelerden farklı olarak **değiştirilemezdi.** **Peki işlemi nasıl yapabildik ?**\n",
        "\n",
        "Burada num olarak tanımladığımız değişkene my_tuple elemanlarını tanımlıyoruz. Ve işlemleri num değişkeni üzerinde yapıyoruz. Bu sebeple işlemleri yapabiliyoruz. my_tuple değerleri ise değiştirilmemiş oluyor."
      ],
      "metadata": {
        "id": "2L8sYxaO5rRt"
      }
    },
    {
      "cell_type": "code",
      "source": [
        "#Tuple kontrolü:\n",
        "\n",
        "my_tuple"
      ],
      "metadata": {
        "colab": {
          "base_uri": "https://localhost:8080/"
        },
        "id": "zt1UJxzh6BEo",
        "outputId": "1acff387-d744-41c4-d2bd-8edf80f9606b"
      },
      "execution_count": 5,
      "outputs": [
        {
          "output_type": "execute_result",
          "data": {
            "text/plain": [
              "(10, 20, 30, 40, 50, 60, 70)"
            ]
          },
          "metadata": {},
          "execution_count": 5
        }
      ]
    },
    {
      "cell_type": "code",
      "source": [
        "# Liste tanımlayalım\n",
        "\n",
        "my_new_list = [(\"a\",\"b\"),(\"c\",\"d\"),(\"e\",\"f\"),(\"g\",\"h\")]"
      ],
      "metadata": {
        "id": "MgFhu--L6AAa"
      },
      "execution_count": 6,
      "outputs": []
    },
    {
      "cell_type": "code",
      "source": [
        "# Eleman sayısı kontrolü:\n",
        "\n",
        "len(my_new_list)"
      ],
      "metadata": {
        "colab": {
          "base_uri": "https://localhost:8080/"
        },
        "id": "TntbYZC96AEH",
        "outputId": "157503f9-ad6f-4634-fdbd-ef41288408a5"
      },
      "execution_count": 7,
      "outputs": [
        {
          "output_type": "execute_result",
          "data": {
            "text/plain": [
              "4"
            ]
          },
          "metadata": {},
          "execution_count": 7
        }
      ]
    },
    {
      "cell_type": "code",
      "source": [
        "# 1. elemanı getirme:\n",
        "\n",
        "my_new_list[0]"
      ],
      "metadata": {
        "colab": {
          "base_uri": "https://localhost:8080/"
        },
        "id": "ZjhwLkkz5yp5",
        "outputId": "789d0dba-6059-42b9-b4ca-b107b7ff0b6a"
      },
      "execution_count": 8,
      "outputs": [
        {
          "output_type": "execute_result",
          "data": {
            "text/plain": [
              "('a', 'b')"
            ]
          },
          "metadata": {},
          "execution_count": 8
        }
      ]
    },
    {
      "cell_type": "code",
      "source": [
        "# Döngü ile elemanları alma:\n",
        "\n",
        "for element in my_new_list:\n",
        "  print(element)"
      ],
      "metadata": {
        "colab": {
          "base_uri": "https://localhost:8080/"
        },
        "id": "4lUX55426878",
        "outputId": "da95355b-0ea2-4497-b511-a7264f6f6bce"
      },
      "execution_count": 9,
      "outputs": [
        {
          "output_type": "stream",
          "name": "stdout",
          "text": [
            "('a', 'b')\n",
            "('c', 'd')\n",
            "('e', 'f')\n",
            "('g', 'h')\n"
          ]
        }
      ]
    },
    {
      "cell_type": "markdown",
      "source": [
        "**Peki, tuple içindeki elemanlara nasıl ulaşabiliriz ?**"
      ],
      "metadata": {
        "id": "rXixzyNl7IOk"
      }
    },
    {
      "cell_type": "code",
      "source": [
        "# 1. yöntem:\n",
        "#Indexleme ile:\n",
        "\n",
        "my_new_list[0][0]"
      ],
      "metadata": {
        "colab": {
          "base_uri": "https://localhost:8080/",
          "height": 36
        },
        "id": "cThp0KdP7MRY",
        "outputId": "718834ba-9100-49a7-873b-cce9dbad5831"
      },
      "execution_count": 11,
      "outputs": [
        {
          "output_type": "execute_result",
          "data": {
            "text/plain": [
              "'a'"
            ],
            "application/vnd.google.colaboratory.intrinsic+json": {
              "type": "string"
            }
          },
          "metadata": {},
          "execution_count": 11
        }
      ]
    },
    {
      "cell_type": "code",
      "source": [
        "# 2. yöntem-Tuple unpacking ile:\n",
        "# Döngü tanımı:\n",
        "\n",
        "for (x, y) in my_new_list:\n",
        "  print(x)"
      ],
      "metadata": {
        "colab": {
          "base_uri": "https://localhost:8080/"
        },
        "id": "Q_-CzfhB7anY",
        "outputId": "20f84924-8584-4038-f201-8bc8b9044fb8"
      },
      "execution_count": 14,
      "outputs": [
        {
          "output_type": "stream",
          "name": "stdout",
          "text": [
            "a\n",
            "c\n",
            "e\n",
            "g\n"
          ]
        }
      ]
    },
    {
      "cell_type": "code",
      "source": [
        "# Döngü ile:\n",
        "\n",
        "for (x, y) in my_new_list:\n",
        "  print(y)"
      ],
      "metadata": {
        "colab": {
          "base_uri": "https://localhost:8080/"
        },
        "id": "HrcqRTQ07sAc",
        "outputId": "5e8e1dbd-d667-4aba-a99a-89898ca71a53"
      },
      "execution_count": 15,
      "outputs": [
        {
          "output_type": "stream",
          "name": "stdout",
          "text": [
            "b\n",
            "d\n",
            "f\n",
            "h\n"
          ]
        }
      ]
    },
    {
      "cell_type": "code",
      "source": [
        "# Tuple liste tanımlayalım\n",
        "\n",
        "my_tuple_list = [(0,1,2),(3,4,5),(6,7,8),(9,10,11)]"
      ],
      "metadata": {
        "id": "iuXocz4b7y46"
      },
      "execution_count": 16,
      "outputs": []
    },
    {
      "cell_type": "code",
      "source": [
        "# Eleman sayısı kontrolü:\n",
        "\n",
        "len(my_tuple_list)"
      ],
      "metadata": {
        "colab": {
          "base_uri": "https://localhost:8080/"
        },
        "id": "jx0ziIsh8CnR",
        "outputId": "4051265f-5e68-4271-f8dc-a15f5a20b42d"
      },
      "execution_count": 17,
      "outputs": [
        {
          "output_type": "execute_result",
          "data": {
            "text/plain": [
              "4"
            ]
          },
          "metadata": {},
          "execution_count": 17
        }
      ]
    },
    {
      "cell_type": "code",
      "source": [
        "# Tuple unpacking ile ilk elemanlara erişme:\n",
        "\n",
        "for (x,y,z) in my_tuple_list:\n",
        "  print(x)"
      ],
      "metadata": {
        "colab": {
          "base_uri": "https://localhost:8080/"
        },
        "id": "nNtMYke28HA1",
        "outputId": "8248200c-ac1c-4423-ab0a-efdba3b7b875"
      },
      "execution_count": 18,
      "outputs": [
        {
          "output_type": "stream",
          "name": "stdout",
          "text": [
            "0\n",
            "3\n",
            "6\n",
            "9\n"
          ]
        }
      ]
    },
    {
      "cell_type": "code",
      "source": [
        "# Tuple unpacking ile 2. elemanlara erişme:\n",
        "\n",
        "for (x,y,z) in my_tuple_list:\n",
        "  print(y)"
      ],
      "metadata": {
        "colab": {
          "base_uri": "https://localhost:8080/"
        },
        "id": "kg1qAi_g8Rkh",
        "outputId": "6dad617b-23e6-4c36-dfb1-f3fde7f4f98a"
      },
      "execution_count": 19,
      "outputs": [
        {
          "output_type": "stream",
          "name": "stdout",
          "text": [
            "1\n",
            "4\n",
            "7\n",
            "10\n"
          ]
        }
      ]
    },
    {
      "cell_type": "code",
      "source": [
        "# set tanımlayalım\n",
        "\n",
        "my_set = {1,2,3,4,5}"
      ],
      "metadata": {
        "id": "1IOKC6gT8WIk"
      },
      "execution_count": 20,
      "outputs": []
    },
    {
      "cell_type": "code",
      "source": [
        "# seti yazdıralım\n",
        "\n",
        "my_set"
      ],
      "metadata": {
        "colab": {
          "base_uri": "https://localhost:8080/"
        },
        "id": "mhWdyWLV8bls",
        "outputId": "96e9b689-3617-486a-e315-651a4f8c3b47"
      },
      "execution_count": 21,
      "outputs": [
        {
          "output_type": "execute_result",
          "data": {
            "text/plain": [
              "{1, 2, 3, 4, 5}"
            ]
          },
          "metadata": {},
          "execution_count": 21
        }
      ]
    },
    {
      "cell_type": "code",
      "source": [
        "# eleman sayısı kontrolü:\n",
        "\n",
        "len(my_set)"
      ],
      "metadata": {
        "colab": {
          "base_uri": "https://localhost:8080/"
        },
        "id": "cGueXnZP8enS",
        "outputId": "a9de52af-c1c3-45ef-fcd5-444184589c99"
      },
      "execution_count": 22,
      "outputs": [
        {
          "output_type": "execute_result",
          "data": {
            "text/plain": [
              "5"
            ]
          },
          "metadata": {},
          "execution_count": 22
        }
      ]
    },
    {
      "cell_type": "code",
      "source": [
        "# Tip kontrolü:\n",
        "\n",
        "type(my_set)"
      ],
      "metadata": {
        "colab": {
          "base_uri": "https://localhost:8080/"
        },
        "id": "wSoJM4sf8hz9",
        "outputId": "d704db49-c9a8-4362-b21c-9e8e3ca4383b"
      },
      "execution_count": 23,
      "outputs": [
        {
          "output_type": "execute_result",
          "data": {
            "text/plain": [
              "set"
            ]
          },
          "metadata": {},
          "execution_count": 23
        }
      ]
    },
    {
      "cell_type": "code",
      "source": [
        "# döngü ile elemanlara erişme:\n",
        "\n",
        "for num in my_set:\n",
        "  print(num)"
      ],
      "metadata": {
        "colab": {
          "base_uri": "https://localhost:8080/"
        },
        "id": "wJSeJAAR8miG",
        "outputId": "3b4eb682-8dbe-45af-8fc3-8b42ece36df5"
      },
      "execution_count": 24,
      "outputs": [
        {
          "output_type": "stream",
          "name": "stdout",
          "text": [
            "1\n",
            "2\n",
            "3\n",
            "4\n",
            "5\n"
          ]
        }
      ]
    },
    {
      "cell_type": "code",
      "source": [
        "# sözlük tanımlayalım\n",
        "\n",
        "my_dictionary = {\"k1\":100,\"k2\":200,\"k3\":300}"
      ],
      "metadata": {
        "id": "pFaWlppI8tG-"
      },
      "execution_count": 25,
      "outputs": []
    },
    {
      "cell_type": "code",
      "source": [
        "# sözlüğü yazdıralım\n",
        "\n",
        "my_dictionary"
      ],
      "metadata": {
        "colab": {
          "base_uri": "https://localhost:8080/"
        },
        "id": "N3wTl7My85Mo",
        "outputId": "f26b12c1-321a-42f3-f18c-e5fb7c3bc9bc"
      },
      "execution_count": 26,
      "outputs": [
        {
          "output_type": "execute_result",
          "data": {
            "text/plain": [
              "{'k1': 100, 'k2': 200, 'k3': 300}"
            ]
          },
          "metadata": {},
          "execution_count": 26
        }
      ]
    },
    {
      "cell_type": "code",
      "source": [
        "# döngü ile elemanlara erişelim\n",
        "\n",
        "for num in my_dictionary:\n",
        "  print(num)"
      ],
      "metadata": {
        "colab": {
          "base_uri": "https://localhost:8080/"
        },
        "id": "0YOwu84088Wa",
        "outputId": "f0b2085b-e358-462d-df10-18ad46186fe3"
      },
      "execution_count": 27,
      "outputs": [
        {
          "output_type": "stream",
          "name": "stdout",
          "text": [
            "k1\n",
            "k2\n",
            "k3\n"
          ]
        }
      ]
    },
    {
      "cell_type": "markdown",
      "source": [
        "Sadece anahtarların yani keys bilgisini alabildik.\n",
        "\n",
        "Value-değer ve items- değer ve anahtar birleşimlerini belirtirsek alabiliriz."
      ],
      "metadata": {
        "id": "5KC3jtxQ9ESW"
      }
    },
    {
      "cell_type": "code",
      "source": [
        "# döngü ile elemanlara erişelim\n",
        "#key-value-items belirterek erişme:\n",
        "\n",
        "for (key,value) in my_dictionary.items():\n",
        "  print(value)"
      ],
      "metadata": {
        "colab": {
          "base_uri": "https://localhost:8080/"
        },
        "id": "H9OTS9wE9R8-",
        "outputId": "f17daf85-942a-48a9-a0b8-676aff1550db"
      },
      "execution_count": 29,
      "outputs": [
        {
          "output_type": "stream",
          "name": "stdout",
          "text": [
            "100\n",
            "200\n",
            "300\n"
          ]
        }
      ]
    },
    {
      "cell_type": "code",
      "source": [
        "# Pratik yöntemi:\n",
        "\n",
        "for num in my_dictionary.values():\n",
        "  print(num)"
      ],
      "metadata": {
        "colab": {
          "base_uri": "https://localhost:8080/"
        },
        "id": "FfpddW2n9h93",
        "outputId": "6955dfb4-0557-4b25-b482-7ca7a57b67be"
      },
      "execution_count": 30,
      "outputs": [
        {
          "output_type": "stream",
          "name": "stdout",
          "text": [
            "100\n",
            "200\n",
            "300\n"
          ]
        }
      ]
    },
    {
      "cell_type": "markdown",
      "source": [
        "##**Döngü Çıkışları Tanımlama**\n",
        "\n",
        "🔄 Döngü Kontrol Komutları:\n",
        "\n",
        "- continue\n",
        "- break\n",
        "- pass\n",
        "\n",
        "Python'da break, continue ve pass deyimleri, döngüler ve kontrol yapıları içinde akışı kontrol etmek için kullanılır. Her biri farklı bir işlev görür."
      ],
      "metadata": {
        "id": "Zqvvw7rD98fp"
      }
    },
    {
      "cell_type": "code",
      "source": [
        "# liste tanımla:\n",
        "\n",
        "my_list = [10,20,30,40,50,60,70]"
      ],
      "metadata": {
        "id": "-3vbZxzDEv9b"
      },
      "execution_count": 31,
      "outputs": []
    },
    {
      "cell_type": "code",
      "source": [
        "# Döngü tanımla:\n",
        "\n",
        "print(\"for loop started\")\n",
        "for num in my_list:\n",
        "  print(num)\n",
        "print(\"for loop ended\")"
      ],
      "metadata": {
        "colab": {
          "base_uri": "https://localhost:8080/"
        },
        "id": "Lwi9DSq4EmpD",
        "outputId": "df135861-b6f2-4aeb-9568-49fb6c4643a3"
      },
      "execution_count": 32,
      "outputs": [
        {
          "output_type": "stream",
          "name": "stdout",
          "text": [
            "for loop started\n",
            "10\n",
            "20\n",
            "30\n",
            "40\n",
            "50\n",
            "60\n",
            "70\n",
            "for loop ended\n"
          ]
        }
      ]
    },
    {
      "cell_type": "markdown",
      "source": [
        "Döngüler içerisinde herhangi bir değer araması yapıldığınde ve eşleşme sağlandığında döngüden çıkılması istenebilir.\n",
        "\n",
        "**Örneğin: 40 rakamı listenin içinde olup olmadığı nasıl kontrol edilir ?**"
      ],
      "metadata": {
        "id": "7-LSdfH7E8E3"
      }
    },
    {
      "cell_type": "code",
      "source": [
        "# 1. yöntem:\n",
        "# Python otomatik arama yapar ve boolen değer döndürür.\n",
        "\n",
        "40 in my_list"
      ],
      "metadata": {
        "colab": {
          "base_uri": "https://localhost:8080/"
        },
        "id": "k19fN2b-FLny",
        "outputId": "ed80b913-bd3a-45fb-cc4e-4e07f2dde5e7"
      },
      "execution_count": 33,
      "outputs": [
        {
          "output_type": "execute_result",
          "data": {
            "text/plain": [
              "True"
            ]
          },
          "metadata": {},
          "execution_count": 33
        }
      ]
    },
    {
      "cell_type": "code",
      "source": [
        "# 2. yöntem:\n",
        "# Döngü ile:\n",
        "\n",
        "for number in my_list:\n",
        "  if number == 40:\n",
        "    print( \"Yes\")"
      ],
      "metadata": {
        "colab": {
          "base_uri": "https://localhost:8080/"
        },
        "id": "Fc_lYphWFaFy",
        "outputId": "5b1fb59f-76ea-4ac8-c0d0-29e49cdc1cc9"
      },
      "execution_count": 34,
      "outputs": [
        {
          "output_type": "stream",
          "name": "stdout",
          "text": [
            "Yes\n"
          ]
        }
      ]
    },
    {
      "cell_type": "markdown",
      "source": [
        "Burada fark nedir ? Aslında 40 rakamını bulunca ekrana `Yes` yazdırdı. Fakat 40 rakamının devamında olan **50,60,70** sayılarını da tarama yaptı ve kod çalıştı. Bunu arkaplanda yaptığı için görmedik. Aslında kodu fazladan çalıştırmış olduk. Burada koda ekleme yapalım ve analiz edelim."
      ],
      "metadata": {
        "id": "ANtaRFmmFlfI"
      }
    },
    {
      "cell_type": "code",
      "source": [
        "# 2. yöntem:\n",
        "# Döngü ile:\n",
        "\n",
        "for number in my_list:\n",
        "  print(number)\n",
        "  if number == 40:\n",
        "    print( \"Yes\")"
      ],
      "metadata": {
        "colab": {
          "base_uri": "https://localhost:8080/"
        },
        "id": "xZSZdNQVGMSD",
        "outputId": "f2ce29b2-663e-459a-84c6-bc3f38a4403f"
      },
      "execution_count": 35,
      "outputs": [
        {
          "output_type": "stream",
          "name": "stdout",
          "text": [
            "10\n",
            "20\n",
            "30\n",
            "40\n",
            "Yes\n",
            "50\n",
            "60\n",
            "70\n"
          ]
        }
      ]
    },
    {
      "cell_type": "markdown",
      "source": [
        "Görüldüğü üzere; tüm numaraları yazdırdığımızda gördük ki kod eşleşmeyi bulduktan sonra bile çalıştı. Bu da verimsizdir ve bunun olmasını istemeyiz.\n",
        "\n",
        "Döngü çıkışları ile daha verimli hale getirelim:"
      ],
      "metadata": {
        "id": "Mt5fHx6iGRKz"
      }
    },
    {
      "cell_type": "markdown",
      "source": [
        "**1. 🔴 break – Döngüyü tamamen sonlandırır**\n",
        "\n",
        "`break,` bir döngü içinde çalıştığında döngüyü hemen durdurur ve döngünün dışına çıkar.\n",
        "\n",
        "Genellikle bir koşul sağlandığında döngüyü bitirmek için kullanılır."
      ],
      "metadata": {
        "id": "SQGGgk2CLkvD"
      }
    },
    {
      "cell_type": "code",
      "source": [
        "# Break kullanımı ile:\n",
        "\n",
        "for number in my_list:\n",
        "  print(number)\n",
        "  if number == 40:\n",
        "    print( \"Yes\")\n",
        "    break"
      ],
      "metadata": {
        "colab": {
          "base_uri": "https://localhost:8080/"
        },
        "id": "bjrOu5k-Gjp-",
        "outputId": "5605a1ad-8041-4e5a-ee55-9b0fe623dfcf"
      },
      "execution_count": 36,
      "outputs": [
        {
          "output_type": "stream",
          "name": "stdout",
          "text": [
            "10\n",
            "20\n",
            "30\n",
            "40\n",
            "Yes\n"
          ]
        }
      ]
    },
    {
      "cell_type": "markdown",
      "source": [
        "Evet! `break` kullanımı ile döngüyü kırdık ve eşleşme sağlanınca döngünün devam etmemesini sağladık."
      ],
      "metadata": {
        "id": "sWHU5zCvGwEY"
      }
    },
    {
      "cell_type": "code",
      "source": [
        "# 2. örnek:\n",
        "\n",
        "for i in range(1, 6):\n",
        "    if i == 3:\n",
        "        break\n",
        "    print(i)"
      ],
      "metadata": {
        "colab": {
          "base_uri": "https://localhost:8080/"
        },
        "id": "s8uSWaDmLxIx",
        "outputId": "c2027c05-d542-420a-8be5-41c7dc0d5c45"
      },
      "execution_count": 48,
      "outputs": [
        {
          "output_type": "stream",
          "name": "stdout",
          "text": [
            "1\n",
            "2\n"
          ]
        }
      ]
    },
    {
      "cell_type": "markdown",
      "source": [
        "`i == 3 `olduğunda break çalışır ve döngü tamamen sona erer."
      ],
      "metadata": {
        "id": "RR5oOgeTL1Ed"
      }
    },
    {
      "cell_type": "markdown",
      "source": [
        "**2. 🟡 continue – O anki döngü turunu atlar, sonraki adıma geçer**\n",
        "\n",
        "Döngü devam eder ama continue'dan sonraki kodlar o turda çalışmaz."
      ],
      "metadata": {
        "id": "m43nH-MgL4-L"
      }
    },
    {
      "cell_type": "code",
      "source": [
        "# Continue ile:\n",
        "\n",
        "for number in my_list:\n",
        "  print(number)\n",
        "  if number == 40:\n",
        "    print( \"Yes\")\n",
        "    continue"
      ],
      "metadata": {
        "colab": {
          "base_uri": "https://localhost:8080/"
        },
        "id": "nqlp7cFmGuLq",
        "outputId": "f7708e29-dc90-49d0-cd40-5ca0630e044c"
      },
      "execution_count": 39,
      "outputs": [
        {
          "output_type": "stream",
          "name": "stdout",
          "text": [
            "10\n",
            "20\n",
            "30\n",
            "40\n",
            "Yes\n",
            "50\n",
            "60\n",
            "70\n"
          ]
        }
      ]
    },
    {
      "cell_type": "markdown",
      "source": [
        "Şuan aynı şekilde oldu bir şey değişmedi. Continue sıralamasını değiştirelim."
      ],
      "metadata": {
        "id": "ex-OiuOYJM66"
      }
    },
    {
      "cell_type": "code",
      "source": [
        "# Continue ile:\n",
        "\n",
        "for number in my_list:\n",
        "  print(number)\n",
        "  if number == 40:\n",
        "    continue\n",
        "    print( \"Yes\")\n",
        ""
      ],
      "metadata": {
        "colab": {
          "base_uri": "https://localhost:8080/"
        },
        "id": "YDRs319-JTe4",
        "outputId": "7c9d320a-378a-4a17-c27d-6fc66cf337dc"
      },
      "execution_count": 40,
      "outputs": [
        {
          "output_type": "stream",
          "name": "stdout",
          "text": [
            "10\n",
            "20\n",
            "30\n",
            "40\n",
            "50\n",
            "60\n",
            "70\n"
          ]
        }
      ]
    },
    {
      "cell_type": "markdown",
      "source": [
        "Bu kez de \"Yes\" yazdırmadı. Neden? Aslında continue durması ve kodu çalıştırmayıp bir sonraki satırdaki komuttan devam etmesini sağlar bu yüzden çalışmadı. Başka bir örnekle tekrar bakalım."
      ],
      "metadata": {
        "id": "6-vh8_0CJWTN"
      }
    },
    {
      "cell_type": "code",
      "source": [
        "for number in my_list:\n",
        "  if number == 40:\n",
        "    continue\n",
        "  print(number)\n",
        ""
      ],
      "metadata": {
        "colab": {
          "base_uri": "https://localhost:8080/"
        },
        "id": "R-cTKxjDJVt9",
        "outputId": "ddbfc189-11c7-429a-f271-c2180546c441"
      },
      "execution_count": 46,
      "outputs": [
        {
          "output_type": "stream",
          "name": "stdout",
          "text": [
            "10\n",
            "20\n",
            "30\n",
            "50\n",
            "60\n",
            "70\n"
          ]
        }
      ]
    },
    {
      "cell_type": "markdown",
      "source": [
        "Burada gördüğümüz gibi; 40 hariç hepsini yazdırdı. Aslında 40 üzerine gelince eşleşme sağlanıyor ve print işlemine gelmeden döngüye devam etmesini sağlıyor."
      ],
      "metadata": {
        "id": "yPHdTHJgJ6yX"
      }
    },
    {
      "cell_type": "code",
      "source": [
        "# 2. örnek:\n",
        "\n",
        "for i in range(1, 6):\n",
        "    if i == 3:\n",
        "        continue\n",
        "    print(i)"
      ],
      "metadata": {
        "colab": {
          "base_uri": "https://localhost:8080/"
        },
        "id": "IoT_YBZsMCd7",
        "outputId": "41e07f07-da1d-46c9-9f38-1db0d73cb5b2"
      },
      "execution_count": 49,
      "outputs": [
        {
          "output_type": "stream",
          "name": "stdout",
          "text": [
            "1\n",
            "2\n",
            "4\n",
            "5\n"
          ]
        }
      ]
    },
    {
      "cell_type": "markdown",
      "source": [
        "`i == 3` olduğunda print(i) çalışmaz, sonraki tura geçilir."
      ],
      "metadata": {
        "id": "e2eK8tbzMJho"
      }
    },
    {
      "cell_type": "markdown",
      "source": [
        "**3. ⚪ pass – Hiçbir şey yapmaz, yer tutucu gibi davranır**\n",
        "\n",
        "Genellikle bir kod bloğu yazılmadığında hata vermemek için kullanılır.\n",
        "\n",
        "Fonksiyonlar, sınıflar ya da döngüler boş geçilecekse orada pass yazılır."
      ],
      "metadata": {
        "id": "pFF-k-c0MP0T"
      }
    },
    {
      "cell_type": "code",
      "source": [
        "for number in my_list:\n",
        "  pass"
      ],
      "metadata": {
        "id": "RjljscieKI2X"
      },
      "execution_count": 47,
      "outputs": []
    },
    {
      "cell_type": "markdown",
      "source": [
        "pass genelde kodları sonrasında düzeltmek için kullanılır. Biten kodda çok kullanılmaz. Pass geçmek için kullanılır ve kodu hatasız çalıştımak için kullanılır."
      ],
      "metadata": {
        "id": "-BD7w6KNKOP3"
      }
    },
    {
      "cell_type": "code",
      "source": [
        "# 2. örnek:\n",
        "\n",
        "for i in range(1, 6):\n",
        "    if i == 3:\n",
        "        pass\n",
        "    print(i)"
      ],
      "metadata": {
        "colab": {
          "base_uri": "https://localhost:8080/"
        },
        "id": "mfd33ikAMVNC",
        "outputId": "2a84d43a-562e-4cf1-b496-1d01831247fe"
      },
      "execution_count": 50,
      "outputs": [
        {
          "output_type": "stream",
          "name": "stdout",
          "text": [
            "1\n",
            "2\n",
            "3\n",
            "4\n",
            "5\n"
          ]
        }
      ]
    },
    {
      "cell_type": "markdown",
      "source": [
        "`pass` hiçbir etkide bulunmaz, sadece geçilir."
      ],
      "metadata": {
        "id": "A8ykffbeMbkG"
      }
    },
    {
      "cell_type": "markdown",
      "source": [
        "**🎯 Konu Özeti:**\n",
        "\n",
        "| Yapı                 | Açıklama                                   |\n",
        "| -------------------- | ------------------------------------------ |\n",
        "| `if`, `elif`, `else` | Koşula bağlı karar verir                   |\n",
        "| `for`                | Belirli sayıda ya da öğe kadar tekrar eder |\n",
        "| `while`              | Koşul sağlandığı sürece tekrar eder        |\n",
        "| `break`              | Döngüyü kırar (erken sonlandırır)          |\n",
        "| `continue`           | O turu atlar, sonraki tura geçer           |\n",
        "| `pass`               | Kod bloğu boş geçilir (yer tutucu)         |\n",
        "\n",
        "\n",
        "\n"
      ],
      "metadata": {
        "id": "aHl1gbn9Ol_g"
      }
    }
  ]
}