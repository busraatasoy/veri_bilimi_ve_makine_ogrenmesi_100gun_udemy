{
  "cells": [
    {
      "cell_type": "markdown",
      "metadata": {
        "id": "view-in-github",
        "colab_type": "text"
      },
      "source": [
        "<a href=\"https://colab.research.google.com/github/busraatasoy/veri_bilimi_ve_makine_ogrenmesi_100gun_udemy/blob/main/Gun_07.ipynb\" target=\"_parent\"><img src=\"https://colab.research.google.com/assets/colab-badge.svg\" alt=\"Open In Colab\"/></a>"
      ]
    },
    {
      "cell_type": "markdown",
      "source": [
        "# Gün 7: Döngüler (WHILE)"
      ],
      "metadata": {
        "id": "AbrUwG3Pto55"
      }
    },
    {
      "cell_type": "markdown",
      "metadata": {
        "id": "3FJwqSFLSCsV"
      },
      "source": [
        "## 🔁While Loop(While Döngüsü)\n",
        "Döngüler, belirli bir kod bloğunu birden fazla kez çalıştırmak için kullanıldığını öğrenmiştik ve for döngüsü ile çalışmalarımızı yaptık.\n",
        "\n",
        "While döngüsü ile devam edelim.\n",
        "\n",
        "🔸 While Loop(while döngüsü) – Koşul doğru olduğu sürece çalışır.\n",
        "\n",
        "📌 Sonsuz döngüye girmemek için mutlaka koşulun sonunda değişiklik yapılmalıdır."
      ]
    },
    {
      "cell_type": "code",
      "execution_count": null,
      "metadata": {
        "id": "3KVODiyuRcoT"
      },
      "outputs": [],
      "source": [
        "# Değişken atayalım\n",
        "\n",
        "x = 0"
      ]
    },
    {
      "cell_type": "code",
      "execution_count": null,
      "metadata": {
        "colab": {
          "base_uri": "https://localhost:8080/"
        },
        "id": "ugcLVMRyT_Dr",
        "outputId": "73bfad65-7930-4432-9375-e190b1719ed4"
      },
      "outputs": [
        {
          "output_type": "stream",
          "name": "stdout",
          "text": [
            "0\n",
            "1\n",
            "2\n",
            "3\n",
            "4\n",
            "5\n",
            "6\n",
            "7\n",
            "8\n",
            "9\n"
          ]
        }
      ],
      "source": [
        "# Döngüyü tanımlayalım\n",
        "\n",
        "while x < 10:\n",
        "  print(x)\n",
        "  x = x + 1    # x değerini arttırmalıyız, aksi halde sonsuz döngüye girer ve sürekli çalışır(0 yazar)."
      ]
    },
    {
      "cell_type": "code",
      "source": [
        "# Değişken tekrar atayalım\n",
        "\n",
        "x = 1"
      ],
      "metadata": {
        "id": "MuVoYPkNVDtA"
      },
      "execution_count": null,
      "outputs": []
    },
    {
      "cell_type": "code",
      "source": [
        "# Döngüyü yeniden tanımlayalım\n",
        "# Kod bloğu dışına başlama ve bitişi yazdıralım\n",
        "\n",
        "print(\"while loop started\")\n",
        "while x < 10:\n",
        "  print(x)\n",
        "  x = x + 1\n",
        "print(\"while loop ended\")"
      ],
      "metadata": {
        "colab": {
          "base_uri": "https://localhost:8080/"
        },
        "id": "X5VYV1iyUyrL",
        "outputId": "ff8d5744-84c6-458b-8624-f80decefaeeb"
      },
      "execution_count": null,
      "outputs": [
        {
          "output_type": "stream",
          "name": "stdout",
          "text": [
            "while loop started\n",
            "1\n",
            "2\n",
            "3\n",
            "4\n",
            "5\n",
            "6\n",
            "7\n",
            "8\n",
            "9\n",
            "while loop ended\n"
          ]
        }
      ]
    },
    {
      "cell_type": "code",
      "source": [
        "# Liste tanımlayalım\n",
        "\n",
        "last_list = [10,20,30,40,50]"
      ],
      "metadata": {
        "id": "KY9ZTn7MVW4m"
      },
      "execution_count": null,
      "outputs": []
    },
    {
      "cell_type": "code",
      "source": [
        "# Döngüyü tanımlayalım\n",
        "\n",
        "while 20 in last_list:\n",
        "  print(\"20 in last_list\")\n",
        "  last_list.remove(20)        #20 eşleşmesini ekrana yazdırır ve döngü tamamlanır."
      ],
      "metadata": {
        "colab": {
          "base_uri": "https://localhost:8080/"
        },
        "id": "KbnSXZipVdj6",
        "outputId": "fd9cb837-6661-47c4-c2a5-120eb08e719c"
      },
      "execution_count": null,
      "outputs": [
        {
          "output_type": "stream",
          "name": "stdout",
          "text": [
            "20 in last_list\n"
          ]
        }
      ]
    },
    {
      "cell_type": "code",
      "source": [
        "# Liste tekrar çalıştıralım\n",
        "\n",
        "last_list = [10,20,30,40,50]"
      ],
      "metadata": {
        "id": "9giOPW1-V_cg"
      },
      "execution_count": null,
      "outputs": []
    },
    {
      "cell_type": "code",
      "source": [
        "# Döngüyü yeniden tanımlayalım\n",
        "\n",
        "while 20 in last_list:      #listede 20 değeri olduğu sürece döngü devam edecek.\n",
        "  print(\"20 in last_list\")\n",
        "  last_list.pop()           # Listenin en sonundaki elemanı listeden çıkartır.\n",
        "                            # Liste içinde 20 kalmayınca döngü biter."
      ],
      "metadata": {
        "colab": {
          "base_uri": "https://localhost:8080/"
        },
        "id": "kWLg7dOtV0oU",
        "outputId": "7451d8ee-29e6-4bce-e916-00e681df1488"
      },
      "execution_count": null,
      "outputs": [
        {
          "output_type": "stream",
          "name": "stdout",
          "text": [
            "20 in last_list\n",
            "20 in last_list\n",
            "20 in last_list\n",
            "20 in last_list\n"
          ]
        }
      ]
    },
    {
      "cell_type": "markdown",
      "source": [
        "**📌 Not - While Döngüsü**\n",
        "\n",
        "while döngüsü verilen koşul True olduğu sürece çalışır.\n",
        "\n",
        "Eğer koşul hiç `False` olmazsa döngü sonsuz döngü (infinite loop) olur ve program sürekli çalışmaya devam eder.\n",
        "\n",
        "Bu yüzden; kod yazarken sürekli çalışmasını istediğimiz kodlarda `while True:` veya `while 1 == 1:` gibi atamalar kullanıp koşul atayarak devamlı kodun çalışmasını sağlayabiliriz.\n",
        "\n",
        "**🔧 Sonsuz Döngü Yazımı:**\n",
        "\n",
        "Şu şekilde yazılır:\n",
        "\n",
        "```\n",
        "while True:\n",
        "    # Buradaki kod sürekli çalışır\n",
        "```\n",
        "\n",
        "veya,\n",
        "\n",
        "```\n",
        "while 1 == 1:\n",
        "    # Bu da hep True olduğu için sonsuz çalışır\n",
        "```\n",
        "\n",
        "Bu yöntem genellikle:\n",
        "\n",
        "- Kullanıcıdan sürekli veri almak,\n",
        "\n",
        "- Sürekli çalışan bir sistem oluşturmak,\n",
        "\n",
        "- Belirli bir durumda manuel olarak durdurulana kadar devam eden işlemler yapmak\n",
        "için tercih edilir.\n",
        "\n",
        "**❗ Dikkat:**\n",
        "\n",
        "Sonsuz döngüler yazarken döngüden çıkmak için:\n",
        "\n",
        "`break komutu` kullanılır.\n",
        "\n",
        "Veya dışarıdan bir koşul değiştirilebilir.\n",
        "\n",
        "**📌 Örnek:**\n",
        "\n",
        "\n",
        "```\n",
        "while True:\n",
        "    veri = input(\"Bir şey yaz (çıkmak için 'q'): \")\n",
        "    if veri == 'q':\n",
        "        print(\"Çıkılıyor...\")\n",
        "        break\n",
        "    print(\"Mesajınız:\", veri)\n",
        "```\n",
        "\n",
        "Bu kodda:\n",
        "\n",
        "- Sürekli kullanıcıdan veri alır.\n",
        "\n",
        "- Eğer kullanıcı `'q'` yazarsa break komutu ile döngü biter.\n",
        "\n",
        "\n",
        "\n"
      ],
      "metadata": {
        "id": "3698hzoNW-3g"
      }
    },
    {
      "cell_type": "code",
      "source": [
        "# Liste tanımlayalım\n",
        "\n",
        "my_list = [10,20,30]"
      ],
      "metadata": {
        "id": "GsNuE0JUhBUK"
      },
      "execution_count": null,
      "outputs": []
    },
    {
      "cell_type": "code",
      "source": [
        "# Listeyi yazdıralım\n",
        "# Jupyter Notebook'ta:\n",
        "# Sadece değişken adını yazarak listeyi görebilirsin:\n",
        "\n",
        "my_list"
      ],
      "metadata": {
        "colab": {
          "base_uri": "https://localhost:8080/"
        },
        "id": "FSChVTC-hHMd",
        "outputId": "dac13984-3b0e-435a-cb3c-6981571e5e9d"
      },
      "execution_count": null,
      "outputs": [
        {
          "output_type": "execute_result",
          "data": {
            "text/plain": [
              "[10, 20, 30]"
            ]
          },
          "metadata": {},
          "execution_count": 2
        }
      ]
    },
    {
      "cell_type": "code",
      "source": [
        "# Diğer IDE'lerde (PyCharm, VSCode vs.)\n",
        "# Mutlaka print() kullanman gerekir:\n",
        "\n",
        "print(my_list)"
      ],
      "metadata": {
        "colab": {
          "base_uri": "https://localhost:8080/"
        },
        "id": "co6DonC4hXw4",
        "outputId": "a5dd9c32-90b5-41bc-dca2-60e5e421f206"
      },
      "execution_count": null,
      "outputs": [
        {
          "output_type": "stream",
          "name": "stdout",
          "text": [
            "[10, 20, 30]\n"
          ]
        }
      ]
    },
    {
      "cell_type": "markdown",
      "source": [
        "## **🔵Bilgi İçerikli Yazdırma Nedir?**\n",
        "\n",
        "Bir Python programında sadece veriyi yazdırmak bazen yeterli olmaz. Yazdırdığımız bilginin ne anlama geldiğini göstermek için açıklayıcı bir metinle birlikte yazdırmak isteriz. Bu, kullanıcıya daha anlaşılır ve düzenli bir çıktı sunar.\n",
        "\n",
        "Örneğin, bir listeyi yazdırırken sadece **print(my_list)** demek yerine:\n",
        "`\"my list: [10, 20, 30]\"` gibi bir bilgi içeren çıktı vermek daha açıklayıcıdır.\n",
        "\n",
        "Bunu yapmanın iki temel yolu vardır:\n",
        "\n",
        "1️⃣ f-string kullanarak yazdırmak\n",
        "\n",
        "2️⃣ Virgül kullanarak yazdırmak"
      ],
      "metadata": {
        "id": "K892u1ZLlHhL"
      }
    },
    {
      "cell_type": "code",
      "source": [
        "# Hatalı Kullanım:\n",
        "# Bu, sadece düz bir yazıyı ekrana basar. Listeyi göstermez.\n",
        "\n",
        "print(\"my list: my_list\")"
      ],
      "metadata": {
        "colab": {
          "base_uri": "https://localhost:8080/"
        },
        "id": "ZmpFxoiKhld0",
        "outputId": "7f44a83e-ffa6-4a7d-9627-157312fe8775"
      },
      "execution_count": null,
      "outputs": [
        {
          "output_type": "stream",
          "name": "stdout",
          "text": [
            "my list: my_list\n"
          ]
        }
      ]
    },
    {
      "cell_type": "markdown",
      "source": [
        "### **1️⃣ f-string Nedir ve Nasıl Kullanılır?**\n",
        "\n",
        "f-string (formatted string), Python’da bir değişkenin veya ifadenin string (yazı) içinde kolayca gösterilmesini sağlar.\n",
        "\n",
        "`f\"...\"` şeklinde yazılır ve süslü parantez `{}` içine değişken yazılır."
      ],
      "metadata": {
        "id": "vZoosqFNja2T"
      }
    },
    {
      "cell_type": "code",
      "source": [
        "#  f-string kullanarak:\n",
        "# Listeyi ekrana yazdırır.\n",
        "\n",
        "print(f\"my list: {my_list}\")"
      ],
      "metadata": {
        "colab": {
          "base_uri": "https://localhost:8080/"
        },
        "id": "b3wkGJUph6NS",
        "outputId": "16651cdb-5a2d-4a22-85c5-6c5e2b181195"
      },
      "execution_count": null,
      "outputs": [
        {
          "output_type": "stream",
          "name": "stdout",
          "text": [
            "my list: [10, 20, 30]\n"
          ]
        }
      ]
    },
    {
      "cell_type": "markdown",
      "source": [
        "**Avantajı:**\n",
        "\n",
        "- Çok okunabilir.\n",
        "\n",
        "- Uzun stringlerde pratik.\n",
        "\n",
        "- Hesaplama da yapılabilir:"
      ],
      "metadata": {
        "id": "yvjv5O3MkIjj"
      }
    },
    {
      "cell_type": "code",
      "source": [
        "x = 5\n",
        "print(f\"x'in karesi: {x**2}\")"
      ],
      "metadata": {
        "colab": {
          "base_uri": "https://localhost:8080/"
        },
        "id": "PqlQFwo3kMav",
        "outputId": "7356eb62-6d81-431e-e3d1-1d004e359312"
      },
      "execution_count": null,
      "outputs": [
        {
          "output_type": "stream",
          "name": "stdout",
          "text": [
            "x'in karesi: 25\n"
          ]
        }
      ]
    },
    {
      "cell_type": "markdown",
      "source": [
        "###**2️⃣ Virgül Kullanımı Nedir ve Nasıl Kullanılır?**\n",
        "\n",
        "`print()` fonksiyonu birden fazla değeri yazdırırken virgül ile ayırabilir. Python, bunları otomatik boşlukla ayırır."
      ],
      "metadata": {
        "id": "lWoDPOPDkaVs"
      }
    },
    {
      "cell_type": "code",
      "source": [
        "# Alternatif — Virgül kullanarak:\n",
        "# Listeyi ekrana yazdırır.\n",
        "\n",
        "print(\"my list:\", my_list)"
      ],
      "metadata": {
        "colab": {
          "base_uri": "https://localhost:8080/"
        },
        "id": "fIYMS44KjHDE",
        "outputId": "68cd8ee3-e9f6-422c-d885-37a322732a10"
      },
      "execution_count": null,
      "outputs": [
        {
          "output_type": "stream",
          "name": "stdout",
          "text": [
            "my list: [10, 20, 30]\n"
          ]
        }
      ]
    },
    {
      "cell_type": "markdown",
      "source": [
        "**Avantajı:**\n",
        "\n",
        "- Çok basit ve hızlı.\n",
        "\n",
        "- Sayı, metin, liste gibi farklı türleri yazdırırken str() çevirisi gerekmez.\n",
        "\n",
        "- Boşluk otomatik eklenir."
      ],
      "metadata": {
        "id": "oc4yACiIkiFH"
      }
    },
    {
      "cell_type": "markdown",
      "source": [
        "**🔔 Farkları Karşılaştırma Tablosu:**\n",
        "\n",
        "| Özellik       | f-string                | Virgül Kullanımı        |\n",
        "| ------------- | ----------------------- | ----------------------- |\n",
        "| Kullanım      | `f\"my list: {my_list}\"` | `\"my list:\", my_list`   |\n",
        "| Okunabilirlik | ✅ Çok okunabilir        | Basit                   |\n",
        "| Boşluk        | Manuel                  | Otomatik boşluk ekler   |\n",
        "| Hesaplama     | ✅ Destekler (`{x+2}`)   | ❌ Sadece değer gösterir |\n",
        "| Tür dönüşümü  | Otomatik                | Otomatik                |\n"
      ],
      "metadata": {
        "id": "q6cKKHenkxqf"
      }
    },
    {
      "cell_type": "markdown",
      "source": [
        "## ➡️**Kullanıcıdan Bilgi Alma Örneği**\n",
        "\n",
        "`Kullanıcıdan İsim ve Yaş Alıp Yazdırma`"
      ],
      "metadata": {
        "id": "Z9NB9DrNrD6A"
      }
    },
    {
      "cell_type": "code",
      "source": [
        "# Kullanıcıdan bilgi alma\n",
        "name = input(\"Adınızı giriniz: \")\n",
        "age = input(\"Yaşınızı giriniz: \")"
      ],
      "metadata": {
        "colab": {
          "base_uri": "https://localhost:8080/"
        },
        "id": "Y6pw32gKrHic",
        "outputId": "6575b37c-960e-4d26-bdca-c1e1ed5306e1"
      },
      "execution_count": null,
      "outputs": [
        {
          "name": "stdout",
          "output_type": "stream",
          "text": [
            "Adınızı giriniz: Büşra\n",
            "Yaşınızı giriniz: 29\n"
          ]
        }
      ]
    },
    {
      "cell_type": "code",
      "source": [
        "# f-string kullanarak bilgi içerikli yazdırma\n",
        "print(f\"Adınız: {name}\")\n",
        "print(f\"Yaşınız: {age}\")"
      ],
      "metadata": {
        "colab": {
          "base_uri": "https://localhost:8080/"
        },
        "id": "c-c4AH5lrLsg",
        "outputId": "d1d640dc-8321-4035-bb2e-3d761c3ddae2"
      },
      "execution_count": null,
      "outputs": [
        {
          "output_type": "stream",
          "name": "stdout",
          "text": [
            "Adınız: Büşra\n",
            "Yaşınız: 29\n"
          ]
        }
      ]
    },
    {
      "cell_type": "code",
      "source": [
        "# Virgül kullanarak bilgi içerikli yazdırma\n",
        "print(\"Adınız:\", name)\n",
        "print(\"Yaşınız:\", age)"
      ],
      "metadata": {
        "colab": {
          "base_uri": "https://localhost:8080/"
        },
        "id": "ySWZnrAGryk1",
        "outputId": "96e230aa-001b-4d7f-f029-7cc4387c63aa"
      },
      "execution_count": null,
      "outputs": [
        {
          "output_type": "stream",
          "name": "stdout",
          "text": [
            "Adınız: Büşra\n",
            "Yaşınız: 29\n"
          ]
        }
      ]
    },
    {
      "cell_type": "markdown",
      "source": [
        "## 🔁**While Döngüsü ile f-String Kullanımı**"
      ],
      "metadata": {
        "id": "FLlUzDv5sD1I"
      }
    },
    {
      "cell_type": "code",
      "source": [
        "p = 0\n",
        "while p < 20:\n",
        "  print(f\"value of p: {p}\")\n",
        "  p += 1               #veya p = p + 1"
      ],
      "metadata": {
        "colab": {
          "base_uri": "https://localhost:8080/"
        },
        "id": "DV8JfJWIsKF8",
        "outputId": "174e380b-0784-4374-f555-92d73a81450c"
      },
      "execution_count": null,
      "outputs": [
        {
          "output_type": "stream",
          "name": "stdout",
          "text": [
            "value of p: 0\n",
            "value of p: 1\n",
            "value of p: 2\n",
            "value of p: 3\n",
            "value of p: 4\n",
            "value of p: 5\n",
            "value of p: 6\n",
            "value of p: 7\n",
            "value of p: 8\n",
            "value of p: 9\n",
            "value of p: 10\n",
            "value of p: 11\n",
            "value of p: 12\n",
            "value of p: 13\n",
            "value of p: 14\n",
            "value of p: 15\n",
            "value of p: 16\n",
            "value of p: 17\n",
            "value of p: 18\n",
            "value of p: 19\n"
          ]
        }
      ]
    },
    {
      "cell_type": "markdown",
      "source": [
        "## **🔔İleri Seviye İşlemler(Advanced Built-in Functions)**\n",
        "\n",
        "Python'da kendi içinde yüklü olan yani built in olan fonksiyonları öğrenelim.👇\n",
        "\n",
        "Python’da `Built-in (gömülü, hazır) `fonksiyonlar çok güçlüdür ve ileri seviyede Python kullanırken kodlarını daha sade, daha okunabilir ve daha etkili hale getirir.\n",
        "\n",
        "Bunlar Python ile hazır gelir, ekstra modül yüklemene gerek yoktur."
      ],
      "metadata": {
        "id": "XA_Fe1qk017z"
      }
    },
    {
      "cell_type": "markdown",
      "source": [
        "**✅ En Çok Kullanılan İleri Seviye Built-in Fonksiyonlar**\n",
        "\n",
        "\n",
        "| Fonksiyon     | Kullanım Amacı                  | Açıklama Kısa Notu                            |\n",
        "| ------------- | ------------------------------- | --------------------------------------------- |\n",
        "| `range()`     | Sayı üretir (iterable)          | Başlangıç, bitiş, adım belirterek döngü kurar |\n",
        "| `len()`       | Uzunluk ölçer                   | Liste, string, tuple eleman sayısı            |\n",
        "| `type()`      | Tür gösterir                    | Veri tipini verir (`int`, `str`, vb.)         |\n",
        "| `sorted()`    | Sıralama yapar                  | Yeni sıralı liste döner (orijinali değişmez)  |\n",
        "| `reversed()`  | Listeyi ters çevirir (iterator) | Tersten okunabilen nesne döner                |\n",
        "| `enumerate()` | İndeks + değer sağlar           | Döngülerde index+eleman verir                 |\n",
        "| `zip()`       | Listeleri eşleştirir            | Tuple'lar ile gruplar oluşturur               |\n",
        "| `all()`       | Hepsi True mü?                  | Liste vb. tüm elemanlar True mu?              |\n",
        "| `any()`       | En az biri True mu?             | Varsa True, yoksa False                       |\n",
        "| `sum()`       | Toplama yapar                   | Sayıların toplamı                             |\n",
        "| `min()`       | En küçük değeri bulur           | Sayı, string, tuple vb.                       |\n",
        "| `max()`       | En büyük değeri bulur           | Sayı, string, tuple vb.                       |\n",
        "| `abs()`       | Mutlak değer alır               | Negatif -> pozitif yapar                      |\n",
        "| `round()`     | Yuvarlama yapar                 | Sayıları virgül sonrası düzenler              |\n",
        "| `map()`       | Fonksiyonu her elemana uygular  | Liste vb. üzerinde dönüşüm yapar              |\n",
        "| `filter()`    | Şarta göre süzer                | Elemanları filtreler (True olanları)          |\n",
        "| `set()`       | Kümeye çevirir                  | Tekrarları siler                              |\n"
      ],
      "metadata": {
        "id": "VpwLLX4Z17CX"
      }
    },
    {
      "cell_type": "markdown",
      "source": [
        "**🔹 KOD ÖRNEKLERİ İLE AÇIKLAMALAR**\n",
        "\n",
        "**👉range():**\n",
        "\n",
        "**Ne işe yarar?**\n",
        "\n",
        "Belirli bir sayı aralığında ardışık sayılar üretir. Döngülerde sıklıkla kullanılır.\n",
        "\n",
        "**Sözdizimi:**\n",
        "\n",
        "```\n",
        "range(start, stop, step)\n",
        "\n",
        "```\n",
        "\n",
        "- `start:` Başlangıç değeri (dahil)\n",
        "\n",
        "- `stop:` Bitiş değeri (hariç)\n",
        "\n",
        "- `step:` Adım sayısı\n"
      ],
      "metadata": {
        "id": "j0y7Piw42cO5"
      }
    },
    {
      "cell_type": "code",
      "source": [
        "# 2-10 arasında 2'şer artacak şekilde döngü oluşturalım:\n",
        "\n",
        "for i in range(2, 10, 2):\n",
        "    print(i)\n"
      ],
      "metadata": {
        "colab": {
          "base_uri": "https://localhost:8080/"
        },
        "id": "Fz-LWOxazi2p",
        "outputId": "24677689-0150-42f7-9acb-ac972db95568"
      },
      "execution_count": 2,
      "outputs": [
        {
          "output_type": "stream",
          "name": "stdout",
          "text": [
            "2\n",
            "4\n",
            "6\n",
            "8\n"
          ]
        }
      ]
    },
    {
      "cell_type": "code",
      "source": [
        "# 0-10 arasında sayılarla liste yapalım:\n",
        "\n",
        "list(range(10))"
      ],
      "metadata": {
        "colab": {
          "base_uri": "https://localhost:8080/"
        },
        "id": "lrA7bKs43-af",
        "outputId": "1546321c-a0cf-47d7-8baa-f5926326cd86"
      },
      "execution_count": 3,
      "outputs": [
        {
          "output_type": "execute_result",
          "data": {
            "text/plain": [
              "[0, 1, 2, 3, 4, 5, 6, 7, 8, 9]"
            ]
          },
          "metadata": {},
          "execution_count": 3
        }
      ]
    },
    {
      "cell_type": "code",
      "source": [
        "# 0-20 arasında sayılarla döngü kurarak çarpma işlemi yapalım:\n",
        "\n",
        "for num in list(range(20)):\n",
        "  print(num * 2)"
      ],
      "metadata": {
        "colab": {
          "base_uri": "https://localhost:8080/"
        },
        "id": "mGl3qdQo4VJN",
        "outputId": "fed834e8-99a3-4ccb-bc22-34e321951526"
      },
      "execution_count": 4,
      "outputs": [
        {
          "output_type": "stream",
          "name": "stdout",
          "text": [
            "0\n",
            "2\n",
            "4\n",
            "6\n",
            "8\n",
            "10\n",
            "12\n",
            "14\n",
            "16\n",
            "18\n",
            "20\n",
            "22\n",
            "24\n",
            "26\n",
            "28\n",
            "30\n",
            "32\n",
            "34\n",
            "36\n",
            "38\n"
          ]
        }
      ]
    },
    {
      "cell_type": "markdown",
      "source": [
        "**🔍 Döngü Detaylı Adımları:**\n",
        "\n",
        "| Döngü Adımı | `num` Değeri | `num * 2` Sonuç | Ekran Çıktısı |\n",
        "| ----------- | ------------ | --------------- | ------------- |\n",
        "| 1           | 0            | 0               | 0             |\n",
        "| 2           | 1            | 2               | 2             |\n",
        "| 3           | 2            | 4               | 4             |\n",
        "| 4           | 3            | 6               | 6             |\n",
        "| ...         | ...          | ...             | ...           |\n",
        "| 20          | 19           | 38              | 38            |\n"
      ],
      "metadata": {
        "id": "rzMqMGEd5NSb"
      }
    },
    {
      "cell_type": "markdown",
      "source": [
        "**Not:**\n",
        "\n",
        "Tablodan anlaşılacağı üzere; döngü adımında **`range(20)`** kullanıldığı için **`20 adım`** yapar. Ancak Python'da **`range()`** fonksiyonu, başlangıç **`değeri dahil (0)`**, **`bitiş değeri hariç (20)`** olacak şekilde çalışır.\n",
        "Bu nedenle num değeri 0'dan başlar, 19'a kadar gider `(0-19 toplam 20 sayı`).\n",
        "\n",
        "Her adımda `num * 2` işlemi yapılır ve sonucu ekrana yazdırılır.\n",
        "\n",
        "**Peki 40 sonucu neden yok ?**\n",
        "\n",
        "`range(20) `ifadesinde 20 sayısı dahil değildir, yani num hiçbir zaman 20 olmaz.\n",
        "`En son değer 19` olduğu için `19 * 2 = 38` olur.\n",
        "\n",
        "Eğer 40 sonucu görünmesini istersen `range(21)` kullanman gerekir çünkü o zaman `20 de dahil olur` ve 20 * 2 = 40 ekrana yazdırılır."
      ],
      "metadata": {
        "id": "6N85OwnK5fFy"
      }
    },
    {
      "cell_type": "markdown",
      "source": [
        "**Peki; döngü başlangıç değeri her zaman sıfır (0) mı olmalıdır?**\n",
        "\n",
        " Hayır. Başlangıç değerini farklı belirleyerek istediğimiz aralıkta değerler üretebiliriz."
      ],
      "metadata": {
        "id": "XrxoMAqx8MR7"
      }
    },
    {
      "cell_type": "code",
      "source": [
        "#5- 25 arasındaki değerlerin listesi:\n",
        "#25 dahil değil.\n",
        "\n",
        "list(range(5,25))"
      ],
      "metadata": {
        "colab": {
          "base_uri": "https://localhost:8080/"
        },
        "id": "vnKIpL196t9v",
        "outputId": "b125c754-54cc-4ac4-9f37-33def721dff3"
      },
      "execution_count": 5,
      "outputs": [
        {
          "output_type": "execute_result",
          "data": {
            "text/plain": [
              "[5, 6, 7, 8, 9, 10, 11, 12, 13, 14, 15, 16, 17, 18, 19, 20, 21, 22, 23, 24]"
            ]
          },
          "metadata": {},
          "execution_count": 5
        }
      ]
    },
    {
      "cell_type": "code",
      "source": [
        "#5- 25 arasındaki değerlerin ve 2'şer adım atlama listesi:\n",
        "\n",
        "list(range(5,25,2))"
      ],
      "metadata": {
        "colab": {
          "base_uri": "https://localhost:8080/"
        },
        "id": "oEbhLtRC8ukg",
        "outputId": "7c2548ec-f72e-498f-d96b-5142852d5069"
      },
      "execution_count": 6,
      "outputs": [
        {
          "output_type": "execute_result",
          "data": {
            "text/plain": [
              "[5, 7, 9, 11, 13, 15, 17, 19, 21, 23]"
            ]
          },
          "metadata": {},
          "execution_count": 6
        }
      ]
    },
    {
      "cell_type": "markdown",
      "source": [
        "Mülakat sorularında geçen ve kullanılacak olan bir diğer önemli detay:\n",
        "\n",
        "Yazdığımız herhangi bir listedeki değerin sonucu yerine karşılık geldiği index bilgisine nasıl ulaşırız ?"
      ],
      "metadata": {
        "id": "dn6uFbXL9R6Q"
      }
    },
    {
      "cell_type": "code",
      "source": [
        "# Liste oluşturalım:\n",
        "\n",
        "my_list = [20,30,40,50,60]"
      ],
      "metadata": {
        "id": "qmlQpUGZ9g2C"
      },
      "execution_count": 7,
      "outputs": []
    },
    {
      "cell_type": "code",
      "source": [
        "# Döngü ile sonuçlarına ulaşalım:\n",
        "# Sadece Değeri Yazdırmak(Klasik Döngü)\n",
        "\n",
        "for num in my_list:\n",
        "  print(num)"
      ],
      "metadata": {
        "colab": {
          "base_uri": "https://localhost:8080/"
        },
        "id": "IUKQEpBJ9mzV",
        "outputId": "36348f15-1b06-4751-b994-df9b253dd045"
      },
      "execution_count": 8,
      "outputs": [
        {
          "output_type": "stream",
          "name": "stdout",
          "text": [
            "20\n",
            "30\n",
            "40\n",
            "50\n",
            "60\n"
          ]
        }
      ]
    },
    {
      "cell_type": "markdown",
      "source": [
        "**İndeks Bilgisine Ulaşmak (range() ile):**"
      ],
      "metadata": {
        "id": "Fm_rXrbt-RMy"
      }
    },
    {
      "cell_type": "code",
      "source": [
        "# Döngü ile index bilgisine ulaşalım:\n",
        "# 1. yöntem:\n",
        "\n",
        "for index in range(len(my_list)):\n",
        "  print(index)"
      ],
      "metadata": {
        "colab": {
          "base_uri": "https://localhost:8080/"
        },
        "id": "Ga4D-64a9uiQ",
        "outputId": "04f8a0e4-8fbc-44e5-af22-17fa238e57e5"
      },
      "execution_count": 9,
      "outputs": [
        {
          "output_type": "stream",
          "name": "stdout",
          "text": [
            "0\n",
            "1\n",
            "2\n",
            "3\n",
            "4\n"
          ]
        }
      ]
    },
    {
      "cell_type": "markdown",
      "source": [
        "➡️ Burada:\n",
        "\n",
        "- range(len(my_list)) ➔ 0'dan başlayıp listenin uzunluğu kadar (5) döner.\n",
        "\n",
        "- print(index) ➔ O indeksin değerini ekrana yazdırır."
      ],
      "metadata": {
        "id": "ECdlSbPB-aTq"
      }
    },
    {
      "cell_type": "markdown",
      "source": [
        "**Daha Pythonic ve Profesyonel Yöntem:**\n",
        "\n",
        "Mülakatta en iyi beklenen yöntem budur.\n",
        "\n",
        "**👉enumerate():**\n",
        "\n",
        "**Ne işe yarar?**\n",
        "\n",
        "Bir liste veya iterable üzerinde dönerken hem indeks hem elemanı aynı anda sağlar."
      ],
      "metadata": {
        "id": "D8Q9KWwY-sXh"
      }
    },
    {
      "cell_type": "code",
      "source": [
        "# 2. yöntem:\n",
        "# index ve değerleri tuple şeklinde verir.\n",
        "\n",
        "for element in enumerate(my_list):\n",
        "    print(element)\n"
      ],
      "metadata": {
        "colab": {
          "base_uri": "https://localhost:8080/"
        },
        "id": "3bu0wkFT-8Ec",
        "outputId": "d6d9627c-09ab-44d1-fe31-b9304bd43d5c"
      },
      "execution_count": 14,
      "outputs": [
        {
          "output_type": "stream",
          "name": "stdout",
          "text": [
            "(0, 20)\n",
            "(1, 30)\n",
            "(2, 40)\n",
            "(3, 50)\n",
            "(4, 60)\n"
          ]
        }
      ]
    },
    {
      "cell_type": "code",
      "source": [
        "# Diğer yazım şekilleri:\n",
        "\n",
        "for (index, value) in enumerate(my_list):\n",
        "    print(index, value)    # sadece index veya sadece value değeride alınabilir."
      ],
      "metadata": {
        "colab": {
          "base_uri": "https://localhost:8080/"
        },
        "id": "TwlxrP5tD42h",
        "outputId": "d3f037e3-f68c-4179-a59d-40f0c64a4283"
      },
      "execution_count": 16,
      "outputs": [
        {
          "output_type": "stream",
          "name": "stdout",
          "text": [
            "0 20\n",
            "1 30\n",
            "2 40\n",
            "3 50\n",
            "4 60\n"
          ]
        }
      ]
    },
    {
      "cell_type": "code",
      "source": [
        "# f-string ile detaylı gösterimi:\n",
        "\n",
        "for index, num in enumerate(my_list):\n",
        "    print(f\"Index: {index}, Değer: {num}\")\n"
      ],
      "metadata": {
        "colab": {
          "base_uri": "https://localhost:8080/"
        },
        "id": "TzlwfbBx_LWa",
        "outputId": "58b696ef-4802-4947-ad7f-1c937fc7fb0f"
      },
      "execution_count": 12,
      "outputs": [
        {
          "output_type": "stream",
          "name": "stdout",
          "text": [
            "Index: 0, Değer: 20\n",
            "Index: 1, Değer: 30\n",
            "Index: 2, Değer: 40\n",
            "Index: 3, Değer: 50\n",
            "Index: 4, Değer: 60\n"
          ]
        }
      ]
    },
    {
      "cell_type": "markdown",
      "source": [
        "**Peki, rastgele sayı üretmek istersek nasıl yapabiliriz ?**\n",
        "\n",
        "random() ile."
      ],
      "metadata": {
        "id": "JytrrJSZEe9g"
      }
    },
    {
      "cell_type": "markdown",
      "source": [
        "**🎲 random Modülü Python'da Ne İşe Yarar?**\n",
        "\n",
        "Python'da random modülü, rastgele sayı üretmek ve liste gibi veri yapılarıyla rastgele işlemler yapmak için kullanılır.\n",
        "\n",
        "Oyunlar, simülasyonlar, istatistiksel modellemeler gibi birçok alanda kullanılır.\n",
        "\n",
        "Ancak; burada dikkat etmek gereken bir nokta var. Kullanılması için önce kütüphaneden yüklenmesi gerekir."
      ],
      "metadata": {
        "id": "XBxAvMw6FH4x"
      }
    },
    {
      "cell_type": "markdown",
      "source": [
        "`random bir built-in module`'dür ama built-in function değildir.\n",
        "\n",
        "**🔔 Ne demek bu?**\n",
        "\n",
        "| Tür                   | Açıklama                                                                         |\n",
        "| --------------------- | -------------------------------------------------------------------------------- |\n",
        "| **Built-in Function** | Python'un direkt sunduğu fonksiyonlardır (örnek: `len()`, `range()`, `sum()`)    |\n",
        "| **Built-in Module**   | Python'un içindeki hazır gelen modüllerdir (örnek: `random`, `math`, `datetime`) |\n",
        "\n",
        "--\n",
        "\n",
        "\n",
        "**👉 random: Built-in Module**\n",
        "\n",
        "- Evet, Python ile birlikte gelir.\n",
        "\n",
        "- Ayrı yükleme gerekmez (pip gibi).\n",
        "\n",
        "- Ama önce import etmen yani kütüphaneyi yüklemek gerekir:"
      ],
      "metadata": {
        "id": "PtEKlt6wFSVs"
      }
    },
    {
      "cell_type": "markdown",
      "source": [
        "**🔑 random Modülü İle Yapılabilecekler:**\n",
        "\n",
        "| Fonksiyon                  | Ne İşe Yarar?                                    | Örnek Kullanım Sonucu       |\n",
        "| -------------------------- | ------------------------------------------------ | --------------------------- |\n",
        "| `random.random()`          | 0 ile 1 arasında ondalıklı sayı üretir           | 0.38523 gibi                |\n",
        "| `random.randint(a, b)`     | a ve b dahil, rastgele tam sayı                  | 3, 7, 42 vb.                |\n",
        "| `random.uniform(a, b)`     | a ve b dahil, ondalıklı sayı üretir              | 5.378, 9.99 gibi            |\n",
        "| `random.choice(seq)`       | Listedeki rastgele **1 eleman** seçer            | 'elma' gibi                 |\n",
        "| `random.choices(seq, k=3)` | Listedeki rastgele **k eleman** seçer (tekrarlı) | \\['muz', 'muz', 'elma'] vb. |\n",
        "| `random.sample(seq, k=3)`  | Listedeki **benzersiz k eleman** seçer           | \\['muz', 'elma', 'armut']   |\n",
        "| `random.shuffle(seq)`      | Listeyi **yerinde karıştırır**                   | \\[4, 1, 5, 3, 2] gibi       |\n"
      ],
      "metadata": {
        "id": "MCzg_NeoF8Wo"
      }
    },
    {
      "cell_type": "markdown",
      "source": [
        "👉`random` Modülü ve `randint()`\n",
        "\n",
        "**Ne işe yarar?**\n",
        "\n",
        "Rastgele sayı ve veri üretmek için kullanılır.\n",
        "\n",
        "`randint(a, b)`\n",
        "a ile b dahil aralığında rastgele tam sayı üretir."
      ],
      "metadata": {
        "id": "D0pHwprfbeHu"
      }
    },
    {
      "cell_type": "code",
      "source": [
        "# Kütüphaneyi yükleyelim:\n",
        "# random modülü içinden randint fonksiyonunu yükleyelim:\n",
        "\n",
        "from random import randint"
      ],
      "metadata": {
        "id": "2_syA533E4BO"
      },
      "execution_count": 17,
      "outputs": []
    },
    {
      "cell_type": "code",
      "source": [
        "# 0-100 arasında rastgele sayı üretelim:\n",
        "\n",
        "randint(0,100)"
      ],
      "metadata": {
        "colab": {
          "base_uri": "https://localhost:8080/"
        },
        "id": "8ANYI2n-GHoF",
        "outputId": "29b8636b-f4eb-456c-f28f-3492e7153142"
      },
      "execution_count": 18,
      "outputs": [
        {
          "output_type": "execute_result",
          "data": {
            "text/plain": [
              "8"
            ]
          },
          "metadata": {},
          "execution_count": 18
        }
      ]
    },
    {
      "cell_type": "code",
      "source": [
        "randint(0,100)"
      ],
      "metadata": {
        "colab": {
          "base_uri": "https://localhost:8080/"
        },
        "id": "DzYUTSvlGXs5",
        "outputId": "3a3fd80f-59f7-4c99-93aa-759bf6def08f"
      },
      "execution_count": 19,
      "outputs": [
        {
          "output_type": "execute_result",
          "data": {
            "text/plain": [
              "96"
            ]
          },
          "metadata": {},
          "execution_count": 19
        }
      ]
    },
    {
      "cell_type": "code",
      "source": [
        "randint(0,100)"
      ],
      "metadata": {
        "colab": {
          "base_uri": "https://localhost:8080/"
        },
        "id": "H2aIio72GYnr",
        "outputId": "2af2a8d2-9676-4528-b3c7-1bd356d5e268"
      },
      "execution_count": 20,
      "outputs": [
        {
          "output_type": "execute_result",
          "data": {
            "text/plain": [
              "32"
            ]
          },
          "metadata": {},
          "execution_count": 20
        }
      ]
    },
    {
      "cell_type": "markdown",
      "source": [
        "👉**shuffle()**\n",
        "\n",
        "**Ne işe yarar?**\n",
        "\n",
        "Bir listenin elemanlarının sırasını karıştırır (shuffle). Listeyi yerinde değiştirir."
      ],
      "metadata": {
        "id": "34y4UHbTbLja"
      }
    },
    {
      "cell_type": "code",
      "source": [
        "# random modülü içinden shuffle fonksiyonunu yükleyelim:\n",
        "\n",
        "from random import shuffle"
      ],
      "metadata": {
        "id": "mVS9yUv5GnXH"
      },
      "execution_count": 21,
      "outputs": []
    },
    {
      "cell_type": "code",
      "source": [
        "# Listemizi görelim:\n",
        "\n",
        "my_list"
      ],
      "metadata": {
        "colab": {
          "base_uri": "https://localhost:8080/"
        },
        "id": "lehqcDPxG1Ff",
        "outputId": "1483bcb6-cb9d-4149-b6d0-64ab0fdfbcdf"
      },
      "execution_count": 22,
      "outputs": [
        {
          "output_type": "execute_result",
          "data": {
            "text/plain": [
              "[20, 30, 40, 50, 60]"
            ]
          },
          "metadata": {},
          "execution_count": 22
        }
      ]
    },
    {
      "cell_type": "code",
      "source": [
        "# Listemizi karıştıralım:\n",
        "\n",
        "shuffle(my_list)"
      ],
      "metadata": {
        "id": "UZcEjR0-G8lw"
      },
      "execution_count": 23,
      "outputs": []
    },
    {
      "cell_type": "code",
      "source": [
        "# Tekrar listemizi kontrol edelim:\n",
        "\n",
        "my_list"
      ],
      "metadata": {
        "colab": {
          "base_uri": "https://localhost:8080/"
        },
        "id": "FBf-E3BDHAZo",
        "outputId": "2f0c756f-8a5e-4d93-c9cf-c09e221dfe42"
      },
      "execution_count": 24,
      "outputs": [
        {
          "output_type": "execute_result",
          "data": {
            "text/plain": [
              "[30, 60, 20, 50, 40]"
            ]
          },
          "metadata": {},
          "execution_count": 24
        }
      ]
    },
    {
      "cell_type": "code",
      "source": [
        "# Diğer bir örnek:\n",
        "# Kullanıcıya rastgele bir eleman gösterimi:\n",
        "\n",
        "# yeni liste:\n",
        "my_list = ['a','b','c','d','e']"
      ],
      "metadata": {
        "id": "UKlMvOzcHJp-"
      },
      "execution_count": 27,
      "outputs": []
    },
    {
      "cell_type": "code",
      "source": [
        "# Rastgele eleman sayısı:\n",
        "\n",
        "randint(0,len(my_list))"
      ],
      "metadata": {
        "colab": {
          "base_uri": "https://localhost:8080/"
        },
        "id": "0YCQuFHrH06p",
        "outputId": "c0eb9063-f116-4e29-ad21-026ace6188c1"
      },
      "execution_count": 28,
      "outputs": [
        {
          "output_type": "execute_result",
          "data": {
            "text/plain": [
              "1"
            ]
          },
          "metadata": {},
          "execution_count": 28
        }
      ]
    },
    {
      "cell_type": "code",
      "source": [
        "# Yeni liste oluştur:\n",
        "\n",
        "my_list[randint(0,len(my_list))]"
      ],
      "metadata": {
        "colab": {
          "base_uri": "https://localhost:8080/",
          "height": 36
        },
        "id": "NDzQZ3IxH4zG",
        "outputId": "4d5645f2-6ceb-4b72-9049-bf30e2b1969a"
      },
      "execution_count": 36,
      "outputs": [
        {
          "output_type": "execute_result",
          "data": {
            "text/plain": [
              "'b'"
            ],
            "application/vnd.google.colaboratory.intrinsic+json": {
              "type": "string"
            }
          },
          "metadata": {},
          "execution_count": 36
        }
      ]
    },
    {
      "cell_type": "code",
      "source": [
        "my_list[randint(0,len(my_list))]"
      ],
      "metadata": {
        "colab": {
          "base_uri": "https://localhost:8080/",
          "height": 36
        },
        "id": "Q_BXBJdHH_eH",
        "outputId": "234f43c8-355b-4178-e342-012ab647b07a"
      },
      "execution_count": 37,
      "outputs": [
        {
          "output_type": "execute_result",
          "data": {
            "text/plain": [
              "'e'"
            ],
            "application/vnd.google.colaboratory.intrinsic+json": {
              "type": "string"
            }
          },
          "metadata": {},
          "execution_count": 37
        }
      ]
    },
    {
      "cell_type": "code",
      "source": [
        "my_list[randint(0,len(my_list))]"
      ],
      "metadata": {
        "colab": {
          "base_uri": "https://localhost:8080/",
          "height": 36
        },
        "id": "nUdCF49qIAJy",
        "outputId": "260fedc1-8389-45fe-c145-12fa386ad805"
      },
      "execution_count": 38,
      "outputs": [
        {
          "output_type": "execute_result",
          "data": {
            "text/plain": [
              "'a'"
            ],
            "application/vnd.google.colaboratory.intrinsic+json": {
              "type": "string"
            }
          },
          "metadata": {},
          "execution_count": 38
        }
      ]
    },
    {
      "cell_type": "code",
      "source": [
        "my_list[randint(0,len(my_list))]"
      ],
      "metadata": {
        "colab": {
          "base_uri": "https://localhost:8080/",
          "height": 141
        },
        "id": "Qi33AqbKIFsR",
        "outputId": "5a25f43f-836d-47b6-9487-19080543818d"
      },
      "execution_count": 47,
      "outputs": [
        {
          "output_type": "error",
          "ename": "IndexError",
          "evalue": "list index out of range",
          "traceback": [
            "\u001b[0;31m---------------------------------------------------------------------------\u001b[0m",
            "\u001b[0;31mIndexError\u001b[0m                                Traceback (most recent call last)",
            "\u001b[0;32m/tmp/ipython-input-47-2225773900.py\u001b[0m in \u001b[0;36m<cell line: 0>\u001b[0;34m()\u001b[0m\n\u001b[0;32m----> 1\u001b[0;31m \u001b[0mmy_list\u001b[0m\u001b[0;34m[\u001b[0m\u001b[0mrandint\u001b[0m\u001b[0;34m(\u001b[0m\u001b[0;36m0\u001b[0m\u001b[0;34m,\u001b[0m\u001b[0mlen\u001b[0m\u001b[0;34m(\u001b[0m\u001b[0mmy_list\u001b[0m\u001b[0;34m)\u001b[0m\u001b[0;34m)\u001b[0m\u001b[0;34m]\u001b[0m\u001b[0;34m\u001b[0m\u001b[0;34m\u001b[0m\u001b[0m\n\u001b[0m",
            "\u001b[0;31mIndexError\u001b[0m: list index out of range"
          ]
        }
      ]
    },
    {
      "cell_type": "markdown",
      "source": [
        "**Bu hatayı neden aldık ?**\n",
        "\n",
        "`my_list = ['a','b','c','d','e'] `tanımladığımızda 5 elemanlı liste tanımladık. randint ile (0,5) arasında değer veriyor. Ancak 5 dahil değildir. Bunu verdiğinde aralık dışında yani IndexError hatası alırız. 5 elemanlı listede index en fazla 4 olur, bunu düzeltmek için kodu -1 olarak ayarlamalıyız."
      ],
      "metadata": {
        "id": "yA38qWqoIJo0"
      }
    },
    {
      "cell_type": "code",
      "source": [
        "# Kodun düzenlenmiş hali:\n",
        "\n",
        "my_list[randint(0,len(my_list)-1)]"
      ],
      "metadata": {
        "colab": {
          "base_uri": "https://localhost:8080/",
          "height": 36
        },
        "id": "zZQ4vGVYIxZJ",
        "outputId": "be03fd94-d2f9-4fbd-8f60-ec576bd8cdd8"
      },
      "execution_count": 48,
      "outputs": [
        {
          "output_type": "execute_result",
          "data": {
            "text/plain": [
              "'c'"
            ],
            "application/vnd.google.colaboratory.intrinsic+json": {
              "type": "string"
            }
          },
          "metadata": {},
          "execution_count": 48
        }
      ]
    },
    {
      "cell_type": "markdown",
      "source": [
        "Tabloda yer alan ve modüle ait tüm kullanımlara internet üzerinden arattığında çıkan sayfalardan ve Python resmi dökümanından kullanımlara ulaşabiliriz.\n",
        "\n",
        "**Döküman adresi:** 👉[Random module:](https://docs.python.org/3/library/random.html)"
      ],
      "metadata": {
        "id": "Jccl39x5JznD"
      }
    },
    {
      "cell_type": "markdown",
      "source": [
        "**👉zip() fonksiyonu:**\n",
        "\n",
        "Python'da yer alan diğer bir built-in yerleşik fonksiyonudur.\n",
        "\n",
        "**Ne işe yarar?**\n",
        "\n",
        "zip(), birden fazla liste veya iterable'ı indeks sırasına göre eşleştirerek tuple'lar oluşturur.\n",
        "\n",
        "Liste veya döngü ile kullanıldığında paralel veri setlerini eşleştirmek için kullanılır."
      ],
      "metadata": {
        "id": "-Vr1AXZDKp82"
      }
    },
    {
      "cell_type": "code",
      "source": [
        "# yemek listesi oluşturalım:\n",
        "\n",
        "food_list = [\"apple\",\"banana\",\"melon\"]"
      ],
      "metadata": {
        "id": "1hRNHl_GKaOL"
      },
      "execution_count": 51,
      "outputs": []
    },
    {
      "cell_type": "code",
      "source": [
        "# kalori listesi oluşturalım:\n",
        "\n",
        "calories_list = [100,150,200]"
      ],
      "metadata": {
        "id": "v099z7zgLfq1"
      },
      "execution_count": 52,
      "outputs": []
    },
    {
      "cell_type": "code",
      "source": [
        "# Gün listesi oluşturalım:\n",
        "\n",
        "day_list = [\"monday\",\"tuesday\",\"wednesday\"]"
      ],
      "metadata": {
        "id": "6eO7v8AyLk_L"
      },
      "execution_count": 53,
      "outputs": []
    },
    {
      "cell_type": "code",
      "source": [
        "# zip ile bu listeleri birleştirelim:\n",
        "# list() ile çevirmemiz gerekli\n",
        "\n",
        "zipped_list = list(zip(food_list,calories_list,day_list))"
      ],
      "metadata": {
        "id": "xJqDFpkDLrB6"
      },
      "execution_count": 54,
      "outputs": []
    },
    {
      "cell_type": "code",
      "source": [
        "# zipped listemizi kontrol edelim:\n",
        "# tuple halinde birleştirme yapılır\n",
        "\n",
        "zipped_list"
      ],
      "metadata": {
        "colab": {
          "base_uri": "https://localhost:8080/"
        },
        "id": "4OjLH6d1Lx3L",
        "outputId": "b4ea0ec8-17a4-41e2-d00b-608a053cd981"
      },
      "execution_count": 55,
      "outputs": [
        {
          "output_type": "execute_result",
          "data": {
            "text/plain": [
              "[('apple', 100, 'monday'),\n",
              " ('banana', 150, 'tuesday'),\n",
              " ('melon', 200, 'wednesday')]"
            ]
          },
          "metadata": {},
          "execution_count": 55
        }
      ]
    },
    {
      "cell_type": "markdown",
      "source": [
        "**Diğer Örnekler:**\n",
        "\n",
        "Boş listeye eleman tanımı:\n",
        "\n",
        "**1. Yöntem- Döngü ile:**"
      ],
      "metadata": {
        "id": "n9PiVDlxMywh"
      }
    },
    {
      "cell_type": "code",
      "source": [
        "# yeni liste tanımlayalım:\n",
        "# Tanımlanan ifadeyi boş listeye tek tek eleman olarak ekleyelim:\n",
        "\n",
        "new_list= []   #boş liste\n",
        "my_string = \"metallica\"\n",
        "\n",
        "for element in my_string:\n",
        "  new_list.append(element)            #append ile ekleyelim"
      ],
      "metadata": {
        "id": "jdtgO2hMMJAO"
      },
      "execution_count": 56,
      "outputs": []
    },
    {
      "cell_type": "code",
      "source": [
        "# Yeni liste kontrolü:\n",
        "\n",
        "new_list"
      ],
      "metadata": {
        "colab": {
          "base_uri": "https://localhost:8080/"
        },
        "id": "-LlSYMeAMgFA",
        "outputId": "e95dea53-61d7-46df-f0b3-8b0a2f9f5fc9"
      },
      "execution_count": 57,
      "outputs": [
        {
          "output_type": "execute_result",
          "data": {
            "text/plain": [
              "['m', 'e', 't', 'a', 'l', 'l', 'i', 'c', 'a']"
            ]
          },
          "metadata": {},
          "execution_count": 57
        }
      ]
    },
    {
      "cell_type": "markdown",
      "source": [
        "**2. Yöntem- List Comprehension ile**\n",
        "\n",
        "**🔹 List Comprehension Nedir?**\n",
        "\n",
        "List Comprehension, mevcut bir iterable (liste, string, range, vb.) üzerinde döngü yaparak yeni bir liste oluşturmanın kısaltılmış ve daha temiz halidir.\n",
        "\n",
        "**📌 Temel Sözdizimi (Syntax):**\n",
        "\n",
        "\n",
        "```\n",
        "[new_item for item in iterable if condition]\n",
        "\n",
        "```\n",
        "\n",
        "- `item :` Döngüdeki her eleman\n",
        "\n",
        "- `iterable :` Liste, string, range gibi üzerinde döngü yapılan veri yapısı\n",
        "\n",
        "- `new_item :` Oluşturulacak yeni listedeki eleman (genellikle item ya da onun üzerinde işlem yapılmış hali)\n",
        "\n",
        "- `if condition :` (Opsiyonel) Sadece bu koşulu sağlayan elemanlar listeye eklenir\n"
      ],
      "metadata": {
        "id": "KPZkfnJ-NAW7"
      }
    },
    {
      "cell_type": "code",
      "source": [
        "yeni_liste = []    # Boş liste\n",
        "\n",
        "my_new_string = \"rock groups\"     # yeni string"
      ],
      "metadata": {
        "id": "8ftEbEgYNJSm"
      },
      "execution_count": 68,
      "outputs": []
    },
    {
      "cell_type": "code",
      "source": [
        "# List comprehension ile boş listeye tek tek eleman olarak ekleyelim:\n",
        "\n",
        "yeni_liste = [element for element in my_new_string]"
      ],
      "metadata": {
        "id": "y4Sndq5oNE7r"
      },
      "execution_count": 69,
      "outputs": []
    },
    {
      "cell_type": "code",
      "source": [
        "# yeni listenin kontrolü:\n",
        "\n",
        "yeni_liste"
      ],
      "metadata": {
        "colab": {
          "base_uri": "https://localhost:8080/"
        },
        "id": "2Up3l9plNsr1",
        "outputId": "b1ca202d-9071-4961-f4b2-a20f46068052"
      },
      "execution_count": 70,
      "outputs": [
        {
          "output_type": "execute_result",
          "data": {
            "text/plain": [
              "['r', 'o', 'c', 'k', ' ', 'g', 'r', 'o', 'u', 'p', 's']"
            ]
          },
          "metadata": {},
          "execution_count": 70
        }
      ]
    },
    {
      "cell_type": "code",
      "source": [
        "# Başka bir örnek:\n",
        "# Number list oluşturalım\n",
        "\n",
        "number_list = [10,20,30,40,50,60]"
      ],
      "metadata": {
        "id": "5NYckdDzOCOU"
      },
      "execution_count": 71,
      "outputs": []
    },
    {
      "cell_type": "code",
      "source": [
        "# list comprehension ile :\n",
        "\n",
        "new_number_list = [num for num in number_list]"
      ],
      "metadata": {
        "id": "fp1MI54UO7h-"
      },
      "execution_count": 72,
      "outputs": []
    },
    {
      "cell_type": "code",
      "source": [
        "# liste kontrolü:\n",
        "# sayısal değer olduğu için aynı liste elde edildi.\n",
        "\n",
        "new_number_list"
      ],
      "metadata": {
        "colab": {
          "base_uri": "https://localhost:8080/"
        },
        "id": "rthfUfs_PCHh",
        "outputId": "08168f47-d267-43a7-c52e-c377dd7faf07"
      },
      "execution_count": 73,
      "outputs": [
        {
          "output_type": "execute_result",
          "data": {
            "text/plain": [
              "[10, 20, 30, 40, 50, 60]"
            ]
          },
          "metadata": {},
          "execution_count": 73
        }
      ]
    },
    {
      "cell_type": "code",
      "source": [
        "# Aynı listeyi matematiksel işlem yaparak elde edelim:\n",
        "\n",
        "new_number_list = [num / 2 for num in number_list]"
      ],
      "metadata": {
        "id": "5mIBje6mPFkR"
      },
      "execution_count": 74,
      "outputs": []
    },
    {
      "cell_type": "code",
      "source": [
        "# yeni liste kontrolü:\n",
        "# her değer 2 ile bölünmüştür:\n",
        "\n",
        "new_number_list"
      ],
      "metadata": {
        "colab": {
          "base_uri": "https://localhost:8080/"
        },
        "id": "z-RpZEsgPHb_",
        "outputId": "6f2f9c44-bddf-4b0d-830b-49a188f8f1b6"
      },
      "execution_count": 75,
      "outputs": [
        {
          "output_type": "execute_result",
          "data": {
            "text/plain": [
              "[5.0, 10.0, 15.0, 20.0, 25.0, 30.0]"
            ]
          },
          "metadata": {},
          "execution_count": 75
        }
      ]
    },
    {
      "cell_type": "markdown",
      "source": [
        "**🔔 Özet**\n",
        "\n",
        "- List Comprehension, Python’da temiz ve pratik liste üretimidir.\n",
        "\n",
        "- for döngüsü + if koşulu + işlem (transformasyon) üçlüsünü tek satırda sağlar.\n",
        "\n",
        "- Okuması kolay, yazması hızlıdır.\n",
        "\n",
        "**🔹 Avantajları:**\n",
        "\n",
        "| Özellik                     | Açıklama                                            |\n",
        "| --------------------------- | --------------------------------------------------- |\n",
        "| **Kısa ve okunabilir**      | Çok daha az satırda aynı işi yapabilirsin           |\n",
        "| **Performans**              | Döngüye göre daha hızlı çalışabilir                 |\n",
        "| **Esneklik**                | Koşullu seçim ve işlem yapma imkanı verir           |\n",
        "| **Fonksiyonel Programlama** | Python’un fonksiyonel programlama yaklaşımına uygun |\n"
      ],
      "metadata": {
        "id": "mbDsuKiZY2O2"
      }
    },
    {
      "cell_type": "markdown",
      "source": [
        "**Peki, list comprehension kullanmak şart mıdır ?**\n",
        "\n",
        "Hayır. Aynı işlemleri for döngüsü kullanarak ve boş liste tanımlayarakta yapabiliriz. Hangi işlemle yaptığımız sonucu etkilemeyecektir."
      ],
      "metadata": {
        "id": "tGLKYpXQY6aK"
      }
    },
    {
      "cell_type": "code",
      "source": [
        "# number list örneği - for döngüsü ile:\n",
        "\n",
        "new_number_list = []\n",
        "\n",
        "for num in number_list:\n",
        "  new_number_list.append(num / 2)"
      ],
      "metadata": {
        "id": "4GN8Z2n6PLJe"
      },
      "execution_count": 76,
      "outputs": []
    },
    {
      "cell_type": "code",
      "source": [
        "# liste kontrolü:\n",
        "\n",
        "new_number_list"
      ],
      "metadata": {
        "colab": {
          "base_uri": "https://localhost:8080/"
        },
        "id": "ubd1pu1jPPGY",
        "outputId": "ce49c553-29e0-4ba2-fcfc-5549ceb05878"
      },
      "execution_count": 77,
      "outputs": [
        {
          "output_type": "execute_result",
          "data": {
            "text/plain": [
              "[5.0, 10.0, 15.0, 20.0, 25.0, 30.0]"
            ]
          },
          "metadata": {},
          "execution_count": 77
        }
      ]
    },
    {
      "cell_type": "markdown",
      "source": [
        "**🔹 Alternatif ile Karşılaştırma:**\n",
        "\n",
        "**Normal Döngü ile:**"
      ],
      "metadata": {
        "id": "DnvruNprZphf"
      }
    },
    {
      "cell_type": "code",
      "source": [
        "sayilar = [1, 2, 3, 4, 5]"
      ],
      "metadata": {
        "id": "29GW6cz8ZleN"
      },
      "execution_count": 78,
      "outputs": []
    },
    {
      "cell_type": "code",
      "source": [
        "kareler = []\n",
        "for sayi in sayilar:\n",
        "    kareler.append(sayi**2)\n",
        "print(kareler)"
      ],
      "metadata": {
        "colab": {
          "base_uri": "https://localhost:8080/"
        },
        "id": "_qbSuHZ_ZqSn",
        "outputId": "b4595f5b-6e6b-4689-9859-fdf74e356689"
      },
      "execution_count": 81,
      "outputs": [
        {
          "output_type": "execute_result",
          "data": {
            "text/plain": [
              "[1, 4, 9, 16, 25]"
            ]
          },
          "metadata": {},
          "execution_count": 81
        }
      ]
    },
    {
      "cell_type": "markdown",
      "source": [
        "**List Comprehension ile:**"
      ],
      "metadata": {
        "id": "OgWGW_3lZvSR"
      }
    },
    {
      "cell_type": "code",
      "source": [
        "kareler = [sayi**2 for sayi in sayilar]\n",
        "print(kareler)"
      ],
      "metadata": {
        "colab": {
          "base_uri": "https://localhost:8080/"
        },
        "id": "kJCWHFauZws8",
        "outputId": "f6117a10-b103-4973-a4a4-9332db21416b"
      },
      "execution_count": 80,
      "outputs": [
        {
          "output_type": "stream",
          "name": "stdout",
          "text": [
            "[1, 4, 9, 16, 25]\n"
          ]
        }
      ]
    },
    {
      "cell_type": "markdown",
      "source": [
        "**Opsiyon: Koşullu Liste Oluşturma — Sadece Çift Sayıları Seçmek**"
      ],
      "metadata": {
        "id": "CfHOh0jKZ_4b"
      }
    },
    {
      "cell_type": "code",
      "source": [
        "# liste kontrolü:\n",
        "\n",
        "sayilar"
      ],
      "metadata": {
        "colab": {
          "base_uri": "https://localhost:8080/"
        },
        "id": "-2WqjExEaM1L",
        "outputId": "a4cbcd00-b548-44dc-bb44-2d325501d34b"
      },
      "execution_count": 83,
      "outputs": [
        {
          "output_type": "execute_result",
          "data": {
            "text/plain": [
              "[1, 2, 3, 4, 5]"
            ]
          },
          "metadata": {},
          "execution_count": 83
        }
      ]
    },
    {
      "cell_type": "code",
      "source": [
        "# if koşulu sayesinde sadece çift sayılar listeye dahil edilir:\n",
        "\n",
        "ciftler = [sayi for sayi in sayilar if sayi % 2 == 0]\n",
        "print(ciftler)\n"
      ],
      "metadata": {
        "colab": {
          "base_uri": "https://localhost:8080/"
        },
        "id": "TFeZ_CxJZ_js",
        "outputId": "c6e2d9a5-a751-4c84-ecec-1eabcd46a6cc"
      },
      "execution_count": 88,
      "outputs": [
        {
          "output_type": "stream",
          "name": "stdout",
          "text": [
            "[2, 4]\n"
          ]
        }
      ]
    }
  ],
  "metadata": {
    "colab": {
      "provenance": [],
      "toc_visible": true,
      "authorship_tag": "ABX9TyNF+xuARXSDwk7DkmQ7CIW2",
      "include_colab_link": true
    },
    "kernelspec": {
      "display_name": "Python 3",
      "name": "python3"
    },
    "language_info": {
      "name": "python"
    }
  },
  "nbformat": 4,
  "nbformat_minor": 0
}