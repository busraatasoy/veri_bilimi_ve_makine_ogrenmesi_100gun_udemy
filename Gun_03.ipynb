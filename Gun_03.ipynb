{
  "nbformat": 4,
  "nbformat_minor": 0,
  "metadata": {
    "colab": {
      "provenance": [],
      "toc_visible": true,
      "authorship_tag": "ABX9TyNJY2mmImBh4+cfXGCweMJF",
      "include_colab_link": true
    },
    "kernelspec": {
      "name": "python3",
      "display_name": "Python 3"
    },
    "language_info": {
      "name": "python"
    }
  },
  "cells": [
    {
      "cell_type": "markdown",
      "metadata": {
        "id": "view-in-github",
        "colab_type": "text"
      },
      "source": [
        "<a href=\"https://colab.research.google.com/github/busraatasoy/veri_bilimi_ve_makine_ogrenmesi_100gun_udemy/blob/main/Gun_03.ipynb\" target=\"_parent\"><img src=\"https://colab.research.google.com/assets/colab-badge.svg\" alt=\"Open In Colab\"/></a>"
      ]
    },
    {
      "cell_type": "markdown",
      "source": [
        "# Gün 3: Veri Yapıları"
      ],
      "metadata": {
        "id": "qDi3rSJCbnna"
      }
    },
    {
      "cell_type": "markdown",
      "source": [
        "## Index Mantığı\n",
        "\n",
        "Python'da `index (indeks)` kavramı, bir koleksiyon (örneğin liste, dize/string, demet/tuple) içindeki elemanlara sırasına göre ulaşmak için kullanılır.\n",
        "\n",
        "Index mantığı, bir veri yapısındaki elemanlara konum numarasıyla erişim sağlamamıza yardımcı olur."
      ],
      "metadata": {
        "id": "Naat0Hnxbz3T"
      }
    },
    {
      "cell_type": "code",
      "execution_count": 63,
      "metadata": {
        "id": "c7Vj1FuEXrax"
      },
      "outputs": [],
      "source": [
        "# Değişken atayalım\n",
        "\n",
        "myString = \"hello python\""
      ]
    },
    {
      "cell_type": "code",
      "source": [
        "myString"
      ],
      "metadata": {
        "colab": {
          "base_uri": "https://localhost:8080/",
          "height": 36
        },
        "id": "TM0axj8yb9F3",
        "outputId": "ac876304-41da-4ccd-91f0-0f13534789f2"
      },
      "execution_count": 64,
      "outputs": [
        {
          "output_type": "execute_result",
          "data": {
            "text/plain": [
              "'hello python'"
            ],
            "application/vnd.google.colaboratory.intrinsic+json": {
              "type": "string"
            }
          },
          "metadata": {},
          "execution_count": 64
        }
      ]
    },
    {
      "cell_type": "markdown",
      "source": [
        "**Peki Indexleme Nasıl Yapılır ?**\n",
        "\n",
        "Excel kullanarak açıklayalım.\n",
        "\n",
        "Önce tanımladığımız `myString değişkeni`ne \"hello python\" string atamasını yaptık. Burada index numaralarından da görüleceği üzere; Python bu değeri kaydederken karakterleri boşluk dahil tek tek kutu içinde yer alacak şekilde kayıt altına alır.\n",
        "\n",
        "Bu kayıt sayesinde istediğimizde değişkenin karakter içeriğine index belirterek ulaşabiliriz.\n",
        "\n",
        "Dikkat ettiyseniz, **index** numaraları **`sıfır (\"0\")`** ile **`başlar`**. Bu programlama dillerinde geçerli olan bir durumdur. Yani; index olarak sıfır belirtildiğinde değişkenin 1. karakterini çağırmış oluruz.\n",
        "\n",
        "**Peki index çağırma işlemini nasıl gerçekleştiririz?**\n",
        "\n",
        "- Önce değişken ismi yazılır.\n",
        "- Köşeli parantez oluşturulur.\n",
        "- İstenilen index numarası parantez içine yazılır ve kod çalıştırılır.\n",
        "\n",
        "**Yapı:**\n",
        "\n",
        "değişkenAdı[istenilen index]"
      ],
      "metadata": {
        "id": "4FLGaSo-fV_p"
      }
    },
    {
      "cell_type": "markdown",
      "source": [
        "![image.png](data:image/png;base64,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)"
      ],
      "metadata": {
        "id": "owppPdaffTDD"
      }
    },
    {
      "cell_type": "code",
      "source": [
        "# 4. indexe ulaşalım.\n",
        "\n",
        "myString[4]"
      ],
      "metadata": {
        "colab": {
          "base_uri": "https://localhost:8080/",
          "height": 36
        },
        "id": "R-pGtiPrhDe2",
        "outputId": "b9651102-51d7-43e3-c50a-261f783e3056"
      },
      "execution_count": 65,
      "outputs": [
        {
          "output_type": "execute_result",
          "data": {
            "text/plain": [
              "'o'"
            ],
            "application/vnd.google.colaboratory.intrinsic+json": {
              "type": "string"
            }
          },
          "metadata": {},
          "execution_count": 65
        }
      ]
    },
    {
      "cell_type": "code",
      "source": [
        "# 0. index ulaşalım.\n",
        "\n",
        "myString[0]  #(Bakınız-> değişkenin ilk değeri gelir, çünkü index 0 ile başlar.)"
      ],
      "metadata": {
        "colab": {
          "base_uri": "https://localhost:8080/",
          "height": 36
        },
        "id": "KfnqqDD2hqt3",
        "outputId": "0ce0902d-884d-4b4c-ac20-fcf7e4bb0d18"
      },
      "execution_count": 66,
      "outputs": [
        {
          "output_type": "execute_result",
          "data": {
            "text/plain": [
              "'h'"
            ],
            "application/vnd.google.colaboratory.intrinsic+json": {
              "type": "string"
            }
          },
          "metadata": {},
          "execution_count": 66
        }
      ]
    },
    {
      "cell_type": "code",
      "source": [
        "# 1. indexin değeri:\n",
        "\n",
        "myString[1]"
      ],
      "metadata": {
        "colab": {
          "base_uri": "https://localhost:8080/",
          "height": 36
        },
        "id": "gLB3JuHkiJUT",
        "outputId": "37602dcd-ffae-4efb-8db9-4edea4557e25"
      },
      "execution_count": 67,
      "outputs": [
        {
          "output_type": "execute_result",
          "data": {
            "text/plain": [
              "'e'"
            ],
            "application/vnd.google.colaboratory.intrinsic+json": {
              "type": "string"
            }
          },
          "metadata": {},
          "execution_count": 67
        }
      ]
    },
    {
      "cell_type": "markdown",
      "source": [
        "Burada önemli olan index numaraları ile yazılan değerin numarasının karıştırılmamasıdır. Index'in Sıfır(\"0\") ile başlama durumu unutulmadan istenilen değere ulaşmak için index numarası belirlenmelidir."
      ],
      "metadata": {
        "id": "WpnV-Wo-iQAy"
      }
    },
    {
      "cell_type": "code",
      "source": [
        "# 11. index değeri:\n",
        "\n",
        "myString[11]"
      ],
      "metadata": {
        "colab": {
          "base_uri": "https://localhost:8080/",
          "height": 36
        },
        "id": "nxx_5tCwim59",
        "outputId": "bf958ed5-f4fe-43b8-d8ba-039267610619"
      },
      "execution_count": 68,
      "outputs": [
        {
          "output_type": "execute_result",
          "data": {
            "text/plain": [
              "'n'"
            ],
            "application/vnd.google.colaboratory.intrinsic+json": {
              "type": "string"
            }
          },
          "metadata": {},
          "execution_count": 68
        }
      ]
    },
    {
      "cell_type": "code",
      "source": [
        "# 12. index değeri:\n",
        "\n",
        "myString[12]"
      ],
      "metadata": {
        "colab": {
          "base_uri": "https://localhost:8080/",
          "height": 176
        },
        "id": "LADo6cS2iykj",
        "outputId": "526b9ea3-36eb-49e8-f797-6a6aa654ea34"
      },
      "execution_count": 58,
      "outputs": [
        {
          "output_type": "error",
          "ename": "IndexError",
          "evalue": "string index out of range",
          "traceback": [
            "\u001b[0;31m---------------------------------------------------------------------------\u001b[0m",
            "\u001b[0;31mIndexError\u001b[0m                                Traceback (most recent call last)",
            "\u001b[0;32m/tmp/ipython-input-58-3894735414.py\u001b[0m in \u001b[0;36m<cell line: 0>\u001b[0;34m()\u001b[0m\n\u001b[1;32m      1\u001b[0m \u001b[0;31m# 12. index değeri:\u001b[0m\u001b[0;34m\u001b[0m\u001b[0;34m\u001b[0m\u001b[0m\n\u001b[1;32m      2\u001b[0m \u001b[0;34m\u001b[0m\u001b[0m\n\u001b[0;32m----> 3\u001b[0;31m \u001b[0mmyString\u001b[0m\u001b[0;34m[\u001b[0m\u001b[0;36m12\u001b[0m\u001b[0;34m]\u001b[0m\u001b[0;34m\u001b[0m\u001b[0;34m\u001b[0m\u001b[0m\n\u001b[0m",
            "\u001b[0;31mIndexError\u001b[0m: string index out of range"
          ]
        }
      ]
    },
    {
      "cell_type": "markdown",
      "source": [
        "**`IndexError` hatası aldık. Peki neden ?**\n",
        "\n",
        "Çünkü, yazdığımız değişkenin **12. indeksleme değeri bulunmuyor**. Son harf olan **\"n\" harfi 11. index**e denk geliyor. Bu sebeple, kod çalıştırıldığında aradığı değer aralık dışında kaldığı için hata mesajı alıyoruz.\n",
        "\n",
        "Burada şunu düşünebiliriz.\n",
        "\n",
        "**\"hello python\" değerimiz boşluk dahil 12 karakterli neden hata aldık?**\n",
        "\n",
        "İşte tam da bu nokta da indekslerin sıfırdan başlaması devreye girer.\n",
        "\n",
        "**`1. değer`** **0. index** olarak sayıldığı için aslında yazdığımız değişken **değerinin -1 sayısı kadar** olacak şekilde **indexleme** yapabiliyoruz."
      ],
      "metadata": {
        "id": "GVpm72nqi3-R"
      }
    },
    {
      "cell_type": "markdown",
      "source": [
        "**Farklı değişken sayılarında ilk ve sonuncu değere nasıl ulaşılır ?**"
      ],
      "metadata": {
        "id": "ZarVlkqBk48j"
      }
    },
    {
      "cell_type": "markdown",
      "source": [
        "Herhangi bir değişken indexlemesinde 0. index yazıldığında bilgi veya değişken değeri fark etmeksiniz 1. değere ulaşmış oluruz.\n",
        "\n",
        "**Fakat, sonuncu index değerini nasıl buluruz?**\n",
        "\n",
        "myString değerinde 11 index yapabildiğimizi gördük. 15 harfli, 30 harfli farklı değerlerdeki bilgilere nasıl ulaşırız ?\n",
        "\n",
        "Burada **`len() metodu`** devreye girer. len() methodunun stringlerde uzunluk sayısını bulduğunu öğrenmiştik. Yazılan değişken değerinin ne kadar uzunluğa sahip olduğunu bu şekilde bulabiliriz.\n",
        "\n",
        "Fakat,  yazdığımız değişken değerinin -1 sayısı kadar olacak şekilde indexleme yapabildiğimizden bahsetmiştik. Bu sebeple, bulduğumuz uzunluğun -1 sayısını almamız gereklidir."
      ],
      "metadata": {
        "id": "2GgPOlVqlDtG"
      }
    },
    {
      "cell_type": "code",
      "source": [
        "# Yeni atama yapalım\n",
        "\n",
        "myString = \"veri bilimi yolculugu\""
      ],
      "metadata": {
        "id": "7k0eFiJrlDSr"
      },
      "execution_count": 69,
      "outputs": []
    },
    {
      "cell_type": "code",
      "source": [
        "# 1. değere yani 0. indexe erişelim\n",
        "\n",
        "myString[0]"
      ],
      "metadata": {
        "colab": {
          "base_uri": "https://localhost:8080/",
          "height": 36
        },
        "id": "DPItep9Dk0qq",
        "outputId": "7c7ef5aa-b614-4dae-d900-f95d2561708d"
      },
      "execution_count": 70,
      "outputs": [
        {
          "output_type": "execute_result",
          "data": {
            "text/plain": [
              "'v'"
            ],
            "application/vnd.google.colaboratory.intrinsic+json": {
              "type": "string"
            }
          },
          "metadata": {},
          "execution_count": 70
        }
      ]
    },
    {
      "cell_type": "code",
      "source": [
        "# değişken değerinin uzunluğuna erişelim\n",
        "\n",
        "len(myString)"
      ],
      "metadata": {
        "colab": {
          "base_uri": "https://localhost:8080/"
        },
        "id": "on1xKBuLm5qt",
        "outputId": "4dc9bbb6-e88a-46fd-b45f-5ce8cb05e258"
      },
      "execution_count": 71,
      "outputs": [
        {
          "output_type": "execute_result",
          "data": {
            "text/plain": [
              "21"
            ]
          },
          "metadata": {},
          "execution_count": 71
        }
      ]
    },
    {
      "cell_type": "code",
      "source": [
        "# Kaç tane indexleme yapabiliriz?\n",
        "\n",
        "len(myString) -1\n"
      ],
      "metadata": {
        "colab": {
          "base_uri": "https://localhost:8080/"
        },
        "id": "s-fhPPv-nfNR",
        "outputId": "e7142866-8740-44d1-dc11-d56340cb3634"
      },
      "execution_count": 72,
      "outputs": [
        {
          "output_type": "execute_result",
          "data": {
            "text/plain": [
              "20"
            ]
          },
          "metadata": {},
          "execution_count": 72
        }
      ]
    },
    {
      "cell_type": "markdown",
      "source": [
        "Ama gördüğümüz gibi; değerin kendisine değil, sayısına ulaşabiliyoruz. Peki kendisine yani harfe nasıl ulaşabiliriz?\n",
        "\n",
        "Tabi, ki index erişim yapısını kullanarak, deneyelim."
      ],
      "metadata": {
        "id": "C9CY379DnQoo"
      }
    },
    {
      "cell_type": "code",
      "source": [
        "# Sonuncu harfe erişelim.\n",
        "# Gördüğümüz gibi, 20 indexleme yapabildiğimizi len(myString) -1 ile bulmuştuk.\n",
        "# değişenAdı[istenilen değer] şeklinde yazınca, son değere erişmiş oluruz.\n",
        "\n",
        "myString [len(myString) -1]\n"
      ],
      "metadata": {
        "colab": {
          "base_uri": "https://localhost:8080/",
          "height": 36
        },
        "id": "CKhHihnVn9yS",
        "outputId": "3f76cc7b-6c45-4fef-a164-dee6a6bfe1d6"
      },
      "execution_count": 73,
      "outputs": [
        {
          "output_type": "execute_result",
          "data": {
            "text/plain": [
              "'u'"
            ],
            "application/vnd.google.colaboratory.intrinsic+json": {
              "type": "string"
            }
          },
          "metadata": {},
          "execution_count": 73
        }
      ]
    },
    {
      "cell_type": "markdown",
      "source": [
        "**Peki her zaman bu metodla mı çalışacağız?**\n",
        "\n",
        "Bu yöntemi kullanarak her zaman sonuncu değere ulaşabiliriz. Fakat, Python bunun çok kullanılmasından dolayı, bir kolaylık oluşturmuştur.\n",
        "\n",
        "**len()-1 yöntemi**ni kullanmadan kolayca sonuncu indexe ya da sondan geriye doğru diğer indexlere erişebiliriz.\n",
        "\n",
        "**👉Negatif Indexleme**\n",
        "\n",
        "Python'da -1 sondaki elemanı, -2 sondan bir önceki elemanı temsil eder. Bu sayede kolaylıkla sonuncu index değerlerine ulaşabiliriz."
      ],
      "metadata": {
        "id": "DC4Ct5yGokv0"
      }
    },
    {
      "cell_type": "code",
      "source": [
        "# Değişken değeri:\n",
        "\n",
        "myString"
      ],
      "metadata": {
        "colab": {
          "base_uri": "https://localhost:8080/",
          "height": 36
        },
        "id": "TdGFZ1eGp-ZT",
        "outputId": "0a0ef7d6-38f9-4a77-99e7-eb6d88842e8d"
      },
      "execution_count": 74,
      "outputs": [
        {
          "output_type": "execute_result",
          "data": {
            "text/plain": [
              "'veri bilimi yolculugu'"
            ],
            "application/vnd.google.colaboratory.intrinsic+json": {
              "type": "string"
            }
          },
          "metadata": {},
          "execution_count": 74
        }
      ]
    },
    {
      "cell_type": "code",
      "source": [
        "# Sonuncu değere negatif indexleme ile erişelim.\n",
        "\n",
        "myString[-1]"
      ],
      "metadata": {
        "colab": {
          "base_uri": "https://localhost:8080/",
          "height": 36
        },
        "id": "XDUEIyVaoj6x",
        "outputId": "2bf85f89-6072-4fa0-f590-d0779bb0ece5"
      },
      "execution_count": 75,
      "outputs": [
        {
          "output_type": "execute_result",
          "data": {
            "text/plain": [
              "'u'"
            ],
            "application/vnd.google.colaboratory.intrinsic+json": {
              "type": "string"
            }
          },
          "metadata": {},
          "execution_count": 75
        }
      ]
    },
    {
      "cell_type": "code",
      "source": [
        "# Sondan bir önceki değere negatif indexleme ile erişelim.\n",
        "\n",
        "myString[-2]"
      ],
      "metadata": {
        "colab": {
          "base_uri": "https://localhost:8080/",
          "height": 36
        },
        "id": "PbY8YiH-p33E",
        "outputId": "151412b8-f8ec-49a8-c1a8-daeef7eaa70d"
      },
      "execution_count": 76,
      "outputs": [
        {
          "output_type": "execute_result",
          "data": {
            "text/plain": [
              "'g'"
            ],
            "application/vnd.google.colaboratory.intrinsic+json": {
              "type": "string"
            }
          },
          "metadata": {},
          "execution_count": 76
        }
      ]
    },
    {
      "cell_type": "markdown",
      "source": [
        "Gördüğümüz gibi, Python'da negatif indexleme kullanarak da kolayca erişim sağlayabiliriz. Bu her programlama da bulunmaz, Python'a özel bir durumdur."
      ],
      "metadata": {
        "id": "JoClkKVmqFg_"
      }
    },
    {
      "cell_type": "markdown",
      "source": [
        "## Slicing (Dilimleme)\n",
        "\n",
        "Slicing, bir liste, string, tuple gibi veri yapılarından birden fazla öğeyi bir arada seçmek için kullanılır.\n",
        "\n",
        "Yani, bir değişkenin belli bir aralığını almanı sağlar.\n"
      ],
      "metadata": {
        "id": "Hw7flWPfqVZf"
      }
    },
    {
      "cell_type": "code",
      "source": [
        "# barcode değişkenini tanımlayalım.\n",
        "\n",
        "barcode = \"ABCDE123123982\""
      ],
      "metadata": {
        "id": "nzCLe7sFLv9t"
      },
      "execution_count": 77,
      "outputs": []
    },
    {
      "cell_type": "code",
      "source": [
        "# 0. index:\n",
        "\n",
        "barcode[0]"
      ],
      "metadata": {
        "colab": {
          "base_uri": "https://localhost:8080/",
          "height": 36
        },
        "id": "Tb-giqp3L5o0",
        "outputId": "9ad081d6-c2cc-435c-ab1e-feebcd6d5cfb"
      },
      "execution_count": 78,
      "outputs": [
        {
          "output_type": "execute_result",
          "data": {
            "text/plain": [
              "'A'"
            ],
            "application/vnd.google.colaboratory.intrinsic+json": {
              "type": "string"
            }
          },
          "metadata": {},
          "execution_count": 78
        }
      ]
    },
    {
      "cell_type": "code",
      "source": [
        "# 1. index\n",
        "\n",
        "barcode[1]"
      ],
      "metadata": {
        "colab": {
          "base_uri": "https://localhost:8080/",
          "height": 36
        },
        "id": "xuJAlqYpMRTf",
        "outputId": "c3995476-129f-42f6-9800-762939a4c9bc"
      },
      "execution_count": 79,
      "outputs": [
        {
          "output_type": "execute_result",
          "data": {
            "text/plain": [
              "'B'"
            ],
            "application/vnd.google.colaboratory.intrinsic+json": {
              "type": "string"
            }
          },
          "metadata": {},
          "execution_count": 79
        }
      ]
    },
    {
      "cell_type": "code",
      "source": [
        "# 2. index\n",
        "\n",
        "barcode[2]"
      ],
      "metadata": {
        "colab": {
          "base_uri": "https://localhost:8080/",
          "height": 36
        },
        "id": "kRGoXKaQMcOB",
        "outputId": "88178327-4ab7-4fd5-d438-6050e4828e04"
      },
      "execution_count": 80,
      "outputs": [
        {
          "output_type": "execute_result",
          "data": {
            "text/plain": [
              "'C'"
            ],
            "application/vnd.google.colaboratory.intrinsic+json": {
              "type": "string"
            }
          },
          "metadata": {},
          "execution_count": 80
        }
      ]
    },
    {
      "cell_type": "markdown",
      "source": [
        "Slicing İşleminin nasıl olduğuna geçmeden önce stringler ile yapılan bazı işlemlerin bilinmesi önemlidir. 👇"
      ],
      "metadata": {
        "id": "tBhIMpUJOZIe"
      }
    },
    {
      "cell_type": "markdown",
      "source": [
        "**Stringlerde Toplama İşlemi**\n",
        "\n",
        "Stringdeki geçen karakterlerin yanyana yazılması şeklinde olur."
      ],
      "metadata": {
        "id": "hqVKAnXOMgUz"
      }
    },
    {
      "cell_type": "code",
      "source": [
        "\"A\" + \"B\""
      ],
      "metadata": {
        "colab": {
          "base_uri": "https://localhost:8080/",
          "height": 36
        },
        "id": "LKJvgSw0Mlax",
        "outputId": "d74a6d55-7340-41de-e536-cf15b0575613"
      },
      "execution_count": 81,
      "outputs": [
        {
          "output_type": "execute_result",
          "data": {
            "text/plain": [
              "'AB'"
            ],
            "application/vnd.google.colaboratory.intrinsic+json": {
              "type": "string"
            }
          },
          "metadata": {},
          "execution_count": 81
        }
      ]
    },
    {
      "cell_type": "code",
      "source": [
        "# name değişkeni atayalım\n",
        "\n",
        "name = \"büşra\""
      ],
      "metadata": {
        "id": "iatrpEZrMua_"
      },
      "execution_count": 82,
      "outputs": []
    },
    {
      "cell_type": "code",
      "source": [
        "#surname değişkeni atayalım\n",
        "\n",
        "surname = \"atasoy\""
      ],
      "metadata": {
        "id": "STbK0lW1MwIc"
      },
      "execution_count": 83,
      "outputs": []
    },
    {
      "cell_type": "code",
      "source": [
        "# fullname değişkenini toplama işlemi ile atayalım\n",
        "\n",
        "fullname = name + \" \" + surname"
      ],
      "metadata": {
        "id": "FRcFFaQEMy3E"
      },
      "execution_count": 84,
      "outputs": []
    },
    {
      "cell_type": "code",
      "source": [
        "fullname"
      ],
      "metadata": {
        "colab": {
          "base_uri": "https://localhost:8080/",
          "height": 36
        },
        "id": "xM8uXygeM9Zz",
        "outputId": "e6ebc115-ef72-4b84-c8e6-2e9461d7d8cd"
      },
      "execution_count": 85,
      "outputs": [
        {
          "output_type": "execute_result",
          "data": {
            "text/plain": [
              "'büşra atasoy'"
            ],
            "application/vnd.google.colaboratory.intrinsic+json": {
              "type": "string"
            }
          },
          "metadata": {},
          "execution_count": 85
        }
      ]
    },
    {
      "cell_type": "markdown",
      "source": [
        "**Stringlerde Çarpma İşlemi**\n",
        "\n",
        "Stringdeki geçen karakterlerin çarpım sayısı kadar yanyana yazılması şeklinde olur.\n",
        "\n",
        "Python'da string çarpımı yapılır, her  programlama dilinde bu işlem yapılmaz."
      ],
      "metadata": {
        "id": "IhRuvYWbNThU"
      }
    },
    {
      "cell_type": "code",
      "source": [
        "fullname * 5"
      ],
      "metadata": {
        "colab": {
          "base_uri": "https://localhost:8080/",
          "height": 36
        },
        "id": "fGBxrjUbNPZ6",
        "outputId": "3f8cd4ee-ed38-423f-bdb2-6b5df70f6d3b"
      },
      "execution_count": 86,
      "outputs": [
        {
          "output_type": "execute_result",
          "data": {
            "text/plain": [
              "'büşra atasoybüşra atasoybüşra atasoybüşra atasoybüşra atasoy'"
            ],
            "application/vnd.google.colaboratory.intrinsic+json": {
              "type": "string"
            }
          },
          "metadata": {},
          "execution_count": 86
        }
      ]
    },
    {
      "cell_type": "code",
      "source": [
        "50 * \"b\""
      ],
      "metadata": {
        "colab": {
          "base_uri": "https://localhost:8080/",
          "height": 36
        },
        "id": "awSZhVVzNg_q",
        "outputId": "2630b520-a1e1-4088-d882-caec7abe749b"
      },
      "execution_count": 87,
      "outputs": [
        {
          "output_type": "execute_result",
          "data": {
            "text/plain": [
              "'bbbbbbbbbbbbbbbbbbbbbbbbbbbbbbbbbbbbbbbbbbbbbbbbbb'"
            ],
            "application/vnd.google.colaboratory.intrinsic+json": {
              "type": "string"
            }
          },
          "metadata": {},
          "execution_count": 87
        }
      ]
    },
    {
      "cell_type": "markdown",
      "source": [
        "**Stringlerde Bölme ve Çıkarma İşlemi**\n",
        "\n",
        "Bölme ve çıkarma işlemleri mantıksal yönden işleme uygun olmadığı için Python izin vermez ve `TypeError` yani Tip hatası verir.\n",
        "\n",
        "Buda string veri tiplerinde bu işlemlerin yapılamayacağı anlamına gelir."
      ],
      "metadata": {
        "id": "LLGO-pisNnBn"
      }
    },
    {
      "cell_type": "code",
      "source": [
        "# String bölme işlemi\n",
        "\n",
        "fullname / 2"
      ],
      "metadata": {
        "colab": {
          "base_uri": "https://localhost:8080/",
          "height": 176
        },
        "id": "hkWz-4EYODwo",
        "outputId": "51493389-3bf9-427b-b05f-3dcdaed2db9f"
      },
      "execution_count": 88,
      "outputs": [
        {
          "output_type": "error",
          "ename": "TypeError",
          "evalue": "unsupported operand type(s) for /: 'str' and 'int'",
          "traceback": [
            "\u001b[0;31m---------------------------------------------------------------------------\u001b[0m",
            "\u001b[0;31mTypeError\u001b[0m                                 Traceback (most recent call last)",
            "\u001b[0;32m/tmp/ipython-input-88-1870037096.py\u001b[0m in \u001b[0;36m<cell line: 0>\u001b[0;34m()\u001b[0m\n\u001b[1;32m      1\u001b[0m \u001b[0;31m# String bölme işlemi\u001b[0m\u001b[0;34m\u001b[0m\u001b[0;34m\u001b[0m\u001b[0m\n\u001b[1;32m      2\u001b[0m \u001b[0;34m\u001b[0m\u001b[0m\n\u001b[0;32m----> 3\u001b[0;31m \u001b[0mfullname\u001b[0m \u001b[0;34m/\u001b[0m \u001b[0;36m2\u001b[0m\u001b[0;34m\u001b[0m\u001b[0;34m\u001b[0m\u001b[0m\n\u001b[0m",
            "\u001b[0;31mTypeError\u001b[0m: unsupported operand type(s) for /: 'str' and 'int'"
          ]
        }
      ]
    },
    {
      "cell_type": "code",
      "source": [
        "# String çıkarma işlemi\n",
        "\n",
        "fullname - 3"
      ],
      "metadata": {
        "colab": {
          "base_uri": "https://localhost:8080/",
          "height": 176
        },
        "id": "19aaBmPAOLzn",
        "outputId": "a12a347d-64f9-4b12-b8ff-07e557f32d37"
      },
      "execution_count": 89,
      "outputs": [
        {
          "output_type": "error",
          "ename": "TypeError",
          "evalue": "unsupported operand type(s) for -: 'str' and 'int'",
          "traceback": [
            "\u001b[0;31m---------------------------------------------------------------------------\u001b[0m",
            "\u001b[0;31mTypeError\u001b[0m                                 Traceback (most recent call last)",
            "\u001b[0;32m/tmp/ipython-input-89-1337920857.py\u001b[0m in \u001b[0;36m<cell line: 0>\u001b[0;34m()\u001b[0m\n\u001b[1;32m      1\u001b[0m \u001b[0;31m# String çıkarma işlemi\u001b[0m\u001b[0;34m\u001b[0m\u001b[0;34m\u001b[0m\u001b[0m\n\u001b[1;32m      2\u001b[0m \u001b[0;34m\u001b[0m\u001b[0m\n\u001b[0;32m----> 3\u001b[0;31m \u001b[0mfullname\u001b[0m \u001b[0;34m-\u001b[0m \u001b[0;36m3\u001b[0m\u001b[0;34m\u001b[0m\u001b[0;34m\u001b[0m\u001b[0m\n\u001b[0m",
            "\u001b[0;31mTypeError\u001b[0m: unsupported operand type(s) for -: 'str' and 'int'"
          ]
        }
      ]
    },
    {
      "cell_type": "markdown",
      "source": [
        "Evet, şimdi slicing işlemine devam edelim. 👇"
      ],
      "metadata": {
        "id": "Oz_0coiKOoIw"
      }
    },
    {
      "cell_type": "code",
      "source": [
        "barcode"
      ],
      "metadata": {
        "colab": {
          "base_uri": "https://localhost:8080/",
          "height": 36
        },
        "id": "x71E7Y5TOs5U",
        "outputId": "60cd19fc-fadf-4099-8cf0-bfd2c2679ee2"
      },
      "execution_count": 90,
      "outputs": [
        {
          "output_type": "execute_result",
          "data": {
            "text/plain": [
              "'ABCDE123123982'"
            ],
            "application/vnd.google.colaboratory.intrinsic+json": {
              "type": "string"
            }
          },
          "metadata": {},
          "execution_count": 90
        }
      ]
    },
    {
      "cell_type": "code",
      "source": [
        "# İlk 3 harfini almaya çalışalım.\n",
        "# İndex ile:\n",
        "\n",
        "barcode[0] + barcode[1] + barcode[2]"
      ],
      "metadata": {
        "colab": {
          "base_uri": "https://localhost:8080/",
          "height": 36
        },
        "id": "2n45zkvDOyBy",
        "outputId": "094ab960-652c-4944-e607-6f88dbd75b59"
      },
      "execution_count": 91,
      "outputs": [
        {
          "output_type": "execute_result",
          "data": {
            "text/plain": [
              "'ABC'"
            ],
            "application/vnd.google.colaboratory.intrinsic+json": {
              "type": "string"
            }
          },
          "metadata": {},
          "execution_count": 91
        }
      ]
    },
    {
      "cell_type": "markdown",
      "source": [
        "Bu şekilde matematiksel toplama işlemi ile ulaşılabilir. Fakat, daha uzun işlemlerde ilk 10 harfe erişmek gibi tek tek index toplama işlemi ile ulaşmak çok uğraş gerektirir. Bunun kolaylıkla yapılabilmesi için slicing işlemi uygulanır."
      ],
      "metadata": {
        "id": "TUAwl2G8PFEL"
      }
    },
    {
      "cell_type": "markdown",
      "source": [
        "**Temel Söz Dizimi (Syntax):**\n",
        "\n",
        "starting index, stopping index, stepping size ile:\n",
        "\n",
        "`değişken[start:stop:step]` şeklinde uygulanır."
      ],
      "metadata": {
        "id": "Zawn2xNhaT-z"
      }
    },
    {
      "cell_type": "markdown",
      "source": [
        "| Parça   | Açıklama                            |\n",
        "| ------- | ----------------------------------- |\n",
        "| `start` | Başlangıç indeksi (dahil)           |\n",
        "| `stop`  | Bitiş indeksi (**hariç**)           |\n",
        "| `step`  | Kaçar kaçar ilerleyeceğini belirtir |\n"
      ],
      "metadata": {
        "id": "89v0bVCTLZfh"
      }
    },
    {
      "cell_type": "code",
      "source": [
        "# değişken değerinin tamamı:\n",
        "\n",
        "barcode[::]"
      ],
      "metadata": {
        "colab": {
          "base_uri": "https://localhost:8080/",
          "height": 36
        },
        "id": "JxJ8_LRmPdZ4",
        "outputId": "3c7f0d31-fa33-4b7f-b066-5e304f96bc03"
      },
      "execution_count": 94,
      "outputs": [
        {
          "output_type": "execute_result",
          "data": {
            "text/plain": [
              "'ABCDE123123982'"
            ],
            "application/vnd.google.colaboratory.intrinsic+json": {
              "type": "string"
            }
          },
          "metadata": {},
          "execution_count": 94
        }
      ]
    },
    {
      "cell_type": "markdown",
      "source": [
        "**Slicing Örnekleri:**"
      ],
      "metadata": {
        "id": "0rOQRzBHQwcT"
      }
    },
    {
      "cell_type": "code",
      "source": [
        "# 3. indexten itibaren tamamı:\n",
        "\n",
        "barcode[3::]   #3. indexten başlar."
      ],
      "metadata": {
        "colab": {
          "base_uri": "https://localhost:8080/",
          "height": 36
        },
        "id": "U0dj462uQBgx",
        "outputId": "558b6887-1cd8-49b6-a374-6baa2b006ec2"
      },
      "execution_count": 95,
      "outputs": [
        {
          "output_type": "execute_result",
          "data": {
            "text/plain": [
              "'DE123123982'"
            ],
            "application/vnd.google.colaboratory.intrinsic+json": {
              "type": "string"
            }
          },
          "metadata": {},
          "execution_count": 95
        }
      ]
    },
    {
      "cell_type": "code",
      "source": [
        "# 3. indexte dur:\n",
        "# 3. index dahil değil.\n",
        "\n",
        "barcode[:3:]"
      ],
      "metadata": {
        "colab": {
          "base_uri": "https://localhost:8080/",
          "height": 36
        },
        "id": "RfXMiHPaQ0ci",
        "outputId": "e14a3a9a-b362-429c-b588-69474c522f42"
      },
      "execution_count": 96,
      "outputs": [
        {
          "output_type": "execute_result",
          "data": {
            "text/plain": [
              "'ABC'"
            ],
            "application/vnd.google.colaboratory.intrinsic+json": {
              "type": "string"
            }
          },
          "metadata": {},
          "execution_count": 96
        }
      ]
    },
    {
      "cell_type": "code",
      "source": [
        "# 5. index dahil değil.\n",
        "\n",
        "barcode[:5:]"
      ],
      "metadata": {
        "colab": {
          "base_uri": "https://localhost:8080/",
          "height": 36
        },
        "id": "Xv6Bmx2vRNV2",
        "outputId": "055c20dd-91fe-4f95-9da1-4416052773f2"
      },
      "execution_count": 97,
      "outputs": [
        {
          "output_type": "execute_result",
          "data": {
            "text/plain": [
              "'ABCDE'"
            ],
            "application/vnd.google.colaboratory.intrinsic+json": {
              "type": "string"
            }
          },
          "metadata": {},
          "execution_count": 97
        }
      ]
    },
    {
      "cell_type": "markdown",
      "source": [
        "**NOT:**\n",
        "\n",
        "starting index = inclusive yani içine alan, dahil denir.\n",
        "\n",
        "stopping index = exclusive yani içine almayan, hariç denir.\n"
      ],
      "metadata": {
        "id": "RLecy7KPRXX3"
      }
    },
    {
      "cell_type": "code",
      "source": [
        "barcode"
      ],
      "metadata": {
        "colab": {
          "base_uri": "https://localhost:8080/",
          "height": 36
        },
        "id": "6rSzZPeYSJcd",
        "outputId": "ded72040-6a88-40b7-9a64-6bf2e1e86fe9"
      },
      "execution_count": 98,
      "outputs": [
        {
          "output_type": "execute_result",
          "data": {
            "text/plain": [
              "'ABCDE123123982'"
            ],
            "application/vnd.google.colaboratory.intrinsic+json": {
              "type": "string"
            }
          },
          "metadata": {},
          "execution_count": 98
        }
      ]
    },
    {
      "cell_type": "code",
      "source": [
        "# 2'şer atlayarak tümünü alma:\n",
        "\n",
        "barcode[::2]"
      ],
      "metadata": {
        "colab": {
          "base_uri": "https://localhost:8080/",
          "height": 36
        },
        "id": "bYrQFuZSSX8X",
        "outputId": "c5b5a0db-40fc-40ff-c4f5-d724c0bd613e"
      },
      "execution_count": 99,
      "outputs": [
        {
          "output_type": "execute_result",
          "data": {
            "text/plain": [
              "'ACE2138'"
            ],
            "application/vnd.google.colaboratory.intrinsic+json": {
              "type": "string"
            }
          },
          "metadata": {},
          "execution_count": 99
        }
      ]
    },
    {
      "cell_type": "code",
      "source": [
        "# 3'er atlayarak tümünü alma:\n",
        "\n",
        "barcode[::3]"
      ],
      "metadata": {
        "colab": {
          "base_uri": "https://localhost:8080/",
          "height": 36
        },
        "id": "9er1AMlaScLI",
        "outputId": "36315595-5cd5-4d28-b1fa-33e41b1793a6"
      },
      "execution_count": 100,
      "outputs": [
        {
          "output_type": "execute_result",
          "data": {
            "text/plain": [
              "'AD228'"
            ],
            "application/vnd.google.colaboratory.intrinsic+json": {
              "type": "string"
            }
          },
          "metadata": {},
          "execution_count": 100
        }
      ]
    },
    {
      "cell_type": "code",
      "source": [
        "# Sadece orta kısmı alma:\n",
        "\n",
        "barcode[3:5:]"
      ],
      "metadata": {
        "colab": {
          "base_uri": "https://localhost:8080/",
          "height": 36
        },
        "id": "F1Cr306rSpNw",
        "outputId": "240ac082-3515-4384-8fd0-162148c6a686"
      },
      "execution_count": 101,
      "outputs": [
        {
          "output_type": "execute_result",
          "data": {
            "text/plain": [
              "'DE'"
            ],
            "application/vnd.google.colaboratory.intrinsic+json": {
              "type": "string"
            }
          },
          "metadata": {},
          "execution_count": 101
        }
      ]
    },
    {
      "cell_type": "code",
      "source": [
        "# step adımı verilmezse yazılmayadabilir.\n",
        "\n",
        "barcode[3:5]"
      ],
      "metadata": {
        "colab": {
          "base_uri": "https://localhost:8080/",
          "height": 36
        },
        "id": "KgEv4SvtS4V4",
        "outputId": "98680ac2-662d-4d46-b91a-9c040e1876e5"
      },
      "execution_count": 102,
      "outputs": [
        {
          "output_type": "execute_result",
          "data": {
            "text/plain": [
              "'DE'"
            ],
            "application/vnd.google.colaboratory.intrinsic+json": {
              "type": "string"
            }
          },
          "metadata": {},
          "execution_count": 102
        }
      ]
    },
    {
      "cell_type": "code",
      "source": [
        "# 1. indexten başla, 2'şer atla ve 9. indexte dur.\n",
        "\n",
        "barcode[1:9:2]"
      ],
      "metadata": {
        "colab": {
          "base_uri": "https://localhost:8080/",
          "height": 36
        },
        "id": "rj1X2BO0TDZt",
        "outputId": "d0a509dd-b08c-4eb7-c81a-18ed2db2b264"
      },
      "execution_count": 103,
      "outputs": [
        {
          "output_type": "execute_result",
          "data": {
            "text/plain": [
              "'BD13'"
            ],
            "application/vnd.google.colaboratory.intrinsic+json": {
              "type": "string"
            }
          },
          "metadata": {},
          "execution_count": 103
        }
      ]
    },
    {
      "cell_type": "code",
      "source": [
        "# Negatif slicing işlemi ile ters yazma:\n",
        "\n",
        "barcode[::-1]"
      ],
      "metadata": {
        "colab": {
          "base_uri": "https://localhost:8080/",
          "height": 36
        },
        "id": "5HVA9TDRTRJI",
        "outputId": "7f4dc541-fb64-4605-808e-9a31a655def3"
      },
      "execution_count": 104,
      "outputs": [
        {
          "output_type": "execute_result",
          "data": {
            "text/plain": [
              "'289321321EDCBA'"
            ],
            "application/vnd.google.colaboratory.intrinsic+json": {
              "type": "string"
            }
          },
          "metadata": {},
          "execution_count": 104
        }
      ]
    },
    {
      "cell_type": "markdown",
      "source": [
        "## Diğer String Metodları"
      ],
      "metadata": {
        "id": "MntvYp6gTuyR"
      }
    },
    {
      "cell_type": "markdown",
      "source": [
        "**Index() metodu:**\n",
        "\n",
        "String içinde geçen herhangi bir değerin hangi indexte olduğunu bulmamıza yarar.\n",
        "Birden fazla aynı değer var ise, ilk bulunan değeri getirir.\n",
        "\n",
        "index() metodu, bir elemanın listedeki (veya string/tuple içindeki) ilk göründüğü yeri, yani indeks numarasını verir."
      ],
      "metadata": {
        "id": "tXE4iL_zUB9r"
      }
    },
    {
      "cell_type": "code",
      "source": [
        "# name değişkenine atama yapalım:\n",
        "\n",
        "name = \"büşra atasoy\""
      ],
      "metadata": {
        "id": "XAmvaQsjTyCr"
      },
      "execution_count": 105,
      "outputs": []
    },
    {
      "cell_type": "code",
      "source": [
        "# index metoduna bakalım:\n",
        "\n",
        "help(name.index)"
      ],
      "metadata": {
        "colab": {
          "base_uri": "https://localhost:8080/"
        },
        "id": "t1nPmbHkT1Hy",
        "outputId": "5899e569-fabb-448d-9d2e-e25928d9a43a"
      },
      "execution_count": 106,
      "outputs": [
        {
          "output_type": "stream",
          "name": "stdout",
          "text": [
            "Help on built-in function index:\n",
            "\n",
            "index(...) method of builtins.str instance\n",
            "    S.index(sub[, start[, end]]) -> int\n",
            "    \n",
            "    Return the lowest index in S where substring sub is found,\n",
            "    such that sub is contained within S[start:end].  Optional\n",
            "    arguments start and end are interpreted as in slice notation.\n",
            "    \n",
            "    Raises ValueError when the substring is not found.\n",
            "\n"
          ]
        }
      ]
    },
    {
      "cell_type": "code",
      "source": [
        "# name değişkeni içinde s harfini bulalım\n",
        "\n",
        "name.index(\"s\")"
      ],
      "metadata": {
        "colab": {
          "base_uri": "https://localhost:8080/"
        },
        "id": "h_4yHzwNUj_O",
        "outputId": "4659f458-9c4e-447f-a4d2-e25bc02bd8ee"
      },
      "execution_count": 107,
      "outputs": [
        {
          "output_type": "execute_result",
          "data": {
            "text/plain": [
              "9"
            ]
          },
          "metadata": {},
          "execution_count": 107
        }
      ]
    },
    {
      "cell_type": "markdown",
      "source": [
        "🔹 Not: Eğer eleman listede yoksa ValueError hatası verir."
      ],
      "metadata": {
        "id": "xe40Zi7dVBrP"
      }
    },
    {
      "cell_type": "code",
      "source": [
        "# name değişkeni içinde ç harfini bulalım\n",
        "\n",
        "name.index(\"ç\")"
      ],
      "metadata": {
        "colab": {
          "base_uri": "https://localhost:8080/",
          "height": 176
        },
        "id": "PRKGiIWAU7Th",
        "outputId": "eb24e40c-ecb4-40a1-e14a-c7b19e8a2901"
      },
      "execution_count": 108,
      "outputs": [
        {
          "output_type": "error",
          "ename": "ValueError",
          "evalue": "substring not found",
          "traceback": [
            "\u001b[0;31m---------------------------------------------------------------------------\u001b[0m",
            "\u001b[0;31mValueError\u001b[0m                                Traceback (most recent call last)",
            "\u001b[0;32m/tmp/ipython-input-108-619433008.py\u001b[0m in \u001b[0;36m<cell line: 0>\u001b[0;34m()\u001b[0m\n\u001b[1;32m      1\u001b[0m \u001b[0;31m# name değişkeni içinde ç harfini bulalım\u001b[0m\u001b[0;34m\u001b[0m\u001b[0;34m\u001b[0m\u001b[0m\n\u001b[1;32m      2\u001b[0m \u001b[0;34m\u001b[0m\u001b[0m\n\u001b[0;32m----> 3\u001b[0;31m \u001b[0mname\u001b[0m\u001b[0;34m.\u001b[0m\u001b[0mindex\u001b[0m\u001b[0;34m(\u001b[0m\u001b[0;34m\"ç\"\u001b[0m\u001b[0;34m)\u001b[0m\u001b[0;34m\u001b[0m\u001b[0;34m\u001b[0m\u001b[0m\n\u001b[0m",
            "\u001b[0;31mValueError\u001b[0m: substring not found"
          ]
        }
      ]
    },
    {
      "cell_type": "markdown",
      "source": [
        "**Split() metodu:**\n",
        "\n",
        "split() metodu, bir string’i (metni) belirli bir ayırıcıya göre bölerek bir liste haline getirir.\n",
        "\n",
        "Yani:\n",
        "\n",
        "Bir cümleyi kelimelere, bir veriyi parçalara bölmek için kullanılır."
      ],
      "metadata": {
        "id": "aCTIUk_bVI7D"
      }
    },
    {
      "cell_type": "markdown",
      "source": [
        "**Söz Dizimi (Syntax):**\n",
        "\n",
        "değşkenAdı.split(sep, maxsplit)"
      ],
      "metadata": {
        "id": "FyGLBt1_pbdd"
      }
    },
    {
      "cell_type": "markdown",
      "source": [
        "| Parametre  | Açıklama                                                             |\n",
        "| ---------- | -------------------------------------------------------------------- |\n",
        "| `sep`      | Ayırıcı karakter (varsayılan: boşluk `\" \"`)                          |\n",
        "| `maxsplit` | En fazla kaç bölmeye ayıracağını belirtir (varsayılan: tümünü böler) |\n"
      ],
      "metadata": {
        "id": "5ZXEBUJbVwE2"
      }
    },
    {
      "cell_type": "code",
      "source": [
        "name"
      ],
      "metadata": {
        "colab": {
          "base_uri": "https://localhost:8080/",
          "height": 36
        },
        "id": "uru3fxsppiAI",
        "outputId": "72b99786-21a8-4b68-e099-f9e39df3f46d"
      },
      "execution_count": 112,
      "outputs": [
        {
          "output_type": "execute_result",
          "data": {
            "text/plain": [
              "'büşra atasoy'"
            ],
            "application/vnd.google.colaboratory.intrinsic+json": {
              "type": "string"
            }
          },
          "metadata": {},
          "execution_count": 112
        }
      ]
    },
    {
      "cell_type": "code",
      "source": [
        "# sep değeri verilmediği için boşluğa göre bölme yapar:\n",
        "\n",
        "name.split()"
      ],
      "metadata": {
        "colab": {
          "base_uri": "https://localhost:8080/"
        },
        "id": "iHh8MQDJV0qn",
        "outputId": "21b5c2cb-5463-40c2-91c0-708054a377f9"
      },
      "execution_count": 113,
      "outputs": [
        {
          "output_type": "execute_result",
          "data": {
            "text/plain": [
              "['büşra', 'atasoy']"
            ]
          },
          "metadata": {},
          "execution_count": 113
        }
      ]
    },
    {
      "cell_type": "code",
      "source": [
        "# Belirli Bir Karaktere Göre Ayırma:\n",
        "# Tarih formatında kullanımı:\n",
        "\n",
        "tarih = \"2025-06-24\"\n",
        "tarih.split(\"-\")"
      ],
      "metadata": {
        "colab": {
          "base_uri": "https://localhost:8080/"
        },
        "id": "RT03g_MgWEfh",
        "outputId": "dbdc41cc-5b0a-4b17-c8d4-5fdd5cf364da"
      },
      "execution_count": 114,
      "outputs": [
        {
          "output_type": "execute_result",
          "data": {
            "text/plain": [
              "['2025', '06', '24']"
            ]
          },
          "metadata": {},
          "execution_count": 114
        }
      ]
    },
    {
      "cell_type": "code",
      "source": [
        "# maxsplit ile Sınırlı Bölme:\n",
        "\n",
        "cümle = \"Python çok eğlenceli ve öğretici\"\n",
        "cümle.split(\" \", 2)"
      ],
      "metadata": {
        "colab": {
          "base_uri": "https://localhost:8080/"
        },
        "id": "5xtzELMYWgy_",
        "outputId": "af3bc27e-6504-4741-d9ed-c404407ee0c1"
      },
      "execution_count": 115,
      "outputs": [
        {
          "output_type": "execute_result",
          "data": {
            "text/plain": [
              "['Python', 'çok', 'eğlenceli ve öğretici']"
            ]
          },
          "metadata": {},
          "execution_count": 115
        }
      ]
    },
    {
      "cell_type": "markdown",
      "source": [
        "Sadece 2 bölme yaptı. Geri kalanı son elemana dahil etti."
      ],
      "metadata": {
        "id": "SAhywNv0WpOY"
      }
    },
    {
      "cell_type": "markdown",
      "source": [
        "**🎯 Nerelerde Kullanılır?**\n",
        "\n",
        "- Cümleyi kelimelere ayırmak\n",
        "\n",
        "- Tarihleri, e-posta, dosya yollarını parçalamak\n",
        "\n",
        "- CSV gibi formatlardan veri ayıklamak"
      ],
      "metadata": {
        "id": "h3t8KWUFXISp"
      }
    },
    {
      "cell_type": "code",
      "source": [
        "# Veri tipi kontrolü:\n",
        "# Liste formatındadır.\n",
        "\n",
        "type(name.split())"
      ],
      "metadata": {
        "colab": {
          "base_uri": "https://localhost:8080/"
        },
        "id": "6cdZEYi3XRNp",
        "outputId": "24a499b4-d4ce-4966-cbf6-d8b58991c77d"
      },
      "execution_count": 116,
      "outputs": [
        {
          "output_type": "execute_result",
          "data": {
            "text/plain": [
              "list"
            ]
          },
          "metadata": {},
          "execution_count": 116
        }
      ]
    },
    {
      "cell_type": "markdown",
      "source": [
        "## Listeler(Lists) Nedir ?\n",
        "\n",
        "Python'da listeler (lists), birden fazla öğeyi tek bir değişken içinde saklamamıza olanak tanıyan veri yapılarıdır.\n",
        "\n",
        "Python’da en sık kullanılan veri yapılarından biridir.\n"
      ],
      "metadata": {
        "id": "rjyFjem_Xgbt"
      }
    },
    {
      "cell_type": "code",
      "source": [
        "# Atama ile tanımlama yapalım\n",
        "\n",
        "myString =\"hello python\""
      ],
      "metadata": {
        "id": "fSD7Rl8-X0vy"
      },
      "execution_count": 117,
      "outputs": []
    },
    {
      "cell_type": "code",
      "source": [
        "# Kontrol edelim\n",
        "\n",
        "myString"
      ],
      "metadata": {
        "id": "4VHj0BjPX03R",
        "colab": {
          "base_uri": "https://localhost:8080/",
          "height": 36
        },
        "outputId": "08fc0b49-9728-4269-cc66-a8f46cf9f94e"
      },
      "execution_count": 118,
      "outputs": [
        {
          "output_type": "execute_result",
          "data": {
            "text/plain": [
              "'hello python'"
            ],
            "application/vnd.google.colaboratory.intrinsic+json": {
              "type": "string"
            }
          },
          "metadata": {},
          "execution_count": 118
        }
      ]
    },
    {
      "cell_type": "code",
      "source": [
        "# Tip kontrolü:\n",
        "\n",
        "type(myString)"
      ],
      "metadata": {
        "colab": {
          "base_uri": "https://localhost:8080/"
        },
        "id": "29va91GF8N4T",
        "outputId": "6d5ed58c-13df-4622-ddb8-928cfdf0d612"
      },
      "execution_count": 119,
      "outputs": [
        {
          "output_type": "execute_result",
          "data": {
            "text/plain": [
              "str"
            ]
          },
          "metadata": {},
          "execution_count": 119
        }
      ]
    },
    {
      "cell_type": "code",
      "source": [
        "#İlk harfi bulma:\n",
        "\n",
        "myString[0]"
      ],
      "metadata": {
        "colab": {
          "base_uri": "https://localhost:8080/",
          "height": 36
        },
        "id": "2Ij047t27L0f",
        "outputId": "94b69e87-f978-4b5e-daf3-5aec33dbcefc"
      },
      "execution_count": 120,
      "outputs": [
        {
          "output_type": "execute_result",
          "data": {
            "text/plain": [
              "'h'"
            ],
            "application/vnd.google.colaboratory.intrinsic+json": {
              "type": "string"
            }
          },
          "metadata": {},
          "execution_count": 120
        }
      ]
    },
    {
      "cell_type": "code",
      "source": [
        "# İlk harfi değiştirme:\n",
        "\n",
        "myString[0] = \"a\""
      ],
      "metadata": {
        "colab": {
          "base_uri": "https://localhost:8080/",
          "height": 176
        },
        "id": "8eHzS-X77L3n",
        "outputId": "e9ff51c9-ca0a-4199-dc2f-c876c751717f"
      },
      "execution_count": 121,
      "outputs": [
        {
          "output_type": "error",
          "ename": "TypeError",
          "evalue": "'str' object does not support item assignment",
          "traceback": [
            "\u001b[0;31m---------------------------------------------------------------------------\u001b[0m",
            "\u001b[0;31mTypeError\u001b[0m                                 Traceback (most recent call last)",
            "\u001b[0;32m/tmp/ipython-input-121-2252940599.py\u001b[0m in \u001b[0;36m<cell line: 0>\u001b[0;34m()\u001b[0m\n\u001b[1;32m      1\u001b[0m \u001b[0;31m# İlk harfi değiştirme:\u001b[0m\u001b[0;34m\u001b[0m\u001b[0;34m\u001b[0m\u001b[0m\n\u001b[1;32m      2\u001b[0m \u001b[0;34m\u001b[0m\u001b[0m\n\u001b[0;32m----> 3\u001b[0;31m \u001b[0mmyString\u001b[0m\u001b[0;34m[\u001b[0m\u001b[0;36m0\u001b[0m\u001b[0;34m]\u001b[0m \u001b[0;34m=\u001b[0m \u001b[0;34m\"a\"\u001b[0m\u001b[0;34m\u001b[0m\u001b[0;34m\u001b[0m\u001b[0m\n\u001b[0m",
            "\u001b[0;31mTypeError\u001b[0m: 'str' object does not support item assignment"
          ]
        }
      ]
    },
    {
      "cell_type": "markdown",
      "source": [
        "Hata aldık. Sebebi; `string` veri yapısının tek bir karakter değişimine izin vermemesidir.\n",
        "\n",
        "Bu özelliğe `immutable-immbutability` yani değiştirilemezlik özelliği bulunur.\n",
        "\n",
        "myString değişkeninde kayıtlı değeri tamamen değiştirmek mümkündür fakat, karakterlerini tek tek değiştirmeye izin vermez."
      ],
      "metadata": {
        "id": "p2QDX04K7ntw"
      }
    },
    {
      "cell_type": "markdown",
      "source": [
        "**Liste Veri Yapısı:**\n",
        "\n",
        "`Liste` veri yapısı `Mutable` → değiştirilebilir yapıdadır.\n",
        "\n",
        "Bundan kaynaklı olarak liste içindeki herhangi bir değeri değiştirebiliriz.\n",
        "\n",
        "Liste içinde int, float, str gibi yapıdaki verileri tutabiliriz.\n",
        "\n",
        "**Yapı:**\n",
        "\n",
        "myList =[ ] şeklinde yazarak yapılır."
      ],
      "metadata": {
        "id": "_uu44kQm_Ihn"
      }
    },
    {
      "cell_type": "code",
      "source": [
        "#Liste oluşturalım:\n",
        "\n",
        "myList =[10,20,30]"
      ],
      "metadata": {
        "id": "_C2-eHWx_DFn"
      },
      "execution_count": 122,
      "outputs": []
    },
    {
      "cell_type": "code",
      "source": [
        "# Tip kontorlü:\n",
        "\n",
        "type(myList)"
      ],
      "metadata": {
        "colab": {
          "base_uri": "https://localhost:8080/"
        },
        "id": "zRL1krvE7L6U",
        "outputId": "c8c534ca-1965-4781-8c5e-ec0ed0eff572"
      },
      "execution_count": 123,
      "outputs": [
        {
          "output_type": "execute_result",
          "data": {
            "text/plain": [
              "list"
            ]
          },
          "metadata": {},
          "execution_count": 123
        }
      ]
    },
    {
      "cell_type": "code",
      "source": [
        "# Değişken atama:\n",
        "\n",
        "x = 10\n",
        "y = 20\n",
        "z = 30"
      ],
      "metadata": {
        "id": "rcnc_9Lv7L9H"
      },
      "execution_count": 124,
      "outputs": []
    },
    {
      "cell_type": "code",
      "source": [
        "# Değişken atama ile liste oluşturma:\n",
        "\n",
        "myList = [x, y, z]"
      ],
      "metadata": {
        "id": "4I6cARa4BO_m"
      },
      "execution_count": 125,
      "outputs": []
    },
    {
      "cell_type": "code",
      "source": [
        "# Kontrol:\n",
        "\n",
        "myList"
      ],
      "metadata": {
        "colab": {
          "base_uri": "https://localhost:8080/"
        },
        "id": "CsSkTwOlBPDx",
        "outputId": "b8472284-4475-44b9-affa-e07b868fd7fd"
      },
      "execution_count": 126,
      "outputs": [
        {
          "output_type": "execute_result",
          "data": {
            "text/plain": [
              "[10, 20, 30]"
            ]
          },
          "metadata": {},
          "execution_count": 126
        }
      ]
    },
    {
      "cell_type": "markdown",
      "source": [
        "**Kullanım Örneği:**\n",
        "\n",
        "Herhangi bir veri tabanından yada internet sitesinden bir veri çektiğimizi düşünelim.\n",
        "\n",
        "- 1000 şehir için hava durumu verisi çekiyoruz.\n",
        "\n",
        "Burada her şehir için ayrı ayrı sehir1, sehir2, sehir3 gibi değişkenler oluşturmak verimsiz olur. Ayrıca veri çekeceğimiz zamanda herhangi bir eksik veri veya eklenen veri olabilir. 1000 adetten az veya fazla olması durumunda da değişken oluşturmak anlamlı değildir.\n",
        "\n",
        "Bunun yerine bir liste kullanarak tüm verileri tek bir yapı içinde tutarız. Indexleme mantığı ile de listeden herhangi bir şehir bilgisini çekebilir veya değişiklik yapabiliriz."
      ],
      "metadata": {
        "id": "D0uiuR4DBwN6"
      }
    },
    {
      "cell_type": "code",
      "source": [
        "# Örnek liste oluşturalım\n",
        "\n",
        "hava_durumu_listesi = [\n",
        "    {\"sehir\": \"İstanbul\", \"sicaklik\": 28, \"durum\": \"Güneşli\"},\n",
        "    {\"sehir\": \"Ankara\", \"sicaklik\": 24, \"durum\": \"Parçalı Bulutlu\"},\n",
        "    {\"sehir\": \"İzmir\", \"sicaklik\": 30, \"durum\": \"Güneşli\"},\n",
        "    # ... 997 şehir daha\n",
        "]\n"
      ],
      "metadata": {
        "id": "QYkbvjpnBPGg"
      },
      "execution_count": 127,
      "outputs": []
    },
    {
      "cell_type": "code",
      "source": [
        "# Indexleme ile Veri Erişimi\n",
        "# İlk şehrin verisini çekmek:\n",
        "\n",
        "hava_durumu_listesi[0]\n"
      ],
      "metadata": {
        "colab": {
          "base_uri": "https://localhost:8080/"
        },
        "id": "An2pOPeSBlOa",
        "outputId": "afc45e38-ca41-4dd6-84a9-da08b81031d8"
      },
      "execution_count": 128,
      "outputs": [
        {
          "output_type": "execute_result",
          "data": {
            "text/plain": [
              "{'sehir': 'İstanbul', 'sicaklik': 28, 'durum': 'Güneşli'}"
            ]
          },
          "metadata": {},
          "execution_count": 128
        }
      ]
    },
    {
      "cell_type": "code",
      "source": [
        "# Sadece sıcaklık bilgisi için:\n",
        "\n",
        "hava_durumu_listesi[0][\"sicaklik\"]"
      ],
      "metadata": {
        "colab": {
          "base_uri": "https://localhost:8080/"
        },
        "id": "2sNuFJNqBlTU",
        "outputId": "68bd9a07-e200-4892-c649-9e7d95f19b75"
      },
      "execution_count": 129,
      "outputs": [
        {
          "output_type": "execute_result",
          "data": {
            "text/plain": [
              "28"
            ]
          },
          "metadata": {},
          "execution_count": 129
        }
      ]
    },
    {
      "cell_type": "markdown",
      "source": [
        "**💡 Neden Liste Kullanılır?**\n",
        "\n",
        "| Özellik              | Açıklama                                                   |\n",
        "| -------------------- | ---------------------------------------------------------- |\n",
        "| **Dinamik yapı**     | 1000 şehir gibi çok sayıda veri kolayca saklanabilir.      |\n",
        "| **Index ile erişim** | `hava_durumu_listesi[5]` gibi ifadelerle veriye ulaşılır.  |\n",
        "| **Döngü ile işlem**  | `for` döngüsü ile tüm şehirler üzerinde işlem yapılabilir. |\n",
        "| **Bellek yönetimi**  | Tek bir değişkenle tüm veriler organize edilir.            |\n",
        "\n"
      ],
      "metadata": {
        "id": "T-oaa_CgEB7Y"
      }
    },
    {
      "cell_type": "markdown",
      "source": [
        "**📌 SONUÇ:**\n",
        "\n",
        "✔ Her şehir için ayrı ayrı değişken tanımlamak yerine liste yapısını kullanmak:\n",
        "\n",
        "- Kod tekrarını azaltır\n",
        "\n",
        "- Veri yönetimini kolaylaştırır\n",
        "\n",
        "- Geliştirilebilir ve okunabilir bir yapı sunar"
      ],
      "metadata": {
        "id": "gbACzx56EKSl"
      }
    },
    {
      "cell_type": "code",
      "source": [
        "# Başka bir liste tanımlayalım:\n",
        "\n",
        "myList = [10,20,30,40,50,60,70]"
      ],
      "metadata": {
        "id": "Boemu68JBlVu"
      },
      "execution_count": 130,
      "outputs": []
    },
    {
      "cell_type": "code",
      "source": [
        "# İlk elemana erişmek:\n",
        "\n",
        "myList[0]"
      ],
      "metadata": {
        "colab": {
          "base_uri": "https://localhost:8080/"
        },
        "id": "y9cjiduDBlYW",
        "outputId": "ca8c6331-dc8d-4d07-98ed-4feb8f11c5a2"
      },
      "execution_count": 131,
      "outputs": [
        {
          "output_type": "execute_result",
          "data": {
            "text/plain": [
              "10"
            ]
          },
          "metadata": {},
          "execution_count": 131
        }
      ]
    },
    {
      "cell_type": "code",
      "source": [
        "# Tip kontrolü:\n",
        "\n",
        "type(myList)"
      ],
      "metadata": {
        "colab": {
          "base_uri": "https://localhost:8080/"
        },
        "id": "-k68dsY_BPJP",
        "outputId": "6a578b90-51aa-46b7-cb09-23cccebf51e1"
      },
      "execution_count": 132,
      "outputs": [
        {
          "output_type": "execute_result",
          "data": {
            "text/plain": [
              "list"
            ]
          },
          "metadata": {},
          "execution_count": 132
        }
      ]
    },
    {
      "cell_type": "code",
      "source": [
        "# İlk elemanın tip kontrolü:\n",
        "\n",
        "type(myList[0])"
      ],
      "metadata": {
        "colab": {
          "base_uri": "https://localhost:8080/"
        },
        "id": "-d4SybI_EnuM",
        "outputId": "ca299fa3-1ac6-4063-d603-0f5e9e58d769"
      },
      "execution_count": 133,
      "outputs": [
        {
          "output_type": "execute_result",
          "data": {
            "text/plain": [
              "int"
            ]
          },
          "metadata": {},
          "execution_count": 133
        }
      ]
    },
    {
      "cell_type": "markdown",
      "source": [
        "Görüldüğü gibi, liste veri yapısı içinde farklı veri türlerini saklayabildiğimiz için 10 değeri int değeri olarak gelmiştir."
      ],
      "metadata": {
        "id": "cvVavamwEsw4"
      }
    },
    {
      "cell_type": "code",
      "source": [
        "myList"
      ],
      "metadata": {
        "colab": {
          "base_uri": "https://localhost:8080/"
        },
        "id": "ZyEH8_sxFDnf",
        "outputId": "4a26694c-5737-49d1-b4e3-950d36d99937"
      },
      "execution_count": 134,
      "outputs": [
        {
          "output_type": "execute_result",
          "data": {
            "text/plain": [
              "[10, 20, 30, 40, 50, 60, 70]"
            ]
          },
          "metadata": {},
          "execution_count": 134
        }
      ]
    },
    {
      "cell_type": "code",
      "source": [
        "# Listedeki herhangi bir elemanı değiştirme:\n",
        "\n",
        "myList[0] = 500\n",
        "\n",
        "myList"
      ],
      "metadata": {
        "colab": {
          "base_uri": "https://localhost:8080/"
        },
        "id": "Lxm6Y3-mE7wF",
        "outputId": "fda43139-9532-413f-fe00-fea94da6f0ae"
      },
      "execution_count": 135,
      "outputs": [
        {
          "output_type": "execute_result",
          "data": {
            "text/plain": [
              "[500, 20, 30, 40, 50, 60, 70]"
            ]
          },
          "metadata": {},
          "execution_count": 135
        }
      ]
    },
    {
      "cell_type": "markdown",
      "source": [
        "Görüldüğü gibi mutable, mutability yani değiştirilebilir özelliğinden dolayı listedeki ilk elemanı `10 -> 500` olarak kolayca değiştirebiliriz."
      ],
      "metadata": {
        "id": "7DdQUSYsFPUn"
      }
    },
    {
      "cell_type": "markdown",
      "source": [
        "**len() metodu:**\n",
        "\n",
        "Stringlerde görüğümüz kaç karakter uzunluğunda olduğunu hesaplayabildiğimiz len metodu ile, listelerde kaç eleman olduğunu aynı şekilde bulabiliriz."
      ],
      "metadata": {
        "id": "BjisyGnEFpwL"
      }
    },
    {
      "cell_type": "code",
      "source": [
        "# Listede kaç eleman var ?\n",
        "\n",
        "len(myList)"
      ],
      "metadata": {
        "colab": {
          "base_uri": "https://localhost:8080/"
        },
        "id": "N-yqzdo8FpL-",
        "outputId": "61e9700a-97cf-4f34-c8e2-6872383499a2"
      },
      "execution_count": 136,
      "outputs": [
        {
          "output_type": "execute_result",
          "data": {
            "text/plain": [
              "7"
            ]
          },
          "metadata": {},
          "execution_count": 136
        }
      ]
    },
    {
      "cell_type": "code",
      "source": [
        "# Listedeki son elemanı almak için:\n",
        "\n",
        "myList[len(myList) - 1]"
      ],
      "metadata": {
        "colab": {
          "base_uri": "https://localhost:8080/"
        },
        "id": "4Qopaxt3E70J",
        "outputId": "4985f47d-1ced-4177-944d-28c9c56b1c82"
      },
      "execution_count": 137,
      "outputs": [
        {
          "output_type": "execute_result",
          "data": {
            "text/plain": [
              "70"
            ]
          },
          "metadata": {},
          "execution_count": 137
        }
      ]
    },
    {
      "cell_type": "code",
      "source": [
        "# Negatif indexleme ile son elemanı almak için:\n",
        "\n",
        "myList[-1]"
      ],
      "metadata": {
        "colab": {
          "base_uri": "https://localhost:8080/"
        },
        "id": "CPJb52g0E73b",
        "outputId": "4b5d2c4f-35c9-4335-b99c-b02c29d1659a"
      },
      "execution_count": 138,
      "outputs": [
        {
          "output_type": "execute_result",
          "data": {
            "text/plain": [
              "70"
            ]
          },
          "metadata": {},
          "execution_count": 138
        }
      ]
    },
    {
      "cell_type": "code",
      "source": [
        "# Negatif indexleme ile sondan bir önceki elemanı almak için:\n",
        "\n",
        "myList[-2]"
      ],
      "metadata": {
        "colab": {
          "base_uri": "https://localhost:8080/"
        },
        "id": "beOmfoBuGU-j",
        "outputId": "62f09c5e-9a28-4ee2-bba6-dee91d903128"
      },
      "execution_count": 139,
      "outputs": [
        {
          "output_type": "execute_result",
          "data": {
            "text/plain": [
              "60"
            ]
          },
          "metadata": {},
          "execution_count": 139
        }
      ]
    },
    {
      "cell_type": "markdown",
      "source": [
        "## Liste Özellikleri & Metodlar"
      ],
      "metadata": {
        "id": "M50HgtNhX10p"
      }
    },
    {
      "cell_type": "markdown",
      "source": [
        "Listelerde liste ismi nokta tab yapıldığında uygulanacak metodlara yine erişebiliriz.\n",
        "\n",
        "`myList.tab` şeklinde uygulanır."
      ],
      "metadata": {
        "id": "ubKbYf4mE5CT"
      }
    },
    {
      "cell_type": "markdown",
      "source": [
        "**Liste metodları:**\n",
        "\n",
        "**`1. append()`**\n",
        "- Listenin sonuna bir eleman ekler."
      ],
      "metadata": {
        "id": "CabDvyd6H3Ti"
      }
    },
    {
      "cell_type": "code",
      "source": [
        "myList.append(80)"
      ],
      "metadata": {
        "id": "GQSTqM6OX4up"
      },
      "execution_count": 140,
      "outputs": []
    },
    {
      "cell_type": "code",
      "source": [
        "myList"
      ],
      "metadata": {
        "id": "9OyYaYUhX403",
        "colab": {
          "base_uri": "https://localhost:8080/"
        },
        "outputId": "386bf11c-7ffc-4adf-c343-b6e898a78365"
      },
      "execution_count": 141,
      "outputs": [
        {
          "output_type": "execute_result",
          "data": {
            "text/plain": [
              "[500, 20, 30, 40, 50, 60, 70, 80]"
            ]
          },
          "metadata": {},
          "execution_count": 141
        }
      ]
    },
    {
      "cell_type": "markdown",
      "source": [
        "**`2. count(x)`**\n",
        "\n",
        "- Belirtilen değerin listede kaç kez geçtiğini verir."
      ],
      "metadata": {
        "id": "C-j836q0IcVW"
      }
    },
    {
      "cell_type": "code",
      "source": [
        "# Listede kaç tane 20 değeri var ?\n",
        "\n",
        "myList.count(20)"
      ],
      "metadata": {
        "id": "Nuewj6F5X438",
        "colab": {
          "base_uri": "https://localhost:8080/"
        },
        "outputId": "59dcca6a-a42a-47bf-ff00-4e96a68e611b"
      },
      "execution_count": 142,
      "outputs": [
        {
          "output_type": "execute_result",
          "data": {
            "text/plain": [
              "1"
            ]
          },
          "metadata": {},
          "execution_count": 142
        }
      ]
    },
    {
      "cell_type": "code",
      "source": [
        "# Listede kaç tane 25 değeri var ?\n",
        "\n",
        "myList.count(25)"
      ],
      "metadata": {
        "id": "Nj0KnabbX47G",
        "colab": {
          "base_uri": "https://localhost:8080/"
        },
        "outputId": "45f0f94d-5f32-4bb2-84a0-426efcd0acb1"
      },
      "execution_count": 143,
      "outputs": [
        {
          "output_type": "execute_result",
          "data": {
            "text/plain": [
              "0"
            ]
          },
          "metadata": {},
          "execution_count": 143
        }
      ]
    },
    {
      "cell_type": "markdown",
      "source": [
        "**`3. index(x)`**\n",
        "\n",
        "- Belirtilen değerin listede ilk geçtiği index’i verir.\n",
        "- Belirtilen değer birden fazla geçiyorsa ilk index değerini getirir.\n",
        "-  Eğer değer listede yoksa `ValueError ` hatası verir."
      ],
      "metadata": {
        "id": "9aMhjFSkI3W_"
      }
    },
    {
      "cell_type": "code",
      "source": [
        "# 40 değeri listede kaçıncı indexte geçer ?\n",
        "\n",
        "myList.index(40)"
      ],
      "metadata": {
        "id": "Gnk_BCo_X5Bj",
        "colab": {
          "base_uri": "https://localhost:8080/"
        },
        "outputId": "2133468d-ad6a-4e57-8fc5-dc2401c721c5"
      },
      "execution_count": 144,
      "outputs": [
        {
          "output_type": "execute_result",
          "data": {
            "text/plain": [
              "3"
            ]
          },
          "metadata": {},
          "execution_count": 144
        }
      ]
    },
    {
      "cell_type": "code",
      "source": [
        "# 25 değeri listede kaçıncı indexte geçer ?\n",
        "\n",
        "myList.index(25)"
      ],
      "metadata": {
        "colab": {
          "base_uri": "https://localhost:8080/",
          "height": 176
        },
        "id": "6EfdJYnyJX6d",
        "outputId": "bf579376-df0e-40a4-e45a-fbb6492fd79d"
      },
      "execution_count": 145,
      "outputs": [
        {
          "output_type": "error",
          "ename": "ValueError",
          "evalue": "25 is not in list",
          "traceback": [
            "\u001b[0;31m---------------------------------------------------------------------------\u001b[0m",
            "\u001b[0;31mValueError\u001b[0m                                Traceback (most recent call last)",
            "\u001b[0;32m/tmp/ipython-input-145-3896858137.py\u001b[0m in \u001b[0;36m<cell line: 0>\u001b[0;34m()\u001b[0m\n\u001b[1;32m      1\u001b[0m \u001b[0;31m# 25 değeri listede kaçıncı indexte geçer ?\u001b[0m\u001b[0;34m\u001b[0m\u001b[0;34m\u001b[0m\u001b[0m\n\u001b[1;32m      2\u001b[0m \u001b[0;34m\u001b[0m\u001b[0m\n\u001b[0;32m----> 3\u001b[0;31m \u001b[0mmyList\u001b[0m\u001b[0;34m.\u001b[0m\u001b[0mindex\u001b[0m\u001b[0;34m(\u001b[0m\u001b[0;36m25\u001b[0m\u001b[0;34m)\u001b[0m\u001b[0;34m\u001b[0m\u001b[0;34m\u001b[0m\u001b[0m\n\u001b[0m",
            "\u001b[0;31mValueError\u001b[0m: 25 is not in list"
          ]
        }
      ]
    },
    {
      "cell_type": "markdown",
      "source": [
        "Değer listede olmadığı için `ValueError`: 25 is not in list hatasını verdi."
      ],
      "metadata": {
        "id": "V5qffS5JJfdb"
      }
    },
    {
      "cell_type": "markdown",
      "source": [
        "**`4. insert(index, x)`**\n",
        "\n",
        "- Belirtilen index’e eleman ekler. Diğer elemanlar kayar."
      ],
      "metadata": {
        "id": "TbmJJnr9JpfB"
      }
    },
    {
      "cell_type": "code",
      "source": [
        "# help ile açıklamasına bakalım.\n",
        "\n",
        "help(myList.insert)"
      ],
      "metadata": {
        "colab": {
          "base_uri": "https://localhost:8080/"
        },
        "id": "qozieNCTJu4c",
        "outputId": "4e2d1a7b-f2d7-4661-d939-a63129db49e1"
      },
      "execution_count": 146,
      "outputs": [
        {
          "output_type": "stream",
          "name": "stdout",
          "text": [
            "Help on built-in function insert:\n",
            "\n",
            "insert(index, object, /) method of builtins.list instance\n",
            "    Insert object before index.\n",
            "\n"
          ]
        }
      ]
    },
    {
      "cell_type": "markdown",
      "source": [
        "**Dikkat:**\n",
        "\n",
        "Açıklamasından da anlaşıldığı gibi, append ile farklıdır.\n",
        "\n",
        "- Append ile yeni değer eklediğimizde listenin sonuna ekleme yapar.\n",
        "\n",
        "- Insert ile eklediğimizde ise hangi indexe ekleme yapacağımızı belirtebiliriz. Diğer elemanlar ise bir sonraki index değerine kayar."
      ],
      "metadata": {
        "id": "WcreDifoKInK"
      }
    },
    {
      "cell_type": "code",
      "source": [
        "# Orijinal liste:\n",
        "# 2. index değerinde 30 elemanı var.\n",
        "\n",
        "myList"
      ],
      "metadata": {
        "colab": {
          "base_uri": "https://localhost:8080/"
        },
        "id": "-mbo97AdKxv3",
        "outputId": "2acf7720-759a-406f-ac5c-16b65ac839c3"
      },
      "execution_count": 147,
      "outputs": [
        {
          "output_type": "execute_result",
          "data": {
            "text/plain": [
              "[500, 20, 30, 40, 50, 60, 70, 80]"
            ]
          },
          "metadata": {},
          "execution_count": 147
        }
      ]
    },
    {
      "cell_type": "code",
      "source": [
        "# 2. indexe 100 değerini ekleyelim:\n",
        "\n",
        "myList.insert(2,100)"
      ],
      "metadata": {
        "id": "427XMAmBKGs0"
      },
      "execution_count": 148,
      "outputs": []
    },
    {
      "cell_type": "code",
      "source": [
        "# Yeni liste değeri:\n",
        "# 2. index değerinde 100 elemanı var, 30 elemanı 3. indexte yer alıyor.\n",
        "\n",
        "myList"
      ],
      "metadata": {
        "colab": {
          "base_uri": "https://localhost:8080/"
        },
        "id": "tN8-jkYXJ_Bl",
        "outputId": "e46ea7e0-e4c4-40cb-e32d-b37737e0ce76"
      },
      "execution_count": 149,
      "outputs": [
        {
          "output_type": "execute_result",
          "data": {
            "text/plain": [
              "[500, 20, 100, 30, 40, 50, 60, 70, 80]"
            ]
          },
          "metadata": {},
          "execution_count": 149
        }
      ]
    },
    {
      "cell_type": "markdown",
      "source": [
        "**`5. pop(index=-1)`**\n",
        "\n",
        "- Belirtilen index’teki elemanı listeden çıkarır ve döner.\n",
        "\n",
        "- Parametre verilmezse son elemanı çıkarır."
      ],
      "metadata": {
        "id": "zFTUP4vaoM3x"
      }
    },
    {
      "cell_type": "code",
      "source": [
        "# Orijinal liste:\n",
        "# Son değerde 80 elemanı var.\n",
        "\n",
        "myList"
      ],
      "metadata": {
        "colab": {
          "base_uri": "https://localhost:8080/"
        },
        "id": "yN8BlaacoXuV",
        "outputId": "b227d4c4-b7d5-4f65-f858-44ad150ed36d"
      },
      "execution_count": 150,
      "outputs": [
        {
          "output_type": "execute_result",
          "data": {
            "text/plain": [
              "[500, 20, 100, 30, 40, 50, 60, 70, 80]"
            ]
          },
          "metadata": {},
          "execution_count": 150
        }
      ]
    },
    {
      "cell_type": "code",
      "source": [
        "# Parametre verilmezse:\n",
        "\n",
        "myList.pop()"
      ],
      "metadata": {
        "colab": {
          "base_uri": "https://localhost:8080/"
        },
        "id": "w60aiP4Bp4cx",
        "outputId": "2bef571a-ab05-40e0-e6d2-2074c66ab379"
      },
      "execution_count": 151,
      "outputs": [
        {
          "output_type": "execute_result",
          "data": {
            "text/plain": [
              "80"
            ]
          },
          "metadata": {},
          "execution_count": 151
        }
      ]
    },
    {
      "cell_type": "code",
      "source": [
        "# Yeni liste:\n",
        "# Son değer 80 çıkarıldı.\n",
        "\n",
        "myList"
      ],
      "metadata": {
        "colab": {
          "base_uri": "https://localhost:8080/"
        },
        "id": "oYokM4h9qCuH",
        "outputId": "b29a84bd-15af-41c7-cbe9-078b2cb165a2"
      },
      "execution_count": 152,
      "outputs": [
        {
          "output_type": "execute_result",
          "data": {
            "text/plain": [
              "[500, 20, 100, 30, 40, 50, 60, 70]"
            ]
          },
          "metadata": {},
          "execution_count": 152
        }
      ]
    },
    {
      "cell_type": "code",
      "source": [
        "# Parametre verilirse:\n",
        "\n",
        "myList.pop(0)"
      ],
      "metadata": {
        "colab": {
          "base_uri": "https://localhost:8080/"
        },
        "id": "7uPGEIzZqNPv",
        "outputId": "f22dfadc-90b2-4b85-e090-fa0a838514e4"
      },
      "execution_count": 153,
      "outputs": [
        {
          "output_type": "execute_result",
          "data": {
            "text/plain": [
              "500"
            ]
          },
          "metadata": {},
          "execution_count": 153
        }
      ]
    },
    {
      "cell_type": "code",
      "source": [
        "# Yeni liste:\n",
        "# İlk değer 500 çıkarıldı.\n",
        "\n",
        "myList"
      ],
      "metadata": {
        "colab": {
          "base_uri": "https://localhost:8080/"
        },
        "id": "HrV4mPTsqVis",
        "outputId": "7bdcd0d9-d9dd-46ee-f7e4-2ee7a1e4bd65"
      },
      "execution_count": 154,
      "outputs": [
        {
          "output_type": "execute_result",
          "data": {
            "text/plain": [
              "[20, 100, 30, 40, 50, 60, 70]"
            ]
          },
          "metadata": {},
          "execution_count": 154
        }
      ]
    },
    {
      "cell_type": "markdown",
      "source": [
        "**`6. remove(x)`**\n",
        "\n",
        "- İlk bulduğu eşleşen elemanı listeden siler."
      ],
      "metadata": {
        "id": "lVrBmC3fqYiK"
      }
    },
    {
      "cell_type": "code",
      "source": [
        "# 40 elemanını çıkar:\n",
        "\n",
        "myList.remove(40)"
      ],
      "metadata": {
        "id": "FRjkp1WKqibK"
      },
      "execution_count": 155,
      "outputs": []
    },
    {
      "cell_type": "code",
      "source": [
        "myList"
      ],
      "metadata": {
        "colab": {
          "base_uri": "https://localhost:8080/"
        },
        "id": "UioT6kaRqnS-",
        "outputId": "4405df82-9196-475b-adf7-4ef7f8bccc5f"
      },
      "execution_count": 156,
      "outputs": [
        {
          "output_type": "execute_result",
          "data": {
            "text/plain": [
              "[20, 100, 30, 50, 60, 70]"
            ]
          },
          "metadata": {},
          "execution_count": 156
        }
      ]
    },
    {
      "cell_type": "markdown",
      "source": [
        "**Pop ile remove farkı:**\n",
        "\n",
        "- remove elemanın değerine göre çıkarma yapmasıdır.\n",
        "\n",
        "- pop index değerine göre çıkarır.\n",
        "\n",
        "- Listede birden fazla aynı değer varsa, ilk bulduğu elemanı listeden kaldırır, çıkarır.\n"
      ],
      "metadata": {
        "id": "UrU6hR-JquyT"
      }
    },
    {
      "cell_type": "markdown",
      "source": [
        "**`7. reverse()`**\n",
        "\n",
        "- Listeyi olduğu gibi ters çevirir. (İn-place)"
      ],
      "metadata": {
        "id": "SJ7K_ePsrM8Q"
      }
    },
    {
      "cell_type": "code",
      "source": [
        "# Orijinal liste:\n",
        "\n",
        "myList"
      ],
      "metadata": {
        "colab": {
          "base_uri": "https://localhost:8080/"
        },
        "id": "_DP7hQHvqshj",
        "outputId": "300170bc-8349-4221-c252-75c87b73ff68"
      },
      "execution_count": 157,
      "outputs": [
        {
          "output_type": "execute_result",
          "data": {
            "text/plain": [
              "[20, 100, 30, 50, 60, 70]"
            ]
          },
          "metadata": {},
          "execution_count": 157
        }
      ]
    },
    {
      "cell_type": "code",
      "source": [
        "# Tersine çevirme:\n",
        "\n",
        "myList.reverse()"
      ],
      "metadata": {
        "id": "LvKraySlrVa5"
      },
      "execution_count": 158,
      "outputs": []
    },
    {
      "cell_type": "code",
      "source": [
        "# Yeni liste:\n",
        "\n",
        "myList"
      ],
      "metadata": {
        "colab": {
          "base_uri": "https://localhost:8080/"
        },
        "id": "BX5tzQjQrdtG",
        "outputId": "c13e5ba0-b578-4873-bf04-e4338f9f7f12"
      },
      "execution_count": 159,
      "outputs": [
        {
          "output_type": "execute_result",
          "data": {
            "text/plain": [
              "[70, 60, 50, 30, 100, 20]"
            ]
          },
          "metadata": {},
          "execution_count": 159
        }
      ]
    },
    {
      "cell_type": "markdown",
      "source": [
        "**`8. sort()`**\n",
        "\n",
        "- sort() metodu Python'da listeleri sıralamak için kullanılır.\n",
        "\n",
        "- Bu metod listeyi yerinde (in-place) sıralar, yani orijinal listeyi değiştirir ve None döner."
      ],
      "metadata": {
        "id": "t3x_NZo4rgcL"
      }
    },
    {
      "cell_type": "code",
      "source": [
        "myList.sort()"
      ],
      "metadata": {
        "id": "9EK9dsWEsTz7"
      },
      "execution_count": 160,
      "outputs": []
    },
    {
      "cell_type": "code",
      "source": [
        "myList"
      ],
      "metadata": {
        "colab": {
          "base_uri": "https://localhost:8080/"
        },
        "id": "hsoQU8YPsXgb",
        "outputId": "960a7f50-ff79-41c2-9d39-32ba05d5b857"
      },
      "execution_count": 161,
      "outputs": [
        {
          "output_type": "execute_result",
          "data": {
            "text/plain": [
              "[20, 30, 50, 60, 70, 100]"
            ]
          },
          "metadata": {},
          "execution_count": 161
        }
      ]
    },
    {
      "cell_type": "markdown",
      "source": [
        "🔸 Varsayılan olarak:\n",
        "\n",
        "- Sayılarda küçükten büyüğe sıralar.\n",
        "\n",
        "- Metinlerde alfabetik sıraya göre sıralar (ASCII/Unicode değerlerine göre)."
      ],
      "metadata": {
        "id": "Q4z3G8ZAsfih"
      }
    },
    {
      "cell_type": "code",
      "source": [
        "#Alfabetik Sıralama:\n",
        "\n",
        "fruits = ['banana', 'apple', 'cherry']\n",
        "\n",
        "fruits.sort()\n",
        "\n",
        "fruits"
      ],
      "metadata": {
        "colab": {
          "base_uri": "https://localhost:8080/"
        },
        "id": "WfPTgFHesnJl",
        "outputId": "2e4d2b18-5209-4b79-d924-76242d584df1"
      },
      "execution_count": 162,
      "outputs": [
        {
          "output_type": "execute_result",
          "data": {
            "text/plain": [
              "['apple', 'banana', 'cherry']"
            ]
          },
          "metadata": {},
          "execution_count": 162
        }
      ]
    },
    {
      "cell_type": "code",
      "source": [
        "# Kullanımına help ile bakalım:\n",
        "\n",
        "help(myList.sort)"
      ],
      "metadata": {
        "colab": {
          "base_uri": "https://localhost:8080/"
        },
        "id": "lZrblwMlsz08",
        "outputId": "7082dacc-dd37-44ba-c7cf-b090185b6f9e"
      },
      "execution_count": 163,
      "outputs": [
        {
          "output_type": "stream",
          "name": "stdout",
          "text": [
            "Help on built-in function sort:\n",
            "\n",
            "sort(*, key=None, reverse=False) method of builtins.list instance\n",
            "    Sort the list in ascending order and return None.\n",
            "    \n",
            "    The sort is in-place (i.e. the list itself is modified) and stable (i.e. the\n",
            "    order of two equal elements is maintained).\n",
            "    \n",
            "    If a key function is given, apply it once to each list item and sort them,\n",
            "    ascending or descending, according to their function values.\n",
            "    \n",
            "    The reverse flag can be set to sort in descending order.\n",
            "\n"
          ]
        }
      ]
    },
    {
      "cell_type": "code",
      "source": [
        "# reverse=True yapılırsa Tersten Sıralama yapılır:\n",
        "\n",
        "myList.sort(reverse=True)\n",
        "\n",
        "myList"
      ],
      "metadata": {
        "colab": {
          "base_uri": "https://localhost:8080/"
        },
        "id": "D4JVZAvytHfF",
        "outputId": "673dd560-5ef2-478c-9856-ff2a3007ce55"
      },
      "execution_count": 165,
      "outputs": [
        {
          "output_type": "execute_result",
          "data": {
            "text/plain": [
              "[100, 70, 60, 50, 30, 20]"
            ]
          },
          "metadata": {},
          "execution_count": 165
        }
      ]
    },
    {
      "cell_type": "code",
      "source": [
        "# key Parametresi ile Özel Sıralama:\n",
        "# Uzunluğa Göre Sıralama\n",
        "\n",
        "fruits = ['banana', 'apple', 'kiwi', 'cherry']\n",
        "fruits.sort(key=len)\n",
        "\n",
        "fruits\n"
      ],
      "metadata": {
        "colab": {
          "base_uri": "https://localhost:8080/"
        },
        "id": "SmaeSsMltbIv",
        "outputId": "24ad1540-0bf9-47b8-8b8f-e5d3b6ddce3d"
      },
      "execution_count": 166,
      "outputs": [
        {
          "output_type": "execute_result",
          "data": {
            "text/plain": [
              "['kiwi', 'apple', 'banana', 'cherry']"
            ]
          },
          "metadata": {},
          "execution_count": 166
        }
      ]
    },
    {
      "cell_type": "markdown",
      "source": [
        "**` 9. copy()`**\n",
        "\n",
        "- Listenin birebir kopyasını oluşturur (shallow copy)."
      ],
      "metadata": {
        "id": "gwnO6RyatxZO"
      }
    },
    {
      "cell_type": "code",
      "source": [
        "# Orjinal liste:\n",
        "\n",
        "fruits"
      ],
      "metadata": {
        "colab": {
          "base_uri": "https://localhost:8080/"
        },
        "id": "jz2ziRT7t7cG",
        "outputId": "201d94d0-23b6-43e7-e6d5-bef23619f0b3"
      },
      "execution_count": 168,
      "outputs": [
        {
          "output_type": "execute_result",
          "data": {
            "text/plain": [
              "['kiwi', 'apple', 'banana', 'cherry']"
            ]
          },
          "metadata": {},
          "execution_count": 168
        }
      ]
    },
    {
      "cell_type": "code",
      "source": [
        "# Kopyayı değişkene atayalım\n",
        "\n",
        "fruits_copy = fruits.copy()"
      ],
      "metadata": {
        "id": "seyBZVu0uC-e"
      },
      "execution_count": 169,
      "outputs": []
    },
    {
      "cell_type": "code",
      "source": [
        "# Kopyalanan değişkenş çalıştıralım\n",
        "\n",
        "fruits_copy"
      ],
      "metadata": {
        "colab": {
          "base_uri": "https://localhost:8080/"
        },
        "id": "iP2zJQXMuKKp",
        "outputId": "f9a66177-c3d0-42ac-e877-2b0543967f3e"
      },
      "execution_count": 170,
      "outputs": [
        {
          "output_type": "execute_result",
          "data": {
            "text/plain": [
              "['kiwi', 'apple', 'banana', 'cherry']"
            ]
          },
          "metadata": {},
          "execution_count": 170
        }
      ]
    },
    {
      "cell_type": "markdown",
      "source": [
        "Gördüğümüz gibi:\n",
        "\n",
        "- Bir listenin aynısından yeni bir liste oluşturur.\n",
        "\n",
        "- Yeni liste ile eski liste birbirinden bağımsız olur.\n",
        "\n",
        "**Ne Zaman Kullanılır?**\n",
        "\n",
        "- Orijinal listeyi bozmadan işlem yapmak istiyorsan,\n",
        "\n",
        "- Aynı liste üzerinde paralel işlemler yapmak istiyorsan kullanılır."
      ],
      "metadata": {
        "id": "Xm2aTsbHuPfa"
      }
    },
    {
      "cell_type": "markdown",
      "source": [
        "**`10. clear()`**\n",
        "\n",
        "- Listedeki tüm elemanları siler. Liste boş hale gelir.\n",
        "\n",
        "**Ne Zaman Kullanılır?**\n",
        "\n",
        "- Listeyi sıfırlamak istediğinde (örn. yeniden veri toplama öncesi),\n",
        "\n",
        "- Bellekteki liste yapısını koruyup sadece içeriği boşaltmak istiyorsan kullanılır."
      ],
      "metadata": {
        "id": "Ib3Xa6kkutWb"
      }
    },
    {
      "cell_type": "code",
      "source": [
        "# veriler listesini ve kontrol edelim\n",
        "\n",
        "veriler = [10, 20, 30]\n",
        "\n",
        "veriler"
      ],
      "metadata": {
        "colab": {
          "base_uri": "https://localhost:8080/"
        },
        "id": "wO6B2uX1vHLo",
        "outputId": "f92f893a-e488-4560-8dba-9f5b806300db"
      },
      "execution_count": 173,
      "outputs": [
        {
          "output_type": "execute_result",
          "data": {
            "text/plain": [
              "[10, 20, 30]"
            ]
          },
          "metadata": {},
          "execution_count": 173
        }
      ]
    },
    {
      "cell_type": "code",
      "source": [
        "# clear() metodu ile temizleyelim\n",
        "\n",
        "veriler.clear()"
      ],
      "metadata": {
        "id": "E52d4VsSvOHw"
      },
      "execution_count": 174,
      "outputs": []
    },
    {
      "cell_type": "code",
      "source": [
        "# veriler listemizi kontrol edelim\n",
        "# liste boşaltıldı mı?\n",
        "\n",
        "veriler"
      ],
      "metadata": {
        "colab": {
          "base_uri": "https://localhost:8080/"
        },
        "id": "mzSNMJ2CvbGI",
        "outputId": "76950d6b-cdcd-4596-dbb2-868ddccafc0b"
      },
      "execution_count": 175,
      "outputs": [
        {
          "output_type": "execute_result",
          "data": {
            "text/plain": [
              "[]"
            ]
          },
          "metadata": {},
          "execution_count": 175
        }
      ]
    },
    {
      "cell_type": "markdown",
      "source": [
        "**`11. extend(iterable)`**\n",
        "\n",
        "- Bir listenin sonuna başka bir iterable (liste, tuple, set, vb.) ekler."
      ],
      "metadata": {
        "id": "D7bm_anAv1uz"
      }
    },
    {
      "cell_type": "code",
      "source": [
        "# Orijinal myList listesi:\n",
        "\n",
        "myList"
      ],
      "metadata": {
        "colab": {
          "base_uri": "https://localhost:8080/"
        },
        "id": "YI0pgl5vvEy2",
        "outputId": "3fd14cc6-3f8c-4b35-c8c6-3b0d86b6d959"
      },
      "execution_count": 177,
      "outputs": [
        {
          "output_type": "execute_result",
          "data": {
            "text/plain": [
              "[100, 70, 60, 50, 30, 20]"
            ]
          },
          "metadata": {},
          "execution_count": 177
        }
      ]
    },
    {
      "cell_type": "code",
      "source": [
        "# Orijinal fruits listesi:\n",
        "\n",
        "fruits"
      ],
      "metadata": {
        "colab": {
          "base_uri": "https://localhost:8080/"
        },
        "id": "Pzbkp2rDwB7Q",
        "outputId": "c92b2e2d-20f5-4ab1-ee75-10a6651a06c2"
      },
      "execution_count": 178,
      "outputs": [
        {
          "output_type": "execute_result",
          "data": {
            "text/plain": [
              "['kiwi', 'apple', 'banana', 'cherry']"
            ]
          },
          "metadata": {},
          "execution_count": 178
        }
      ]
    },
    {
      "cell_type": "code",
      "source": [
        "# İki listeyi birbirine ekleyelim\n",
        "# myList listesine fruits ekleyelim\n",
        "\n",
        "myList.extend(fruits)"
      ],
      "metadata": {
        "id": "4CvwAPMFwFrQ"
      },
      "execution_count": 179,
      "outputs": []
    },
    {
      "cell_type": "code",
      "source": [
        "# Yeni myList listesini kontrol edelim:\n",
        "\n",
        "myList"
      ],
      "metadata": {
        "colab": {
          "base_uri": "https://localhost:8080/"
        },
        "id": "Zf2rwj_ZwVzb",
        "outputId": "585d9dc3-9581-40d7-aa0b-827593c5698b"
      },
      "execution_count": 180,
      "outputs": [
        {
          "output_type": "execute_result",
          "data": {
            "text/plain": [
              "[100, 70, 60, 50, 30, 20, 'kiwi', 'apple', 'banana', 'cherry']"
            ]
          },
          "metadata": {},
          "execution_count": 180
        }
      ]
    },
    {
      "cell_type": "markdown",
      "source": [
        "## Kullanıcıdan Bilgi İsteme\n",
        "\n",
        "Python'da kullanıcıdan bilgi istemek için **`input()`** fonksiyonu kullanılır.\n",
        "\n",
        "Bu fonksiyon, kullanıcıdan klavyeyle veri girmesini ister ve girilen değeri her zaman `string (metin)` olarak döndürür."
      ],
      "metadata": {
        "id": "hKPru3NDwlnq"
      }
    },
    {
      "cell_type": "code",
      "source": [
        "#Kullanıcıdan bilgi sayı bilgisi alma:\n",
        "#Sayı girişi olana kadar kod çalışır\n",
        "\n",
        "x = input(\"Bir sayı giriniz:\")"
      ],
      "metadata": {
        "colab": {
          "base_uri": "https://localhost:8080/"
        },
        "id": "dQy6VAM0x92Z",
        "outputId": "c833b3f2-e0a5-414f-e162-0627f2c9e43f"
      },
      "execution_count": 184,
      "outputs": [
        {
          "name": "stdout",
          "output_type": "stream",
          "text": [
            "Bir sayı giriniz:100\n"
          ]
        }
      ]
    },
    {
      "cell_type": "code",
      "source": [
        "# Girilen sayıyı kontrol etme:\n",
        "\n",
        "x"
      ],
      "metadata": {
        "colab": {
          "base_uri": "https://localhost:8080/",
          "height": 36
        },
        "id": "Mjo0GMLYyOpo",
        "outputId": "c8a6d09e-16f9-40e2-99d3-502c986c7788"
      },
      "execution_count": 185,
      "outputs": [
        {
          "output_type": "execute_result",
          "data": {
            "text/plain": [
              "'100'"
            ],
            "application/vnd.google.colaboratory.intrinsic+json": {
              "type": "string"
            }
          },
          "metadata": {},
          "execution_count": 185
        }
      ]
    },
    {
      "cell_type": "code",
      "source": [
        "# Veri tipi kontrolü:\n",
        "\n",
        "type(x)"
      ],
      "metadata": {
        "colab": {
          "base_uri": "https://localhost:8080/"
        },
        "id": "QN1y736oycWR",
        "outputId": "075b7e61-4599-4387-b5a5-dba699d3bda8"
      },
      "execution_count": 186,
      "outputs": [
        {
          "output_type": "execute_result",
          "data": {
            "text/plain": [
              "str"
            ]
          },
          "metadata": {},
          "execution_count": 186
        }
      ]
    },
    {
      "cell_type": "code",
      "source": [
        "# Başka bir girdi isteme:\n",
        "\n",
        "y = input(\"enter y: \")"
      ],
      "metadata": {
        "colab": {
          "base_uri": "https://localhost:8080/"
        },
        "id": "cuuooR7pylh3",
        "outputId": "8a37b71f-9702-4140-dea9-6216ac1df950"
      },
      "execution_count": 187,
      "outputs": [
        {
          "name": "stdout",
          "output_type": "stream",
          "text": [
            "enter y: 50\n"
          ]
        }
      ]
    },
    {
      "cell_type": "code",
      "source": [
        "# Girdi kontrolü:\n",
        "\n",
        "y"
      ],
      "metadata": {
        "colab": {
          "base_uri": "https://localhost:8080/",
          "height": 36
        },
        "id": "W9aKlzJjy3oD",
        "outputId": "6e04e20a-a088-46ab-de4f-9268c83b99d8"
      },
      "execution_count": 188,
      "outputs": [
        {
          "output_type": "execute_result",
          "data": {
            "text/plain": [
              "'50'"
            ],
            "application/vnd.google.colaboratory.intrinsic+json": {
              "type": "string"
            }
          },
          "metadata": {},
          "execution_count": 188
        }
      ]
    },
    {
      "cell_type": "markdown",
      "source": [
        "**Dikkat:**\n",
        "\n",
        "Kullanıcıdan herhangi bir bilgi almadan önce boş liste tanımlayıp, append metodu ile kullanıcıdan alınan bilgileri bu liste içine kaydedilmesini sağlayabiliriz."
      ],
      "metadata": {
        "id": "Y_zlD1KfzCbW"
      }
    },
    {
      "cell_type": "code",
      "source": [
        "# Boş liste:\n",
        "\n",
        "inputList = []"
      ],
      "metadata": {
        "id": "jCqS5tSly4kB"
      },
      "execution_count": 189,
      "outputs": []
    },
    {
      "cell_type": "code",
      "source": [
        "# Veri tipi kontrolü:\n",
        "\n",
        "type(inputList)"
      ],
      "metadata": {
        "colab": {
          "base_uri": "https://localhost:8080/"
        },
        "id": "C7iz02EhzVB5",
        "outputId": "4e03d0d1-6395-4583-9213-5e1befc51e10"
      },
      "execution_count": 190,
      "outputs": [
        {
          "output_type": "execute_result",
          "data": {
            "text/plain": [
              "list"
            ]
          },
          "metadata": {},
          "execution_count": 190
        }
      ]
    },
    {
      "cell_type": "code",
      "source": [
        "# Değer kontrolü:\n",
        "\n",
        "len(inputList)"
      ],
      "metadata": {
        "colab": {
          "base_uri": "https://localhost:8080/"
        },
        "id": "o6L3mdF1zdG1",
        "outputId": "8f275ea5-f09d-4a6f-8e1a-2318a70044ff"
      },
      "execution_count": 191,
      "outputs": [
        {
          "output_type": "execute_result",
          "data": {
            "text/plain": [
              "0"
            ]
          },
          "metadata": {},
          "execution_count": 191
        }
      ]
    },
    {
      "cell_type": "code",
      "source": [
        "# Append ile kullanıcıdan alınan bilgileri listeye kaydetme:\n",
        "\n",
        "inputList.append(x)\n",
        "inputList.append(y)"
      ],
      "metadata": {
        "id": "iUnBcNtDzgsp"
      },
      "execution_count": 192,
      "outputs": []
    },
    {
      "cell_type": "code",
      "source": [
        "# Listenin kontrolü:\n",
        "\n",
        "inputList"
      ],
      "metadata": {
        "colab": {
          "base_uri": "https://localhost:8080/"
        },
        "id": "unOUZaaCz2T1",
        "outputId": "d44c69b2-9720-4fa6-d0d8-2f44c82c72e3"
      },
      "execution_count": 194,
      "outputs": [
        {
          "output_type": "execute_result",
          "data": {
            "text/plain": [
              "['100', '50']"
            ]
          },
          "metadata": {},
          "execution_count": 194
        }
      ]
    },
    {
      "cell_type": "markdown",
      "source": [
        "**Bu ne zaman önemli?**\n",
        "\n",
        "Herhangi bir veri tabanı yada listeden veri çekebiliriz. Bu listeleri kullanıcıdan istediğimiz bilgilerle doldurabiliriz. Bu değerleri boş liste oluşturup kaydettiğimizde alınan kullanıcı değerlerini otomatik olarak kaydetmiş oluruz."
      ],
      "metadata": {
        "id": "SwwTbUqcz8ZD"
      }
    },
    {
      "cell_type": "code",
      "source": [
        "# Index İşlemi:\n",
        "\n",
        "inputList[0]"
      ],
      "metadata": {
        "colab": {
          "base_uri": "https://localhost:8080/",
          "height": 36
        },
        "id": "pvrc29gx0TLO",
        "outputId": "2c3248e8-367f-49fb-91b3-4e1912fe6efd"
      },
      "execution_count": 195,
      "outputs": [
        {
          "output_type": "execute_result",
          "data": {
            "text/plain": [
              "'100'"
            ],
            "application/vnd.google.colaboratory.intrinsic+json": {
              "type": "string"
            }
          },
          "metadata": {},
          "execution_count": 195
        }
      ]
    },
    {
      "cell_type": "code",
      "source": [
        "# Matematiksel işlem yapılır mı?\n",
        "# Toplama İşlemi\n",
        "\n",
        "inputList[0] + inputList[1]"
      ],
      "metadata": {
        "colab": {
          "base_uri": "https://localhost:8080/",
          "height": 36
        },
        "id": "Gy2RVFgP0YqC",
        "outputId": "9ffc8fc3-60aa-466a-8645-aede40212429"
      },
      "execution_count": 196,
      "outputs": [
        {
          "output_type": "execute_result",
          "data": {
            "text/plain": [
              "'10050'"
            ],
            "application/vnd.google.colaboratory.intrinsic+json": {
              "type": "string"
            }
          },
          "metadata": {},
          "execution_count": 196
        }
      ]
    },
    {
      "cell_type": "code",
      "source": [
        "# Matematiksel işlem yapılır mı?\n",
        "# Çarpma İşlemi\n",
        "\n",
        "inputList[0] * 5"
      ],
      "metadata": {
        "colab": {
          "base_uri": "https://localhost:8080/",
          "height": 36
        },
        "id": "lFljXrF40mOt",
        "outputId": "b9c6d366-4312-41cf-c4c5-0afc08d02dc2"
      },
      "execution_count": 197,
      "outputs": [
        {
          "output_type": "execute_result",
          "data": {
            "text/plain": [
              "'100100100100100'"
            ],
            "application/vnd.google.colaboratory.intrinsic+json": {
              "type": "string"
            }
          },
          "metadata": {},
          "execution_count": 197
        }
      ]
    },
    {
      "cell_type": "markdown",
      "source": [
        "- Burada matematiksel işlemlerin doğru yapılmadığını görüyoruz. Veri yapımız str yani string olduğu için yanyana getirme işlemi yapıldı. Oysa istediğimiz `inputList[0] * 5 = 500` çıktısı idi.\n",
        "\n",
        "- Örneğin hesap makinesi yaptığımızı düşünelim. Bizim kullanıcıdan aldığımız her bilgiyi matematiksel olarak işleyip doğru çıktıyı vermemiz gerekir. Buradaki gibi bir çıktı hatalıdır.\n",
        "\n",
        "- Bu hatalı çıktının sebebi; kullanıcıdan alınan her bilginin sayı, metin fark etmeksizin` str(string)` olarak kaydolmasıdır.\n",
        "\n",
        "- Herhangi bir işlem yapılmadan önce `str -> int dönüşümleri` yani veri tipi dönüştürme yapılmalıdır."
      ],
      "metadata": {
        "id": "6JU4CN7O0qld"
      }
    },
    {
      "cell_type": "markdown",
      "source": [
        "## Veri Tipi Dönüştürme(Type Conversion)\n",
        "\n",
        "Python'da veri tipi dönüştürme (type conversion), bir değişkenin veri tipini başka bir tipe bilerek veya gerektiği zaman çevirmemiz anlamına gelir.\n",
        "\n",
        "Bu işlem, programların daha esnek ve hatasız çalışması için çok önemlidir.\n",
        "\n"
      ],
      "metadata": {
        "id": "tzIltTE3X6Fd"
      }
    },
    {
      "cell_type": "markdown",
      "source": [
        "**🔹 Veri Tipi Dönüştürme Türleri**\n",
        "\n",
        "**1. ✅ Explicit Conversion (Açık Tip Dönüştürme – Sen yaparsın)**\n",
        "\n",
        "Senin int(), float(), str() gibi fonksiyonlarla yaptığın dönüşümlerdir.\n",
        "\n",
        "**2. ✅ Implicit Conversion (Kapalı / Otomatik – Python yapar)**\n",
        "\n",
        "Python’un kendi kendine yaptığı güvenli dönüşümlerdir."
      ],
      "metadata": {
        "id": "gwwhspZxDAoz"
      }
    },
    {
      "cell_type": "markdown",
      "source": [
        "**🔸 1. Açık (Explicit) Dönüştürme\n",
        "Python’da en yaygın tip dönüşüm fonksiyonları:**\n",
        "\n",
        "| Fonksiyon  | Ne yapar                                            |\n",
        "| ---------- | --------------------------------------------------- |\n",
        "| `int(x)`   | Sayıyı veya sayı içeren string'i tam sayıya çevirir |\n",
        "| `float(x)` | Sayıyı ondalıklı sayıya çevirir                     |\n",
        "| `str(x)`   | Sayı veya veri tipini string'e çevirir              |\n",
        "| `bool(x)`  | Değeri `True` veya `False` yapar                    |\n",
        "| `list(x)`  | Dönüştürülebilir objeyi liste yapar                 |\n",
        "| `tuple(x)` | Dönüştürülebilir objeyi tuple yapar                 |\n"
      ],
      "metadata": {
        "id": "MxbVVBCSDH43"
      }
    },
    {
      "cell_type": "code",
      "source": [
        "# Örnekler:\n",
        "# (string → int)\n",
        "\n",
        "x = \"123\"\n",
        "int(x)"
      ],
      "metadata": {
        "colab": {
          "base_uri": "https://localhost:8080/"
        },
        "id": "pyMzmsK3EUv_",
        "outputId": "6fd3f9ad-b0ef-43d7-8ec6-f433935f9497"
      },
      "execution_count": 203,
      "outputs": [
        {
          "output_type": "execute_result",
          "data": {
            "text/plain": [
              "123"
            ]
          },
          "metadata": {},
          "execution_count": 203
        }
      ]
    },
    {
      "cell_type": "code",
      "source": [
        "# (float → int, ondalık kısmı atar)\n",
        "\n",
        "y = 3.14\n",
        "int(y)"
      ],
      "metadata": {
        "id": "GCNn7uiRX98D",
        "colab": {
          "base_uri": "https://localhost:8080/"
        },
        "outputId": "a02e7245-ae26-4a19-8b7d-efdf88551660"
      },
      "execution_count": 205,
      "outputs": [
        {
          "output_type": "execute_result",
          "data": {
            "text/plain": [
              "3"
            ]
          },
          "metadata": {},
          "execution_count": 205
        }
      ]
    },
    {
      "cell_type": "code",
      "source": [
        "# (int → string)\n",
        "\n",
        "z = 42\n",
        "str(z)"
      ],
      "metadata": {
        "id": "CQfa5sIkX-DX",
        "colab": {
          "base_uri": "https://localhost:8080/",
          "height": 36
        },
        "outputId": "35ec5b6b-ac48-4a89-87ae-e6513a0d5a62"
      },
      "execution_count": 206,
      "outputs": [
        {
          "output_type": "execute_result",
          "data": {
            "text/plain": [
              "'42'"
            ],
            "application/vnd.google.colaboratory.intrinsic+json": {
              "type": "string"
            }
          },
          "metadata": {},
          "execution_count": 206
        }
      ]
    },
    {
      "cell_type": "code",
      "source": [
        "# int → bool(False)\n",
        "\n",
        "a = 0\n",
        "bool(a)"
      ],
      "metadata": {
        "id": "Im-725mpX-G9",
        "colab": {
          "base_uri": "https://localhost:8080/"
        },
        "outputId": "1445b8ab-a27b-49ef-fee4-4acaad837a1f"
      },
      "execution_count": 207,
      "outputs": [
        {
          "output_type": "execute_result",
          "data": {
            "text/plain": [
              "False"
            ]
          },
          "metadata": {},
          "execution_count": 207
        }
      ]
    },
    {
      "cell_type": "code",
      "source": [
        "# (string → list)\n",
        "\n",
        "b = \"hello\"\n",
        "list(b)"
      ],
      "metadata": {
        "colab": {
          "base_uri": "https://localhost:8080/"
        },
        "id": "8vm_ctaIEgcW",
        "outputId": "475ff688-fda2-4911-ff26-dc83da86443a"
      },
      "execution_count": 208,
      "outputs": [
        {
          "output_type": "execute_result",
          "data": {
            "text/plain": [
              "['h', 'e', 'l', 'l', 'o']"
            ]
          },
          "metadata": {},
          "execution_count": 208
        }
      ]
    },
    {
      "cell_type": "markdown",
      "source": [
        "Yukarıdaki yapamadığımız matematiksel işlemi tekrar deneyelim mi ?"
      ],
      "metadata": {
        "id": "lEFh_xEtFWFU"
      }
    },
    {
      "cell_type": "code",
      "source": [
        "# Listeye göz atalım\n",
        "\n",
        "inputList"
      ],
      "metadata": {
        "colab": {
          "base_uri": "https://localhost:8080/"
        },
        "id": "uK8CZF3QFtY_",
        "outputId": "2468c05b-4fb1-44d7-eae9-afec5adb6a7b"
      },
      "execution_count": 211,
      "outputs": [
        {
          "output_type": "execute_result",
          "data": {
            "text/plain": [
              "['100', '50']"
            ]
          },
          "metadata": {},
          "execution_count": 211
        }
      ]
    },
    {
      "cell_type": "code",
      "source": [
        "# Veri tipi dönüşüm öncesi:\n",
        "# Çarpma İşlemi\n",
        "\n",
        "inputList[0] * 5"
      ],
      "metadata": {
        "colab": {
          "base_uri": "https://localhost:8080/",
          "height": 36
        },
        "id": "7rffXrnpFbXG",
        "outputId": "0a330019-f30e-4ee1-b86a-556ae9086b9d"
      },
      "execution_count": 212,
      "outputs": [
        {
          "output_type": "execute_result",
          "data": {
            "text/plain": [
              "'100100100100100'"
            ],
            "application/vnd.google.colaboratory.intrinsic+json": {
              "type": "string"
            }
          },
          "metadata": {},
          "execution_count": 212
        }
      ]
    },
    {
      "cell_type": "code",
      "source": [
        "# Veri tipi dönüşüm sonrası:\n",
        "# Çarpma İşlemi\n",
        "\n",
        "int(inputList[0]) * 5"
      ],
      "metadata": {
        "colab": {
          "base_uri": "https://localhost:8080/"
        },
        "id": "9gVe_0zKFoFj",
        "outputId": "0871a1a0-5173-46a1-9362-8e9d9d2709c4"
      },
      "execution_count": 213,
      "outputs": [
        {
          "output_type": "execute_result",
          "data": {
            "text/plain": [
              "500"
            ]
          },
          "metadata": {},
          "execution_count": 213
        }
      ]
    },
    {
      "cell_type": "markdown",
      "source": [
        "**🔸 2. Kapalı (Implicit) Dönüştürme**\n",
        "\n",
        "Python bazı durumlarda otomatik olarak uygun veri tipine geçiş yapar:\n",
        "\n",
        "Amaç: bilgi kaybı olmadan veri tipi yükseltme"
      ],
      "metadata": {
        "id": "vXL-EwN1F2OF"
      }
    },
    {
      "cell_type": "code",
      "source": [
        "x = 10        # int\n",
        "y = 3.5       # float\n",
        "z = x + y     # Python otomatik olarak x’i float’a çevirir\n",
        "\n",
        "z"
      ],
      "metadata": {
        "colab": {
          "base_uri": "https://localhost:8080/"
        },
        "id": "6CiSPRXFIziY",
        "outputId": "0213a771-3e07-4df1-e3cf-f3f5eaffd82c"
      },
      "execution_count": 214,
      "outputs": [
        {
          "output_type": "execute_result",
          "data": {
            "text/plain": [
              "13.5"
            ]
          },
          "metadata": {},
          "execution_count": 214
        }
      ]
    },
    {
      "cell_type": "code",
      "source": [
        "# Tip kontrolü z:\n",
        "\n",
        "type(z)"
      ],
      "metadata": {
        "colab": {
          "base_uri": "https://localhost:8080/"
        },
        "id": "ic5KUZu_JEIv",
        "outputId": "83585f3e-85fa-4ebf-d4f7-529e94705f73"
      },
      "execution_count": 218,
      "outputs": [
        {
          "output_type": "execute_result",
          "data": {
            "text/plain": [
              "float"
            ]
          },
          "metadata": {},
          "execution_count": 218
        }
      ]
    },
    {
      "cell_type": "markdown",
      "source": [
        "**⚠️ Dönüştürme Hatalarına Dikkat**\n",
        "\n",
        "Bazı veriler dönüşemez. String değerleri eğer metin, text içeriyorsa bu değerlerin 10 tabanda sayı sisteminde eşleşmesi olmadığı için dönüşüm gerçekleştirilemez ve mantıklı değildir.\n",
        "\n",
        "`ValueError hatası `verilir."
      ],
      "metadata": {
        "id": "wFa1crKmJTI2"
      }
    },
    {
      "cell_type": "code",
      "source": [
        "sayi = \"abc\"\n",
        "\n",
        "int(sayi)"
      ],
      "metadata": {
        "colab": {
          "base_uri": "https://localhost:8080/",
          "height": 176
        },
        "id": "l0wvzkpZJQiH",
        "outputId": "076e58a8-f588-4667-d01c-bcafc1456238"
      },
      "execution_count": 219,
      "outputs": [
        {
          "output_type": "error",
          "ename": "ValueError",
          "evalue": "invalid literal for int() with base 10: 'abc'",
          "traceback": [
            "\u001b[0;31m---------------------------------------------------------------------------\u001b[0m",
            "\u001b[0;31mValueError\u001b[0m                                Traceback (most recent call last)",
            "\u001b[0;32m/tmp/ipython-input-219-1019152926.py\u001b[0m in \u001b[0;36m<cell line: 0>\u001b[0;34m()\u001b[0m\n\u001b[1;32m      1\u001b[0m \u001b[0msayi\u001b[0m \u001b[0;34m=\u001b[0m \u001b[0;34m\"abc\"\u001b[0m\u001b[0;34m\u001b[0m\u001b[0;34m\u001b[0m\u001b[0m\n\u001b[1;32m      2\u001b[0m \u001b[0;34m\u001b[0m\u001b[0m\n\u001b[0;32m----> 3\u001b[0;31m \u001b[0mint\u001b[0m\u001b[0;34m(\u001b[0m\u001b[0msayi\u001b[0m\u001b[0;34m)\u001b[0m  \u001b[0;31m# ❌ ValueError: invalid literal for int()\u001b[0m\u001b[0;34m\u001b[0m\u001b[0;34m\u001b[0m\u001b[0m\n\u001b[0m",
            "\u001b[0;31mValueError\u001b[0m: invalid literal for int() with base 10: 'abc'"
          ]
        }
      ]
    },
    {
      "cell_type": "markdown",
      "source": [
        "## İleri Seviye Listeler\n",
        "\n",
        "Listelerde sadece string içeren liste, sadece float değerler içeren liste oluşturabiliriz.\n",
        "\n",
        "Python ek olarak listelerde float, string veya integer değerleri karışık olarak tutmamıza da izin verir.\n",
        "\n",
        "Her programlama dilinde bu esneklik yoktur."
      ],
      "metadata": {
        "id": "XvUt1srMX-ph"
      }
    },
    {
      "cell_type": "code",
      "source": [
        "# String listesi:\n",
        "\n",
        "nameList = [\"büşra\", \"mert\", \"a\", \"b\"]"
      ],
      "metadata": {
        "id": "S0IP7XUyKYeG"
      },
      "execution_count": 220,
      "outputs": []
    },
    {
      "cell_type": "code",
      "source": [
        "# String kontrolü:\n",
        "\n",
        "type(\"büşra\")"
      ],
      "metadata": {
        "colab": {
          "base_uri": "https://localhost:8080/"
        },
        "id": "ST5eItAtK48d",
        "outputId": "61f217fc-2760-40e8-befc-51942f26403e"
      },
      "execution_count": 225,
      "outputs": [
        {
          "output_type": "execute_result",
          "data": {
            "text/plain": [
              "str"
            ]
          },
          "metadata": {},
          "execution_count": 225
        }
      ]
    },
    {
      "cell_type": "code",
      "source": [
        "# Liste kontrolü:\n",
        "\n",
        "type(nameList)"
      ],
      "metadata": {
        "colab": {
          "base_uri": "https://localhost:8080/"
        },
        "id": "WFAbLficKgri",
        "outputId": "bf10654d-0719-4ce2-fe6e-48c3a2deacad"
      },
      "execution_count": 221,
      "outputs": [
        {
          "output_type": "execute_result",
          "data": {
            "text/plain": [
              "list"
            ]
          },
          "metadata": {},
          "execution_count": 221
        }
      ]
    },
    {
      "cell_type": "code",
      "source": [
        "# Float listesi:\n",
        "\n",
        "floatList = [3.14, 2.5, 10.2,100.112]"
      ],
      "metadata": {
        "id": "9LyZ6eC6KlGe"
      },
      "execution_count": 223,
      "outputs": []
    },
    {
      "cell_type": "code",
      "source": [
        "# Float kontrolü:\n",
        "\n",
        "type(3.14)"
      ],
      "metadata": {
        "colab": {
          "base_uri": "https://localhost:8080/"
        },
        "id": "pjmwHW5pK8X3",
        "outputId": "b1be3b79-96d6-46b3-c955-ee7d8cc98ab6"
      },
      "execution_count": 226,
      "outputs": [
        {
          "output_type": "execute_result",
          "data": {
            "text/plain": [
              "float"
            ]
          },
          "metadata": {},
          "execution_count": 226
        }
      ]
    },
    {
      "cell_type": "code",
      "source": [
        "# Liste kontrolü:\n",
        "\n",
        "type(floatList)"
      ],
      "metadata": {
        "colab": {
          "base_uri": "https://localhost:8080/"
        },
        "id": "rOFZKkAGKwBv",
        "outputId": "154b1772-6704-4bed-979f-3f76c515029f"
      },
      "execution_count": 224,
      "outputs": [
        {
          "output_type": "execute_result",
          "data": {
            "text/plain": [
              "list"
            ]
          },
          "metadata": {},
          "execution_count": 224
        }
      ]
    },
    {
      "cell_type": "code",
      "source": [
        "# String-Float karışık liste:\n",
        "\n",
        "mixedlist = [\"büşra\", 3.14, 100]"
      ],
      "metadata": {
        "id": "NJ95_BsELJ9A"
      },
      "execution_count": 227,
      "outputs": []
    },
    {
      "cell_type": "code",
      "source": [
        "# Liste kontrolü:\n",
        "\n",
        "type(mixedlist)"
      ],
      "metadata": {
        "colab": {
          "base_uri": "https://localhost:8080/"
        },
        "id": "oOzbHXYfLT4W",
        "outputId": "08cacaa7-c019-41df-dbec-41975f00a6ba"
      },
      "execution_count": 228,
      "outputs": [
        {
          "output_type": "execute_result",
          "data": {
            "text/plain": [
              "list"
            ]
          },
          "metadata": {},
          "execution_count": 228
        }
      ]
    },
    {
      "cell_type": "code",
      "source": [
        "# Toplama işlemi:\n",
        "\n",
        "list1 = [10,20,30]\n",
        "list2 = [40,50,60]\n",
        "\n",
        "list1 + list2"
      ],
      "metadata": {
        "colab": {
          "base_uri": "https://localhost:8080/"
        },
        "id": "NII2ETtfLwYc",
        "outputId": "1a41a79e-9d34-410e-cb70-1aeb0ce7acf7"
      },
      "execution_count": 229,
      "outputs": [
        {
          "output_type": "execute_result",
          "data": {
            "text/plain": [
              "[10, 20, 30, 40, 50, 60]"
            ]
          },
          "metadata": {},
          "execution_count": 229
        }
      ]
    },
    {
      "cell_type": "markdown",
      "source": [
        "Listelerde toplama işlemi yapıldığında list1-list2 değerleri yanyana yazılarak yeni bir liste haline gelir.\n",
        "\n",
        "Ayrıca çarpma işlemi yapılırsa; yine yan yana getirilerek toplama işlemi gibi yapar.\n",
        "\n",
        "Ancak; stringlerde geçtiği gibi bölme işlemi yapılırsa işlem gerçekleşmez. `TypeError hatası` alırız."
      ],
      "metadata": {
        "id": "SFV3SiH2L6Y5"
      }
    },
    {
      "cell_type": "code",
      "source": [
        "# Çarpma işlemi:\n",
        "\n",
        "list1 * 2"
      ],
      "metadata": {
        "colab": {
          "base_uri": "https://localhost:8080/"
        },
        "id": "q9kcVjsIMENZ",
        "outputId": "3a77908b-a854-4ed8-e7b7-1566b96fb206"
      },
      "execution_count": 232,
      "outputs": [
        {
          "output_type": "execute_result",
          "data": {
            "text/plain": [
              "[10, 20, 30, 10, 20, 30]"
            ]
          },
          "metadata": {},
          "execution_count": 232
        }
      ]
    },
    {
      "cell_type": "code",
      "source": [
        "# Bölme işlemi:\n",
        "\n",
        "list1 / 2"
      ],
      "metadata": {
        "colab": {
          "base_uri": "https://localhost:8080/",
          "height": 176
        },
        "id": "VlvPuI4dMPPG",
        "outputId": "66ee263c-8a30-4740-aa04-994e04cd0ed4"
      },
      "execution_count": 233,
      "outputs": [
        {
          "output_type": "error",
          "ename": "TypeError",
          "evalue": "unsupported operand type(s) for /: 'list' and 'int'",
          "traceback": [
            "\u001b[0;31m---------------------------------------------------------------------------\u001b[0m",
            "\u001b[0;31mTypeError\u001b[0m                                 Traceback (most recent call last)",
            "\u001b[0;32m/tmp/ipython-input-233-2952379724.py\u001b[0m in \u001b[0;36m<cell line: 0>\u001b[0;34m()\u001b[0m\n\u001b[1;32m      1\u001b[0m \u001b[0;31m# Bölme işlemi:\u001b[0m\u001b[0;34m\u001b[0m\u001b[0;34m\u001b[0m\u001b[0m\n\u001b[1;32m      2\u001b[0m \u001b[0;34m\u001b[0m\u001b[0m\n\u001b[0;32m----> 3\u001b[0;31m \u001b[0mlist1\u001b[0m \u001b[0;34m/\u001b[0m \u001b[0;36m2\u001b[0m\u001b[0;34m\u001b[0m\u001b[0;34m\u001b[0m\u001b[0m\n\u001b[0m",
            "\u001b[0;31mTypeError\u001b[0m: unsupported operand type(s) for /: 'list' and 'int'"
          ]
        }
      ]
    },
    {
      "cell_type": "code",
      "source": [
        "# Orijinal liste:\n",
        "\n",
        "mixedlist"
      ],
      "metadata": {
        "colab": {
          "base_uri": "https://localhost:8080/"
        },
        "id": "EjVKONslMrW1",
        "outputId": "c7b37891-af8d-45ba-d50b-121936486c83"
      },
      "execution_count": 238,
      "outputs": [
        {
          "output_type": "execute_result",
          "data": {
            "text/plain": [
              "['büşra', 3.14, 100]"
            ]
          },
          "metadata": {},
          "execution_count": 238
        }
      ]
    },
    {
      "cell_type": "code",
      "source": [
        "# Index ile veri getirme:\n",
        "\n",
        "mixedlist[2]"
      ],
      "metadata": {
        "colab": {
          "base_uri": "https://localhost:8080/"
        },
        "id": "E4MnrO6LPnH6",
        "outputId": "e686b4b9-ae5a-49bc-8ebd-60353c078e37"
      },
      "execution_count": 239,
      "outputs": [
        {
          "output_type": "execute_result",
          "data": {
            "text/plain": [
              "100"
            ]
          },
          "metadata": {},
          "execution_count": 239
        }
      ]
    },
    {
      "cell_type": "code",
      "source": [
        "# Tip kontrolü:\n",
        "# int\n",
        "\n",
        "type(mixedlist[2])"
      ],
      "metadata": {
        "colab": {
          "base_uri": "https://localhost:8080/"
        },
        "id": "V5ztKWoEPtld",
        "outputId": "1f5a5be0-c22d-4f6b-81a5-c3bd192cab14"
      },
      "execution_count": 240,
      "outputs": [
        {
          "output_type": "execute_result",
          "data": {
            "text/plain": [
              "int"
            ]
          },
          "metadata": {},
          "execution_count": 240
        }
      ]
    },
    {
      "cell_type": "code",
      "source": [
        "# Tip kontrolü:\n",
        "# str\n",
        "\n",
        "type(mixedlist[0])"
      ],
      "metadata": {
        "colab": {
          "base_uri": "https://localhost:8080/"
        },
        "id": "dcmpEZ1mP8fj",
        "outputId": "59a08653-7d23-43d2-aca0-307fd4d20aa1"
      },
      "execution_count": 241,
      "outputs": [
        {
          "output_type": "execute_result",
          "data": {
            "text/plain": [
              "str"
            ]
          },
          "metadata": {},
          "execution_count": 241
        }
      ]
    },
    {
      "cell_type": "markdown",
      "source": [
        "**Dikkat:**\n",
        "\n",
        "Gördüğümüz gibi, liste içinde yazdığımız farklı veri tiplerine index ile veriyi çağırma ve veritipini kontrol etme işlemi yapabiliriz.\n",
        "\n",
        "Python bu esnekliğe sahiptir ve liste içinde hangi veri tipiyle yer alıyorsa o şekilde bize verir.\n",
        "\n",
        "Çoğu programlamada bu esneklik yoktur veri tipi dönüşümü veya tanımı gerekir.\n",
        "\n",
        "--\n",
        "\n",
        "**💡 Neden Önemlidir?**\n",
        "\n",
        "| Avantaj        | Açıklama                                     |\n",
        "| -------------- | -------------------------------------------- |\n",
        "| ✅ Esneklik     | Farklı veri tipleri aynı listede tutulabilir |\n",
        "| ✅ Tip koruma   | Her eleman kendi veri tipiyle işlem görür    |\n",
        "| ✅ Kod kısalığı | Özel tanımlara gerek kalmaz                  |\n",
        "\n",
        "--\n",
        "\n",
        "🚫 **Karşılaştırma: Diğer Dillerde Durum**\n",
        "\n",
        "- C, Java gibi dillerde listeler (array) tek tip veri içerir.\n",
        "\n",
        "- Örn: Java’da bir int[ ] içinde sadece int veri tutulabilir.\n",
        "\n",
        "- Farklı tipleri tutmak için özel veri yapıları ya da sınıflar gerekir."
      ],
      "metadata": {
        "id": "MqDksNPoQASK"
      }
    },
    {
      "cell_type": "markdown",
      "source": [
        "## Nested List(İç İçe Liste)\n",
        "\n",
        "Nedir Bu `nested list`?\n",
        "\n",
        "Nested list, bir listenin içinde başka bir liste olmasıdır.\n",
        "\n",
        "Yani liste içinde liste → “iç içe liste” demektir."
      ],
      "metadata": {
        "id": "163cQTXCSCBv"
      }
    },
    {
      "cell_type": "code",
      "source": [
        "# Nested List Oluşturalım:\n",
        "# int,int,float,str,list\n",
        "\n",
        "myNestedList = [10,20,3.14,\"büşra\",[1,2,3]]"
      ],
      "metadata": {
        "id": "dZhwxSJwSNJu"
      },
      "execution_count": 245,
      "outputs": []
    },
    {
      "cell_type": "code",
      "source": [
        "# Index ile elemanları yazdıralım\n",
        "# Not: Index değerlerinin sıfır ile başladığını unutmayalım\n",
        "\n",
        "# 1. eleman:\n",
        "\n",
        "myNestedList[0]"
      ],
      "metadata": {
        "colab": {
          "base_uri": "https://localhost:8080/"
        },
        "id": "B1yzG41JSdVR",
        "outputId": "441ff0de-dcc7-43fc-93e8-4952ca6805c7"
      },
      "execution_count": 246,
      "outputs": [
        {
          "output_type": "execute_result",
          "data": {
            "text/plain": [
              "10"
            ]
          },
          "metadata": {},
          "execution_count": 246
        }
      ]
    },
    {
      "cell_type": "code",
      "source": [
        "# 2. eleman:\n",
        "\n",
        "myNestedList[1]"
      ],
      "metadata": {
        "colab": {
          "base_uri": "https://localhost:8080/"
        },
        "id": "Bb2sJ9UkSmJO",
        "outputId": "efcecb7e-94a3-4c72-9a94-69c2b6a533be"
      },
      "execution_count": 247,
      "outputs": [
        {
          "output_type": "execute_result",
          "data": {
            "text/plain": [
              "20"
            ]
          },
          "metadata": {},
          "execution_count": 247
        }
      ]
    },
    {
      "cell_type": "code",
      "source": [
        "# 3. eleman:\n",
        "\n",
        "myNestedList[2]"
      ],
      "metadata": {
        "colab": {
          "base_uri": "https://localhost:8080/"
        },
        "id": "vQ79_avmSp2o",
        "outputId": "c201ea86-88e3-4d29-a5c4-3c3b8fa06162"
      },
      "execution_count": 248,
      "outputs": [
        {
          "output_type": "execute_result",
          "data": {
            "text/plain": [
              "3.14"
            ]
          },
          "metadata": {},
          "execution_count": 248
        }
      ]
    },
    {
      "cell_type": "code",
      "source": [
        "# 4. eleman:\n",
        "\n",
        "myNestedList[3]"
      ],
      "metadata": {
        "colab": {
          "base_uri": "https://localhost:8080/",
          "height": 36
        },
        "id": "MeK-58BmSxIa",
        "outputId": "c1ca200f-08b9-4303-a493-799e9bce64e7"
      },
      "execution_count": 249,
      "outputs": [
        {
          "output_type": "execute_result",
          "data": {
            "text/plain": [
              "'büşra'"
            ],
            "application/vnd.google.colaboratory.intrinsic+json": {
              "type": "string"
            }
          },
          "metadata": {},
          "execution_count": 249
        }
      ]
    },
    {
      "cell_type": "code",
      "source": [
        "# 5. eleman:\n",
        "\n",
        "myNestedList[4]"
      ],
      "metadata": {
        "colab": {
          "base_uri": "https://localhost:8080/"
        },
        "id": "KP6yWsGGS02g",
        "outputId": "22f4127a-5469-45d2-f33b-21270eb6e3bd"
      },
      "execution_count": 250,
      "outputs": [
        {
          "output_type": "execute_result",
          "data": {
            "text/plain": [
              "[1, 2, 3]"
            ]
          },
          "metadata": {},
          "execution_count": 250
        }
      ]
    },
    {
      "cell_type": "code",
      "source": [
        "# Tip Kontrolü\n",
        "# 5. eleman bir listedir\n",
        "\n",
        "type(myNestedList[4])"
      ],
      "metadata": {
        "colab": {
          "base_uri": "https://localhost:8080/"
        },
        "id": "KgB3B6k9S59P",
        "outputId": "56e61ab8-36b3-4464-cba5-4fbf5aadb77a"
      },
      "execution_count": 251,
      "outputs": [
        {
          "output_type": "execute_result",
          "data": {
            "text/plain": [
              "list"
            ]
          },
          "metadata": {},
          "execution_count": 251
        }
      ]
    },
    {
      "cell_type": "code",
      "source": [
        "# 0. index değerini değişkene atama:\n",
        "\n",
        "x = myNestedList[0]"
      ],
      "metadata": {
        "id": "KcIPt2ueTZew"
      },
      "execution_count": 252,
      "outputs": []
    },
    {
      "cell_type": "code",
      "source": [
        "# Değişkeni yazdırma:\n",
        "\n",
        "x"
      ],
      "metadata": {
        "colab": {
          "base_uri": "https://localhost:8080/"
        },
        "id": "eR_KKiDxTdcq",
        "outputId": "bd332640-7a13-4be9-f2ee-48a069c913d9"
      },
      "execution_count": 253,
      "outputs": [
        {
          "output_type": "execute_result",
          "data": {
            "text/plain": [
              "10"
            ]
          },
          "metadata": {},
          "execution_count": 253
        }
      ]
    },
    {
      "cell_type": "code",
      "source": [
        "# 4. indexteki listeyi değişkene atama:\n",
        "\n",
        "smallList = myNestedList[4] # veya myNestedList[-1] sonuncu değer -1 ile belirtilir"
      ],
      "metadata": {
        "id": "rfqrOCL_TpQR"
      },
      "execution_count": 254,
      "outputs": []
    },
    {
      "cell_type": "code",
      "source": [
        "# Değişkeni yazdırma:\n",
        "\n",
        "smallList"
      ],
      "metadata": {
        "colab": {
          "base_uri": "https://localhost:8080/"
        },
        "id": "hV0FYSZ7Txae",
        "outputId": "1544f7ba-2ac1-4674-fc86-210af2962654"
      },
      "execution_count": 255,
      "outputs": [
        {
          "output_type": "execute_result",
          "data": {
            "text/plain": [
              "[1, 2, 3]"
            ]
          },
          "metadata": {},
          "execution_count": 255
        }
      ]
    },
    {
      "cell_type": "code",
      "source": [
        "# Tip kontrolü:\n",
        "\n",
        "\n",
        "type(smallList)"
      ],
      "metadata": {
        "colab": {
          "base_uri": "https://localhost:8080/"
        },
        "id": "3pJhSpolT2Da",
        "outputId": "62507733-14dd-4418-888a-d56eee5f4ab0"
      },
      "execution_count": 256,
      "outputs": [
        {
          "output_type": "execute_result",
          "data": {
            "text/plain": [
              "list"
            ]
          },
          "metadata": {},
          "execution_count": 256
        }
      ]
    },
    {
      "cell_type": "markdown",
      "source": [
        "Nested list göründüğü gibi şu şekildedir:\n",
        "\n",
        "Index 0: 10\n",
        "\n",
        "Index 1: 20\n",
        "\n",
        "Index 2: 3.14\n",
        "\n",
        "Index 3: \"büşra\"\n",
        "\n",
        "Index 4: [1, 2, 3]  → iç liste (bu satırın da kendi alt elemanları var):\n",
        "          \n",
        "          Index 0: 1\n",
        "          Index 1: 2\n",
        "          Index 2: 3\n",
        "\n",
        "**Peki, biz Index 4 de bulunan liste içindeki elemanlara nasıl ulaşırız ?**\n",
        "\n",
        "**Cevap:**\n",
        "\n",
        "Erişim Mantığı: liste[dış_index][iç_index] ile."
      ],
      "metadata": {
        "id": "_QkwTf0OUGea"
      }
    },
    {
      "cell_type": "code",
      "source": [
        "# Orijinal liste:\n",
        "\n",
        "myNestedList"
      ],
      "metadata": {
        "colab": {
          "base_uri": "https://localhost:8080/"
        },
        "id": "FKQ14bNjU-RN",
        "outputId": "a65f9804-9ede-4457-9001-1e103e24bfbc"
      },
      "execution_count": 260,
      "outputs": [
        {
          "output_type": "execute_result",
          "data": {
            "text/plain": [
              "[10, 20, 3.14, 'büşra', [1, 2, 3]]"
            ]
          },
          "metadata": {},
          "execution_count": 260
        }
      ]
    },
    {
      "cell_type": "code",
      "source": [
        "# Değişkene atanan iç liste:\n",
        "\n",
        "smallList"
      ],
      "metadata": {
        "colab": {
          "base_uri": "https://localhost:8080/"
        },
        "id": "QZe2oNmSVTp_",
        "outputId": "84b0f7e9-504b-4f03-b3af-775a1a7b8037"
      },
      "execution_count": 261,
      "outputs": [
        {
          "output_type": "execute_result",
          "data": {
            "text/plain": [
              "[1, 2, 3]"
            ]
          },
          "metadata": {},
          "execution_count": 261
        }
      ]
    },
    {
      "cell_type": "code",
      "source": [
        "# İç listenin indexleme ile eleman çağrılması:\n",
        "\n",
        "smallList[0]"
      ],
      "metadata": {
        "colab": {
          "base_uri": "https://localhost:8080/"
        },
        "id": "Wf_V9hUZVU0Z",
        "outputId": "6e39d117-c68a-40bb-f61b-544ca4e237d2"
      },
      "execution_count": 262,
      "outputs": [
        {
          "output_type": "execute_result",
          "data": {
            "text/plain": [
              "1"
            ]
          },
          "metadata": {},
          "execution_count": 262
        }
      ]
    },
    {
      "cell_type": "markdown",
      "source": [
        "Değişkene atadığımız iç listeden indexleme ile ulaşabiliz. Ancak, her zaman bunu yapmak zorunda değiliz dış index ve iç index erişimi ile de kolayca iç listenin elemanlarına ulaşabiliriz.\n",
        "\n"
      ],
      "metadata": {
        "id": "uDQd1uJ3Vly0"
      }
    },
    {
      "cell_type": "code",
      "source": [
        "# Orijinal liste:\n",
        "\n",
        "myNestedList"
      ],
      "metadata": {
        "colab": {
          "base_uri": "https://localhost:8080/"
        },
        "id": "GlhOaxEfWQqc",
        "outputId": "7f4ba60f-db34-46c3-8ed5-c82cbd458e18"
      },
      "execution_count": 267,
      "outputs": [
        {
          "output_type": "execute_result",
          "data": {
            "text/plain": [
              "[10, 20, 3.14, 'büşra', [1, 2, 3]]"
            ]
          },
          "metadata": {},
          "execution_count": 267
        }
      ]
    },
    {
      "cell_type": "code",
      "source": [
        "# Erişim mantığı ile:\n",
        "# 4. indexin 1. index değeri:\n",
        "\n",
        "myNestedList[4][1]"
      ],
      "metadata": {
        "colab": {
          "base_uri": "https://localhost:8080/"
        },
        "id": "ZtBoYfufVy5r",
        "outputId": "85662cb9-9b9c-45f3-d8b6-91e812946f17"
      },
      "execution_count": 265,
      "outputs": [
        {
          "output_type": "execute_result",
          "data": {
            "text/plain": [
              "2"
            ]
          },
          "metadata": {},
          "execution_count": 265
        }
      ]
    },
    {
      "cell_type": "code",
      "source": [
        "# Erişim mantığı ile:\n",
        "# -1 negatif indekseleme ve 1. index değeri:\n",
        "\n",
        "myNestedList[-1][1]"
      ],
      "metadata": {
        "colab": {
          "base_uri": "https://localhost:8080/"
        },
        "id": "fyTNFWS6WNDZ",
        "outputId": "2b593af1-662b-4cca-fc96-7d2545da363b"
      },
      "execution_count": 266,
      "outputs": [
        {
          "output_type": "execute_result",
          "data": {
            "text/plain": [
              "2"
            ]
          },
          "metadata": {},
          "execution_count": 266
        }
      ]
    },
    {
      "cell_type": "code",
      "source": [
        "# Yeni liste oluşturalım\n",
        "\n",
        "LastList = [\"a\",\"b\",[\"c\",\"d\",\"e\"],\"f\" ]"
      ],
      "metadata": {
        "id": "dRecjg4LWyTA"
      },
      "execution_count": 268,
      "outputs": []
    },
    {
      "cell_type": "code",
      "source": [
        "# LastList içinde kaç eleman var ?\n",
        "\n",
        "len(LastList)"
      ],
      "metadata": {
        "colab": {
          "base_uri": "https://localhost:8080/"
        },
        "id": "l9OZ0Va5XA8W",
        "outputId": "b4252cce-5e96-425a-ee73-6e4b8c5eb79d"
      },
      "execution_count": 269,
      "outputs": [
        {
          "output_type": "execute_result",
          "data": {
            "text/plain": [
              "4"
            ]
          },
          "metadata": {},
          "execution_count": 269
        }
      ]
    },
    {
      "cell_type": "code",
      "source": [
        "# Index ile elemanları tek tek yazdıralım\n",
        "# 1. eleman str\n",
        "\n",
        "LastList[0]"
      ],
      "metadata": {
        "colab": {
          "base_uri": "https://localhost:8080/",
          "height": 36
        },
        "id": "diBMUEtcXHne",
        "outputId": "648a4a7c-2467-4b2d-a955-d222ed049561"
      },
      "execution_count": 270,
      "outputs": [
        {
          "output_type": "execute_result",
          "data": {
            "text/plain": [
              "'a'"
            ],
            "application/vnd.google.colaboratory.intrinsic+json": {
              "type": "string"
            }
          },
          "metadata": {},
          "execution_count": 270
        }
      ]
    },
    {
      "cell_type": "code",
      "source": [
        "# 2. eleman str\n",
        "\n",
        "LastList[1]"
      ],
      "metadata": {
        "colab": {
          "base_uri": "https://localhost:8080/",
          "height": 36
        },
        "id": "JWGG5n8-XTfz",
        "outputId": "6360557e-7b2d-46a3-9bad-367ba68fdf14"
      },
      "execution_count": 271,
      "outputs": [
        {
          "output_type": "execute_result",
          "data": {
            "text/plain": [
              "'b'"
            ],
            "application/vnd.google.colaboratory.intrinsic+json": {
              "type": "string"
            }
          },
          "metadata": {},
          "execution_count": 271
        }
      ]
    },
    {
      "cell_type": "code",
      "source": [
        "# 3. eleman list\n",
        "\n",
        "LastList[2]"
      ],
      "metadata": {
        "colab": {
          "base_uri": "https://localhost:8080/"
        },
        "id": "7f1MrINKXWy1",
        "outputId": "a34ee840-f08a-4b00-ea8a-d6c3f17cf422"
      },
      "execution_count": 274,
      "outputs": [
        {
          "output_type": "execute_result",
          "data": {
            "text/plain": [
              "['c', 'd', 'e']"
            ]
          },
          "metadata": {},
          "execution_count": 274
        }
      ]
    },
    {
      "cell_type": "code",
      "source": [
        "# 4. eleman str\n",
        "\n",
        "LastList[3]\n"
      ],
      "metadata": {
        "colab": {
          "base_uri": "https://localhost:8080/",
          "height": 36
        },
        "id": "HzsHDnRkXetJ",
        "outputId": "14755088-22eb-4938-c5f2-074df0be4375"
      },
      "execution_count": 273,
      "outputs": [
        {
          "output_type": "execute_result",
          "data": {
            "text/plain": [
              "'f'"
            ],
            "application/vnd.google.colaboratory.intrinsic+json": {
              "type": "string"
            }
          },
          "metadata": {},
          "execution_count": 273
        }
      ]
    },
    {
      "cell_type": "code",
      "source": [
        "# 5. eleman var mı ?\n",
        "#Indexerror verir, çünkü aralık dışı.\n",
        "\n",
        "LastList[4]"
      ],
      "metadata": {
        "colab": {
          "base_uri": "https://localhost:8080/",
          "height": 176
        },
        "id": "GkhHUV49XlRm",
        "outputId": "12e9afac-1c6d-426e-d5d3-357483e4d179"
      },
      "execution_count": 275,
      "outputs": [
        {
          "output_type": "error",
          "ename": "IndexError",
          "evalue": "list index out of range",
          "traceback": [
            "\u001b[0;31m---------------------------------------------------------------------------\u001b[0m",
            "\u001b[0;31mIndexError\u001b[0m                                Traceback (most recent call last)",
            "\u001b[0;32m/tmp/ipython-input-275-2233799871.py\u001b[0m in \u001b[0;36m<cell line: 0>\u001b[0;34m()\u001b[0m\n\u001b[1;32m      1\u001b[0m \u001b[0;31m# 5. eleman var mı ?\u001b[0m\u001b[0;34m\u001b[0m\u001b[0;34m\u001b[0m\u001b[0m\n\u001b[1;32m      2\u001b[0m \u001b[0;34m\u001b[0m\u001b[0m\n\u001b[0;32m----> 3\u001b[0;31m \u001b[0mLastList\u001b[0m\u001b[0;34m[\u001b[0m\u001b[0;36m4\u001b[0m\u001b[0;34m]\u001b[0m\u001b[0;34m\u001b[0m\u001b[0;34m\u001b[0m\u001b[0m\n\u001b[0m",
            "\u001b[0;31mIndexError\u001b[0m: list index out of range"
          ]
        }
      ]
    },
    {
      "cell_type": "code",
      "source": [
        "# İç liste içindeki d harfine ulaşma:\n",
        "\n",
        "LastList[2][1]"
      ],
      "metadata": {
        "colab": {
          "base_uri": "https://localhost:8080/",
          "height": 36
        },
        "id": "bAyijgu-X8Pw",
        "outputId": "cf0622ff-63e2-4ba3-a4c0-b90ca2ef6e7f"
      },
      "execution_count": 277,
      "outputs": [
        {
          "output_type": "execute_result",
          "data": {
            "text/plain": [
              "'d'"
            ],
            "application/vnd.google.colaboratory.intrinsic+json": {
              "type": "string"
            }
          },
          "metadata": {},
          "execution_count": 277
        }
      ]
    },
    {
      "cell_type": "code",
      "source": [
        "# İç liste değilse hata verir:\n",
        "# LastList 3. index tanımlı fakat değeri str olarak f tanımlı.\n",
        "# Bu yüzden iç içe listeye erişim olduğunda liste tanımı olmadığından hata verir.\n",
        "\n",
        "LastList[3][1]"
      ],
      "metadata": {
        "colab": {
          "base_uri": "https://localhost:8080/",
          "height": 176
        },
        "id": "Y1F1dFC5YHwT",
        "outputId": "ff1946c9-324c-46cd-9a43-23416031e6fc"
      },
      "execution_count": 278,
      "outputs": [
        {
          "output_type": "error",
          "ename": "IndexError",
          "evalue": "string index out of range",
          "traceback": [
            "\u001b[0;31m---------------------------------------------------------------------------\u001b[0m",
            "\u001b[0;31mIndexError\u001b[0m                                Traceback (most recent call last)",
            "\u001b[0;32m/tmp/ipython-input-278-971113954.py\u001b[0m in \u001b[0;36m<cell line: 0>\u001b[0;34m()\u001b[0m\n\u001b[1;32m      1\u001b[0m \u001b[0;31m# İç liste değilse hata verir:\u001b[0m\u001b[0;34m\u001b[0m\u001b[0;34m\u001b[0m\u001b[0m\n\u001b[1;32m      2\u001b[0m \u001b[0;34m\u001b[0m\u001b[0m\n\u001b[0;32m----> 3\u001b[0;31m \u001b[0mLastList\u001b[0m\u001b[0;34m[\u001b[0m\u001b[0;36m3\u001b[0m\u001b[0;34m]\u001b[0m\u001b[0;34m[\u001b[0m\u001b[0;36m1\u001b[0m\u001b[0;34m]\u001b[0m\u001b[0;34m\u001b[0m\u001b[0;34m\u001b[0m\u001b[0m\n\u001b[0m",
            "\u001b[0;31mIndexError\u001b[0m: string index out of range"
          ]
        }
      ]
    },
    {
      "cell_type": "markdown",
      "source": [
        "## Liste için Slicing İşlemi"
      ],
      "metadata": {
        "id": "n1MtKOyrYwqt"
      }
    },
    {
      "cell_type": "code",
      "source": [
        "# firstList tanımlayalım\n",
        "\n",
        "firsList = [10,20,30,40,50,60,70]"
      ],
      "metadata": {
        "id": "tAvEh1oJYg1Z"
      },
      "execution_count": 279,
      "outputs": []
    },
    {
      "cell_type": "code",
      "source": [
        "# Tümüne erişme:\n",
        "\n",
        "firsList[::]"
      ],
      "metadata": {
        "colab": {
          "base_uri": "https://localhost:8080/"
        },
        "id": "enq_laihY7rl",
        "outputId": "3f925f09-2e0d-4632-dbd5-cd44c7c0ee59"
      },
      "execution_count": 280,
      "outputs": [
        {
          "output_type": "execute_result",
          "data": {
            "text/plain": [
              "[10, 20, 30, 40, 50, 60, 70]"
            ]
          },
          "metadata": {},
          "execution_count": 280
        }
      ]
    },
    {
      "cell_type": "code",
      "source": [
        "# 2.indexten başla:\n",
        "\n",
        "\n",
        "firsList[2::]"
      ],
      "metadata": {
        "colab": {
          "base_uri": "https://localhost:8080/"
        },
        "id": "8--Uio6oZBHs",
        "outputId": "03ffc392-0292-4def-bfad-94a34a978562"
      },
      "execution_count": 281,
      "outputs": [
        {
          "output_type": "execute_result",
          "data": {
            "text/plain": [
              "[30, 40, 50, 60, 70]"
            ]
          },
          "metadata": {},
          "execution_count": 281
        }
      ]
    },
    {
      "cell_type": "code",
      "source": [
        "# Başlangıç(starting) indexi yok, Durma(stopping) indexi 5:\n",
        "\n",
        "firsList[:5:]"
      ],
      "metadata": {
        "colab": {
          "base_uri": "https://localhost:8080/"
        },
        "id": "TIfb_wfyZZdl",
        "outputId": "953e95f1-4ea7-458a-ebf3-0af1c83742c1"
      },
      "execution_count": 287,
      "outputs": [
        {
          "output_type": "execute_result",
          "data": {
            "text/plain": [
              "[10, 20, 30, 40, 50]"
            ]
          },
          "metadata": {},
          "execution_count": 287
        }
      ]
    },
    {
      "cell_type": "code",
      "source": [
        "# başlangıç(starting), durma(stopping) indexi yok, stepping size değeri 2 :\n",
        "\n",
        "firsList[::2]"
      ],
      "metadata": {
        "colab": {
          "base_uri": "https://localhost:8080/"
        },
        "id": "KThDQsI4Zk1w",
        "outputId": "d1d227e9-a0fb-46a3-873a-8a399be94ccb"
      },
      "execution_count": 286,
      "outputs": [
        {
          "output_type": "execute_result",
          "data": {
            "text/plain": [
              "[10, 30, 50, 70]"
            ]
          },
          "metadata": {},
          "execution_count": 286
        }
      ]
    },
    {
      "cell_type": "code",
      "source": [
        "# başlangıç(starting) indexi 1, durma(stopping) indexi 6, stepping size indexi 2:\n",
        "\n",
        "firsList[1:6:2]"
      ],
      "metadata": {
        "colab": {
          "base_uri": "https://localhost:8080/"
        },
        "id": "W7kWHGKwZwRB",
        "outputId": "b823c8ef-024f-4e33-aa2a-283758ce767d"
      },
      "execution_count": 285,
      "outputs": [
        {
          "output_type": "execute_result",
          "data": {
            "text/plain": [
              "[20, 40, 60]"
            ]
          },
          "metadata": {},
          "execution_count": 285
        }
      ]
    },
    {
      "cell_type": "markdown",
      "source": [
        "**❓ Neden Kullanılır?**\n",
        "\n",
        "| Kullanım Durumu  | Açıklama                                 |\n",
        "| ---------------- | ---------------------------------------- |\n",
        "| Tablolar         | Satır–sütun yapısında veri saklamak için |\n",
        "| Matris işlemleri | Matematiksel matrislerde                 |\n",
        "| JSON verileri    | API'den gelen iç içe veri yapılarında    |\n",
        "| Çok boyutlu veri | Her hücrede liste tutmak gerektiğinde    |\n"
      ],
      "metadata": {
        "id": "IawA-fpubXUy"
      }
    }
  ]
}